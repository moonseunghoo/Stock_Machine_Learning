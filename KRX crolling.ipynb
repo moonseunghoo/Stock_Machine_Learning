{
 "cells": [
  {
   "cell_type": "code",
   "execution_count": 1,
   "metadata": {},
   "outputs": [],
   "source": [
    "import pandas as pd\n",
    "import cloudscraper\n",
    "from io import BytesIO\n",
    "import time"
   ]
  },
  {
   "cell_type": "code",
   "execution_count": 2,
   "metadata": {},
   "outputs": [],
   "source": [
    "def KRX_Crolling(otp_form_data):\n",
    "  # generate.cmd 요청 주소 \n",
    "  otp_url ='http://data.krx.co.kr/comm/fileDn/GenerateOTP/generate.cmd' \n",
    "  # download.cmd 요청 주소\n",
    "  csv_url = 'http://data.krx.co.kr/comm/fileDn/download_csv/download.cmd'\n",
    "\n",
    "  # scraper 객체 \n",
    "  scraper = cloudscraper.create_scraper()\n",
    "\n",
    "  # form data와 함께 요청 \n",
    "  # response의 text 에 담겨있는 otp 코드 가져오기\n",
    "  otp = scraper.post(otp_url, params=otp_form_data).text\n",
    "\n",
    "  date = otp_form_data['trdDd'][2:]\n",
    "\n",
    "  csv_form_data = scraper.post(csv_url, params={'code': otp})\n",
    "  stock_df = pd.read_csv(BytesIO(csv_form_data.content), encoding='euc-kr')\n",
    "\n",
    "  if otp_form_data['money'] == '3':\n",
    "    stock_df.to_csv('KRX/kospi/' + date + '.csv',index=False, encoding='euc-kr')\n",
    "  else :\n",
    "    stock_df.to_csv('KRX/marcap/' + date + '.csv',index=False, encoding='euc-kr')\n",
    "\n",
    "  return \n",
    "\n",
    "# form data \n",
    "kospi_form_data = {\n",
    "  'locale': 'ko_KR',\n",
    "  'idxIndMidclssCd': '02',\n",
    "  'trdDd': '20240312',\n",
    "  \"share\": '2',\n",
    "  'money': '3',\n",
    "  \"csvxls_isNo\": 'false',\n",
    "  \"name\": 'fileDown',\n",
    "  \"url\": 'dbms/MDC/STAT/standard/MDCSTAT00101'\n",
    "}\n",
    "\n",
    "marcap_form_data = {\n",
    "  'locale': 'ko_KR',\n",
    "  'mktId': 'ALL',\n",
    "  'trdDd': '20240312',\n",
    "  'share': '1',\n",
    "  'money': '1',\n",
    "  'csvxls_isNo': 'false',\n",
    "  'name': 'fileDown',\n",
    "  'url': 'dbms/MDC/STAT/standard/MDCSTAT01501'\n",
    "}"
   ]
  },
  {
   "cell_type": "code",
   "execution_count": 3,
   "metadata": {},
   "outputs": [],
   "source": [
    "KRX_Crolling(kospi_form_data)\n",
    "time.sleep(0.1)\n",
    "KRX_Crolling(marcap_form_data)"
   ]
  }
 ],
 "metadata": {
  "kernelspec": {
   "display_name": "Python 3",
   "language": "python",
   "name": "python3"
  },
  "language_info": {
   "codemirror_mode": {
    "name": "ipython",
    "version": 3
   },
   "file_extension": ".py",
   "mimetype": "text/x-python",
   "name": "python",
   "nbconvert_exporter": "python",
   "pygments_lexer": "ipython3",
   "version": "3.8.18"
  }
 },
 "nbformat": 4,
 "nbformat_minor": 2
}
