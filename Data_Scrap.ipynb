{
 "cells": [
  {
   "cell_type": "code",
   "execution_count": 1,
   "metadata": {},
   "outputs": [],
   "source": [
    "import multiprocessing\n",
    "import pandas as pd\n",
    "import defs\n",
    "import time\n",
    "from pykrx import stock\n",
    "from tqdm import tqdm\n",
    "\n",
    "def Data_Scrap():\n",
    "    code_list = stock.get_market_ticker_list('231012', market='KOSPI')\n",
    "    kosdaq = stock.get_market_ticker_list('20231012',market='KOSDAQ')\n",
    "    code_list = code_list + kosdaq\n",
    "    # code_list = ['005930']\n",
    "    \n",
    "    stock_data = []\n",
    "    ## 멀티 프로세싱 ###\n",
    "    p = multiprocessing.Pool(processes=8)\n",
    "    for row in tqdm(p.map(defs.merging_stock_data,code_list),mininterval=1):\n",
    "        stock_data += row\n",
    "    p.close()\n",
    "    p.join()\n",
    "    s_df = pd.DataFrame(stock_data)\n",
    "    #timestamp 형식 int로 변환'\n",
    "    s_df[1] = s_df[1].dt.year * 10000 + s_df[1].dt.month * 100 + s_df[1].dt.day\n",
    "    s_df = s_df[~s_df[0].str.contains('K|L|M')]\n",
    "\n",
    "    return s_df\n"
   ]
  },
  {
   "cell_type": "code",
   "execution_count": 2,
   "metadata": {},
   "outputs": [
    {
     "name": "stderr",
     "output_type": "stream",
     "text": [
      "100%|██████████| 2631/2631 [00:00<00:00, 186292.35it/s]\n"
     ]
    },
    {
     "name": "stdout",
     "output_type": "stream",
     "text": [
      "---걸린시간 : {} --- 854.3689556916555\n"
     ]
    }
   ],
   "source": [
    "\n",
    "if __name__ == '__main__':\n",
    "    start_time = time.time()\n",
    "    s_df = Data_Scrap()\n",
    "    s_df.to_csv('/Users/moon/Desktop/Moon SeungHoo/Stock_Machine_Learning/StockData.csv',index=False) \n",
    "    endtime = time.time()\n",
    "    print('---걸린시간 : {} ---',format((endtime - start_time)/6))\n",
    "    "
   ]
  },
  {
   "cell_type": "markdown",
   "metadata": {},
   "source": []
  }
 ],
 "metadata": {
  "kernelspec": {
   "display_name": "Python 3",
   "language": "python",
   "name": "python3"
  },
  "language_info": {
   "codemirror_mode": {
    "name": "ipython",
    "version": 3
   },
   "file_extension": ".py",
   "mimetype": "text/x-python",
   "name": "python",
   "nbconvert_exporter": "python",
   "pygments_lexer": "ipython3",
   "version": "3.11.6"
  },
  "orig_nbformat": 4
 },
 "nbformat": 4,
 "nbformat_minor": 2
}
