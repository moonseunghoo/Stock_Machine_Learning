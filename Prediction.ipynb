{
 "cells": [
  {
   "cell_type": "code",
   "execution_count": 1,
   "metadata": {},
   "outputs": [],
   "source": [
    "import pandas as pd\n",
    "import tensorflow as tf\n",
    "tf.config.experimental.set_visible_devices([], 'GPU')\n",
    "import FinanceDataReader as fdr\n",
    "import matplotlib.pyplot as plt"
   ]
  },
  {
   "cell_type": "markdown",
   "metadata": {},
   "source": [
    "데이터 불러오기"
   ]
  },
  {
   "cell_type": "code",
   "execution_count": 2,
   "metadata": {},
   "outputs": [],
   "source": [
    "def filter_df(df): #데이터프레임 필터링\n",
    "    # 첫 번째 열에서 같은 값을 가진 행의 수를 계산합니다.\n",
    "    row_counts = df['0'].value_counts()\n",
    "\n",
    "    # 가장 많은 행의 수를 찾습니다.\n",
    "    max_row_count = row_counts.max()\n",
    "\n",
    "    # 가장 많은 행의 수에 해당하는 행만 분류합니다.\n",
    "    filtered = pd.DataFrame(df[df['0'].isin(row_counts[row_counts == max_row_count].index)])\n",
    "\n",
    "    return filtered\n",
    "\n",
    "# 데이터 로드   \n",
    "pred_df = pd.read_csv('/Users/moon/Desktop/Moon SeungHoo/Stock_Machine_Learning/StockData_Pred_1109.csv',low_memory=False)\n",
    "\n",
    "filter_pred= filter_df(pred_df)\n",
    "\n",
    "# 예측에 필요한 데이터 \n",
    "pred_ticker = filter_pred['0'].tolist() #종목코드 저장\n",
    "\n",
    "# 불필요한 데이터 삭제\n",
    "filter_pred = filter_pred.drop({'0','1','7'},axis=1) #종목코드, 날자, 상승율 삭제"
   ]
  },
  {
   "cell_type": "markdown",
   "metadata": {},
   "source": [
    "학습한 모델 불러오기"
   ]
  },
  {
   "cell_type": "code",
   "execution_count": 3,
   "metadata": {},
   "outputs": [],
   "source": [
    "# 모델 로드\n",
    "loaded_model = tf.keras.models.load_model(\"GRU_Model_7L_64.h5\")"
   ]
  },
  {
   "cell_type": "markdown",
   "metadata": {},
   "source": [
    "예측"
   ]
  },
  {
   "cell_type": "code",
   "execution_count": 4,
   "metadata": {},
   "outputs": [
    {
     "name": "stdout",
     "output_type": "stream",
     "text": [
      "224/224 [==============================] - 3s 10ms/step\n"
     ]
    }
   ],
   "source": [
    "T_pred = loaded_model.predict(filter_pred)"
   ]
  },
  {
   "cell_type": "markdown",
   "metadata": {},
   "source": [
    "예측한 결과 확인"
   ]
  },
  {
   "cell_type": "code",
   "execution_count": 5,
   "metadata": {},
   "outputs": [],
   "source": [
    "def make_six_digit_list(input_list):\n",
    "    six_digit_list = []\n",
    "\n",
    "    for item in input_list:\n",
    "        # 현재 항목의 길이를 확인\n",
    "        item_str = str(item)\n",
    "        item_len = len(item_str)\n",
    "\n",
    "        if item_len < 6:\n",
    "            # 6자리가 안되는 항목은 앞에 0을 채워서 6자리로 만듭니다.\n",
    "            zero_padding = '0' * (6 - item_len)\n",
    "            six_digit_item = zero_padding + item_str\n",
    "            six_digit_list.append(six_digit_item)\n",
    "        else:\n",
    "            # 이미 6자리인 경우 그대로 유지\n",
    "            six_digit_list.append(item_str)\n",
    "\n",
    "    return six_digit_list"
   ]
  },
  {
   "cell_type": "code",
   "execution_count": 6,
   "metadata": {},
   "outputs": [
    {
     "name": "stdout",
     "output_type": "stream",
     "text": [
      "내일 5% 이상 상승할 종목: ['080220', '383310', '007160', '185750', '221800']\n",
      "5\n"
     ]
    }
   ],
   "source": [
    "# 5% 이상 오를 종목 식별\n",
    "rising_stocks = [ticker for i, ticker in enumerate(pred_ticker) if T_pred[i] > 0.9]\n",
    "\n",
    "# T_pred를 기준으로 내림차순 정렬\n",
    "rising_stocks_sorted = sorted(rising_stocks, key=lambda i: T_pred[pred_ticker.index(i)], reverse=True)\n",
    "rising_stocks_sorted = list(map(str, rising_stocks_sorted))\n",
    "result = list(set(rising_stocks_sorted))\n",
    "result = make_six_digit_list(result)\n",
    "print(\"내일 5% 이상 상승할 종목:\", result)\n",
    "print(len(result))"
   ]
  },
  {
   "cell_type": "code",
   "execution_count": 7,
   "metadata": {},
   "outputs": [
    {
     "name": "stdout",
     "output_type": "stream",
     "text": [
      "            Open  High   Low  Close   Volume    Change\n",
      "Date                                                  \n",
      "2023-11-08  4970  5030  4800   4800  1827375 -0.025381\n",
      "             Open   High    Low  Close  Volume    Change\n",
      "Date                                                    \n",
      "2023-11-08  68000  70200  65100  65900  295686 -0.069209\n",
      "             Open   High    Low  Close  Volume   Change\n",
      "Date                                                   \n",
      "2023-11-08  40650  40900  40100  40600    4871 -0.00123\n",
      "              Open    High     Low   Close  Volume  Change\n",
      "Date                                                      \n",
      "2023-11-08  129500  132600  127100  129500  537932     0.0\n",
      "            Open  High   Low  Close   Volume    Change\n",
      "Date                                                  \n",
      "2023-11-08  7010  7700  6640   6800  3345468 -0.051604\n"
     ]
    },
    {
     "data": {
      "image/png": "[encoded data removed]",
      "text/plain": [
       "<Figure size 600x600 with 1 Axes>"
      ]
     },
     "metadata": {},
     "output_type": "display_data"
    }
   ],
   "source": [
    "def check_price_increase(stock_codes):\n",
    "    result = {}\n",
    "    \n",
    "    for code in stock_codes:\n",
    "        df = fdr.DataReader(code,'2023-11-08','2023-11-09')\n",
    "        print(df)\n",
    "        if len(df) < 2:\n",
    "            result[code] = False\n",
    "        else:\n",
    "            today_close = df['Change'].iloc[-1]\n",
    "\n",
    "            if today_close >=  0.05:\n",
    "                result[code] = True\n",
    "            else:\n",
    "                result[code] = False\n",
    "    return result\n",
    "\n",
    "result_TF = check_price_increase(result)\n",
    "result_TF = list(result_TF.values())\n",
    "\n",
    "# True와 False의 개수를 세어 비율을 계산\n",
    "true_count = sum(result_TF)\n",
    "false_count = len(result_TF) - true_count\n",
    "\n",
    "# 비율을 파이그래프로 표현\n",
    "labels = ['True', 'False']\n",
    "sizes = [true_count, false_count]\n",
    "colors = ['green', 'red']\n",
    "\n",
    "# 파이차트 그리기\n",
    "plt.figure(figsize=(6, 6))\n",
    "plt.pie(sizes, labels=labels, colors=colors, autopct='%1.1f%%', startangle=140)\n",
    "\n",
    "# 그래프 표시\n",
    "plt.show() "
   ]
  }
 ],
 "metadata": {
  "kernelspec": {
   "display_name": "ML",
   "language": "python",
   "name": "python3"
  },
  "language_info": {
   "codemirror_mode": {
    "name": "ipython",
    "version": 3
   },
   "file_extension": ".py",
   "mimetype": "text/x-python",
   "name": "python",
   "nbconvert_exporter": "python",
   "pygments_lexer": "ipython3",
   "version": "3.8.18"
  }
 },
 "nbformat": 4,
 "nbformat_minor": 2
}
