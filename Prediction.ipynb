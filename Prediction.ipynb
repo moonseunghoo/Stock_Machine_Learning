{
 "cells": [
  {
   "cell_type": "code",
   "execution_count": 1,
   "metadata": {},
   "outputs": [],
   "source": [
    "import pandas as pd\n",
    "import numpy as np\n",
    "import tensorflow as tf\n",
    "tf.config.experimental.set_visible_devices([], 'GPU')\n",
    "import FinanceDataReader as fdr\n",
    "import matplotlib.pyplot as plt\n",
    "\n",
    "from collections import OrderedDict\n",
    "from collections import Counter"
   ]
  },
  {
   "cell_type": "code",
   "execution_count": 2,
   "metadata": {},
   "outputs": [],
   "source": [
    "def make_six_digit_list(input_list):\n",
    "    six_digit_list = []\n",
    "\n",
    "    for item in input_list:\n",
    "        # 현재 항목의 길이를 확인\n",
    "        item_str = str(item)\n",
    "        item_len = len(item_str)\n",
    "\n",
    "        if item_len < 6:\n",
    "            # 6자리가 안되는 항목은 앞에 0을 채워서 6자리로 만듭니다.\n",
    "            zero_padding = '0' * (6 - item_len)\n",
    "            six_digit_item = zero_padding + item_str\n",
    "            six_digit_list.append(six_digit_item)\n",
    "        else:\n",
    "            # 이미 6자리인 경우 그대로 유지\n",
    "            six_digit_list.append(item_str)\n",
    "\n",
    "    return six_digit_list\n",
    "def filter_df(df): #데이터프레임 필터링\n",
    "    # 첫 번째 열에서 같은 값을 가진 행의 수를 계산합니다.\n",
    "    row_counts = df['0'].value_counts()\n",
    "\n",
    "    # 가장 많은 행의 수를 찾습니다.\n",
    "    max_row_count = row_counts.max()\n",
    "\n",
    "    # 가장 많은 행의 수에 해당하는 행만 분류합니다.\n",
    "    filtered = pd.DataFrame(df[df['0'].isin(row_counts[row_counts == max_row_count].index)])\n",
    "\n",
    "    return filtered\n",
    "def Prediction():\n",
    "    # 데이터 로드   \n",
    "    pred_df = pd.read_csv('/Users/moon/Desktop/Moon SeungHoo/Stock_Machine_Learning/StockData_Pred_240208_test.csv',low_memory=False)\n",
    "\n",
    "    filter_pred= filter_df(pred_df)\n",
    "\n",
    "    # 예측에 필요한 데이터 \n",
    "    pred_ticker = list(OrderedDict.fromkeys(filter_pred['0'])) #종목코드 저장\n",
    "\n",
    "    # 불필요한 데이터 삭제\n",
    "    filter_pred = filter_pred.drop({'0','1','7'},axis=1) #종목코드, 날자, 상승율 삭제\n",
    "    \n",
    "    model_1 = tf.keras.models.load_model(\"GRU_Model_8L_64_3%.h5\")\n",
    "    Pred = model_1.predict(filter_pred)\n",
    "\n",
    "    # 5% 이상 오를 종목 식별\n",
    "    rising_stocks = [ticker for i, ticker in enumerate(pred_ticker) if Pred[i] > 0.9]\n",
    "\n",
    "    # T_pred를 기준으로 내림차순 정렬\n",
    "    rising_stocks_sorted = sorted(rising_stocks, key=lambda i: Pred[pred_ticker.index(i)], reverse=True)\n",
    "    rising_stocks_sorted = list(map(str, rising_stocks_sorted))\n",
    "    result = list(set(rising_stocks_sorted))\n",
    "    result = make_six_digit_list(result)\n",
    "    sorted_list = result[:1]\n",
    "    # sorted_list = result\n",
    "    print(\"내일 5% 이상 상승할 종목:\", sorted_list)\n",
    "\n",
    "    return sorted_list"
   ]
  },
  {
   "cell_type": "markdown",
   "metadata": {},
   "source": [
    "예측"
   ]
  },
  {
   "cell_type": "code",
   "execution_count": 3,
   "metadata": {},
   "outputs": [
    {
     "name": "stdout",
     "output_type": "stream",
     "text": [
      "2/2 [==============================] - 1s 9ms/step\n",
      "내일 5% 이상 상승할 종목: ['004090', '071460', '037030', '066790', '272210', '038110', '020560', '041920', '377450', '133750', '121890', '048550', '267850', '053050']\n"
     ]
    }
   ],
   "source": [
    "pred_1 = Prediction()"
   ]
  },
  {
   "cell_type": "markdown",
   "metadata": {},
   "source": [
    "예측한 결과 확인"
   ]
  },
  {
   "cell_type": "code",
   "execution_count": 4,
   "metadata": {},
   "outputs": [
    {
     "name": "stdout",
     "output_type": "stream",
     "text": [
      "             Open   High    Low  Close   Volume    Change\n",
      "Date                                                     \n",
      "2023-10-30  13050  16870  13050  16870  5433133  0.299692\n",
      "2023-10-31  16200  17470  15910  16650  6977405 -0.013041\n",
      "            Open  High   Low  Close   Volume    Change\n",
      "Date                                                  \n",
      "2023-10-30  1079  1079   972   1079  5588222  0.300000\n",
      "2023-10-31  1395  1402  1273   1402  4152851  0.299351\n",
      "            Open  High   Low  Close   Volume    Change\n",
      "Date                                                  \n",
      "2023-10-30  2840  3420  2780   3055  8423299  0.075704\n",
      "2023-10-31  3300  3310  3055   3060  1902414  0.001637\n",
      "            Open  High   Low  Close   Volume    Change\n",
      "Date                                                  \n",
      "2023-10-30  1649  1948  1649   1944  7036485  0.210461\n",
      "2023-10-31  1977  2165  1859   2085  8187016  0.072531\n",
      "             Open   High    Low  Close   Volume    Change\n",
      "Date                                                     \n",
      "2023-10-30  11740  13190  11740  12970  3203387  0.104770\n",
      "2023-10-31  13170  13500  12600  12700  2929654 -0.020817\n",
      "            Open  High   Low  Close    Volume    Change\n",
      "Date                                                   \n",
      "2023-10-30  5250  5280  4800   4890  11609398 -0.052326\n",
      "2023-10-31  4990  5540  4910   5120  18241048  0.047035\n",
      "             Open   High    Low  Close    Volume    Change\n",
      "Date                                                      \n",
      "2023-10-30   9890  12000   9800  10320   4549365  0.070539\n",
      "2023-10-31  10190  12130  10150  11150  10076283  0.080426\n",
      "            Open  High   Low  Close   Volume    Change\n",
      "Date                                                  \n",
      "2023-10-30  5450  6330  5450   6080  2510141  0.119705\n",
      "2023-10-31  6040  6110  5820   5930   451347 -0.024671\n",
      "            Open  High   Low  Close   Volume    Change\n",
      "Date                                                  \n",
      "2023-10-30  7700  8050  7100   7280  2332569  0.044476\n",
      "2023-10-31  7360  7550  7310   7350   218269  0.009615\n",
      "            Open  High   Low  Close   Volume    Change\n",
      "Date                                                  \n",
      "2023-10-30  2260  2270  2150   2235  2130013 -0.060924\n",
      "2023-10-31  2230  2355  2200   2330  3503384  0.042506\n",
      "            Open  High   Low  Close  Volume    Change\n",
      "Date                                                 \n",
      "2023-10-30  2195  2355  2000   2270  635594  0.034169\n",
      "2023-10-31  2290  2380  2245   2290  306776  0.008811\n",
      "            Open  High   Low  Close   Volume    Change\n",
      "Date                                                  \n",
      "2023-10-30  1715  2020  1715   1870  6506271  0.113095\n",
      "2023-10-31  1842  2070  1803   1843  3379957 -0.014439\n",
      "             Open   High    Low  Close   Volume    Change\n",
      "Date                                                     \n",
      "2023-10-30  11420  14150  10910  12880  1853931  0.182736\n",
      "2023-10-31  13930  16740  13710  16740  4687141  0.299689\n",
      "            Open  High   Low  Close    Volume    Change\n",
      "Date                                                   \n",
      "2023-10-30  4495  5210  4485   4835  29345008  0.052231\n",
      "2023-10-31  4560  5150  4505   4800  20049643 -0.007239\n"
     ]
    },
    {
     "data": {
      "image/png": "[encoded data removed]",
      "text/plain": [
       "<Figure size 600x600 with 1 Axes>"
      ]
     },
     "metadata": {},
     "output_type": "display_data"
    }
   ],
   "source": [
    "def check_price_increase(stock_codes):\n",
    "    result = {}\n",
    "    \n",
    "    for code in stock_codes:\n",
    "        df = fdr.DataReader(code, '2024-02-07', '2024-02-08')  # 전날을 포함하도록 날짜 범위 수정\n",
    "        print(df)\n",
    "        if len(df) < 2:\n",
    "            result[code] = False\n",
    "        else:\n",
    "            # 전날 종가로부터 당일 고가까지의 변동률 계산\n",
    "            percentage_change = (df['High'].iloc[-1] - df['Close'].iloc[-2]) / df['Close'].iloc[-2] * 100\n",
    "\n",
    "            # 변동률이 5% 이상인 경우 참, 그 외에는 거짓으로 설정\n",
    "            if percentage_change >= 3.3:\n",
    "                result[code] = True\n",
    "            else:\n",
    "                result[code] = False\n",
    "    return result\n",
    "\n",
    "result_TF = check_price_increase(pred_1)\n",
    "result_TF = list(result_TF.values())\n",
    "# True와 False의 개수를 세어 비율을 계산\n",
    "true_count = sum(result_TF)\n",
    "false_count = len(result_TF) - true_count\n",
    "# 비율을 파이그래프로 표현\n",
    "labels = ['True', 'False']\n",
    "sizes = [true_count, false_count]\n",
    "colors = ['green', 'red']\n",
    "# 파이차트 그리기\n",
    "plt.figure(figsize=(6, 6))\n",
    "plt.pie(sizes, labels=labels, colors=colors, autopct='%1.1f%%', startangle=140)\n",
    "# 그래프 표시\n",
    "plt.show() "
   ]
  }
 ],
 "metadata": {
  "kernelspec": {
   "display_name": "ML",
   "language": "python",
   "name": "python3"
  },
  "language_info": {
   "codemirror_mode": {
    "name": "ipython",
    "version": 3
   },
   "file_extension": ".py",
   "mimetype": "text/x-python",
   "name": "python",
   "nbconvert_exporter": "python",
   "pygments_lexer": "ipython3",
   "version": "3.8.18"
  }
 },
 "nbformat": 4,
 "nbformat_minor": 2
}
