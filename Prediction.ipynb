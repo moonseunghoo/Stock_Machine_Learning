{
 "cells": [
  {
   "cell_type": "code",
   "execution_count": 1,
   "metadata": {},
   "outputs": [],
   "source": [
    "import pandas as pd\n",
    "import numpy as np\n",
    "import tensorflow as tf\n",
    "tf.config.experimental.set_visible_devices([], 'GPU')\n",
    "import FinanceDataReader as fdr\n",
    "import matplotlib.pyplot as plt\n",
    "\n",
    "from collections import OrderedDict\n",
    "from collections import Counter"
   ]
  },
  {
   "cell_type": "code",
   "execution_count": 2,
   "metadata": {},
   "outputs": [],
   "source": [
    "def make_six_digit_list(input_list):\n",
    "    six_digit_list = []\n",
    "\n",
    "    for item in input_list:\n",
    "        # 현재 항목의 길이를 확인\n",
    "        item_str = str(item)\n",
    "        item_len = len(item_str)\n",
    "\n",
    "        if item_len < 6:\n",
    "            # 6자리가 안되는 항목은 앞에 0을 채워서 6자리로 만듭니다.\n",
    "            zero_padding = '0' * (6 - item_len)\n",
    "            six_digit_item = zero_padding + item_str\n",
    "            six_digit_list.append(six_digit_item)\n",
    "        else:\n",
    "            # 이미 6자리인 경우 그대로 유지\n",
    "            six_digit_list.append(item_str)\n",
    "\n",
    "    return six_digit_list\n",
    "def filter_df(df): #데이터프레임 필터링\n",
    "    # 첫 번째 열에서 같은 값을 가진 행의 수를 계산합니다.\n",
    "    row_counts = df['0'].value_counts()\n",
    "\n",
    "    # 가장 많은 행의 수를 찾습니다.\n",
    "    max_row_count = row_counts.max()\n",
    "\n",
    "    # 가장 많은 행의 수에 해당하는 행만 분류합니다.\n",
    "    filtered = pd.DataFrame(df[df['0'].isin(row_counts[row_counts == max_row_count].index)])\n",
    "\n",
    "    return filtered\n",
    "def Prediction():\n",
    "    # 데이터 로드   \n",
    "    pred_df = pd.read_csv('/Users/moon/Desktop/Moon SeungHoo/Stock_Machine_Learning/StockData_Pred_240119_test.csv',low_memory=False)\n",
    "\n",
    "    filter_pred= filter_df(pred_df)\n",
    "\n",
    "    # 예측에 필요한 데이터 \n",
    "    pred_ticker = list(OrderedDict.fromkeys(filter_pred['0'])) #종목코드 저장\n",
    "\n",
    "    # 불필요한 데이터 삭제\n",
    "    filter_pred = filter_pred.drop({'0','1','7'},axis=1) #종목코드, 날자, 상승율 삭제\n",
    "    \n",
    "    model_1 = tf.keras.models.load_model(\"GRU_Model_9L_32_5%.h5\")\n",
    "    Pred = model_1.predict(filter_pred)\n",
    "\n",
    "    # 5% 이상 오를 종목 식별\n",
    "    rising_stocks = [ticker for i, ticker in enumerate(pred_ticker) if Pred[i] > 0.8]\n",
    "\n",
    "    # T_pred를 기준으로 내림차순 정렬\n",
    "    rising_stocks_sorted = sorted(rising_stocks, key=lambda i: Pred[pred_ticker.index(i)], reverse=True)\n",
    "    rising_stocks_sorted = list(map(str, rising_stocks_sorted))\n",
    "    result = list(set(rising_stocks_sorted))\n",
    "    result = make_six_digit_list(result)\n",
    "    sorted_list = result[:5]\n",
    "    print(\"내일 5% 이상 상승할 종목:\", sorted_list)\n",
    "\n",
    "    return sorted_list"
   ]
  },
  {
   "cell_type": "markdown",
   "metadata": {},
   "source": [
    "예측"
   ]
  },
  {
   "cell_type": "code",
   "execution_count": 3,
   "metadata": {},
   "outputs": [
    {
     "name": "stdout",
     "output_type": "stream",
     "text": [
      "11/11 [==============================] - 1s 6ms/step\n",
      "내일 5% 이상 상승할 종목: ['405100', '351330', '389140', '218150', '372910']\n"
     ]
    }
   ],
   "source": [
    "pred_1 = Prediction()"
   ]
  },
  {
   "cell_type": "markdown",
   "metadata": {},
   "source": [
    "예측한 결과 확인"
   ]
  },
  {
   "cell_type": "code",
   "execution_count": 4,
   "metadata": {},
   "outputs": [
    {
     "name": "stdout",
     "output_type": "stream",
     "text": [
      "             Open   High    Low  Close   Volume    Change\n",
      "Date                                                     \n",
      "2024-01-18  18020  23400  18020  22650  5398696  0.257635\n",
      "2024-01-19  24150  29000  23800  25200  5950007  0.112583\n",
      "             Open   High    Low  Close    Volume    Change\n",
      "Date                                                      \n",
      "2024-01-18  10110  11210   9890  10130   3044798 -0.012671\n",
      "2024-01-19  10290  12760  10200  11540  12468246  0.139191\n",
      "             Open   High    Low  Close   Volume    Change\n",
      "Date                                                     \n",
      "2024-01-18  12980  13960  12730  13960  1747483  0.048835\n",
      "2024-01-19  13960  15410  13250  15350  4334860  0.099570\n",
      "            Open  High   Low  Close    Volume    Change\n",
      "Date                                                   \n",
      "2024-01-18  6240  6860  5720   5870  25481765  0.029825\n",
      "2024-01-19  5590  6160  5470   5770   9114897 -0.017036\n",
      "            Open  High   Low  Close   Volume    Change\n",
      "Date                                                  \n",
      "2024-01-18  4985  5390  4880   5200  1043353  0.031746\n",
      "2024-01-19  5160  5530  5050   5320  1315675  0.023077\n"
     ]
    },
    {
     "data": {
      "image/png": "[encoded data removed]",
      "text/plain": [
       "<Figure size 600x600 with 1 Axes>"
      ]
     },
     "metadata": {},
     "output_type": "display_data"
    }
   ],
   "source": [
    "def check_price_increase(stock_codes):\n",
    "    result = {}\n",
    "    \n",
    "    for code in stock_codes:\n",
    "        df = fdr.DataReader(code, '2024-01-18', '2024-01-19')  # 전날을 포함하도록 날짜 범위 수정\n",
    "        print(df)\n",
    "        if len(df) < 2:\n",
    "            result[code] = False\n",
    "        else:\n",
    "            # 전날 종가로부터 당일 고가까지의 변동률 계산\n",
    "            percentage_change = (df['High'].iloc[-1] - df['Close'].iloc[-2]) / df['Close'].iloc[-2] * 100\n",
    "\n",
    "            # 변동률이 5% 이상인 경우 참, 그 외에는 거짓으로 설정\n",
    "            if percentage_change >= 3:\n",
    "                result[code] = True\n",
    "            else:\n",
    "                result[code] = False\n",
    "    return result\n",
    "\n",
    "# pred_10_laps = ['052790', '105560', '020120']\n",
    "result_TF = check_price_increase(pred_1)\n",
    "result_TF = list(result_TF.values())\n",
    "\n",
    "# True와 False의 개수를 세어 비율을 계산\n",
    "true_count = sum(result_TF)\n",
    "false_count = len(result_TF) - true_count\n",
    "\n",
    "# 비율을 파이그래프로 표현\n",
    "labels = ['True', 'False']\n",
    "sizes = [true_count, false_count]\n",
    "colors = ['green', 'red']\n",
    "\n",
    "# 파이차트 그리기\n",
    "plt.figure(figsize=(6, 6))\n",
    "plt.pie(sizes, labels=labels, colors=colors, autopct='%1.1f%%', startangle=140)\n",
    "\n",
    "# 그래프 표시\n",
    "plt.show() "
   ]
  },
  {
   "cell_type": "code",
   "execution_count": 5,
   "metadata": {},
   "outputs": [],
   "source": [
    "# list_10 = ['036010', '052790', '052710', '301300', '041020',\n",
    "#            '012510', '105560', '010060', '356680', '020120',\n",
    "#            '051160', '263720', '281740', '417860', '020120',\n",
    "#            '142210', '276040', '226400', '052790', '159580',\n",
    "#            '034220', '338220', '377030', '348150', '105560'\n",
    "#            ]\n",
    "\n",
    "# def 중복된_값_찾고_정렬하기(lst):\n",
    "#     # 리스트에서 각 값의 개수를 세어줘\n",
    "#     count = Counter(lst)\n",
    "    \n",
    "#     # 개수를 기준으로 내림차순으로 정렬해줘\n",
    "#     정렬된_값들 = sorted(count.items(), key=lambda x: x[1], reverse=True)\n",
    "    \n",
    "#     # 중복된 값을 담을 리스트\n",
    "#     중복된_값 = []\n",
    "    \n",
    "#     # 정렬된 값을 돌면서 중복된 값들을 리스트에 추가해줘\n",
    "#     for 값, 개수 in 정렬된_값들:\n",
    "#         if 개수 > 1:\n",
    "#             중복된_값.append((값, 개수))\n",
    "    \n",
    "#     return 중복된_값\n",
    "\n",
    "# # 예시 리스트\n",
    "# 결과 = 중복된_값_찾고_정렬하기(list_10)\n",
    "# print(결과)"
   ]
  }
 ],
 "metadata": {
  "kernelspec": {
   "display_name": "ML",
   "language": "python",
   "name": "python3"
  },
  "language_info": {
   "codemirror_mode": {
    "name": "ipython",
    "version": 3
   },
   "file_extension": ".py",
   "mimetype": "text/x-python",
   "name": "python",
   "nbconvert_exporter": "python",
   "pygments_lexer": "ipython3",
   "version": "3.8.18"
  }
 },
 "nbformat": 4,
 "nbformat_minor": 2
}
