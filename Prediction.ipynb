{
 "cells": [
  {
   "cell_type": "code",
   "execution_count": 1,
   "metadata": {},
   "outputs": [
    {
     "name": "stdout",
     "output_type": "stream",
     "text": [
      "Git pull 실패\n"
     ]
    },
    {
     "name": "stderr",
     "output_type": "stream",
     "text": [
      "error: cannot pull with rebase: You have unstaged changes.\n",
      "error: Please commit or stash them.\n"
     ]
    }
   ],
   "source": [
    "import pandas as pd\n",
    "import tensorflow as tf\n",
    "tf.config.experimental.set_visible_devices([], 'GPU')\n",
    "import FinanceDataReader as fdr\n",
    "import matplotlib.pyplot as plt\n",
    "from collections import OrderedDict\n",
    "from datetime import datetime, timedelta\n",
    "import subprocess\n",
    "\n",
    "from defs_pred import Data_Scrap_Pred\n",
    "\n",
    "# git pull 명령을 실행할 디렉토리로 이동합니다.\n",
    "# 이 디렉토리는 Git 저장소가 있는 디렉토리여야 합니다.\n",
    "repository_directory = '/Users/moon/Python_Stock_Project'\n",
    "# git pull 명령을 실행합니다.\n",
    "try:\n",
    "    subprocess.run(['git', 'pull'], cwd=repository_directory, check=True)\n",
    "    print(\"Git pull 성공\")\n",
    "except subprocess.CalledProcessError:\n",
    "    print(\"Git pull 실패\")\n"
   ]
  },
  {
   "cell_type": "code",
   "execution_count": 2,
   "metadata": {},
   "outputs": [],
   "source": [
    "def make_six_digit_list(input_list):\n",
    "    six_digit_list = []\n",
    "\n",
    "    for item in input_list:\n",
    "        # 현재 항목의 길이를 확인\n",
    "        item_str = str(item)\n",
    "        item_len = len(item_str)\n",
    "\n",
    "        if item_len < 6:\n",
    "            # 6자리가 안되는 항목은 앞에 0을 채워서 6자리로 만듭니다.\n",
    "            zero_padding = '0' * (6 - item_len)\n",
    "            six_digit_item = zero_padding + item_str\n",
    "            six_digit_list.append(six_digit_item)\n",
    "        else:\n",
    "            # 이미 6자리인 경우 그대로 유지\n",
    "            six_digit_list.append(item_str)\n",
    "\n",
    "    return six_digit_list\n",
    "\n",
    "def filter_df(df): #데이터프레임 필터링\n",
    "    # 첫 번째 열에서 같은 값을 가진 행의 수를 계산합니다.\n",
    "    row_counts = df['Ticker'].value_counts()\n",
    "\n",
    "    # 가장 많은 행의 수를 찾습니다.\n",
    "    max_row_count = row_counts.max()\n",
    "\n",
    "    # 가장 많은 행의 수에 해당하는 행만 분류합니다.\n",
    "    filtered = pd.DataFrame(df[df['Ticker'].isin(row_counts[row_counts == max_row_count].index)])\n",
    "\n",
    "    return filtered\n",
    "\n",
    "def Prediction():\n",
    "    pred_df = pd.read_csv('KRX/Scrap_Pred/StockData_Pred_240312.csv',low_memory=False)\n",
    "    \n",
    "    targer_day = datetime(year=2024,month=3,day=12)\n",
    "    end_info_day = (targer_day - timedelta(days=1))\n",
    "\n",
    "    filter_pred= filter_df(pred_df)\n",
    "\n",
    "    # 예측에 필요한 데이터 \n",
    "    pred_ticker = list(OrderedDict.fromkeys(filter_pred['Ticker'])) #종목코드 저장\n",
    "\n",
    "    # 불필요한 데이터 삭제\n",
    "    filter_pred = filter_pred.drop({'Ticker','Date','Change'},axis=1) #종목코드, 날자, 상승율 삭제\n",
    "    \n",
    "    model_1 = tf.keras.models.load_model(\"GRU_128_64_32_2_KOSPI_TI_3%.h5\")\n",
    "\n",
    "    Pred = model_1.predict(filter_pred).round(2)\n",
    "    # 5% 이상 오를 종목 식별\n",
    "    rising_stocks = [ticker for i, ticker in enumerate(pred_ticker) if Pred[i] > 0.9]\n",
    "    rising_stocks = list(map(str, rising_stocks))\n",
    "    result = list(set(rising_stocks))\n",
    "    result = make_six_digit_list(result)\n",
    "    high_52 = add_52_week_high_info(result,end_info_day)\n",
    "    final_result = high_52.head(5)\n",
    "    return final_result\n",
    "\n",
    "def add_52_week_high_info(series,end_info_day):\n",
    "    df = pd.DataFrame(series, columns=['Code'])\n",
    "    high_52_week_list = []\n",
    "    change_percentage_list = []\n",
    "    average_volume_5_days = []\n",
    "\n",
    "    for stock_code in series:\n",
    "    # 10일 전 날짜 계산\n",
    "        high_52_date = (end_info_day - timedelta(days=375)).strftime('%Y-%m-%d')\n",
    "\n",
    "        # FinanceDataReader를 사용하여 주식 데이터 가져오기\n",
    "        stock_data = fdr.DataReader(stock_code, start=high_52_date, end=end_info_day).reset_index()\n",
    "        stock_data['Volume'] = stock_data['Volume'] * ((stock_data['High'] + stock_data['Low']) / 2)\n",
    "\n",
    "        # 52주 최고가 계산\n",
    "        rolling_result = stock_data['High'].rolling(window=250).max()\n",
    "        \n",
    "        # 최근 종가 대비 52주 최고가 대비 변동율 계산\n",
    "        change_percentage = round((stock_data['Close'].shift(1) - rolling_result) / rolling_result, 3)\n",
    "\n",
    "        # 거래량(거래대금)의 평균 계산\n",
    "        stock_data = stock_data.tail(5)\n",
    "        average_volume = int(stock_data['Volume'].mean())\n",
    "        \n",
    "        high_52_week_list.append(rolling_result.tail(1))\n",
    "        change_percentage_list.append(change_percentage.tail(1))\n",
    "        average_volume_5_days.append(average_volume)\n",
    "\n",
    "    df['52주 최고가'] = high_52_week_list\n",
    "    df['52주 최고가 대비 변동율'] = change_percentage_list\n",
    "    df['5일 평균 거래대금'] = average_volume_5_days\n",
    "    #5일 평균 거래량 기준 내림차순\n",
    "    df = df.sort_values(by='5일 평균 거래대금', ascending=False)\n",
    "\n",
    "    return df"
   ]
  },
  {
   "cell_type": "markdown",
   "metadata": {},
   "source": [
    "예측"
   ]
  },
  {
   "cell_type": "code",
   "execution_count": 3,
   "metadata": {},
   "outputs": [
    {
     "name": "stdout",
     "output_type": "stream",
     "text": [
      "3/3 [==============================] - 1s 33ms/step\n"
     ]
    }
   ],
   "source": [
    "pred_1 = Prediction()\n",
    "code_list = pred_1['Code']"
   ]
  },
  {
   "cell_type": "markdown",
   "metadata": {},
   "source": [
    "예측한 결과 확인"
   ]
  },
  {
   "cell_type": "code",
   "execution_count": 4,
   "metadata": {},
   "outputs": [
    {
     "name": "stdout",
     "output_type": "stream",
     "text": [
      "              Open    High     Low   Close   Volume    Change\n",
      "Date                                                         \n",
      "2024-03-11  129100  132600  122900  125300  1574901 -0.018794\n",
      "2024-03-12  124200  127000  120000  126000   864829  0.005587\n",
      "              Open    High     Low   Close   Volume    Change\n",
      "Date                                                         \n",
      "2024-03-11  222000  278000  222000  263000  2348947  0.174107\n",
      "2024-03-12  268500  269500  244000  251500   586630 -0.043726\n",
      "            Open  High   Low  Close    Volume    Change\n",
      "Date                                                   \n",
      "2024-03-11  5720  6430  5480   6200  83142812  0.210938\n",
      "2024-03-12  6020  6750  5580   5950  58345339 -0.040323\n",
      "             Open   High    Low  Close    Volume    Change\n",
      "Date                                                      \n",
      "2024-03-11  10570  10660   9950  10010   8461217 -0.015733\n",
      "2024-03-12  10780  11230  10040  10220  18570142  0.020979\n",
      "             Open   High    Low  Close    Volume    Change\n",
      "Date                                                      \n",
      "2024-03-11  29800  33100  28650  30650  14203392  0.033727\n",
      "2024-03-12  31000  31900  29000  29700   3731346 -0.030995\n"
     ]
    },
    {
     "data": {
      "image/png": "[encoded data removed]",
      "text/plain": [
       "<Figure size 600x600 with 1 Axes>"
      ]
     },
     "metadata": {},
     "output_type": "display_data"
    }
   ],
   "source": [
    "def check_price_increase(stock_codes):\n",
    "    result = {}\n",
    "    \n",
    "    for code in stock_codes:\n",
    "        df = fdr.DataReader(code, '2024-03-11', '2024-03-12')  # 전날을 포함하도록 날짜 범위 수정\n",
    "        print(df)\n",
    "        if len(df) < 2:\n",
    "            result[code] = False\n",
    "        else:\n",
    "            # 전날 종가로부터 당일 고가까지의 변동률 계산\n",
    "            percentage_change = (df['High'].iloc[-1] - df['Close'].iloc[-2]) / df['Close'].iloc[-2] * 100\n",
    "\n",
    "            # 변동률이 5% 이상인 경우 참, 그 외에는 거짓으로 설정\n",
    "            if percentage_change >= 3.3:\n",
    "                result[code] = True\n",
    "            else:\n",
    "                result[code] = False\n",
    "    return result\n",
    "\n",
    "result_TF = check_price_increase(code_list)\n",
    "result_TF = list(result_TF.values())\n",
    "# True와 False의 개수를 세어 비율을 계산\n",
    "true_count = sum(result_TF)\n",
    "false_count = len(result_TF) - true_count\n",
    "# 비율을 파이그래프로 표현\n",
    "labels = ['True', 'False']\n",
    "sizes = [true_count, false_count]\n",
    "colors = ['green', 'red']\n",
    "# 파이차트 그리기\n",
    "plt.figure(figsize=(6, 6))\n",
    "plt.pie(sizes, labels=labels, colors=colors, autopct='%1.2f%%', startangle=140)\n",
    "# 그래프 표시\n",
    "plt.show() "
   ]
  }
 ],
 "metadata": {
  "kernelspec": {
   "display_name": "ML",
   "language": "python",
   "name": "python3"
  },
  "language_info": {
   "codemirror_mode": {
    "name": "ipython",
    "version": 3
   },
   "file_extension": ".py",
   "mimetype": "text/x-python",
   "name": "python",
   "nbconvert_exporter": "python",
   "pygments_lexer": "ipython3",
   "version": "3.8.18"
  }
 },
 "nbformat": 4,
 "nbformat_minor": 2
}
