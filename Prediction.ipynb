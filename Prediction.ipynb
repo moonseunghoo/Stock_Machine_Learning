{
 "cells": [
  {
   "cell_type": "code",
   "execution_count": 1,
   "metadata": {},
   "outputs": [],
   "source": [
    "import pandas as pd\n",
    "import numpy as np\n",
    "import tensorflow as tf\n",
    "tf.config.experimental.set_visible_devices([], 'GPU')\n",
    "import FinanceDataReader as fdr\n",
    "import matplotlib.pyplot as plt\n",
    "\n",
    "from collections import OrderedDict"
   ]
  },
  {
   "cell_type": "markdown",
   "metadata": {},
   "source": [
    "데이터 불러오기"
   ]
  },
  {
   "cell_type": "code",
   "execution_count": 2,
   "metadata": {},
   "outputs": [],
   "source": [
    "def filter_df(df): #데이터프레임 필터링\n",
    "    # 첫 번째 열에서 같은 값을 가진 행의 수를 계산합니다.\n",
    "    row_counts = df['0'].value_counts()\n",
    "\n",
    "    # 가장 많은 행의 수를 찾습니다.\n",
    "    max_row_count = row_counts.max()\n",
    "\n",
    "    # 가장 많은 행의 수에 해당하는 행만 분류합니다.\n",
    "    filtered = pd.DataFrame(df[df['0'].isin(row_counts[row_counts == max_row_count].index)])\n",
    "\n",
    "    return filtered\n",
    "\n",
    "# 데이터 로드   \n",
    "pred_df = pd.read_csv('/Users/moon/Desktop/Moon SeungHoo/Stock_Machine_Learning/StockData_Pred_240108.csv',low_memory=False)\n",
    "\n",
    "filter_pred= filter_df(pred_df)\n",
    "\n",
    "# 예측에 필요한 데이터 \n",
    "pred_ticker = list(OrderedDict.fromkeys(filter_pred['0'])) #종목코드 저장\n",
    "\n",
    "# 불필요한 데이터 삭제\n",
    "filter_pred = filter_pred.drop({'0','1','7'},axis=1) #종목코드, 날자, 상승율 삭제"
   ]
  },
  {
   "cell_type": "markdown",
   "metadata": {},
   "source": [
    "학습한 모델 불러오기"
   ]
  },
  {
   "cell_type": "code",
   "execution_count": 3,
   "metadata": {},
   "outputs": [],
   "source": [
    "# 모델 로드\n",
    "loaded_model = tf.keras.models.load_model(\"GRU_Model_9L_18.h5\")"
   ]
  },
  {
   "cell_type": "markdown",
   "metadata": {},
   "source": [
    "예측"
   ]
  },
  {
   "cell_type": "code",
   "execution_count": 4,
   "metadata": {},
   "outputs": [
    {
     "name": "stdout",
     "output_type": "stream",
     "text": [
      "15/15 [==============================] - 1s 6ms/step\n",
      "내일 5% 이상 상승할 종목: ['066970', '093370', '010690', '059270', '304100']\n"
     ]
    }
   ],
   "source": [
    "def make_six_digit_list(input_list):\n",
    "    six_digit_list = []\n",
    "\n",
    "    for item in input_list:\n",
    "        # 현재 항목의 길이를 확인\n",
    "        item_str = str(item)\n",
    "        item_len = len(item_str)\n",
    "\n",
    "        if item_len < 6:\n",
    "            # 6자리가 안되는 항목은 앞에 0을 채워서 6자리로 만듭니다.\n",
    "            zero_padding = '0' * (6 - item_len)\n",
    "            six_digit_item = zero_padding + item_str\n",
    "            six_digit_list.append(six_digit_item)\n",
    "        else:\n",
    "            # 이미 6자리인 경우 그대로 유지\n",
    "            six_digit_list.append(item_str)\n",
    "\n",
    "    return six_digit_list\n",
    "def stock_pred(filter_pred):\n",
    "    Pred = loaded_model.predict(filter_pred)\n",
    "\n",
    "    # # 배열을 5개씩 묶어서 평균을 구함\n",
    "    # num_elements = 1\n",
    "    # num_rows = Pred.shape[0]\n",
    "\n",
    "    # # 원래 배열의 길이를 5의 배수로 맞추기 위해 남는 값 제거\n",
    "    # new_length = (num_rows // num_elements) * num_elements\n",
    "    # trimmed_array = Pred[:new_length]\n",
    "\n",
    "    # # 배열을 1개씩 묶어 평균을 구함\n",
    "    # pred = trimmed_array.reshape(-1, num_elements).mean(axis=1)\n",
    "\n",
    "    # 5% 이상 오를 종목 식별\n",
    "    rising_stocks = [ticker for i, ticker in enumerate(pred_ticker) if Pred[i] > 0.9]\n",
    "\n",
    "    # T_pred를 기준으로 내림차순 정렬\n",
    "    rising_stocks_sorted = sorted(rising_stocks, key=lambda i: Pred[pred_ticker.index(i)], reverse=True)\n",
    "    rising_stocks_sorted = list(map(str, rising_stocks_sorted))\n",
    "    result = list(set(rising_stocks_sorted))\n",
    "    result = make_six_digit_list(result)\n",
    "    sorted_list = result[:5]\n",
    "    print(\"내일 5% 이상 상승할 종목:\", sorted_list)\n",
    "\n",
    "    return sorted_list\n",
    "\n",
    "pred_1 = stock_pred(filter_pred)"
   ]
  },
  {
   "cell_type": "markdown",
   "metadata": {},
   "source": [
    "예측한 결과 확인"
   ]
  },
  {
   "cell_type": "code",
   "execution_count": 5,
   "metadata": {},
   "outputs": [
    {
     "name": "stdout",
     "output_type": "stream",
     "text": [
      "              Open    High     Low   Close  Volume    Change\n",
      "Date                                                        \n",
      "2024-01-05  211500  216000  208000  211000  796414 -0.002364\n",
      "2024-01-08  211000  211000  198900  200000  486217 -0.052133\n",
      "             Open   High    Low  Close  Volume    Change\n",
      "Date                                                    \n",
      "2024-01-05  11500  11660  11380  11450  198911 -0.004348\n",
      "2024-01-08  11390  11490  11350  11350  190428 -0.008734\n",
      "             Open   High    Low  Close  Volume    Change\n",
      "Date                                                    \n",
      "2024-01-05  12820  12980  12600  12700  241177  0.000000\n",
      "2024-01-08  12630  12840  12080  12130  753895 -0.044882\n",
      "            Open  High   Low  Close  Volume    Change\n",
      "Date                                                 \n",
      "2024-01-05  7720  8120  7690   8110  242398  0.054616\n",
      "2024-01-08  8120  8620  8120   8290  563732  0.022195\n",
      "             Open   High    Low  Close   Volume    Change\n",
      "Date                                                     \n",
      "2024-01-05  26650  32650  26600  31450  4674370  0.189036\n",
      "2024-01-08  33000  35900  32100  33250  4404468  0.057234\n"
     ]
    },
    {
     "data": {
      "image/png": "[encoded data removed]",
      "text/plain": [
       "<Figure size 600x600 with 1 Axes>"
      ]
     },
     "metadata": {},
     "output_type": "display_data"
    }
   ],
   "source": [
    "def check_price_increase(stock_codes):\n",
    "    result = {}\n",
    "    \n",
    "    for code in stock_codes:\n",
    "        df = fdr.DataReader(code,'2024-01-05','2024-01-08')\n",
    "        print(df)\n",
    "        if len(df) < 2:\n",
    "            result[code] = False\n",
    "        else:\n",
    "            today_close = df['Change'].iloc[-1]\n",
    "\n",
    "            if today_close >=  0:\n",
    "                result[code] = True\n",
    "            else:\n",
    "                result[code] = False\n",
    "    return result\n",
    "\n",
    "result_TF = check_price_increase(pred_1)\n",
    "result_TF = list(result_TF.values())\n",
    "\n",
    "# True와 False의 개수를 세어 비율을 계산\n",
    "true_count = sum(result_TF)\n",
    "false_count = len(result_TF) - true_count\n",
    "\n",
    "# 비율을 파이그래프로 표현\n",
    "labels = ['True', 'False']\n",
    "sizes = [true_count, false_count]\n",
    "colors = ['green', 'red']\n",
    "\n",
    "# 파이차트 그리기\n",
    "plt.figure(figsize=(6, 6))\n",
    "plt.pie(sizes, labels=labels, colors=colors, autopct='%1.1f%%', startangle=140)\n",
    "\n",
    "# 그래프 표시\n",
    "plt.show() "
   ]
  }
 ],
 "metadata": {
  "kernelspec": {
   "display_name": "ML",
   "language": "python",
   "name": "python3"
  },
  "language_info": {
   "codemirror_mode": {
    "name": "ipython",
    "version": 3
   },
   "file_extension": ".py",
   "mimetype": "text/x-python",
   "name": "python",
   "nbconvert_exporter": "python",
   "pygments_lexer": "ipython3",
   "version": "3.8.18"
  }
 },
 "nbformat": 4,
 "nbformat_minor": 2
}
