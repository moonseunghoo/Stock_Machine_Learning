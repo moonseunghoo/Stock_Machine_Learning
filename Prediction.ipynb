{
 "cells": [
  {
   "cell_type": "code",
   "execution_count": 1,
   "metadata": {},
   "outputs": [],
   "source": [
    "import pandas as pd\n",
    "import numpy as np\n",
    "import tensorflow as tf\n",
    "tf.config.experimental.set_visible_devices([], 'GPU')\n",
    "import FinanceDataReader as fdr\n",
    "import matplotlib.pyplot as plt\n",
    "import Prediction_def\n",
    "\n",
    "from collections import OrderedDict\n",
    "from collections import Counter\n"
   ]
  },
  {
   "cell_type": "markdown",
   "metadata": {},
   "source": [
    "예측"
   ]
  },
  {
   "cell_type": "code",
   "execution_count": 2,
   "metadata": {},
   "outputs": [
    {
     "name": "stdout",
     "output_type": "stream",
     "text": [
      "15/15 [==============================] - 1s 5ms/step\n",
      "내일 5% 이상 상승할 종목: ['030520', '018260', '020120', '182360', '092870']\n"
     ]
    }
   ],
   "source": [
    "pred_1 = Prediction_def.Prediction()"
   ]
  },
  {
   "cell_type": "markdown",
   "metadata": {},
   "source": [
    "예측한 결과 확인"
   ]
  },
  {
   "cell_type": "code",
   "execution_count": 3,
   "metadata": {},
   "outputs": [
    {
     "name": "stdout",
     "output_type": "stream",
     "text": [
      "             Open   High    Low  Close    Volume    Change\n",
      "Date                                                      \n",
      "2024-01-09  20000  22750  19320  21250  20277212  0.091984\n",
      "2024-01-10  20950  27500  20700  24750  29514618  0.164706\n",
      "              Open    High     Low   Close  Volume    Change\n",
      "Date                                                        \n",
      "2024-01-09  172600  172700  168200  168200  129022 -0.009423\n",
      "2024-01-10  168400  172500  168400  171500  150698  0.019620\n",
      "            Open  High   Low  Close  Volume    Change\n",
      "Date                                                 \n",
      "2024-01-09  5900  6110  5780   5930  212099 -0.005034\n",
      "2024-01-10  5900  6190  5670   6030  319100  0.016863\n",
      "             Open   High    Low  Close  Volume    Change\n",
      "Date                                                    \n",
      "2024-01-09  20000  21000  19800  20600  330927  0.031031\n",
      "2024-01-10  20600  21250  20200  20700  304646  0.004854\n",
      "             Open   High    Low  Close   Volume    Change\n",
      "Date                                                     \n",
      "2024-01-09  22550  22700  19800  19920  2726679 -0.079908\n",
      "2024-01-10  19750  19760  18170  18400  1260616 -0.076305\n"
     ]
    },
    {
     "data": {
      "image/png": "[encoded data removed]",
      "text/plain": [
       "<Figure size 600x600 with 1 Axes>"
      ]
     },
     "metadata": {},
     "output_type": "display_data"
    }
   ],
   "source": [
    "def check_price_increase(stock_codes):\n",
    "    result = {}\n",
    "    \n",
    "    for code in stock_codes:\n",
    "        df = fdr.DataReader(code,'2024-01-09','2024-01-10')\n",
    "        print(df)\n",
    "        if len(df) < 2:\n",
    "            result[code] = False\n",
    "        else:\n",
    "            today_close = df['Change'].iloc[-1]\n",
    "\n",
    "            if today_close >=  0:\n",
    "                result[code] = True\n",
    "            else:\n",
    "                result[code] = False\n",
    "    return result\n",
    "\n",
    "pred_10_laps = ['000430', '067160', '071280', '239890', '281740']\n",
    "\n",
    "result_TF = check_price_increase(pred_1)\n",
    "result_TF = list(result_TF.values())\n",
    "\n",
    "# True와 False의 개수를 세어 비율을 계산\n",
    "true_count = sum(result_TF)\n",
    "false_count = len(result_TF) - true_count\n",
    "\n",
    "# 비율을 파이그래프로 표현\n",
    "labels = ['True', 'False']\n",
    "sizes = [true_count, false_count]\n",
    "colors = ['green', 'red']\n",
    "\n",
    "# 파이차트 그리기\n",
    "plt.figure(figsize=(6, 6))\n",
    "plt.pie(sizes, labels=labels, colors=colors, autopct='%1.1f%%', startangle=140)\n",
    "\n",
    "# 그래프 표시\n",
    "plt.show() "
   ]
  },
  {
   "cell_type": "code",
   "execution_count": 4,
   "metadata": {},
   "outputs": [
    {
     "name": "stdout",
     "output_type": "stream",
     "text": [
      "[('000430', 3), ('067160', 2), ('071280', 2), ('239890', 2), ('281740', 2), ('086450', 2), ('105560', 2), ('030520', 2), ('053300', 2), ('228760', 2), ('065350', 2)]\n"
     ]
    }
   ],
   "source": [
    "list_10 = ['019210', '067160', '000430', '300120', '071280',\n",
    "           '239890', '241690', '182360', '232140', '281740',\n",
    "           '105840', '086450', '119830', '276040', '348150',\n",
    "           '069410', '105560', '030520', '239890', '053300',\n",
    "           '105560', '228760', '352820', '263720', '047560',\n",
    "           '253590', '020120', '142210', '281740', '053300',\n",
    "           '407400', '089890', '030520', '033640', '065350',\n",
    "           '389140', '086450', '228760', '000430', '067160',\n",
    "           '033240', '092870', '065350', '000430', '010060',\n",
    "           '071280', '003000', '297890', '298830', '039130'\n",
    "           ]\n",
    "\n",
    "def 중복된_값_찾고_정렬하기(lst):\n",
    "    # 리스트에서 각 값의 개수를 세어줘\n",
    "    count = Counter(lst)\n",
    "    \n",
    "    # 개수를 기준으로 내림차순으로 정렬해줘\n",
    "    정렬된_값들 = sorted(count.items(), key=lambda x: x[1], reverse=True)\n",
    "    \n",
    "    # 중복된 값을 담을 리스트\n",
    "    중복된_값 = []\n",
    "    \n",
    "    # 정렬된 값을 돌면서 중복된 값들을 리스트에 추가해줘\n",
    "    for 값, 개수 in 정렬된_값들:\n",
    "        if 개수 > 1:\n",
    "            중복된_값.append((값, 개수))\n",
    "    \n",
    "    return 중복된_값\n",
    "\n",
    "# 예시 리스트\n",
    "결과 = 중복된_값_찾고_정렬하기(list_10)\n",
    "print(결과)"
   ]
  }
 ],
 "metadata": {
  "kernelspec": {
   "display_name": "ML",
   "language": "python",
   "name": "python3"
  },
  "language_info": {
   "codemirror_mode": {
    "name": "ipython",
    "version": 3
   },
   "file_extension": ".py",
   "mimetype": "text/x-python",
   "name": "python",
   "nbconvert_exporter": "python",
   "pygments_lexer": "ipython3",
   "version": "3.8.18"
  }
 },
 "nbformat": 4,
 "nbformat_minor": 2
}
