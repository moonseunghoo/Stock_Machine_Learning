{
 "cells": [
  {
   "cell_type": "code",
   "execution_count": null,
   "metadata": {},
   "outputs": [],
   "source": [
    "import time\n",
    "import subprocess\n",
    "\n",
    "from defs_pred import Data_Scrap_Pred, ticker_list\n",
    "\n",
    "# git pull 명령을 실행할 디렉토리로 이동합니다.\n",
    "# 이 디렉토리는 Git 저장소가 있는 디렉토리여야 합니다.\n",
    "repository_directory = '/Users/moon/Python_Stock_Project/marcap'\n",
    "# git pull 명령을 실행합니다.\n",
    "try:\n",
    "    subprocess.run(['git', 'pull'], cwd=repository_directory, check=True)\n",
    "    print(\"Git pull 성공\")\n",
    "except subprocess.CalledProcessError:\n",
    "    print(\"Git pull 실패\")\n"
   ]
  },
  {
   "cell_type": "code",
   "execution_count": null,
   "metadata": {},
   "outputs": [],
   "source": [
    "if __name__ == '__main__':\n",
    "    start_time = time.time()\n",
    "    s_df = Data_Scrap_Pred()\n",
    "    s_df.to_csv('/Users/moon/Desktop/Moon SeungHoo/Stock_Machine_Learning/StockData_Pred_240214.csv',index=False)\n",
    "    endtime = time.time()\n",
    "    print('---걸린시간 : {} ---',format((endtime - start_time)/60))"
   ]
  }
 ],
 "metadata": {
  "kernelspec": {
   "display_name": "Python 3",
   "language": "python",
   "name": "python3"
  },
  "language_info": {
   "codemirror_mode": {
    "name": "ipython",
    "version": 3
   },
   "file_extension": ".py",
   "mimetype": "text/x-python",
   "name": "python",
   "nbconvert_exporter": "python",
   "pygments_lexer": "ipython3",
   "version": "3.11.6"
  }
 },
 "nbformat": 4,
 "nbformat_minor": 2
}
