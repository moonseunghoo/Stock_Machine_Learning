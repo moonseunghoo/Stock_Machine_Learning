{
 "cells": [
  {
   "cell_type": "code",
   "execution_count": 1,
   "metadata": {},
   "outputs": [],
   "source": [
    "\n",
    "import multiprocessing\n",
    "import pandas as pd\n",
    "import time\n",
    "\n",
    "from defs_pred import merging_stock_data\n",
    "from pykrx import stock\n",
    "from datetime import datetime\n",
    "\n",
    "def Data_Scrap_Pred():\n",
    "    today = datetime.today().strftime(\"%Y%m%d\")\n",
    "    code_list = stock.get_market_ticker_list(today, market='KOSPI')\n",
    "    kosdaq = stock.get_market_ticker_list(today,market='KOSDAQ')\n",
    "    code_list = code_list + kosdaq\n",
    "    # code_list = ['250060']\n",
    "\n",
    "    stock_data = []\n",
    "\n",
    "    ## 멀티 프로세싱 ###\n",
    "    p = multiprocessing.Pool(processes=6)\n",
    "    for row in p.map(merging_stock_data,code_list):\n",
    "        stock_data += row\n",
    "    p.close()\n",
    "    p.join()\n",
    "    s_df = pd.DataFrame(stock_data)\n",
    "    #timestamp 형식 int로 변환\n",
    "    s_df[1] = s_df[1].dt.year * 10000 + s_df[1].dt.month * 100 + s_df[1].dt.day\n",
    "    s_df = s_df[~s_df[0].str.contains('K|L|M')]\n",
    "    \n",
    "    return s_df"
   ]
  },
  {
   "cell_type": "code",
   "execution_count": 2,
   "metadata": {},
   "outputs": [
    {
     "name": "stdout",
     "output_type": "stream",
     "text": [
      "---걸린시간 : {} --- 26.168715198834736\n"
     ]
    }
   ],
   "source": [
    "if __name__ == '__main__':\n",
    "    start_time = time.time()\n",
    "    s_df = Data_Scrap_Pred()\n",
    "    s_df.to_csv('/Users/moon/Desktop/Moon SeungHoo/Stock_Machine_Learning/StockData_Pred.csv',index=False)\n",
    "    endtime = time.time()\n",
    "    print('---걸린시간 : {} ---',format((endtime - start_time)/60))\n"
   ]
  }
 ],
 "metadata": {
  "kernelspec": {
   "display_name": "Python 3",
   "language": "python",
   "name": "python3"
  },
  "language_info": {
   "codemirror_mode": {
    "name": "ipython",
    "version": 3
   },
   "file_extension": ".py",
   "mimetype": "text/x-python",
   "name": "python",
   "nbconvert_exporter": "python",
   "pygments_lexer": "ipython3",
   "version": "3.11.6"
  }
 },
 "nbformat": 4,
 "nbformat_minor": 2
}
