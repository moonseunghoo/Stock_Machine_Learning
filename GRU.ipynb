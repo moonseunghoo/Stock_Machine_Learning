{
 "cells": [
  {
   "cell_type": "markdown",
   "metadata": {},
   "source": [
    "모듈 ∙ 라이브러리 import"
   ]
  },
  {
   "cell_type": "code",
   "execution_count": 1,
   "metadata": {},
   "outputs": [],
   "source": [
    "import numpy as np\n",
    "import pandas as pd\n",
    "import tensorflow as tf\n",
    "tf.config.experimental.set_visible_devices([], 'GPU')\n",
    "import FinanceDataReader as fdr\n",
    "import matplotlib.pyplot as plt\n",
    "\n",
    "from sklearn.model_selection import train_test_split\n",
    "from sklearn.preprocessing import MinMaxScaler\n",
    "from keras.callbacks import EarlyStopping\n",
    "from keras.optimizers.legacy import Adam"
   ]
  },
  {
   "cell_type": "markdown",
   "metadata": {},
   "source": [
    "데이터 불러오기 ∙ 전처리"
   ]
  },
  {
   "cell_type": "code",
   "execution_count": 2,
   "metadata": {},
   "outputs": [],
   "source": [
    "def filter_df(df): #데이터프레임 필터링\n",
    "    # 첫 번째 열에서 같은 값을 가진 행의 수를 계산합니다.\n",
    "    row_counts = df['0'].value_counts()\n",
    "\n",
    "    # 가장 많은 행의 수를 찾습니다.\n",
    "    max_row_count = row_counts.max()\n",
    "\n",
    "    # 가장 많은 행의 수에 해당하는 행만 분류합니다.\n",
    "    filtered = pd.DataFrame(df[df['0'].isin(row_counts[row_counts == max_row_count].index)])\n",
    "\n",
    "    return filtered\n",
    "\n",
    "# 데이터 로드   \n",
    "stock_df = pd.read_csv('/Users/moon/Desktop/Moon SeungHoo/Stock_Machine_Learning/StockData.csv',low_memory=False)\n",
    "pred_df = pd.read_csv('/Users/moon/Desktop/Moon SeungHoo/Stock_Machine_Learning/StockData_Pred.csv',low_memory=False)\n",
    "\n",
    "#데이터 필터링\n",
    "filter_stock = filter_df(stock_df)\n",
    "filter_label = filter_stock['18']\n",
    "\n",
    "filter_pred= filter_df(pred_df)\n",
    "\n",
    "# 예측에 필요한 데이터 \n",
    "pred_ticker = filter_pred['0']#종목코드 저장\n",
    "\n",
    "# 불필요한 데이터 삭제\n",
    "filter_stock = filter_stock.drop({'0','1','7','18'},axis=1) #날자, 상승율, 5%이상 상승여부 삭제 \n",
    "filter_pred = filter_pred.drop({'0','1','7'},axis=1)#날자, 상승율 삭제\n"
   ]
  },
  {
   "cell_type": "markdown",
   "metadata": {},
   "source": [
    "데이터 전처리"
   ]
  },
  {
   "cell_type": "code",
   "execution_count": 3,
   "metadata": {},
   "outputs": [],
   "source": [
    "scaler = MinMaxScaler()\n",
    "stock_label = scaler.fit_transform(filter_label.values.reshape(-1, 1))"
   ]
  },
  {
   "cell_type": "markdown",
   "metadata": {},
   "source": [
    "데이터 분할"
   ]
  },
  {
   "cell_type": "code",
   "execution_count": 4,
   "metadata": {},
   "outputs": [],
   "source": [
    "# 훈련 및 테스트 데이터로 분할\n",
    "X_train, X_test, y_train, y_test = train_test_split(filter_stock, stock_label, test_size=0.2, random_state=42)"
   ]
  },
  {
   "cell_type": "markdown",
   "metadata": {},
   "source": [
    "GRU 모델 정의"
   ]
  },
  {
   "cell_type": "code",
   "execution_count": 5,
   "metadata": {},
   "outputs": [
    {
     "name": "stdout",
     "output_type": "stream",
     "text": [
      "Model: \"sequential\"\n",
      "_________________________________________________________________\n",
      " Layer (type)                Output Shape              Param #   \n",
      "=================================================================\n",
      " gru (GRU)                   (None, 28, 64)            12864     \n",
      "                                                                 \n",
      " gru_1 (GRU)                 (None, 64)                24960     \n",
      "                                                                 \n",
      " dense (Dense)               (None, 1)                 65        \n",
      "                                                                 \n",
      "=================================================================\n",
      "Total params: 37889 (148.00 KB)\n",
      "Trainable params: 37889 (148.00 KB)\n",
      "Non-trainable params: 0 (0.00 Byte)\n",
      "_________________________________________________________________\n"
     ]
    }
   ],
   "source": [
    "# GRU 모델 정의\n",
    "model = tf.keras.Sequential()\n",
    "model.add(tf.keras.layers.GRU(32, input_shape=(X_train.shape[1],1),return_sequences=True))\n",
    "model.add(tf.keras.layers.GRU(64,return_sequences=False))\n",
    "model.add(tf.keras.layers.Dense(1, activation='sigmoid'))\n",
    "model.compile(optimizer='adam', loss='binary_crossentropy', metrics=['accuracy'])\n",
    "\n",
    "# 조기 종료 콜백 정의\n",
    "early_stopping = EarlyStopping(monitor='val_loss', patience=5, restore_best_weights=True)\n",
    "model.summary()"
   ]
  },
  {
   "cell_type": "markdown",
   "metadata": {},
   "source": [
    "모델 훈련"
   ]
  },
  {
   "cell_type": "code",
   "execution_count": 6,
   "metadata": {},
   "outputs": [
    {
     "name": "stdout",
     "output_type": "stream",
     "text": [
      "Epoch 1/25\n",
      "24726/24726 [==============================] - 306s 12ms/step - loss: 0.1189 - accuracy: 0.9620 - val_loss: 0.1036 - val_accuracy: 0.9646\n",
      "Epoch 2/25\n",
      "24726/24726 [==============================] - 302s 12ms/step - loss: 0.1094 - accuracy: 0.9640 - val_loss: 0.1069 - val_accuracy: 0.9645\n",
      "Epoch 3/25\n",
      "24726/24726 [==============================] - 303s 12ms/step - loss: 0.1080 - accuracy: 0.9642 - val_loss: 0.1052 - val_accuracy: 0.9648\n",
      "Epoch 4/25\n",
      "24726/24726 [==============================] - 304s 12ms/step - loss: 0.1088 - accuracy: 0.9642 - val_loss: 0.1076 - val_accuracy: 0.9646\n",
      "Epoch 5/25\n",
      "24726/24726 [==============================] - 304s 12ms/step - loss: 0.1078 - accuracy: 0.9644 - val_loss: 0.1051 - val_accuracy: 0.9651\n",
      "Epoch 6/25\n",
      "24726/24726 [==============================] - 304s 12ms/step - loss: 0.1069 - accuracy: 0.9645 - val_loss: 0.1034 - val_accuracy: 0.9652\n",
      "Epoch 7/25\n",
      "24726/24726 [==============================] - 298s 12ms/step - loss: 0.1059 - accuracy: 0.9645 - val_loss: 0.1062 - val_accuracy: 0.9644\n",
      "Epoch 8/25\n",
      "24726/24726 [==============================] - 302s 12ms/step - loss: 0.1059 - accuracy: 0.9645 - val_loss: 0.1085 - val_accuracy: 0.9628\n",
      "Epoch 9/25\n",
      "24726/24726 [==============================] - 308s 12ms/step - loss: 0.1057 - accuracy: 0.9645 - val_loss: 0.1040 - val_accuracy: 0.9649\n",
      "Epoch 10/25\n",
      "24726/24726 [==============================] - 301s 12ms/step - loss: 0.1048 - accuracy: 0.9645 - val_loss: 0.1034 - val_accuracy: 0.9649\n",
      "Epoch 11/25\n",
      "24726/24726 [==============================] - 309s 13ms/step - loss: 0.1025 - accuracy: 0.9646 - val_loss: 0.1061 - val_accuracy: 0.9647\n",
      "Epoch 12/25\n",
      "24726/24726 [==============================] - 308s 12ms/step - loss: 0.1050 - accuracy: 0.9646 - val_loss: 0.1064 - val_accuracy: 0.9649\n",
      "Epoch 13/25\n",
      "24726/24726 [==============================] - 308s 12ms/step - loss: 0.1034 - accuracy: 0.9647 - val_loss: 0.1019 - val_accuracy: 0.9652\n",
      "Epoch 14/25\n",
      "24726/24726 [==============================] - 316s 13ms/step - loss: 0.1027 - accuracy: 0.9646 - val_loss: 0.1001 - val_accuracy: 0.9649\n",
      "Epoch 15/25\n",
      "24726/24726 [==============================] - 303s 12ms/step - loss: 0.1021 - accuracy: 0.9648 - val_loss: 0.1017 - val_accuracy: 0.9652\n",
      "Epoch 16/25\n",
      "24726/24726 [==============================] - 303s 12ms/step - loss: 0.1028 - accuracy: 0.9647 - val_loss: 0.1011 - val_accuracy: 0.9639\n",
      "Epoch 17/25\n",
      "24726/24726 [==============================] - 308s 12ms/step - loss: 0.1041 - accuracy: 0.9647 - val_loss: 0.1056 - val_accuracy: 0.9647\n",
      "Epoch 18/25\n",
      "24726/24726 [==============================] - 316s 13ms/step - loss: 0.1035 - accuracy: 0.9646 - val_loss: 0.0984 - val_accuracy: 0.9652\n",
      "Epoch 19/25\n",
      "24726/24726 [==============================] - 312s 13ms/step - loss: 0.1015 - accuracy: 0.9648 - val_loss: 0.1056 - val_accuracy: 0.9651\n",
      "Epoch 20/25\n",
      "24726/24726 [==============================] - 313s 13ms/step - loss: 0.1029 - accuracy: 0.9647 - val_loss: 0.0984 - val_accuracy: 0.9654\n",
      "Epoch 21/25\n",
      "24726/24726 [==============================] - 313s 13ms/step - loss: 0.1045 - accuracy: 0.9645 - val_loss: 0.1008 - val_accuracy: 0.9652\n",
      "Epoch 22/25\n",
      "24726/24726 [==============================] - 309s 13ms/step - loss: 0.1044 - accuracy: 0.9648 - val_loss: 0.1056 - val_accuracy: 0.9642\n",
      "Epoch 23/25\n",
      "24726/24726 [==============================] - 316s 13ms/step - loss: 0.1039 - accuracy: 0.9645 - val_loss: 0.0993 - val_accuracy: 0.9650\n",
      "Epoch 24/25\n",
      "24726/24726 [==============================] - 308s 12ms/step - loss: 0.1040 - accuracy: 0.9648 - val_loss: 0.1041 - val_accuracy: 0.9647\n",
      "Epoch 25/25\n",
      "24726/24726 [==============================] - 327s 13ms/step - loss: 0.1019 - accuracy: 0.9648 - val_loss: 0.1036 - val_accuracy: 0.9646\n"
     ]
    },
    {
     "name": "stderr",
     "output_type": "stream",
     "text": [
      "/Users/moon/anaconda3/envs/ML/lib/python3.8/site-packages/keras/src/engine/training.py:3000: UserWarning: You are saving your model as an HDF5 file via `model.save()`. This file format is considered legacy. We recommend using instead the native Keras format, e.g. `model.save('my_model.keras')`.\n",
      "  saving_api.save_model(\n"
     ]
    }
   ],
   "source": [
    "# 모델 훈련\n",
    "model.fit(X_train,y_train,epochs=25, validation_data=(X_test,y_test),callbacks=[early_stopping])\n",
    "\n",
    "# 모델 저장\n",
    "model.save(\"GRU_Model.h5\")"
   ]
  },
  {
   "cell_type": "markdown",
   "metadata": {},
   "source": [
    "모델 평가"
   ]
  },
  {
   "cell_type": "code",
   "execution_count": 7,
   "metadata": {},
   "outputs": [
    {
     "name": "stdout",
     "output_type": "stream",
     "text": [
      "6182/6182 [==============================] - 17s 3ms/step\n"
     ]
    }
   ],
   "source": [
    "# 모델 로드\n",
    "loaded_model = tf.keras.models.load_model(\"GRU_Model.h5\")\n",
    "\n",
    "# 모델을 사용하여 주가 상승 여부 예측\n",
    "test = loaded_model.predict(X_test)"
   ]
  },
  {
   "cell_type": "code",
   "execution_count": 8,
   "metadata": {},
   "outputs": [
    {
     "name": "stdout",
     "output_type": "stream",
     "text": [
      "정확도: 96.54%\n"
     ]
    }
   ],
   "source": [
    "# 예측 결과를 이진값(0 또는 1)으로 변환\n",
    "binary_predictions = (test > 0.5).astype(int)\n",
    "\n",
    "# 예측 결과 출력\n",
    "correct_predictions = np.equal(binary_predictions, y_test)  # 정확하게 예측한 경우 True, 그렇지 않으면 False\n",
    "accuracy = np.mean(correct_predictions)  # 정확도 계산\n",
    "\n",
    "print(f\"정확도: {accuracy * 100:.2f}%\")"
   ]
  },
  {
   "cell_type": "markdown",
   "metadata": {},
   "source": [
    "예측"
   ]
  },
  {
   "cell_type": "code",
   "execution_count": 9,
   "metadata": {},
   "outputs": [],
   "source": [
    "def make_six_digit_list(input_list):\n",
    "    six_digit_list = []\n",
    "\n",
    "    for item in input_list:\n",
    "        # 현재 항목의 길이를 확인\n",
    "        item_str = str(item)\n",
    "        item_len = len(item_str)\n",
    "\n",
    "        if item_len < 6:\n",
    "            # 6자리가 안되는 항목은 앞에 0을 채워서 6자리로 만듭니다.\n",
    "            zero_padding = '0' * (6 - item_len)\n",
    "            six_digit_item = zero_padding + item_str\n",
    "            six_digit_list.append(six_digit_item)\n",
    "        else:\n",
    "            # 이미 6자리인 경우 그대로 유지\n",
    "            six_digit_list.append(item_str)\n",
    "\n",
    "    return six_digit_list"
   ]
  },
  {
   "cell_type": "code",
   "execution_count": 10,
   "metadata": {},
   "outputs": [
    {
     "name": "stdout",
     "output_type": "stream",
     "text": [
      "231/231 [==============================] - 1s 3ms/step\n"
     ]
    }
   ],
   "source": [
    "T_pred = loaded_model.predict(filter_pred)"
   ]
  },
  {
   "cell_type": "code",
   "execution_count": 11,
   "metadata": {},
   "outputs": [
    {
     "name": "stdout",
     "output_type": "stream",
     "text": [
      "내일 5% 이상 상승할 종목: ['002360', '053050', '082850', '005870', '010820', '129920', '014915', '218150', '039490', '016880', '117580', '094940', '014530', '004090', '013810', '204610', '238120', '065450', '152550', '024060', '234100', '189690', '000440']\n",
      "23\n"
     ]
    }
   ],
   "source": [
    "# 5% 이상 오를 종목 식별\n",
    "rising_stocks = [ticker for i, ticker in enumerate(pred_ticker) if T_pred[i] > 0.9]\n",
    "rising_stocks = list(map(str, rising_stocks))\n",
    "result = list(set(rising_stocks))\n",
    "result = make_six_digit_list(result)\n",
    "print(\"내일 5% 이상 상승할 종목:\", result)\n",
    "print(len(result))"
   ]
  },
  {
   "cell_type": "markdown",
   "metadata": {},
   "source": [
    "예측한 결과 검증"
   ]
  },
  {
   "cell_type": "code",
   "execution_count": 12,
   "metadata": {},
   "outputs": [
    {
     "name": "stdout",
     "output_type": "stream",
     "text": [
      "            Open  High  Low  Close    Volume    Change\n",
      "Date                                                  \n",
      "2023-10-13   715   843  694    762  28222737  0.073239\n",
      "            Open  High   Low  Close    Volume    Change\n",
      "Date                                                   \n",
      "2023-10-13  4135  4870  3885   4345  46088520  0.091709\n",
      "            Open  High   Low  Close   Volume    Change\n",
      "Date                                                  \n",
      "2023-10-13  2470  2530  2365   2385  2685315 -0.042169\n",
      "            Open  High   Low  Close   Volume   Change\n",
      "Date                                                 \n",
      "2023-10-13  5540  6020  5380   5720  2020920  0.02509\n",
      "            Open  High   Low  Close   Volume    Change\n",
      "Date                                                  \n",
      "2023-10-13  3645  3805  3520   3605  6095436 -0.005517\n",
      "            Open   High   Low  Close   Volume    Change\n",
      "Date                                                   \n",
      "2023-10-13  9690  10550  9370  10090  9186878  0.036999\n",
      "            Open  High   Low  Close  Volume    Change\n",
      "Date                                                 \n",
      "2023-10-13  6120  6120  5940   5940    2065 -0.070423\n",
      "            Open  High   Low  Close    Volume    Change\n",
      "Date                                                   \n",
      "2023-10-13  4855  6160  4845   5740  16057044  0.200837\n",
      "              Open    High     Low   Close  Volume    Change\n",
      "Date                                                        \n",
      "2023-10-13  103000  104800  102100  102200   42487 -0.018252\n",
      "            Open  High   Low  Close   Volume    Change\n",
      "Date                                                  \n",
      "2023-10-13  1363  1365  1295   1320  1871472 -0.038602\n",
      "            Open   High   Low  Close    Volume    Change\n",
      "Date                                                    \n",
      "2023-10-13  9300  10680  8700   9940  14652103  0.162573\n",
      "             Open   High    Low  Close   Volume    Change\n",
      "Date                                                     \n",
      "2023-10-13  10850  10860  10050  10250  2690609 -0.020076\n",
      "            Open  High   Low  Close    Volume    Change\n",
      "Date                                                   \n",
      "2023-10-13  4145  4700  3960   4240  10032325  0.048208\n",
      "             Open   High    Low  Close    Volume    Change\n",
      "Date                                                      \n",
      "2023-10-13  13780  16670  13120  15050  12615183  0.140152\n",
      "            Open  High   Low  Close   Volume    Change\n",
      "Date                                                  \n",
      "2023-10-13  3930  4320  3795   4045  3818952  0.042526\n",
      "            Open  High   Low  Close   Volume    Change\n",
      "Date                                                  \n",
      "2023-10-13  1514  1528  1460   1487  2528771 -0.014579\n",
      "             Open   High    Low  Close   Volume    Change\n",
      "Date                                                     \n",
      "2023-10-13  11200  12350  10150  11400  7234750  0.150353\n",
      "            Open  High   Low  Close    Volume    Change\n",
      "Date                                                   \n",
      "2023-10-13  5000  5780  4810   5310  27572407  0.074899\n",
      "            Open  High  Low  Close     Volume    Change\n",
      "Date                                                   \n",
      "2023-10-13   656   786  595    786  203504963  0.299174\n",
      "             Open   High    Low  Close    Volume  Change\n",
      "Date                                                    \n",
      "2023-10-13  11580  13740  10800  13500  33858284  0.2772\n",
      "            Open  High   Low  Close    Volume    Change\n",
      "Date                                                   \n",
      "2023-10-13  2375  2540  2185   2230  39255633 -0.028322\n",
      "            Open  High   Low  Close   Volume    Change\n",
      "Date                                                  \n",
      "2023-10-13  2985  3025  2820   2910  5606767 -0.033223\n",
      "             Open   High    Low  Close   Volume    Change\n",
      "Date                                                     \n",
      "2023-10-13  20300  24400  19330  22250  2490751  0.128296\n"
     ]
    },
    {
     "data": {
      "image/png": "[encoded data removed]",
      "text/plain": [
       "<Figure size 600x600 with 1 Axes>"
      ]
     },
     "metadata": {},
     "output_type": "display_data"
    }
   ],
   "source": [
    "def check_price_increase(stock_codes):\n",
    "    result = {}\n",
    "    \n",
    "    for code in stock_codes:\n",
    "        df = fdr.DataReader(code,'2023-10-12','2023-10-13')\n",
    "        print(df.tail(1))\n",
    "        \n",
    "        if len(df) < 2:\n",
    "            result[code] = False\n",
    "        else:\n",
    "            today_close = df['Change'].iloc[-1]\n",
    "\n",
    "            if today_close >=  0.05 :\n",
    "                result[code] = True\n",
    "            else:\n",
    "                result[code] = False\n",
    "    return result\n",
    "\n",
    "result_TF = check_price_increase(result)\n",
    "result_TF = list(result_TF.values())\n",
    "\n",
    "# True와 False의 개수를 세어 비율을 계산\n",
    "true_count = sum(result_TF)\n",
    "false_count = len(result_TF) - true_count\n",
    "\n",
    "# 비율을 파이그래프로 표현\n",
    "labels = ['True', 'False']\n",
    "sizes = [true_count, false_count]\n",
    "colors = ['green', 'red']\n",
    "\n",
    "# 파이차트 그리기\n",
    "plt.figure(figsize=(6, 6))\n",
    "plt.pie(sizes, labels=labels, colors=colors, autopct='%1.1f%%', startangle=140)\n",
    "\n",
    "# 그래프 표시\n",
    "plt.show() "
   ]
  }
 ],
 "metadata": {
  "kernelspec": {
   "display_name": "ML",
   "language": "python",
   "name": "python3"
  },
  "language_info": {
   "codemirror_mode": {
    "name": "ipython",
    "version": 3
   },
   "file_extension": ".py",
   "mimetype": "text/x-python",
   "name": "python",
   "nbconvert_exporter": "python",
   "pygments_lexer": "ipython3",
   "version": "3.8.18"
  }
 },
 "nbformat": 4,
 "nbformat_minor": 2
}
