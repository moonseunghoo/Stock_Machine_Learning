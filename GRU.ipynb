{
 "cells": [
  {
   "cell_type": "markdown",
   "metadata": {},
   "source": [
    "모듈 ∙ 라이브러리 import"
   ]
  },
  {
   "cell_type": "code",
   "execution_count": 1,
   "metadata": {},
   "outputs": [],
   "source": [
    "import numpy as np\n",
    "import pandas as pd\n",
    "import tensorflow as tf\n",
    "tf.config.experimental.set_visible_devices([], 'GPU')\n",
    "# tf.config.experimental.list_physical_devices('GPU')\n",
    "\n",
    "from sklearn.model_selection import train_test_split\n",
    "from sklearn.preprocessing import MinMaxScaler\n",
    "from imblearn.over_sampling import SMOTE\n",
    "from imblearn.under_sampling import RandomUnderSampler\n",
    "from keras.callbacks import EarlyStopping\n",
    "from sklearn.metrics import accuracy_score, confusion_matrix, classification_report\n",
    "import matplotlib.pyplot as plt"
   ]
  },
  {
   "cell_type": "markdown",
   "metadata": {},
   "source": [
    "데이터 불러오기 ∙ 전처리"
   ]
  },
  {
   "cell_type": "code",
   "execution_count": 2,
   "metadata": {},
   "outputs": [],
   "source": [
    "def filter_df(df): #데이터프레임 필터링\n",
    "    # 첫 번째 열에서 같은 값을 가진 행의 수를 계산합니다.\n",
    "    row_counts = df['0'].value_counts()\n",
    "\n",
    "    # 가장 많은 행의 수를 찾습니다.\n",
    "    max_row_count = row_counts.max()\n",
    "\n",
    "    # 가장 많은 행의 수에 해당하는 행만 분류합니다.\n",
    "    filtered = pd.DataFrame(df[df['0'].isin(row_counts[row_counts == max_row_count].index)])\n",
    "\n",
    "    return filtered\n",
    "\n",
    "# 데이터 로드   \n",
    "stock_df = pd.read_csv('/Users/moon/Desktop/Moon SeungHoo/Stock_Machine_Learning/StockData_3%.csv',low_memory=False)\n",
    "\n",
    "#데이터 필터링\n",
    "filter_stock = filter_df(stock_df)\n",
    "filter_label = filter_stock['25']\n",
    "\n",
    "# 불필요한 데이터 삭제\n",
    "filter_stock = filter_stock.drop({'0','1','7','25'},axis=1) #날자, 상승율, 5%이상 상승여부 삭제 "
   ]
  },
  {
   "cell_type": "markdown",
   "metadata": {},
   "source": [
    "데이터 전처리"
   ]
  },
  {
   "cell_type": "code",
   "execution_count": 3,
   "metadata": {},
   "outputs": [
    {
     "name": "stdout",
     "output_type": "stream",
     "text": [
      "Ratio of zeros (0s): 0.8\n",
      "Ratio of ones (1s): 0.2\n"
     ]
    }
   ],
   "source": [
    "scaler = MinMaxScaler()\n",
    "stock_label = scaler.fit_transform(filter_label.values.reshape(-1, 1))\n",
    "\n",
    "count_zeros = np.sum(stock_label == 0)\n",
    "count_ones = np.sum(stock_label == 1)\n",
    "total_samples = len(stock_label)\n",
    "\n",
    "ratio_zeros = (count_zeros / total_samples).round(2)\n",
    "ratio_ones = (count_ones / total_samples).round(2)\n",
    "\n",
    "print(\"Ratio of zeros (0s):\", ratio_zeros)\n",
    "print(\"Ratio of ones (1s):\", ratio_ones)"
   ]
  },
  {
   "cell_type": "markdown",
   "metadata": {},
   "source": [
    "데이터 분할"
   ]
  },
  {
   "cell_type": "code",
   "execution_count": 4,
   "metadata": {},
   "outputs": [
    {
     "name": "stdout",
     "output_type": "stream",
     "text": [
      "Ratio of zeros (0s): 0.5\n",
      "Ratio of ones (1s): 0.5\n"
     ]
    }
   ],
   "source": [
    "# 훈련 및 테스트 데이터로 분할\n",
    "X_train, X_test, y_train, y_test = train_test_split(filter_stock, stock_label, test_size=0.2, random_state=42)\n",
    "\n",
    "# under_sampler = RandomUnderSampler(sampling_strategy='auto' , random_state=42)\n",
    "# X_resampled, y_resampled = under_sampler.fit_resample(X_train, y_train)\n",
    "# X_test_resampled, y_test_resampled = under_sampler.fit_resample(X_test, y_test)\n",
    "\n",
    "smote = SMOTE(sampling_strategy='auto' ,random_state=42)\n",
    "X_train_resampled, y_train_resampled = smote.fit_resample(X_train,y_train)\n",
    "X_test_resampled, y_test_resampled = smote.fit_resample(X_test,y_test)\n",
    "\n",
    "count_zeros = np.sum(y_train_resampled == 0)\n",
    "count_ones = np.sum(y_train_resampled == 1)\n",
    "total_samples = len(y_train_resampled)\n",
    "\n",
    "ratio_zeros = (count_zeros / total_samples).round(2)\n",
    "ratio_ones = (count_ones / total_samples).round(2)\n",
    "\n",
    "print(\"Ratio of zeros (0s):\", ratio_zeros)\n",
    "print(\"Ratio of ones (1s):\", ratio_ones)"
   ]
  },
  {
   "cell_type": "markdown",
   "metadata": {},
   "source": [
    "GRU 모델 정의"
   ]
  },
  {
   "cell_type": "code",
   "execution_count": 5,
   "metadata": {},
   "outputs": [
    {
     "name": "stdout",
     "output_type": "stream",
     "text": [
      "Model: \"sequential\"\n",
      "_________________________________________________________________\n",
      " Layer (type)                Output Shape              Param #   \n",
      "=================================================================\n",
      " gru (GRU)                   (None, 27, 128)           50304     \n",
      "                                                                 \n",
      " dropout (Dropout)           (None, 27, 128)           0         \n",
      "                                                                 \n",
      " gru_1 (GRU)                 (None, 64)                37248     \n",
      "                                                                 \n",
      " dropout_1 (Dropout)         (None, 64)                0         \n",
      "                                                                 \n",
      " dense (Dense)               (None, 1)                 65        \n",
      "                                                                 \n",
      "=================================================================\n",
      "Total params: 87617 (342.25 KB)\n",
      "Trainable params: 87617 (342.25 KB)\n",
      "Non-trainable params: 0 (0.00 Byte)\n",
      "_________________________________________________________________\n"
     ]
    }
   ],
   "source": [
    "# GRU 모델 정의\n",
    "model = tf.keras.Sequential()\n",
    "model.add(tf.keras.layers.GRU(128, input_shape=(X_train_resampled.shape[1],1),return_sequences=True))\n",
    "model.add(tf.keras.layers.Dropout(0.2))\n",
    "model.add(tf.keras.layers.GRU(64, return_sequences=False))\n",
    "model.add(tf.keras.layers.Dropout(0.2))\n",
    "model.add(tf.keras.layers.Dense(1, activation='sigmoid'))\n",
    "model.compile(optimizer='adam', loss='binary_crossentropy', metrics=['accuracy'])\n",
    "\n",
    "# 조기 종료 콜백 정의\n",
    "early_stopping = EarlyStopping(monitor='accuracy', patience=10, restore_best_weights=True)\n",
    "model.summary()\n",
    "\n",
    "# model.add(tf.keras.layers.GRU(64, input_shape=(X_train_resampled.shape[1],1),return_sequences=True))\n",
    "# model.add(tf.keras.layers.GRU(64, return_sequences=True))\n",
    "# model.add(tf.keras.layers.GRU(64, return_sequences=True))\n",
    "# model.add(tf.keras.layers.GRU(64, return_sequences=True))\n",
    "# model.add(tf.keras.layers.GRU(64, return_sequences=True))\n",
    "# model.add(tf.keras.layers.GRU(64, return_sequences=True))\n",
    "# model.add(tf.keras.layers.GRU(64, return_sequences=True))\n",
    "# model.add(tf.keras.layers.GRU(64, return_sequences=False))\n",
    "# model.add(tf.keras.layers.Dense(1, activation='sigmoid'))\n",
    "# model.compile(optimizer='adam', loss='binary_crossentropy', metrics=['accuracy'])"
   ]
  },
  {
   "cell_type": "markdown",
   "metadata": {},
   "source": [
    "모델 훈련"
   ]
  },
  {
   "cell_type": "code",
   "execution_count": 6,
   "metadata": {},
   "outputs": [
    {
     "name": "stdout",
     "output_type": "stream",
     "text": [
      "Epoch 1/500\n",
      "52478/52478 [==============================] - 1119s 21ms/step - loss: 0.4690 - accuracy: 0.7799 - val_loss: 0.4473 - val_accuracy: 0.7927\n",
      "Epoch 2/500\n",
      "52478/52478 [==============================] - 1093s 21ms/step - loss: 0.4540 - accuracy: 0.7894 - val_loss: 0.4377 - val_accuracy: 0.7998\n",
      "Epoch 3/500\n",
      "52478/52478 [==============================] - 1265s 24ms/step - loss: 0.4528 - accuracy: 0.7903 - val_loss: 0.4623 - val_accuracy: 0.7820\n",
      "Epoch 4/500\n",
      "35300/52478 [===================>..........] - ETA: 7:59 - loss: 0.4511 - accuracy: 0.7910"
     ]
    }
   ],
   "source": [
    "# 모델 훈련\n",
    "model.fit(X_train_resampled,y_train_resampled,epochs=500,\n",
    "validation_data=(X_test_resampled, y_test_resampled),callbacks=[early_stopping])\n",
    " \n",
    "# 모델 저장\n",
    "model.save(\"GRU_Model_128_64_3%.h5\")"
   ]
  },
  {
   "cell_type": "markdown",
   "metadata": {},
   "source": [
    "모델 평가"
   ]
  },
  {
   "cell_type": "code",
   "execution_count": null,
   "metadata": {},
   "outputs": [],
   "source": [
    "# 모델 로드\n",
    "# loaded_model = tf.keras.models.load_model(\"GRU_Model_8L_64_10%.h5\")\n",
    "\n",
    "# 모델을 사용하여 주가 상승 여부 예측\n",
    "test = model.predict(X_test_resampled)"
   ]
  },
  {
   "cell_type": "code",
   "execution_count": null,
   "metadata": {},
   "outputs": [],
   "source": [
    "y_pred_binary = (test > 0.5).astype(int)\n",
    "\n",
    "accuracy = accuracy_score(y_test_resampled, y_pred_binary)\n",
    "conf_matrix = confusion_matrix(y_test_resampled, y_pred_binary)\n",
    "classification_rep = classification_report(y_test_resampled, y_pred_binary)\n",
    "\n",
    "print(f\"Accuracy: {accuracy}\")\n",
    "print(\"Confusion Matrix:\")\n",
    "print(conf_matrix)\n",
    "print(\"Classification Report:\")\n",
    "print(classification_rep)"
   ]
  }
 ],
 "metadata": {
  "kernelspec": {
   "display_name": "ML",
   "language": "python",
   "name": "python3"
  },
  "language_info": {
   "codemirror_mode": {
    "name": "ipython",
    "version": 3
   },
   "file_extension": ".py",
   "mimetype": "text/x-python",
   "name": "python",
   "nbconvert_exporter": "python",
   "pygments_lexer": "ipython3",
   "version": "3.8.18"
  }
 },
 "nbformat": 4,
 "nbformat_minor": 2
}
