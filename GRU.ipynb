{
 "cells": [
  {
   "cell_type": "markdown",
   "metadata": {},
   "source": [
    "모듈 ∙ 라이브러리 import"
   ]
  },
  {
   "cell_type": "code",
   "execution_count": 1,
   "metadata": {},
   "outputs": [],
   "source": [
    "import numpy as np\n",
    "import pandas as pd\n",
    "import tensorflow as tf\n",
    "tf.config.experimental.set_visible_devices([], 'GPU')\n",
    "import FinanceDataReader as fdr\n",
    "import matplotlib.pyplot as plt\n",
    "\n",
    "from imblearn.over_sampling import SMOTE\n",
    "from sklearn.model_selection import train_test_split\n",
    "from sklearn.preprocessing import MinMaxScaler\n",
    "from keras.callbacks import EarlyStopping\n",
    "from keras.optimizers.legacy import Adam"
   ]
  },
  {
   "cell_type": "markdown",
   "metadata": {},
   "source": [
    "데이터 불러오기 ∙ 전처리"
   ]
  },
  {
   "cell_type": "code",
   "execution_count": 2,
   "metadata": {},
   "outputs": [],
   "source": [
    "def filter_df(df): #데이터프레임 필터링\n",
    "    # 첫 번째 열에서 같은 값을 가진 행의 수를 계산합니다.\n",
    "    row_counts = df['0'].value_counts()\n",
    "\n",
    "    # 가장 많은 행의 수를 찾습니다.\n",
    "    max_row_count = row_counts.max()\n",
    "\n",
    "    # 가장 많은 행의 수에 해당하는 행만 분류합니다.\n",
    "    filtered = pd.DataFrame(df[df['0'].isin(row_counts[row_counts == max_row_count].index)])\n",
    "\n",
    "    return filtered\n",
    "\n",
    "# 데이터 로드   \n",
    "stock_df = pd.read_csv('/Users/moon/Desktop/Moon SeungHoo/Stock_Machine_Learning/StockData.csv',low_memory=False)\n",
    "pred_df = pd.read_csv('/Users/moon/Desktop/Moon SeungHoo/Stock_Machine_Learning/StockData_Pred.csv',low_memory=False)\n",
    "\n",
    "#데이터 필터링\n",
    "filter_stock = filter_df(stock_df)\n",
    "filter_label = filter_stock['18']\n",
    "\n",
    "filter_pred= filter_df(pred_df)\n",
    "\n",
    "# 예측에 필요한 데이터 \n",
    "pred_ticker = filter_pred['0'].tolist()#종목코드 저장\n",
    "\n",
    "\n",
    "# 불필요한 데이터 삭제\n",
    "filter_stock = filter_stock.drop({'0','1','7','18'},axis=1) #날자, 상승율, 5%이상 상승여부 삭제 \n",
    "filter_pred = filter_pred.drop({'0','1','7'},axis=1)#날자, 상승율 삭제\n"
   ]
  },
  {
   "cell_type": "markdown",
   "metadata": {},
   "source": [
    "데이터 전처리"
   ]
  },
  {
   "cell_type": "code",
   "execution_count": 3,
   "metadata": {},
   "outputs": [],
   "source": [
    "scaler = MinMaxScaler()\n",
    "stock_label = scaler.fit_transform(filter_label.values.reshape(-1, 1))"
   ]
  },
  {
   "cell_type": "markdown",
   "metadata": {},
   "source": [
    "데이터 분할"
   ]
  },
  {
   "cell_type": "code",
   "execution_count": 4,
   "metadata": {},
   "outputs": [],
   "source": [
    "# 훈련 및 테스트 데이터로 분할\n",
    "X_train, X_test, y_train, y_test = train_test_split(filter_stock, stock_label, test_size=0.2, random_state=42)\n",
    "\n",
    "# smote = SMOTE(sampling_strategy='auto',random_state=42)\n",
    "# X_train_resampled, y_train_resampled = smote.fit_resample(X_train,y_train)\n",
    "# X_test_resampled, y_test_resampled = smote.fit_resample(X_test,y_test)"
   ]
  },
  {
   "cell_type": "markdown",
   "metadata": {},
   "source": [
    "GRU 모델 정의"
   ]
  },
  {
   "cell_type": "code",
   "execution_count": 5,
   "metadata": {},
   "outputs": [
    {
     "name": "stdout",
     "output_type": "stream",
     "text": [
      "Model: \"sequential\"\n",
      "_________________________________________________________________\n",
      " Layer (type)                Output Shape              Param #   \n",
      "=================================================================\n",
      " gru (GRU)                   (None, 28, 32)            3360      \n",
      "                                                                 \n",
      " gru_1 (GRU)                 (None, 28, 32)            6336      \n",
      "                                                                 \n",
      " gru_2 (GRU)                 (None, 28, 32)            6336      \n",
      "                                                                 \n",
      " gru_3 (GRU)                 (None, 28, 32)            6336      \n",
      "                                                                 \n",
      " gru_4 (GRU)                 (None, 28, 32)            6336      \n",
      "                                                                 \n",
      " gru_5 (GRU)                 (None, 28, 32)            6336      \n",
      "                                                                 \n",
      " gru_6 (GRU)                 (None, 32)                6336      \n",
      "                                                                 \n",
      " dense (Dense)               (None, 1)                 33        \n",
      "                                                                 \n",
      "=================================================================\n",
      "Total params: 41409 (161.75 KB)\n",
      "Trainable params: 41409 (161.75 KB)\n",
      "Non-trainable params: 0 (0.00 Byte)\n",
      "_________________________________________________________________\n"
     ]
    }
   ],
   "source": [
    "# GRU 모델 정의\n",
    "model = tf.keras.Sequential()\n",
    "model.add(tf.keras.layers.GRU(32, input_shape=(X_train.shape[1],1),return_sequences=True))\n",
    "model.add(tf.keras.layers.GRU(32, return_sequences=True))\n",
    "model.add(tf.keras.layers.GRU(32, return_sequences=True))\n",
    "model.add(tf.keras.layers.GRU(32, return_sequences=True))\n",
    "model.add(tf.keras.layers.GRU(32, return_sequences=True))\n",
    "model.add(tf.keras.layers.GRU(32, return_sequences=True))\n",
    "model.add(tf.keras.layers.GRU(32, return_sequences=False))\n",
    "model.add(tf.keras.layers.Dense(1, activation='sigmoid'))\n",
    "model.compile(optimizer='adam', loss='binary_crossentropy', metrics=['accuracy'])\n",
    "\n",
    "# 조기 종료 콜백 정의\n",
    "early_stopping = EarlyStopping(monitor='val_accuracy', patience=10, restore_best_weights=True)\n",
    "model.summary()"
   ]
  },
  {
   "cell_type": "markdown",
   "metadata": {},
   "source": [
    "모델 훈련"
   ]
  },
  {
   "cell_type": "code",
   "execution_count": 6,
   "metadata": {},
   "outputs": [
    {
     "name": "stdout",
     "output_type": "stream",
     "text": [
      "Epoch 1/100\n",
      "15758/15758 [==============================] - 521s 33ms/step - loss: 0.1302 - accuracy: 0.9605 - val_loss: 0.1141 - val_accuracy: 0.9634\n",
      "Epoch 2/100\n",
      "15758/15758 [==============================] - 492s 31ms/step - loss: 0.1122 - accuracy: 0.9632 - val_loss: 0.1099 - val_accuracy: 0.9631\n",
      "Epoch 3/100\n",
      "15758/15758 [==============================] - 498s 32ms/step - loss: 0.1110 - accuracy: 0.9635 - val_loss: 0.1129 - val_accuracy: 0.9637\n",
      "Epoch 4/100\n",
      "15758/15758 [==============================] - 501s 32ms/step - loss: 0.1097 - accuracy: 0.9636 - val_loss: 0.1123 - val_accuracy: 0.9612\n",
      "Epoch 5/100\n",
      "15758/15758 [==============================] - 502s 32ms/step - loss: 0.1090 - accuracy: 0.9641 - val_loss: 0.1085 - val_accuracy: 0.9646\n",
      "Epoch 6/100\n",
      "15758/15758 [==============================] - 502s 32ms/step - loss: 0.1085 - accuracy: 0.9639 - val_loss: 0.1062 - val_accuracy: 0.9646\n",
      "Epoch 7/100\n",
      "15758/15758 [==============================] - 503s 32ms/step - loss: 0.1078 - accuracy: 0.9641 - val_loss: 0.1060 - val_accuracy: 0.9646\n",
      "Epoch 8/100\n",
      "15758/15758 [==============================] - 511s 32ms/step - loss: 0.1073 - accuracy: 0.9641 - val_loss: 0.1068 - val_accuracy: 0.9640\n",
      "Epoch 9/100\n",
      "15758/15758 [==============================] - 494s 31ms/step - loss: 0.1074 - accuracy: 0.9642 - val_loss: 0.1057 - val_accuracy: 0.9646\n",
      "Epoch 10/100\n",
      "15758/15758 [==============================] - 496s 31ms/step - loss: 0.1073 - accuracy: 0.9642 - val_loss: 0.1049 - val_accuracy: 0.9644\n",
      "Epoch 11/100\n",
      "15758/15758 [==============================] - 490s 31ms/step - loss: 0.1071 - accuracy: 0.9641 - val_loss: 0.1053 - val_accuracy: 0.9645\n",
      "Epoch 12/100\n",
      "15758/15758 [==============================] - 496s 31ms/step - loss: 0.1065 - accuracy: 0.9644 - val_loss: 0.1093 - val_accuracy: 0.9643\n",
      "Epoch 13/100\n",
      "15758/15758 [==============================] - 495s 31ms/step - loss: 0.1062 - accuracy: 0.9642 - val_loss: 0.1066 - val_accuracy: 0.9643\n",
      "Epoch 14/100\n",
      "15758/15758 [==============================] - 489s 31ms/step - loss: 0.1060 - accuracy: 0.9643 - val_loss: 0.1069 - val_accuracy: 0.9649\n",
      "Epoch 15/100\n",
      "15758/15758 [==============================] - 479s 30ms/step - loss: 0.1059 - accuracy: 0.9643 - val_loss: 0.1070 - val_accuracy: 0.9641\n",
      "Epoch 16/100\n",
      "15758/15758 [==============================] - 515s 33ms/step - loss: 0.1048 - accuracy: 0.9643 - val_loss: 0.1050 - val_accuracy: 0.9645\n",
      "Epoch 17/100\n",
      "15758/15758 [==============================] - 502s 32ms/step - loss: 0.1055 - accuracy: 0.9644 - val_loss: 0.1037 - val_accuracy: 0.9648\n",
      "Epoch 18/100\n",
      "15758/15758 [==============================] - 498s 32ms/step - loss: 0.1042 - accuracy: 0.9645 - val_loss: 0.1045 - val_accuracy: 0.9648\n",
      "Epoch 19/100\n",
      "15758/15758 [==============================] - 491s 31ms/step - loss: 0.1097 - accuracy: 0.9636 - val_loss: 0.1108 - val_accuracy: 0.9627\n",
      "Epoch 20/100\n",
      "15758/15758 [==============================] - 494s 31ms/step - loss: 0.1049 - accuracy: 0.9644 - val_loss: 0.1064 - val_accuracy: 0.9645\n",
      "Epoch 21/100\n",
      "15758/15758 [==============================] - 497s 32ms/step - loss: 0.1052 - accuracy: 0.9644 - val_loss: 0.1093 - val_accuracy: 0.9629\n",
      "Epoch 22/100\n",
      "15758/15758 [==============================] - 508s 32ms/step - loss: 0.1057 - accuracy: 0.9643 - val_loss: 0.1041 - val_accuracy: 0.9646\n",
      "Epoch 23/100\n",
      "15758/15758 [==============================] - 519s 33ms/step - loss: 0.1044 - accuracy: 0.9646 - val_loss: 0.1053 - val_accuracy: 0.9647\n",
      "Epoch 24/100\n",
      "15758/15758 [==============================] - 517s 33ms/step - loss: 0.1046 - accuracy: 0.9645 - val_loss: 0.1051 - val_accuracy: 0.9647\n"
     ]
    },
    {
     "name": "stderr",
     "output_type": "stream",
     "text": [
      "/Users/moon/anaconda3/envs/ML/lib/python3.8/site-packages/keras/src/engine/training.py:3000: UserWarning: You are saving your model as an HDF5 file via `model.save()`. This file format is considered legacy. We recommend using instead the native Keras format, e.g. `model.save('my_model.keras')`.\n",
      "  saving_api.save_model(\n"
     ]
    }
   ],
   "source": [
    "# 모델 훈련\n",
    "model.fit(X_train,y_train,epochs=100,\n",
    "validation_data=(X_test,y_test),callbacks=[early_stopping])\n",
    "\n",
    "# 모델 저장\n",
    "# model.save(\"GRU_Model.h5\")\n",
    "model.save(\"GRU_Model_7L_32.h5\")"
   ]
  },
  {
   "cell_type": "markdown",
   "metadata": {},
   "source": [
    "모델 평가"
   ]
  },
  {
   "cell_type": "code",
   "execution_count": 7,
   "metadata": {},
   "outputs": [
    {
     "name": "stdout",
     "output_type": "stream",
     "text": [
      "3940/3940 [==============================] - 24s 6ms/step\n"
     ]
    }
   ],
   "source": [
    "# 모델 로드\n",
    "loaded_model = tf.keras.models.load_model(\"GRU_Model_7L_32.h5\")\n",
    "\n",
    "# 모델을 사용하여 주가 상승 여부 예측\n",
    "test = loaded_model.predict(X_test)"
   ]
  },
  {
   "cell_type": "code",
   "execution_count": 8,
   "metadata": {},
   "outputs": [
    {
     "name": "stdout",
     "output_type": "stream",
     "text": [
      "정확도: 96.49%\n"
     ]
    }
   ],
   "source": [
    "# 예측 결과를 이진값(0 또는 1)으로 변환\n",
    "binary_predictions = (test > 0.5).astype(int)\n",
    "\n",
    "# 예측 결과 출력\n",
    "correct_predictions = np.equal(binary_predictions, y_test)  # 정확하게 예측한 경우 True, 그렇지 않으면 False\n",
    "accuracy = np.mean(correct_predictions)  # 정확도 계산\n",
    "\n",
    "print(f\"정확도: {accuracy * 100:.2f}%\")"
   ]
  },
  {
   "cell_type": "markdown",
   "metadata": {},
   "source": [
    "예측"
   ]
  },
  {
   "cell_type": "code",
   "execution_count": 9,
   "metadata": {},
   "outputs": [],
   "source": [
    "def make_six_digit_list(input_list):\n",
    "    six_digit_list = []\n",
    "\n",
    "    for item in input_list:\n",
    "        # 현재 항목의 길이를 확인\n",
    "        item_str = str(item)\n",
    "        item_len = len(item_str)\n",
    "\n",
    "        if item_len < 6:\n",
    "            # 6자리가 안되는 항목은 앞에 0을 채워서 6자리로 만듭니다.\n",
    "            zero_padding = '0' * (6 - item_len)\n",
    "            six_digit_item = zero_padding + item_str\n",
    "            six_digit_list.append(six_digit_item)\n",
    "        else:\n",
    "            # 이미 6자리인 경우 그대로 유지\n",
    "            six_digit_list.append(item_str)\n",
    "\n",
    "    return six_digit_list"
   ]
  },
  {
   "cell_type": "code",
   "execution_count": 10,
   "metadata": {},
   "outputs": [
    {
     "name": "stdout",
     "output_type": "stream",
     "text": [
      "225/225 [==============================] - 1s 6ms/step\n"
     ]
    }
   ],
   "source": [
    "T_pred = loaded_model.predict(filter_pred)"
   ]
  },
  {
   "cell_type": "code",
   "execution_count": 11,
   "metadata": {},
   "outputs": [
    {
     "name": "stdout",
     "output_type": "stream",
     "text": [
      "내일 5% 이상 상승할 종목: ['068290', '003570', '267850', '058110', '001290', '308170']\n",
      "6\n"
     ]
    }
   ],
   "source": [
    "# 5% 이상 오를 종목 식별\n",
    "rising_stocks = [ticker for i, ticker in enumerate(pred_ticker) if T_pred[i] > 0.9]\n",
    "\n",
    "# T_pred를 기준으로 내림차순 정렬\n",
    "rising_stocks_sorted = sorted(rising_stocks, key=lambda i: T_pred[pred_ticker.index(i)], reverse=True)\n",
    "rising_stocks_sorted = list(map(str, rising_stocks_sorted))\n",
    "result = list(set(rising_stocks_sorted))\n",
    "result = make_six_digit_list(result)\n",
    "print(\"내일 5% 이상 상승할 종목:\", result)\n",
    "print(len(result))"
   ]
  },
  {
   "cell_type": "markdown",
   "metadata": {},
   "source": [
    "예측한 결과 검증"
   ]
  },
  {
   "cell_type": "code",
   "execution_count": 13,
   "metadata": {},
   "outputs": [
    {
     "name": "stdout",
     "output_type": "stream",
     "text": [
      "             Open   High    Low  Close  Volume    Change\n",
      "Date                                                    \n",
      "2023-11-06  15420  15500  14960  15140  214437  0.018157\n",
      "2023-11-07  14890  15600  14640  15080  123601 -0.003963\n",
      "             Open   High    Low  Close  Volume    Change\n",
      "Date                                                    \n",
      "2023-11-06  14000  14170  13520  13760  755064 -0.037762\n",
      "2023-11-07  13920  14100  13590  13690  310494 -0.005087\n",
      "             Open   High    Low  Close  Volume    Change\n",
      "Date                                                    \n",
      "2023-11-06  13760  13800  13060  13160  279212 -0.042909\n",
      "2023-11-07  13080  13320  12690  12740  128100 -0.031915\n",
      "            Open  High   Low  Close   Volume   Change\n",
      "Date                                                 \n",
      "2023-11-06  2660  2715  2600   2645   355806  0.00000\n",
      "2023-11-07  2735  2960  2645   2930  2309477  0.10775\n",
      "            Open  High  Low  Close  Volume    Change\n",
      "Date                                                \n",
      "2023-11-06   812   827  796    811  332830 -0.002460\n",
      "2023-11-07   807   854  790    803  133186 -0.009864\n",
      "             Open   High    Low  Close  Volume    Change\n",
      "Date                                                    \n",
      "2023-11-06  12300  12430  12210  12300   62440  0.000000\n",
      "2023-11-07  12300  12360  11830  11870   58460 -0.034959\n"
     ]
    },
    {
     "data": {
      "image/png": "[encoded data removed]",
      "text/plain": [
       "<Figure size 600x600 with 1 Axes>"
      ]
     },
     "metadata": {},
     "output_type": "display_data"
    }
   ],
   "source": [
    "def check_price_increase(stock_codes):\n",
    "    result = {}\n",
    "    \n",
    "    for code in stock_codes:\n",
    "        df = fdr.DataReader(code,'2023-11-06','2023-11-07')\n",
    "        print(df)\n",
    "        if len(df) < 2:\n",
    "            result[code] = False\n",
    "        else:\n",
    "            today_close = df['Change'].iloc[-1]\n",
    "\n",
    "            if today_close >=  0.05:\n",
    "                result[code] = True\n",
    "            else:\n",
    "                result[code] = False\n",
    "    return result\n",
    "\n",
    "result_TF = check_price_increase(result)\n",
    "result_TF = list(result_TF.values())\n",
    "\n",
    "# True와 False의 개수를 세어 비율을 계산\n",
    "true_count = sum(result_TF)\n",
    "false_count = len(result_TF) - true_count\n",
    "\n",
    "# 비율을 파이그래프로 표현\n",
    "labels = ['True', 'False']\n",
    "sizes = [true_count, false_count]\n",
    "colors = ['green', 'red']\n",
    "\n",
    "# 파이차트 그리기\n",
    "plt.figure(figsize=(6, 6))\n",
    "plt.pie(sizes, labels=labels, colors=colors, autopct='%1.1f%%', startangle=140)\n",
    "\n",
    "# 그래프 표시\n",
    "plt.show() "
   ]
  }
 ],
 "metadata": {
  "kernelspec": {
   "display_name": "ML",
   "language": "python",
   "name": "python3"
  },
  "language_info": {
   "codemirror_mode": {
    "name": "ipython",
    "version": 3
   },
   "file_extension": ".py",
   "mimetype": "text/x-python",
   "name": "python",
   "nbconvert_exporter": "python",
   "pygments_lexer": "ipython3",
   "version": "3.8.18"
  }
 },
 "nbformat": 4,
 "nbformat_minor": 2
}
