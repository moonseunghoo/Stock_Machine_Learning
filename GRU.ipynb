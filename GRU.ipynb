{
 "cells": [
  {
   "cell_type": "markdown",
   "metadata": {},
   "source": [
    "모듈 ∙ 라이브러리 import"
   ]
  },
  {
   "cell_type": "code",
   "execution_count": 1,
   "metadata": {},
   "outputs": [],
   "source": [
    "import numpy as np\n",
    "import pandas as pd\n",
    "import tensorflow as tf\n",
    "tf.config.experimental.set_visible_devices([], 'GPU')\n",
    "# tf.config.experimental.list_physical_devices('GPU')\n",
    "\n",
    "from sklearn.model_selection import train_test_split\n",
    "from sklearn.preprocessing import MinMaxScaler\n",
    "from imblearn.over_sampling import SMOTE\n",
    "from imblearn.under_sampling import RandomUnderSampler\n",
    "from keras.callbacks import EarlyStopping\n",
    "from sklearn.metrics import accuracy_score, confusion_matrix, classification_report\n",
    "import matplotlib.pyplot as plt"
   ]
  },
  {
   "cell_type": "markdown",
   "metadata": {},
   "source": [
    "데이터 불러오기 ∙ 전처리"
   ]
  },
  {
   "cell_type": "code",
   "execution_count": 2,
   "metadata": {},
   "outputs": [],
   "source": [
    "def filter_df(df): #데이터프레임 필터링\n",
    "    # 첫 번째 열에서 같은 값을 가진 행의 수를 계산합니다.\n",
    "    row_counts = df['0'].value_counts()\n",
    "\n",
    "    # 가장 많은 행의 수를 찾습니다.\n",
    "    max_row_count = row_counts.max()\n",
    "\n",
    "    # 가장 많은 행의 수에 해당하는 행만 분류합니다.\n",
    "    filtered = pd.DataFrame(df[df['0'].isin(row_counts[row_counts == max_row_count].index)])\n",
    "\n",
    "    return filtered\n",
    "\n",
    "# 데이터 로드   \n",
    "stock_df = pd.read_csv('/Users/moon/Desktop/Moon SeungHoo/Stock_Machine_Learning/StockData_5%.csv',low_memory=False)\n",
    "\n",
    "#데이터 필터링\n",
    "filter_stock = filter_df(stock_df)\n",
    "filter_label = filter_stock['24']\n",
    "\n",
    "# 불필요한 데이터 삭제\n",
    "filter_stock = filter_stock.drop({'0','1','7','24'},axis=1) #날자, 상승율, 5%이상 상승여부 삭제 "
   ]
  },
  {
   "cell_type": "markdown",
   "metadata": {},
   "source": [
    "데이터 전처리"
   ]
  },
  {
   "cell_type": "code",
   "execution_count": 3,
   "metadata": {},
   "outputs": [
    {
     "name": "stdout",
     "output_type": "stream",
     "text": [
      "Ratio of zeros (0s): 0.96\n",
      "Ratio of ones (1s): 0.04\n"
     ]
    }
   ],
   "source": [
    "scaler = MinMaxScaler()\n",
    "stock_label = scaler.fit_transform(filter_label.values.reshape(-1, 1))\n",
    "\n",
    "count_zeros = np.sum(stock_label == 0)\n",
    "count_ones = np.sum(stock_label == 1)\n",
    "total_samples = len(stock_label)\n",
    "\n",
    "ratio_zeros = (count_zeros / total_samples).round(2)\n",
    "ratio_ones = (count_ones / total_samples).round(2)\n",
    "\n",
    "print(\"Ratio of zeros (0s):\", ratio_zeros)\n",
    "print(\"Ratio of ones (1s):\", ratio_ones)"
   ]
  },
  {
   "cell_type": "markdown",
   "metadata": {},
   "source": [
    "데이터 분할"
   ]
  },
  {
   "cell_type": "code",
   "execution_count": 4,
   "metadata": {},
   "outputs": [
    {
     "name": "stdout",
     "output_type": "stream",
     "text": [
      "Ratio of zeros (0s): 0.5\n",
      "Ratio of ones (1s): 0.5\n"
     ]
    }
   ],
   "source": [
    "# 훈련 및 테스트 데이터로 분할\n",
    "X_train, X_test, y_train, y_test = train_test_split(filter_stock, stock_label, test_size=0.2, random_state=42)\n",
    "\n",
    "under_sampler = RandomUnderSampler(sampling_strategy='auto' , random_state=42)\n",
    "X_resampled, y_resampled = under_sampler.fit_resample(X_train, y_train)\n",
    "X_test_resampled, y_test_resampled = under_sampler.fit_resample(X_test, y_test)\n",
    "\n",
    "smote = SMOTE(sampling_strategy=0.7 ,random_state=42)\n",
    "X_train_resampled, y_train_resampled = smote.fit_resample(X_train,y_train)\n",
    "X_test_resampled, y_test_resampled = smote.fit_resample(X_test,y_test)\n",
    "\n",
    "count_zeros = np.sum(y_resampled == 0)\n",
    "count_ones = np.sum(y_resampled == 1)\n",
    "total_samples = len(y_resampled)\n",
    "\n",
    "ratio_zeros = (count_zeros / total_samples).round(2)\n",
    "ratio_ones = (count_ones / total_samples).round(2)\n",
    "\n",
    "print(\"Ratio of zeros (0s):\", ratio_zeros)\n",
    "print(\"Ratio of ones (1s):\", ratio_ones)"
   ]
  },
  {
   "cell_type": "markdown",
   "metadata": {},
   "source": [
    "GRU 모델 정의"
   ]
  },
  {
   "cell_type": "code",
   "execution_count": 5,
   "metadata": {},
   "outputs": [
    {
     "name": "stdout",
     "output_type": "stream",
     "text": [
      "Model: \"sequential\"\n",
      "_________________________________________________________________\n",
      " Layer (type)                Output Shape              Param #   \n",
      "=================================================================\n",
      " gru (GRU)                   (None, 26, 64)            12864     \n",
      "                                                                 \n",
      " gru_1 (GRU)                 (None, 26, 64)            24960     \n",
      "                                                                 \n",
      " gru_2 (GRU)                 (None, 26, 64)            24960     \n",
      "                                                                 \n",
      " gru_3 (GRU)                 (None, 26, 64)            24960     \n",
      "                                                                 \n",
      " gru_4 (GRU)                 (None, 26, 64)            24960     \n",
      "                                                                 \n",
      " gru_5 (GRU)                 (None, 26, 64)            24960     \n",
      "                                                                 \n",
      " gru_6 (GRU)                 (None, 26, 64)            24960     \n",
      "                                                                 \n",
      " gru_7 (GRU)                 (None, 64)                24960     \n",
      "                                                                 \n",
      " dense (Dense)               (None, 1)                 65        \n",
      "                                                                 \n",
      "=================================================================\n",
      "Total params: 187649 (733.00 KB)\n",
      "Trainable params: 187649 (733.00 KB)\n",
      "Non-trainable params: 0 (0.00 Byte)\n",
      "_________________________________________________________________\n"
     ]
    }
   ],
   "source": [
    "# GRU 모델 정의\n",
    "tf.random.set_seed(42)\n",
    "model = tf.keras.Sequential()\n",
    "model.add(tf.keras.layers.GRU(64, input_shape=(X_resampled.shape[1],1),kernel_initializer='glorot_uniform', recurrent_dropout=0.0 ,return_sequences=True))\n",
    "model.add(tf.keras.layers.GRU(64, return_sequences=True))\n",
    "model.add(tf.keras.layers.GRU(64, return_sequences=True))\n",
    "model.add(tf.keras.layers.GRU(64, return_sequences=True))\n",
    "model.add(tf.keras.layers.GRU(64, return_sequences=True))\n",
    "model.add(tf.keras.layers.GRU(64, return_sequences=True))\n",
    "model.add(tf.keras.layers.GRU(64, return_sequences=True))\n",
    "model.add(tf.keras.layers.GRU(64, return_sequences=False))\n",
    "model.add(tf.keras.layers.Dense(1, activation='sigmoid'))\n",
    "model.compile(optimizer='adam', loss='binary_crossentropy', metrics=['accuracy'])\n",
    "\n",
    "# 조기 종료 콜백 정의\n",
    "early_stopping = EarlyStopping(monitor='accuracy', patience=10, restore_best_weights=True)\n",
    "model.summary()"
   ]
  },
  {
   "cell_type": "markdown",
   "metadata": {},
   "source": [
    "모델 훈련"
   ]
  },
  {
   "cell_type": "code",
   "execution_count": 6,
   "metadata": {},
   "outputs": [
    {
     "name": "stdout",
     "output_type": "stream",
     "text": [
      "Epoch 1/500\n",
      "1585/1585 [==============================] - 204s 125ms/step - loss: 0.4835 - accuracy: 0.7713 - val_loss: 0.3147 - val_accuracy: 0.8797\n",
      "Epoch 2/500\n",
      "1585/1585 [==============================] - 203s 128ms/step - loss: 0.2991 - accuracy: 0.8745 - val_loss: 0.2752 - val_accuracy: 0.8811\n",
      "Epoch 3/500\n",
      "1585/1585 [==============================] - 192s 121ms/step - loss: 0.2906 - accuracy: 0.8779 - val_loss: 0.3084 - val_accuracy: 0.8662\n",
      "Epoch 4/500\n",
      "1585/1585 [==============================] - 176s 111ms/step - loss: 0.2816 - accuracy: 0.8805 - val_loss: 0.2796 - val_accuracy: 0.8774\n",
      "Epoch 5/500\n",
      "1585/1585 [==============================] - 187s 118ms/step - loss: 0.2767 - accuracy: 0.8834 - val_loss: 0.2694 - val_accuracy: 0.8844\n",
      "Epoch 6/500\n",
      "1585/1585 [==============================] - 199s 125ms/step - loss: 0.2650 - accuracy: 0.8891 - val_loss: 0.2394 - val_accuracy: 0.9004\n",
      "Epoch 7/500\n",
      "1585/1585 [==============================] - 198s 125ms/step - loss: 0.2616 - accuracy: 0.8909 - val_loss: 0.2894 - val_accuracy: 0.8735\n",
      "Epoch 8/500\n",
      "1585/1585 [==============================] - 174s 110ms/step - loss: 0.2599 - accuracy: 0.8909 - val_loss: 0.2430 - val_accuracy: 0.8959\n",
      "Epoch 9/500\n",
      "1585/1585 [==============================] - 166s 105ms/step - loss: 0.2607 - accuracy: 0.8897 - val_loss: 0.2455 - val_accuracy: 0.8950\n",
      "Epoch 10/500\n",
      "1585/1585 [==============================] - 165s 104ms/step - loss: 0.2546 - accuracy: 0.8926 - val_loss: 0.2505 - val_accuracy: 0.8942\n",
      "Epoch 11/500\n",
      "1585/1585 [==============================] - 161s 101ms/step - loss: 0.2547 - accuracy: 0.8928 - val_loss: 0.2448 - val_accuracy: 0.8939\n",
      "Epoch 12/500\n",
      "1585/1585 [==============================] - 161s 101ms/step - loss: 0.2487 - accuracy: 0.8964 - val_loss: 0.2412 - val_accuracy: 0.8946\n",
      "Epoch 13/500\n",
      "1585/1585 [==============================] - 160s 101ms/step - loss: 0.2456 - accuracy: 0.8978 - val_loss: 0.2559 - val_accuracy: 0.8921\n",
      "Epoch 14/500\n",
      "1585/1585 [==============================] - 216s 137ms/step - loss: 0.2469 - accuracy: 0.8954 - val_loss: 0.2538 - val_accuracy: 0.8886\n",
      "Epoch 15/500\n",
      "1585/1585 [==============================] - 182s 115ms/step - loss: 0.2477 - accuracy: 0.8942 - val_loss: 0.2567 - val_accuracy: 0.8922\n",
      "Epoch 16/500\n",
      "1585/1585 [==============================] - 180s 113ms/step - loss: 0.2466 - accuracy: 0.8962 - val_loss: 0.2594 - val_accuracy: 0.8905\n",
      "Epoch 17/500\n",
      "1585/1585 [==============================] - 181s 114ms/step - loss: 0.2443 - accuracy: 0.8964 - val_loss: 0.2487 - val_accuracy: 0.8917\n",
      "Epoch 18/500\n",
      "1585/1585 [==============================] - 184s 116ms/step - loss: 0.2470 - accuracy: 0.8969 - val_loss: 0.2451 - val_accuracy: 0.8945\n",
      "Epoch 19/500\n",
      "1585/1585 [==============================] - 214s 135ms/step - loss: 0.2457 - accuracy: 0.8963 - val_loss: 0.2457 - val_accuracy: 0.8940\n",
      "Epoch 20/500\n",
      "1585/1585 [==============================] - 212s 134ms/step - loss: 0.2459 - accuracy: 0.8967 - val_loss: 0.2442 - val_accuracy: 0.8970\n",
      "Epoch 21/500\n",
      "1585/1585 [==============================] - 209s 132ms/step - loss: 0.2398 - accuracy: 0.8991 - val_loss: 0.2458 - val_accuracy: 0.8910\n",
      "Epoch 22/500\n",
      "1585/1585 [==============================] - 215s 136ms/step - loss: 0.2424 - accuracy: 0.8973 - val_loss: 0.2497 - val_accuracy: 0.8891\n",
      "Epoch 23/500\n",
      "1585/1585 [==============================] - 212s 134ms/step - loss: 0.2411 - accuracy: 0.8984 - val_loss: 0.2382 - val_accuracy: 0.8982\n",
      "Epoch 24/500\n",
      "1585/1585 [==============================] - 215s 136ms/step - loss: 0.2389 - accuracy: 0.8993 - val_loss: 0.2420 - val_accuracy: 0.8971\n",
      "Epoch 25/500\n",
      "1585/1585 [==============================] - 209s 132ms/step - loss: 0.2348 - accuracy: 0.9008 - val_loss: 0.2308 - val_accuracy: 0.9014\n",
      "Epoch 26/500\n",
      "1585/1585 [==============================] - 192s 121ms/step - loss: 0.2277 - accuracy: 0.9051 - val_loss: 0.2408 - val_accuracy: 0.8979\n",
      "Epoch 27/500\n",
      "1585/1585 [==============================] - 200s 127ms/step - loss: 0.2381 - accuracy: 0.8988 - val_loss: 0.2371 - val_accuracy: 0.8992\n",
      "Epoch 28/500\n",
      "1585/1585 [==============================] - 180s 114ms/step - loss: 0.2365 - accuracy: 0.9009 - val_loss: 0.2357 - val_accuracy: 0.9010\n",
      "Epoch 29/500\n",
      "1585/1585 [==============================] - 198s 125ms/step - loss: 0.2360 - accuracy: 0.9012 - val_loss: 0.2419 - val_accuracy: 0.8954\n",
      "Epoch 30/500\n",
      "1585/1585 [==============================] - 197s 124ms/step - loss: 0.2358 - accuracy: 0.9011 - val_loss: 0.2409 - val_accuracy: 0.8980\n",
      "Epoch 31/500\n",
      "1585/1585 [==============================] - 200s 126ms/step - loss: 0.2320 - accuracy: 0.9027 - val_loss: 0.2518 - val_accuracy: 0.8945\n",
      "Epoch 32/500\n",
      "1585/1585 [==============================] - 200s 126ms/step - loss: 0.2314 - accuracy: 0.9026 - val_loss: 0.2382 - val_accuracy: 0.8989\n",
      "Epoch 33/500\n",
      "1585/1585 [==============================] - 209s 132ms/step - loss: 0.2291 - accuracy: 0.9032 - val_loss: 0.2493 - val_accuracy: 0.8893\n",
      "Epoch 34/500\n",
      "1585/1585 [==============================] - 204s 129ms/step - loss: 0.2287 - accuracy: 0.9035 - val_loss: 0.2448 - val_accuracy: 0.8931\n",
      "Epoch 35/500\n",
      "1585/1585 [==============================] - 199s 126ms/step - loss: 0.2307 - accuracy: 0.9027 - val_loss: 0.2436 - val_accuracy: 0.8980\n",
      "Epoch 36/500\n",
      "1585/1585 [==============================] - 209s 132ms/step - loss: 0.2384 - accuracy: 0.8986 - val_loss: 0.2490 - val_accuracy: 0.8951\n"
     ]
    },
    {
     "name": "stderr",
     "output_type": "stream",
     "text": [
      "/Users/moon/anaconda3/envs/ML/lib/python3.8/site-packages/keras/src/engine/training.py:3000: UserWarning: You are saving your model as an HDF5 file via `model.save()`. This file format is considered legacy. We recommend using instead the native Keras format, e.g. `model.save('my_model.keras')`.\n",
      "  saving_api.save_model(\n"
     ]
    }
   ],
   "source": [
    "# 모델 훈련\n",
    "model.fit(X_resampled,y_resampled,epochs=500,\n",
    "validation_data=(X_test_resampled, y_test_resampled),callbacks=[early_stopping])\n",
    " \n",
    "# 모델 저장\n",
    "model.save(\"GRU_Model_8L_64_5%.h5\")"
   ]
  },
  {
   "cell_type": "markdown",
   "metadata": {},
   "source": [
    "모델 평가"
   ]
  },
  {
   "cell_type": "code",
   "execution_count": 7,
   "metadata": {},
   "outputs": [
    {
     "name": "stdout",
     "output_type": "stream",
     "text": [
      "8165/8165 [==============================] - 109s 13ms/step\n"
     ]
    }
   ],
   "source": [
    "# 모델 로드\n",
    "loaded_model = tf.keras.models.load_model(\"GRU_Model_8L_64_5%.h5\")\n",
    "\n",
    "# 모델을 사용하여 주가 상승 여부 예측\n",
    "test = loaded_model.predict(X_test_resampled)"
   ]
  },
  {
   "cell_type": "code",
   "execution_count": 8,
   "metadata": {},
   "outputs": [
    {
     "name": "stdout",
     "output_type": "stream",
     "text": [
      "Accuracy: 0.8978731059083793\n",
      "Confusion Matrix:\n",
      "[[136435  17255]\n",
      " [  9428  98155]]\n",
      "Classification Report:\n",
      "              precision    recall  f1-score   support\n",
      "\n",
      "         0.0       0.94      0.89      0.91    153690\n",
      "         1.0       0.85      0.91      0.88    107583\n",
      "\n",
      "    accuracy                           0.90    261273\n",
      "   macro avg       0.89      0.90      0.90    261273\n",
      "weighted avg       0.90      0.90      0.90    261273\n",
      "\n"
     ]
    }
   ],
   "source": [
    "y_pred_binary = (test > 0.5).astype(int)\n",
    "\n",
    "accuracy = accuracy_score(y_test_resampled, y_pred_binary)\n",
    "conf_matrix = confusion_matrix(y_test_resampled, y_pred_binary)\n",
    "classification_rep = classification_report(y_test_resampled, y_pred_binary)\n",
    "\n",
    "print(f\"Accuracy: {accuracy}\")\n",
    "print(\"Confusion Matrix:\")\n",
    "print(conf_matrix)\n",
    "print(\"Classification Report:\")\n",
    "print(classification_rep)"
   ]
  },
  {
   "cell_type": "code",
   "execution_count": 9,
   "metadata": {},
   "outputs": [
    {
     "name": "stdout",
     "output_type": "stream",
     "text": [
      "정확도: 51.03%\n"
     ]
    }
   ],
   "source": [
    "# 예측 결과를 이진값(0 또는 1)으로 변환\n",
    "binary_predictions = (test > 0.5).astype(int)\n",
    "\n",
    "# 예측 결과 출력X_test_resampled, y_test_resampled\n",
    "correct_predictions = np.equal(binary_predictions, y_test_resampled)  # 정확하게 예측한 경우 True, 그렇지 않으면 False\n",
    "accuracy = np.mean(correct_predictions)  # 정확도 계산\n",
    "\n",
    "print(f\"정확도: {accuracy * 100:.2f}%\")"
   ]
  }
 ],
 "metadata": {
  "kernelspec": {
   "display_name": "ML",
   "language": "python",
   "name": "python3"
  },
  "language_info": {
   "codemirror_mode": {
    "name": "ipython",
    "version": 3
   },
   "file_extension": ".py",
   "mimetype": "text/x-python",
   "name": "python",
   "nbconvert_exporter": "python",
   "pygments_lexer": "ipython3",
   "version": "3.8.18"
  }
 },
 "nbformat": 4,
 "nbformat_minor": 2
}
