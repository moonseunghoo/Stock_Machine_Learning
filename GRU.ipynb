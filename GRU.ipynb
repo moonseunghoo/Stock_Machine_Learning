{
 "cells": [
  {
   "cell_type": "markdown",
   "metadata": {},
   "source": [
    "모듈 ∙ 라이브러리 import"
   ]
  },
  {
   "cell_type": "code",
   "execution_count": 1,
   "metadata": {},
   "outputs": [],
   "source": [
    "import numpy as np\n",
    "import pandas as pd\n",
    "import matplotlib.pyplot as plt\n",
    "import tensorflow as tf\n",
    "tf.config.experimental.set_visible_devices([], 'GPU')\n",
    "# tf.config.experimental.list_physical_devices('GPU')\n",
    "\n",
    "from sklearn.model_selection import train_test_split\n",
    "from sklearn.preprocessing import MinMaxScaler\n",
    "from imblearn.over_sampling import SMOTE\n",
    "from keras.callbacks import EarlyStopping\n",
    "from sklearn.metrics import accuracy_score, confusion_matrix, classification_report\n",
    "import matplotlib.pyplot as plt"
   ]
  },
  {
   "cell_type": "markdown",
   "metadata": {},
   "source": [
    "데이터 불러오기 ∙ 전처리"
   ]
  },
  {
   "cell_type": "code",
   "execution_count": 2,
   "metadata": {},
   "outputs": [],
   "source": [
    "def filter_df(df): #데이터프레임 필터링\n",
    "    # 첫 번째 열에서 같은 값을 가진 행의 수를 계산합니다.\n",
    "    row_counts = df['0'].value_counts()\n",
    "\n",
    "    # 가장 많은 행의 수를 찾습니다.\n",
    "    max_row_count = row_counts.max()\n",
    "\n",
    "    # 가장 많은 행의 수에 해당하는 행만 분류합니다.\n",
    "    filtered = pd.DataFrame(df[df['0'].isin(row_counts[row_counts == max_row_count].index)])\n",
    "\n",
    "    return filtered\n",
    "\n",
    "# 데이터 로드   \n",
    "stock_df = pd.read_csv('/Users/moon/Desktop/Moon SeungHoo/Stock_Machine_Learning/StockData_5%.csv',low_memory=False)\n",
    "\n",
    "#데이터 필터링\n",
    "filter_stock = filter_df(stock_df)\n",
    "filter_label = filter_stock['24']\n",
    "\n",
    "# 불필요한 데이터 삭제\n",
    "filter_stock = filter_stock.drop({'0','1','7','24'},axis=1) #날자, 상승율, 5%이상 상승여부 삭제 "
   ]
  },
  {
   "cell_type": "markdown",
   "metadata": {},
   "source": [
    "데이터 전처리"
   ]
  },
  {
   "cell_type": "code",
   "execution_count": 3,
   "metadata": {},
   "outputs": [
    {
     "name": "stdout",
     "output_type": "stream",
     "text": [
      "Ratio of zeros (0s): 0.96\n",
      "Ratio of ones (1s): 0.04\n"
     ]
    }
   ],
   "source": [
    "scaler = MinMaxScaler()\n",
    "stock_label = scaler.fit_transform(filter_label.values.reshape(-1, 1))\n",
    "\n",
    "count_zeros = np.sum(stock_label == 0)\n",
    "count_ones = np.sum(stock_label == 1)\n",
    "total_samples = len(stock_label)\n",
    "\n",
    "ratio_zeros = (count_zeros / total_samples).round(2)\n",
    "ratio_ones = (count_ones / total_samples).round(2)\n",
    "\n",
    "print(\"Ratio of zeros (0s):\", ratio_zeros)\n",
    "print(\"Ratio of ones (1s):\", ratio_ones)"
   ]
  },
  {
   "cell_type": "markdown",
   "metadata": {},
   "source": [
    "데이터 분할"
   ]
  },
  {
   "cell_type": "code",
   "execution_count": 4,
   "metadata": {},
   "outputs": [
    {
     "name": "stdout",
     "output_type": "stream",
     "text": [
      "Ratio of zeros (0s): 0.5\n",
      "Ratio of ones (1s): 0.5\n"
     ]
    }
   ],
   "source": [
    "# 훈련 및 테스트 데이터로 분할\n",
    "X_train, X_test, y_train, y_test = train_test_split(filter_stock, stock_label, test_size=0.2, random_state=42)\n",
    "\n",
    "smote = SMOTE(sampling_strategy=1 ,random_state=42)\n",
    "X_train_resampled, y_train_resampled = smote.fit_resample(X_train,y_train)\n",
    "X_test_resampled, y_test_resampled = smote.fit_resample(X_test,y_test)\n",
    "\n",
    "count_zeros = np.sum(y_train_resampled == 0)\n",
    "count_ones = np.sum(y_train_resampled == 1)\n",
    "total_samples = len(y_train_resampled)\n",
    "\n",
    "ratio_zeros = (count_zeros / total_samples).round(2)\n",
    "ratio_ones = (count_ones / total_samples).round(2)\n",
    "\n",
    "print(\"Ratio of zeros (0s):\", ratio_zeros)\n",
    "print(\"Ratio of ones (1s):\", ratio_ones)"
   ]
  },
  {
   "cell_type": "markdown",
   "metadata": {},
   "source": [
    "GRU 모델 정의"
   ]
  },
  {
   "cell_type": "code",
   "execution_count": 5,
   "metadata": {},
   "outputs": [
    {
     "name": "stdout",
     "output_type": "stream",
     "text": [
      "Model: \"sequential\"\n",
      "_________________________________________________________________\n",
      " Layer (type)                Output Shape              Param #   \n",
      "=================================================================\n",
      " gru (GRU)                   (None, 28, 18)            1134      \n",
      "                                                                 \n",
      " gru_1 (GRU)                 (None, 28, 18)            2052      \n",
      "                                                                 \n",
      " gru_2 (GRU)                 (None, 28, 18)            2052      \n",
      "                                                                 \n",
      " gru_3 (GRU)                 (None, 28, 18)            2052      \n",
      "                                                                 \n",
      " gru_4 (GRU)                 (None, 28, 18)            2052      \n",
      "                                                                 \n",
      " gru_5 (GRU)                 (None, 28, 18)            2052      \n",
      "                                                                 \n",
      " gru_6 (GRU)                 (None, 28, 18)            2052      \n",
      "                                                                 \n",
      " gru_7 (GRU)                 (None, 28, 18)            2052      \n",
      "                                                                 \n",
      " gru_8 (GRU)                 (None, 18)                2052      \n",
      "                                                                 \n",
      " dense (Dense)               (None, 1)                 19        \n",
      "                                                                 \n",
      "=================================================================\n",
      "Total params: 17569 (68.63 KB)\n",
      "Trainable params: 17569 (68.63 KB)\n",
      "Non-trainable params: 0 (0.00 Byte)\n",
      "_________________________________________________________________\n"
     ]
    }
   ],
   "source": [
    "# GRU 모델 정의\n",
    "model = tf.keras.Sequential()\n",
    "model.add(tf.keras.layers.GRU(18, input_shape=(X_train_resampled.shape[1],1),return_sequences=True))\n",
    "model.add(tf.keras.layers.GRU(18, return_sequences=True))\n",
    "model.add(tf.keras.layers.GRU(18, return_sequences=True))\n",
    "model.add(tf.keras.layers.GRU(18, return_sequences=True))\n",
    "model.add(tf.keras.layers.GRU(18, return_sequences=True))\n",
    "model.add(tf.keras.layers.GRU(18, return_sequences=True))\n",
    "model.add(tf.keras.layers.GRU(18, return_sequences=True))\n",
    "model.add(tf.keras.layers.GRU(18, return_sequences=True))\n",
    "model.add(tf.keras.layers.GRU(18, return_sequences=False))\n",
    "model.add(tf.keras.layers.Dense(1, activation='sigmoid'))\n",
    "model.compile(optimizer='adam', loss='binary_crossentropy', metrics=['accuracy'])\n",
    "\n",
    "# 조기 종료 콜백 정의\n",
    "early_stopping = EarlyStopping(monitor='val_accuracy', patience=20, restore_best_weights=True)\n",
    "model.summary()"
   ]
  },
  {
   "cell_type": "markdown",
   "metadata": {},
   "source": [
    "모델 훈련"
   ]
  },
  {
   "cell_type": "code",
   "execution_count": 6,
   "metadata": {},
   "outputs": [
    {
     "name": "stdout",
     "output_type": "stream",
     "text": [
      "Epoch 1/500\n",
      "28930/28930 [==============================] - 667s 23ms/step - loss: 0.2801 - accuracy: 0.8814 - val_loss: 0.2368 - val_accuracy: 0.9045\n",
      "Epoch 2/500\n",
      "28930/28930 [==============================] - 654s 23ms/step - loss: 0.2397 - accuracy: 0.9011 - val_loss: 0.2456 - val_accuracy: 0.8974\n",
      "Epoch 3/500\n",
      "28930/28930 [==============================] - 661s 23ms/step - loss: 0.2342 - accuracy: 0.9035 - val_loss: 0.2257 - val_accuracy: 0.9080\n",
      "Epoch 4/500\n",
      "28930/28930 [==============================] - 674s 23ms/step - loss: 0.2267 - accuracy: 0.9069 - val_loss: 0.2226 - val_accuracy: 0.9095\n",
      "Epoch 5/500\n",
      "28930/28930 [==============================] - 672s 23ms/step - loss: 0.2256 - accuracy: 0.9078 - val_loss: 0.2229 - val_accuracy: 0.9097\n",
      "Epoch 6/500\n",
      "28930/28930 [==============================] - 690s 24ms/step - loss: 0.2241 - accuracy: 0.9087 - val_loss: 0.2245 - val_accuracy: 0.9089\n",
      "Epoch 7/500\n",
      "28930/28930 [==============================] - 684s 24ms/step - loss: 0.2203 - accuracy: 0.9104 - val_loss: 0.2498 - val_accuracy: 0.8950\n",
      "Epoch 8/500\n",
      "28930/28930 [==============================] - 674s 23ms/step - loss: 0.2189 - accuracy: 0.9108 - val_loss: 0.2301 - val_accuracy: 0.9063\n",
      "Epoch 9/500\n",
      "28930/28930 [==============================] - 638s 22ms/step - loss: 0.2168 - accuracy: 0.9119 - val_loss: 0.2243 - val_accuracy: 0.9086\n",
      "Epoch 10/500\n",
      "28930/28930 [==============================] - 615s 21ms/step - loss: 0.2168 - accuracy: 0.9118 - val_loss: 0.2648 - val_accuracy: 0.8904\n",
      "Epoch 11/500\n",
      "28930/28930 [==============================] - 615s 21ms/step - loss: 0.2185 - accuracy: 0.9108 - val_loss: 0.2151 - val_accuracy: 0.9124\n",
      "Epoch 12/500\n",
      "28930/28930 [==============================] - 616s 21ms/step - loss: 0.2160 - accuracy: 0.9125 - val_loss: 0.2141 - val_accuracy: 0.9140\n",
      "Epoch 13/500\n",
      "28930/28930 [==============================] - 615s 21ms/step - loss: 0.2164 - accuracy: 0.9123 - val_loss: 0.2122 - val_accuracy: 0.9149\n",
      "Epoch 14/500\n",
      "28930/28930 [==============================] - 614s 21ms/step - loss: 0.2317 - accuracy: 0.9053 - val_loss: 0.2613 - val_accuracy: 0.8871\n",
      "Epoch 15/500\n",
      "28930/28930 [==============================] - 613s 21ms/step - loss: 0.2184 - accuracy: 0.9113 - val_loss: 0.2146 - val_accuracy: 0.9131\n",
      "Epoch 16/500\n",
      "28930/28930 [==============================] - 614s 21ms/step - loss: 0.2148 - accuracy: 0.9125 - val_loss: 0.2193 - val_accuracy: 0.9115\n",
      "Epoch 17/500\n",
      "28930/28930 [==============================] - 614s 21ms/step - loss: 0.2194 - accuracy: 0.9114 - val_loss: 0.2297 - val_accuracy: 0.9086\n",
      "Epoch 18/500\n",
      "28930/28930 [==============================] - 615s 21ms/step - loss: 0.2303 - accuracy: 0.9062 - val_loss: 0.2242 - val_accuracy: 0.9095\n",
      "Epoch 19/500\n",
      "28930/28930 [==============================] - 615s 21ms/step - loss: 0.2311 - accuracy: 0.9056 - val_loss: 0.2239 - val_accuracy: 0.9097\n",
      "Epoch 20/500\n",
      "28930/28930 [==============================] - 615s 21ms/step - loss: 0.2383 - accuracy: 0.9024 - val_loss: 0.2190 - val_accuracy: 0.9113\n",
      "Epoch 21/500\n",
      "28930/28930 [==============================] - 615s 21ms/step - loss: 0.2206 - accuracy: 0.9104 - val_loss: 0.2193 - val_accuracy: 0.9102\n",
      "Epoch 22/500\n",
      "28930/28930 [==============================] - 614s 21ms/step - loss: 0.2266 - accuracy: 0.9076 - val_loss: 0.2273 - val_accuracy: 0.9084\n",
      "Epoch 23/500\n",
      "28930/28930 [==============================] - 614s 21ms/step - loss: 0.2227 - accuracy: 0.9092 - val_loss: 0.2274 - val_accuracy: 0.9077\n",
      "Epoch 24/500\n",
      "28930/28930 [==============================] - 614s 21ms/step - loss: 0.2227 - accuracy: 0.9091 - val_loss: 0.2193 - val_accuracy: 0.9109\n",
      "Epoch 25/500\n",
      "28930/28930 [==============================] - 615s 21ms/step - loss: 0.2186 - accuracy: 0.9110 - val_loss: 0.2163 - val_accuracy: 0.9119\n",
      "Epoch 26/500\n",
      "28930/28930 [==============================] - 615s 21ms/step - loss: 0.2231 - accuracy: 0.9091 - val_loss: 0.2218 - val_accuracy: 0.9103\n",
      "Epoch 27/500\n",
      "28930/28930 [==============================] - 615s 21ms/step - loss: 0.2292 - accuracy: 0.9064 - val_loss: 0.2287 - val_accuracy: 0.9074\n",
      "Epoch 28/500\n",
      "28930/28930 [==============================] - 614s 21ms/step - loss: 0.2262 - accuracy: 0.9079 - val_loss: 0.2249 - val_accuracy: 0.9083\n",
      "Epoch 29/500\n",
      "28930/28930 [==============================] - 614s 21ms/step - loss: 0.2228 - accuracy: 0.9091 - val_loss: 0.2186 - val_accuracy: 0.9119\n",
      "Epoch 30/500\n",
      "28930/28930 [==============================] - 614s 21ms/step - loss: 0.2239 - accuracy: 0.9085 - val_loss: 0.2328 - val_accuracy: 0.9040\n",
      "Epoch 31/500\n",
      "28930/28930 [==============================] - 615s 21ms/step - loss: 0.2245 - accuracy: 0.9083 - val_loss: 0.2269 - val_accuracy: 0.9084\n",
      "Epoch 32/500\n",
      "28930/28930 [==============================] - 615s 21ms/step - loss: 0.2219 - accuracy: 0.9096 - val_loss: 0.2231 - val_accuracy: 0.9086\n",
      "Epoch 33/500\n",
      "28930/28930 [==============================] - 615s 21ms/step - loss: 0.2205 - accuracy: 0.9103 - val_loss: 0.2161 - val_accuracy: 0.9127\n"
     ]
    },
    {
     "name": "stderr",
     "output_type": "stream",
     "text": [
      "/Users/moon/anaconda3/envs/ML/lib/python3.8/site-packages/keras/src/engine/training.py:3000: UserWarning: You are saving your model as an HDF5 file via `model.save()`. This file format is considered legacy. We recommend using instead the native Keras format, e.g. `model.save('my_model.keras')`.\n",
      "  saving_api.save_model(\n"
     ]
    }
   ],
   "source": [
    "# 모델 훈련\n",
    "model.fit(X_train_resampled,y_train_resampled,epochs=500,\n",
    "validation_data=(X_test_resampled,y_test_resampled),callbacks=[early_stopping])\n",
    " \n",
    "# 모델 저장\n",
    "\n",
    "# model.save(\"GRU_Model.h5\")3  \n",
    "model.save(\"GRU_Model_9L_18.h5\")"
   ]
  },
  {
   "cell_type": "markdown",
   "metadata": {},
   "source": [
    "모델 평가"
   ]
  },
  {
   "cell_type": "code",
   "execution_count": 7,
   "metadata": {},
   "outputs": [
    {
     "name": "stdout",
     "output_type": "stream",
     "text": [
      "3771/3771 [==============================] - 21s 5ms/step\n"
     ]
    }
   ],
   "source": [
    "# 모델 로드\n",
    "loaded_model = tf.keras.models.load_model(\"GRU_Model_9L_18.h5\")\n",
    "\n",
    "# 모델을 사용하여 주가 상승 여부 예측\n",
    "test = loaded_model.predict(X_test)"
   ]
  },
  {
   "cell_type": "code",
   "execution_count": 8,
   "metadata": {},
   "outputs": [
    {
     "name": "stdout",
     "output_type": "stream",
     "text": [
      "Accuracy: 0.8908694643330681\n",
      "Confusion Matrix:\n",
      "[[103092  12646]\n",
      " [   523   4411]]\n",
      "Classification Report:\n",
      "              precision    recall  f1-score   support\n",
      "\n",
      "         0.0       0.99      0.89      0.94    115738\n",
      "         1.0       0.26      0.89      0.40      4934\n",
      "\n",
      "    accuracy                           0.89    120672\n",
      "   macro avg       0.63      0.89      0.67    120672\n",
      "weighted avg       0.96      0.89      0.92    120672\n",
      "\n"
     ]
    }
   ],
   "source": [
    "y_pred_binary = (test > 0.5).astype(int)\n",
    "\n",
    "accuracy = accuracy_score(y_test, y_pred_binary)\n",
    "conf_matrix = confusion_matrix(y_test, y_pred_binary)\n",
    "classification_rep = classification_report(y_test, y_pred_binary)\n",
    "\n",
    "print(f\"Accuracy: {accuracy}\")\n",
    "print(\"Confusion Matrix:\")\n",
    "print(conf_matrix)\n",
    "print(\"Classification Report:\")\n",
    "print(classification_rep)"
   ]
  },
  {
   "cell_type": "code",
   "execution_count": 9,
   "metadata": {},
   "outputs": [
    {
     "name": "stdout",
     "output_type": "stream",
     "text": [
      "정확도: 89.09%\n"
     ]
    }
   ],
   "source": [
    "# 예측 결과를 이진값(0 또는 1)으로 변환\n",
    "binary_predictions = (test > 0.5).astype(int)\n",
    "\n",
    "# 예측 결과 출력\n",
    "correct_predictions = np.equal(binary_predictions, y_test)  # 정확하게 예측한 경우 True, 그렇지 않으면 False\n",
    "accuracy = np.mean(correct_predictions)  # 정확도 계산\n",
    "\n",
    "print(f\"정확도: {accuracy * 100:.2f}%\")"
   ]
  }
 ],
 "metadata": {
  "kernelspec": {
   "display_name": "ML",
   "language": "python",
   "name": "python3"
  },
  "language_info": {
   "codemirror_mode": {
    "name": "ipython",
    "version": 3
   },
   "file_extension": ".py",
   "mimetype": "text/x-python",
   "name": "python",
   "nbconvert_exporter": "python",
   "pygments_lexer": "ipython3",
   "version": "3.8.18"
  }
 },
 "nbformat": 4,
 "nbformat_minor": 2
}
