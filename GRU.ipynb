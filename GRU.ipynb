{
 "cells": [
  {
   "cell_type": "markdown",
   "metadata": {},
   "source": [
    "모듈 ∙ 라이브러리 import"
   ]
  },
  {
   "cell_type": "code",
   "execution_count": 1,
   "metadata": {},
   "outputs": [],
   "source": [
    "import numpy as np\n",
    "import pandas as pd\n",
    "import matplotlib.pyplot as plt\n",
    "import tensorflow as tf\n",
    "tf.config.experimental.set_visible_devices([], 'GPU')\n",
    "# tf.config.experimental.list_physical_devices('GPU')\n",
    "\n",
    "from sklearn.model_selection import train_test_split\n",
    "from sklearn.preprocessing import MinMaxScaler\n",
    "from imblearn.over_sampling import SMOTE\n",
    "from keras.callbacks import EarlyStopping\n",
    "from sklearn.metrics import accuracy_score, confusion_matrix, classification_report\n",
    "import matplotlib.pyplot as plt"
   ]
  },
  {
   "cell_type": "markdown",
   "metadata": {},
   "source": [
    "데이터 불러오기 ∙ 전처리"
   ]
  },
  {
   "cell_type": "code",
   "execution_count": 2,
   "metadata": {},
   "outputs": [],
   "source": [
    "def filter_df(df): #데이터프레임 필터링\n",
    "    # 첫 번째 열에서 같은 값을 가진 행의 수를 계산합니다.\n",
    "    row_counts = df['0'].value_counts()\n",
    "\n",
    "    # 가장 많은 행의 수를 찾습니다.\n",
    "    max_row_count = row_counts.max()\n",
    "\n",
    "    # 가장 많은 행의 수에 해당하는 행만 분류합니다.\n",
    "    filtered = pd.DataFrame(df[df['0'].isin(row_counts[row_counts == max_row_count].index)])\n",
    "\n",
    "    return filtered\n",
    "\n",
    "# 데이터 로드   \n",
    "stock_df = pd.read_csv('/Users/moon/Desktop/Moon SeungHoo/Stock_Machine_Learning/StockData_5%.csv',low_memory=False)\n",
    "\n",
    "#데이터 필터링\n",
    "filter_stock = filter_df(stock_df)\n",
    "filter_label = filter_stock['24']\n",
    "\n",
    "# 불필요한 데이터 삭제\n",
    "filter_stock = filter_stock.drop({'0','1','7','24'},axis=1) #날자, 상승율, 5%이상 상승여부 삭제 "
   ]
  },
  {
   "cell_type": "markdown",
   "metadata": {},
   "source": [
    "데이터 전처리"
   ]
  },
  {
   "cell_type": "code",
   "execution_count": 3,
   "metadata": {},
   "outputs": [
    {
     "name": "stdout",
     "output_type": "stream",
     "text": [
      "Ratio of zeros (0s): 0.96\n",
      "Ratio of ones (1s): 0.04\n"
     ]
    }
   ],
   "source": [
    "scaler = MinMaxScaler()\n",
    "stock_label = scaler.fit_transform(filter_label.values.reshape(-1, 1))\n",
    "\n",
    "count_zeros = np.sum(stock_label == 0)\n",
    "count_ones = np.sum(stock_label == 1)\n",
    "total_samples = len(stock_label)\n",
    "\n",
    "ratio_zeros = (count_zeros / total_samples).round(2)\n",
    "ratio_ones = (count_ones / total_samples).round(2)\n",
    "\n",
    "print(\"Ratio of zeros (0s):\", ratio_zeros)\n",
    "print(\"Ratio of ones (1s):\", ratio_ones)"
   ]
  },
  {
   "cell_type": "markdown",
   "metadata": {},
   "source": [
    "데이터 분할"
   ]
  },
  {
   "cell_type": "code",
   "execution_count": 4,
   "metadata": {},
   "outputs": [
    {
     "name": "stdout",
     "output_type": "stream",
     "text": [
      "Ratio of zeros (0s): 0.5\n",
      "Ratio of ones (1s): 0.5\n"
     ]
    }
   ],
   "source": [
    "# 훈련 및 테스트 데이터로 분할\n",
    "X_train, X_test, y_train, y_test = train_test_split(filter_stock, stock_label, test_size=0.2, random_state=42)\n",
    "\n",
    "smote = SMOTE(sampling_strategy='auto' ,random_state=42)\n",
    "X_train_resampled, y_train_resampled = smote.fit_resample(X_train,y_train)\n",
    "X_test_resampled, y_test_resampled = smote.fit_resample(X_test,y_test)\n",
    "\n",
    "count_zeros = np.sum(y_train_resampled == 0)\n",
    "count_ones = np.sum(y_train_resampled == 1)\n",
    "total_samples = len(y_train_resampled)\n",
    "\n",
    "ratio_zeros = (count_zeros / total_samples).round(2)\n",
    "ratio_ones = (count_ones / total_samples).round(2)\n",
    "\n",
    "print(\"Ratio of zeros (0s):\", ratio_zeros)\n",
    "print(\"Ratio of ones (1s):\", ratio_ones)"
   ]
  },
  {
   "cell_type": "markdown",
   "metadata": {},
   "source": [
    "GRU 모델 정의"
   ]
  },
  {
   "cell_type": "code",
   "execution_count": 5,
   "metadata": {},
   "outputs": [
    {
     "name": "stdout",
     "output_type": "stream",
     "text": [
      "Model: \"sequential\"\n",
      "_________________________________________________________________\n",
      " Layer (type)                Output Shape              Param #   \n",
      "=================================================================\n",
      " gru (GRU)                   (None, 28, 18)            1134      \n",
      "                                                                 \n",
      " gru_1 (GRU)                 (None, 28, 18)            2052      \n",
      "                                                                 \n",
      " gru_2 (GRU)                 (None, 28, 18)            2052      \n",
      "                                                                 \n",
      " gru_3 (GRU)                 (None, 28, 18)            2052      \n",
      "                                                                 \n",
      " gru_4 (GRU)                 (None, 28, 18)            2052      \n",
      "                                                                 \n",
      " gru_5 (GRU)                 (None, 28, 18)            2052      \n",
      "                                                                 \n",
      " gru_6 (GRU)                 (None, 28, 18)            2052      \n",
      "                                                                 \n",
      " gru_7 (GRU)                 (None, 28, 18)            2052      \n",
      "                                                                 \n",
      " gru_8 (GRU)                 (None, 18)                2052      \n",
      "                                                                 \n",
      " dense (Dense)               (None, 1)                 19        \n",
      "                                                                 \n",
      "=================================================================\n",
      "Total params: 17569 (68.63 KB)\n",
      "Trainable params: 17569 (68.63 KB)\n",
      "Non-trainable params: 0 (0.00 Byte)\n",
      "_________________________________________________________________\n"
     ]
    }
   ],
   "source": [
    "# GRU 모델 정의\n",
    "model = tf.keras.Sequential()\n",
    "model.add(tf.keras.layers.GRU(18, input_shape=(X_train_resampled.shape[1],1),return_sequences=True))\n",
    "model.add(tf.keras.layers.GRU(18, return_sequences=True))\n",
    "model.add(tf.keras.layers.GRU(18, return_sequences=True))\n",
    "model.add(tf.keras.layers.GRU(18, return_sequences=True))\n",
    "model.add(tf.keras.layers.GRU(18, return_sequences=True))\n",
    "model.add(tf.keras.layers.GRU(18, return_sequences=True))\n",
    "model.add(tf.keras.layers.GRU(18, return_sequences=True))\n",
    "model.add(tf.keras.layers.GRU(18, return_sequences=True))\n",
    "model.add(tf.keras.layers.GRU(18, return_sequences=False))\n",
    "model.add(tf.keras.layers.Dense(1, activation='sigmoid'))\n",
    "model.compile(optimizer='adam', loss='binary_crossentropy', metrics=['accuracy'])\n",
    "\n",
    "# 조기 종료 콜백 정의\n",
    "early_stopping = EarlyStopping(monitor='val_accuracy', patience=10, restore_best_weights=True)\n",
    "model.summary()"
   ]
  },
  {
   "cell_type": "markdown",
   "metadata": {},
   "source": [
    "모델 훈련"
   ]
  },
  {
   "cell_type": "code",
   "execution_count": 6,
   "metadata": {},
   "outputs": [
    {
     "name": "stdout",
     "output_type": "stream",
     "text": [
      "Epoch 1/500\n",
      "28930/28930 [==============================] - 640s 22ms/step - loss: 0.2984 - accuracy: 0.8735 - val_loss: 0.2163 - val_accuracy: 0.9139\n",
      "Epoch 2/500\n",
      "28930/28930 [==============================] - 631s 22ms/step - loss: 0.2276 - accuracy: 0.9073 - val_loss: 0.2297 - val_accuracy: 0.9073\n",
      "Epoch 3/500\n",
      "28930/28930 [==============================] - 634s 22ms/step - loss: 0.2243 - accuracy: 0.9084 - val_loss: 0.2217 - val_accuracy: 0.9102\n",
      "Epoch 4/500\n",
      "28930/28930 [==============================] - 638s 22ms/step - loss: 0.2218 - accuracy: 0.9095 - val_loss: 0.2176 - val_accuracy: 0.9126\n",
      "Epoch 5/500\n",
      "28930/28930 [==============================] - 633s 22ms/step - loss: 0.2190 - accuracy: 0.9106 - val_loss: 0.2228 - val_accuracy: 0.9097\n",
      "Epoch 6/500\n",
      "28930/28930 [==============================] - 643s 22ms/step - loss: 0.2168 - accuracy: 0.9115 - val_loss: 0.2125 - val_accuracy: 0.9137\n",
      "Epoch 7/500\n",
      "28930/28930 [==============================] - 637s 22ms/step - loss: 0.2160 - accuracy: 0.9116 - val_loss: 0.2177 - val_accuracy: 0.9123\n",
      "Epoch 8/500\n",
      "28930/28930 [==============================] - 637s 22ms/step - loss: 0.2161 - accuracy: 0.9119 - val_loss: 0.2169 - val_accuracy: 0.9118\n",
      "Epoch 9/500\n",
      "28930/28930 [==============================] - 633s 22ms/step - loss: 0.2171 - accuracy: 0.9116 - val_loss: 0.2146 - val_accuracy: 0.9132\n",
      "Epoch 10/500\n",
      "28930/28930 [==============================] - 635s 22ms/step - loss: 0.2139 - accuracy: 0.9127 - val_loss: 0.2172 - val_accuracy: 0.9113\n",
      "Epoch 11/500\n",
      "28930/28930 [==============================] - 634s 22ms/step - loss: 0.2131 - accuracy: 0.9131 - val_loss: 0.2193 - val_accuracy: 0.9105\n"
     ]
    },
    {
     "name": "stderr",
     "output_type": "stream",
     "text": [
      "/Users/moon/anaconda3/envs/ML/lib/python3.8/site-packages/keras/src/engine/training.py:3000: UserWarning: You are saving your model as an HDF5 file via `model.save()`. This file format is considered legacy. We recommend using instead the native Keras format, e.g. `model.save('my_model.keras')`.\n",
      "  saving_api.save_model(\n"
     ]
    }
   ],
   "source": [
    "# 모델 훈련\n",
    "model.fit(X_train_resampled,y_train_resampled,epochs=500,\n",
    "validation_data=(X_test_resampled,y_test_resampled),callbacks=[early_stopping])\n",
    " \n",
    "# 모델 저장\n",
    "model.save(\"GRU_Model_9L_18_5%.h5\")"
   ]
  },
  {
   "cell_type": "markdown",
   "metadata": {},
   "source": [
    "모델 평가"
   ]
  },
  {
   "cell_type": "code",
   "execution_count": 7,
   "metadata": {},
   "outputs": [
    {
     "name": "stdout",
     "output_type": "stream",
     "text": [
      "3771/3771 [==============================] - 23s 6ms/step\n"
     ]
    }
   ],
   "source": [
    "# 모델 로드\n",
    "loaded_model = tf.keras.models.load_model(\"GRU_Model_9L_18_5%.h5\")\n",
    "\n",
    "# 모델을 사용하여 주가 상승 여부 예측\n",
    "test = loaded_model.predict(X_test)"
   ]
  },
  {
   "cell_type": "code",
   "execution_count": 8,
   "metadata": {},
   "outputs": [
    {
     "name": "stdout",
     "output_type": "stream",
     "text": [
      "Accuracy: 0.877535799522673\n",
      "Confusion Matrix:\n",
      "[[101338  14400]\n",
      " [   378   4556]]\n",
      "Classification Report:\n",
      "              precision    recall  f1-score   support\n",
      "\n",
      "         0.0       1.00      0.88      0.93    115738\n",
      "         1.0       0.24      0.92      0.38      4934\n",
      "\n",
      "    accuracy                           0.88    120672\n",
      "   macro avg       0.62      0.90      0.66    120672\n",
      "weighted avg       0.97      0.88      0.91    120672\n",
      "\n"
     ]
    }
   ],
   "source": [
    "y_pred_binary = (test > 0.5).astype(int)\n",
    "\n",
    "accuracy = accuracy_score(y_test, y_pred_binary)\n",
    "conf_matrix = confusion_matrix(y_test, y_pred_binary)\n",
    "classification_rep = classification_report(y_test, y_pred_binary)\n",
    "\n",
    "print(f\"Accuracy: {accuracy}\")\n",
    "print(\"Confusion Matrix:\")\n",
    "print(conf_matrix)\n",
    "print(\"Classification Report:\")\n",
    "print(classification_rep)"
   ]
  },
  {
   "cell_type": "code",
   "execution_count": 9,
   "metadata": {},
   "outputs": [
    {
     "name": "stdout",
     "output_type": "stream",
     "text": [
      "정확도: 87.75%\n"
     ]
    }
   ],
   "source": [
    "# 예측 결과를 이진값(0 또는 1)으로 변환\n",
    "binary_predictions = (test > 0.5).astype(int)\n",
    "\n",
    "# 예측 결과 출력\n",
    "correct_predictions = np.equal(binary_predictions, y_test)  # 정확하게 예측한 경우 True, 그렇지 않으면 False\n",
    "accuracy = np.mean(correct_predictions)  # 정확도 계산\n",
    "\n",
    "print(f\"정확도: {accuracy * 100:.2f}%\")"
   ]
  }
 ],
 "metadata": {
  "kernelspec": {
   "display_name": "ML",
   "language": "python",
   "name": "python3"
  },
  "language_info": {
   "codemirror_mode": {
    "name": "ipython",
    "version": 3
   },
   "file_extension": ".py",
   "mimetype": "text/x-python",
   "name": "python",
   "nbconvert_exporter": "python",
   "pygments_lexer": "ipython3",
   "version": "3.8.18"
  }
 },
 "nbformat": 4,
 "nbformat_minor": 2
}
