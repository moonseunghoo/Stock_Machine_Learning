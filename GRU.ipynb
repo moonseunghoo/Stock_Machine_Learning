{
 "cells": [
  {
   "cell_type": "markdown",
   "metadata": {},
   "source": [
    "모듈 ∙ 라이브러리 import"
   ]
  },
  {
   "cell_type": "code",
   "execution_count": 1,
   "metadata": {},
   "outputs": [],
   "source": [
    "import numpy as np\n",
    "import pandas as pd\n",
    "import tensorflow as tf\n",
    "import FinanceDataReader as fdr\n",
    "import matplotlib.pyplot as plt\n",
    "\n",
    "from sklearn.model_selection import train_test_split\n",
    "from sklearn.preprocessing import MinMaxScaler"
   ]
  },
  {
   "cell_type": "markdown",
   "metadata": {},
   "source": [
    "데이터 불러오기"
   ]
  },
  {
   "cell_type": "code",
   "execution_count": 21,
   "metadata": {},
   "outputs": [],
   "source": [
    "# 데이터 로드   \n",
    "stock_df = pd.read_csv('/Users/moon/Desktop/Moon SeungHoo/Stock_Machine_Learning/StockData_Setting.csv',low_memory=False)\n",
    "pred_df = pd.read_csv('/Users/moon/Desktop/Moon SeungHoo/Stock_Machine_Learning/StockData_Pred.csv',low_memory=False)\n",
    "\n",
    "pred_tiker = pred_df['0']\n",
    "#불필요한 데이터 삭제\n",
    "stock_df = stock_df.drop({'7','0','1'},axis=1)\n",
    "stock_l_df = stock_df['18'].reset_index().set_index('index')\n",
    "stock_df = stock_df.drop({'18'},axis=1)\n",
    "\n",
    "pred_df = pred_df.drop({'7','0','1'},axis=1)"
   ]
  },
  {
   "cell_type": "markdown",
   "metadata": {},
   "source": [
    "데이터 전처리"
   ]
  },
  {
   "cell_type": "code",
   "execution_count": 23,
   "metadata": {},
   "outputs": [],
   "source": [
    "scaler = MinMaxScaler()\n",
    "stock_l_df['18'] = scaler.fit_transform(stock_l_df['18'].values.reshape(-1, 1))\n",
    "\n"
   ]
  },
  {
   "cell_type": "markdown",
   "metadata": {},
   "source": [
    "데이터 분할"
   ]
  },
  {
   "cell_type": "code",
   "execution_count": 24,
   "metadata": {},
   "outputs": [],
   "source": [
    "# # 데이터를 입력 및 출력으로 나누기\n",
    "# sequence_length = 20\n",
    "# X, y = [], []\n",
    "# for i in range(len(stock_df) - sequence_length):\n",
    "#     X.append(stock_df.values[i:i+sequence_length])\n",
    "#     y.append(int(stock_df['18'].values[i+sequence_length] > stock_df['18'].values[i+sequence_length-1]))\n",
    "\n",
    "# X = np.array(X)\n",
    "# y = np.array(y)\n",
    "\n",
    "# 훈련 및 테스트 데이터로 분할\n",
    "X_train, X_test, y_train, y_test = train_test_split(stock_df, stock_l_df, test_size=0.2, random_state=42)"
   ]
  },
  {
   "cell_type": "markdown",
   "metadata": {},
   "source": [
    "GRU 모델 정의"
   ]
  },
  {
   "cell_type": "code",
   "execution_count": 25,
   "metadata": {},
   "outputs": [],
   "source": [
    "# GRU 모델 정의\n",
    "model = tf.keras.Sequential()\n",
    "model.add(tf.keras.layers.GRU(50, input_shape=(X_train.shape[1], 1)))\n",
    "model.add(tf.keras.layers.Dense(1, activation='sigmoid'))\n",
    "model.compile(optimizer='adam', loss='binary_crossentropy', metrics=['accuracy'])"
   ]
  },
  {
   "cell_type": "markdown",
   "metadata": {},
   "source": [
    "모델 훈련"
   ]
  },
  {
   "cell_type": "code",
   "execution_count": 26,
   "metadata": {},
   "outputs": [
    {
     "name": "stdout",
     "output_type": "stream",
     "text": [
      "Epoch 1/5\n"
     ]
    },
    {
     "name": "stderr",
     "output_type": "stream",
     "text": [
      "2023-10-20 21:46:37.376162: I tensorflow/core/grappler/optimizers/custom_graph_optimizer_registry.cc:114] Plugin optimizer for device_type GPU is enabled.\n",
      "2023-10-20 21:46:37.622756: I tensorflow/core/grappler/optimizers/custom_graph_optimizer_registry.cc:114] Plugin optimizer for device_type GPU is enabled.\n",
      "2023-10-20 21:46:40.053564: I tensorflow/core/grappler/optimizers/custom_graph_optimizer_registry.cc:114] Plugin optimizer for device_type GPU is enabled.\n"
     ]
    },
    {
     "name": "stdout",
     "output_type": "stream",
     "text": [
      "22324/22324 [==============================] - 237s 10ms/step - loss: 0.1203 - accuracy: 0.9628\n",
      "Epoch 2/5\n",
      "22324/22324 [==============================] - 241s 11ms/step - loss: 0.1037 - accuracy: 0.9652\n",
      "Epoch 3/5\n",
      "22324/22324 [==============================] - 245s 11ms/step - loss: 0.1017 - accuracy: 0.9658\n",
      "Epoch 4/5\n",
      "22324/22324 [==============================] - 258s 12ms/step - loss: 0.1003 - accuracy: 0.9660\n",
      "Epoch 5/5\n",
      "22324/22324 [==============================] - 259s 12ms/step - loss: 0.0998 - accuracy: 0.9660\n"
     ]
    },
    {
     "name": "stderr",
     "output_type": "stream",
     "text": [
      "/Users/moon/anaconda3/envs/ML/lib/python3.8/site-packages/keras/src/engine/training.py:3000: UserWarning: You are saving your model as an HDF5 file via `model.save()`. This file format is considered legacy. We recommend using instead the native Keras format, e.g. `model.save('my_model.keras')`.\n",
      "  saving_api.save_model(\n"
     ]
    }
   ],
   "source": [
    "# 모델 훈련\n",
    "model.fit(X_train, y_train, epochs=5, batch_size=32)\n",
    "# 모델 저장\n",
    "model.save(\"GRU_Model.h5\")"
   ]
  },
  {
   "cell_type": "markdown",
   "metadata": {},
   "source": [
    "모델 평가"
   ]
  },
  {
   "cell_type": "code",
   "execution_count": 27,
   "metadata": {},
   "outputs": [
    {
     "name": "stderr",
     "output_type": "stream",
     "text": [
      "2023-10-20 22:13:54.411600: I tensorflow/core/grappler/optimizers/custom_graph_optimizer_registry.cc:114] Plugin optimizer for device_type GPU is enabled.\n",
      "2023-10-20 22:13:54.499151: I tensorflow/core/grappler/optimizers/custom_graph_optimizer_registry.cc:114] Plugin optimizer for device_type GPU is enabled.\n"
     ]
    },
    {
     "name": "stdout",
     "output_type": "stream",
     "text": [
      "5581/5581 [==============================] - 34s 6ms/step - loss: 0.1099 - accuracy: 0.9654\n",
      "Test Loss: 0.10985979437828064, Test Accuracy: 0.9654229879379272\n"
     ]
    },
    {
     "name": "stderr",
     "output_type": "stream",
     "text": [
      "2023-10-20 22:14:28.253400: I tensorflow/core/grappler/optimizers/custom_graph_optimizer_registry.cc:114] Plugin optimizer for device_type GPU is enabled.\n",
      "2023-10-20 22:14:28.290065: I tensorflow/core/grappler/optimizers/custom_graph_optimizer_registry.cc:114] Plugin optimizer for device_type GPU is enabled.\n"
     ]
    },
    {
     "name": "stdout",
     "output_type": "stream",
     "text": [
      "5581/5581 [==============================] - 20s 4ms/step\n",
      "정확도: 96.54%\n"
     ]
    }
   ],
   "source": [
    "# 모델 로드\n",
    "loaded_model = tf.keras.models.load_model(\"GRU_Model.h5\")\n",
    "\n",
    "# 모델 평가\n",
    "loss, accuracy = loaded_model.evaluate(X_test, y_test)\n",
    "print(f'Test Loss: {loss}, Test Accuracy: {accuracy}')\n",
    "\n",
    "# 모델을 사용하여 주가 상승 여부 예측\n",
    "predictions = loaded_model.predict(X_test)\n",
    "\n",
    "# 예측 결과를 이진값(0 또는 1)으로 변환\n",
    "binary_predictions = (predictions > 0.5).astype(int)\n",
    "\n",
    "# 예측 결과 출력\n",
    "correct_predictions = np.equal(binary_predictions, y_test)  # 정확하게 예측한 경우 True, 그렇지 않으면 False\n",
    "accuracy = np.mean(correct_predictions)  # 정확도 계산\n",
    "\n",
    "print(f\"정확도: {accuracy * 100:.2f}%\")\n"
   ]
  },
  {
   "cell_type": "markdown",
   "metadata": {},
   "source": [
    "예측"
   ]
  },
  {
   "cell_type": "code",
   "execution_count": 31,
   "metadata": {},
   "outputs": [],
   "source": [
    "def make_six_digit_list(input_list):\n",
    "    six_digit_list = []\n",
    "\n",
    "    for item in input_list:\n",
    "        # 현재 항목의 길이를 확인\n",
    "        item_str = str(item)\n",
    "        item_len = len(item_str)\n",
    "\n",
    "        if item_len < 6:\n",
    "            # 6자리가 안되는 항목은 앞에 0을 채워서 6자리로 만듭니다.\n",
    "            zero_padding = '0' * (6 - item_len)\n",
    "            six_digit_item = zero_padding + item_str\n",
    "            six_digit_list.append(six_digit_item)\n",
    "        else:\n",
    "            # 이미 6자리인 경우 그대로 유지\n",
    "            six_digit_list.append(item_str)\n",
    "\n",
    "    return six_digit_list"
   ]
  },
  {
   "cell_type": "code",
   "execution_count": 32,
   "metadata": {},
   "outputs": [
    {
     "name": "stderr",
     "output_type": "stream",
     "text": [
      "2023-10-20 22:18:33.001810: I tensorflow/core/grappler/optimizers/custom_graph_optimizer_registry.cc:114] Plugin optimizer for device_type GPU is enabled.\n",
      "2023-10-20 22:18:33.039833: I tensorflow/core/grappler/optimizers/custom_graph_optimizer_registry.cc:114] Plugin optimizer for device_type GPU is enabled.\n"
     ]
    },
    {
     "name": "stdout",
     "output_type": "stream",
     "text": [
      "1531/1531 [==============================] - 6s 4ms/step\n",
      "내일 5% 이상 상승할 종목: ['214370', '040350', '234100', '037460', '035620', '370090', '060570', '018670', '078020', '094940', '085660', '123420', '010820', '210980', '043100', '037950', '066430', '191410', '238120', '115610', '054930', '032080', '028080', '129920', '001940', '018700', '026940', '313760', '094860', '008830', '053050', '288980', '900300', '065500', '244920', '014530', '058860', '053260', '143160', '096630', '038530', '117580', '258830', '044380', '195990', '032500', '016600', '138080', '017670', '069410', '002800', '008290', '000155', '008600', '101400', '054300', '010660', '032820', '123840', '039490', '303530', '084680', '052400', '153490', '050110', '013810', '330350', '051780', '950130', '380540', '052600', '359090', '066790', '009420', '151910', '034940', '091970', '000157', '900110', '082210', '204610', '005870', '016880', '007770', '009620', '038460', '049080', '009140', '094820', '002360', '024060', '179530', '290090', '065060', '189690', '001550', '020400', '052790', '089150', '122350', '000890', '450410', '152550', '101730', '024940', '036630', '000400', '067730', '039980', '177830', '006110', '058850', '048870', '009810', '000230', '038870', '204840', '900070', '204630', '019570', '131370', '328380', '002780', '309960', '011560', '002630', '215380', '054040', '068240', '082850', '065170', '078590', '002870', '000040', '009415', '078890', '046070', '264850', '004090', '192390', '012170', '404950', '065420', '004270', '071090', '289080', '047080', '000440', '184230', '060260', '065450', '060590', '114630']\n",
      "153\n"
     ]
    }
   ],
   "source": [
    "# 모델 로드\n",
    "loaded_model = tf.keras.models.load_model(\"GRU_Model.h5\")\n",
    "\n",
    "pred = loaded_model.predict(pred_df)\n",
    "# 5% 이상 오를 종목 식별\n",
    "threshold = 0.5\n",
    "rising_stocks = [ticker for i, ticker in enumerate(pred_tiker) if pred[i] > threshold]\n",
    "rising_stocks = list(map(str, rising_stocks))\n",
    "result = list(set(rising_stocks))\n",
    "result = make_six_digit_list(result)\n",
    "print(\"내일 5% 이상 상승할 종목:\", result)\n",
    "print(len(result))"
   ]
  },
  {
   "cell_type": "markdown",
   "metadata": {},
   "source": [
    "예측한 결과 검증"
   ]
  },
  {
   "cell_type": "code",
   "execution_count": 33,
   "metadata": {},
   "outputs": [
    {
     "data": {
      "image/png": "[encoded data removed]",
      "text/plain": [
       "<Figure size 600x600 with 1 Axes>"
      ]
     },
     "metadata": {},
     "output_type": "display_data"
    }
   ],
   "source": [
    "def check_price_increase(stock_codes):\n",
    "    result = {}\n",
    "    \n",
    "    for code in stock_codes:\n",
    "        df = fdr.DataReader(code,'2023-10-12','2023-10-13')\n",
    "        \n",
    "        if len(df) < 2:\n",
    "            result[code] = False\n",
    "        else:\n",
    "            today_close = df['Close'].iloc[-1]\n",
    "            yesterday_close = df['Close'].iloc[-2]\n",
    "            \n",
    "            if today_close >= yesterday_close * 1.05 :\n",
    "                result[code] = True\n",
    "            else:\n",
    "                result[code] = False\n",
    "    return result\n",
    "\n",
    "result_TF = check_price_increase(result)\n",
    "result_TF = list(result_TF.values())\n",
    "\n",
    "# True와 False의 개수를 세어 비율을 계산\n",
    "true_count = sum(result_TF)\n",
    "false_count = len(result_TF) - true_count\n",
    "\n",
    "# 비율을 파이그래프로 표현\n",
    "labels = ['True', 'False']\n",
    "sizes = [true_count, false_count]\n",
    "colors = ['green', 'red']\n",
    "\n",
    "# 파이차트 그리기\n",
    "plt.figure(figsize=(6, 6))\n",
    "plt.pie(sizes, labels=labels, colors=colors, autopct='%1.1f%%', startangle=140)\n",
    "\n",
    "# 그래프 표시\n",
    "plt.show() "
   ]
  }
 ],
 "metadata": {
  "kernelspec": {
   "display_name": "ML",
   "language": "python",
   "name": "python3"
  },
  "language_info": {
   "codemirror_mode": {
    "name": "ipython",
    "version": 3
   },
   "file_extension": ".py",
   "mimetype": "text/x-python",
   "name": "python",
   "nbconvert_exporter": "python",
   "pygments_lexer": "ipython3",
   "version": "3.8.18"
  }
 },
 "nbformat": 4,
 "nbformat_minor": 2
}
