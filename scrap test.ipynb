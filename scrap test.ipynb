{
 "cells": [
  {
   "cell_type": "code",
   "execution_count": 1,
   "metadata": {},
   "outputs": [],
   "source": [
    "import FinanceDataReader as fdr\n",
    "import pandas as pd\n",
    "import FinanceDataReader as fdr\n",
    "from datetime import datetime, timedelta\n",
    "import warnings\n",
    "\n",
    "from pykrx import stock\n",
    "from pykrx import bond\n",
    "from defs_pred import filter_df\n",
    "from defs import filter_df\n",
    "from PublicDataReader import Fred\n",
    "from marcap import marcap_data\n",
    "from functools import reduce"
   ]
  },
  {
   "cell_type": "code",
   "execution_count": 2,
   "metadata": {},
   "outputs": [],
   "source": [
    "targer_day = datetime(year=2024,month=2,day=15)\n",
    "end_info_day = (targer_day - timedelta(days=1))\n",
    "delta = timedelta(days=210)\n",
    "day_120 = (end_info_day - delta).strftime(\"%Y-%m-%d\")\n",
    "\n",
    "warnings.simplefilter(action='ignore', category=FutureWarning) # FutureWarning 제거\n",
    "\n",
    "# 코스피 지수 \n",
    "KSI_df = fdr.DataReader('KS11','2020-01-01','2024-02-01').reset_index().drop(\n",
    "    ['Open','High','Low','Adj Close'], axis=1).rename(\n",
    "        columns={'Close':'KSI_Clo','Volume':'KSI_Vol'}).round(2)\n",
    "\n",
    "# 나스닥 지수\n",
    "IXIC_df = fdr.DataReader('IXIC','2020-01-01','2024-02-01').reset_index().drop(\n",
    "    ['Open','High','Low','Adj Close'], axis=1).rename(\n",
    "        columns={'Close':'IXIC_Clo','Volume':'IXIC_Vol'}).round(2)\n",
    "\n",
    "def shift_date(row):\n",
    "    if row['Date'].weekday() == 4:  # 금요일이면\n",
    "        return row['Date'] + pd.Timedelta(days=3)\n",
    "    else:\n",
    "        return row['Date'] + pd.Timedelta(days=1)\n",
    "\n",
    "IXIC_df['Date'] = IXIC_df.apply(shift_date, axis=1)\n",
    "\n",
    "data_df = [KSI_df,IXIC_df]\n",
    "dataset_df = reduce(lambda x,y : pd.merge(x,y,on='Date'),data_df)\n",
    "\n",
    "# 주식시장 개장일만 분류\n",
    "filtered_df = filter_df(dataset_df)"
   ]
  }
 ],
 "metadata": {
  "kernelspec": {
   "display_name": "Python 3",
   "language": "python",
   "name": "python3"
  },
  "language_info": {
   "codemirror_mode": {
    "name": "ipython",
    "version": 3
   },
   "file_extension": ".py",
   "mimetype": "text/x-python",
   "name": "python",
   "nbconvert_exporter": "python",
   "pygments_lexer": "ipython3",
   "version": "3.8.18"
  }
 },
 "nbformat": 4,
 "nbformat_minor": 2
}
