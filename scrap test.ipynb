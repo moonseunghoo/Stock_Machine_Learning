{
 "cells": [
  {
   "cell_type": "code",
   "execution_count": 1,
   "metadata": {},
   "outputs": [],
   "source": [
    "import FinanceDataReader as fdr\n",
    "import pandas as pd\n",
    "import pandas_market_calendars as mcal\n",
    "import warnings\n",
    "import ta\n",
    "\n",
    "from pykrx import stock\n",
    "from defs import filter_df\n",
    "from PublicDataReader import Fred\n",
    "from marcap import marcap_data\n",
    "from functools import reduce"
   ]
  },
  {
   "cell_type": "code",
   "execution_count": 2,
   "metadata": {},
   "outputs": [
    {
     "ename": "SyntaxError",
     "evalue": "invalid syntax (1509692813.py, line 11)",
     "output_type": "error",
     "traceback": [
      "\u001b[0;36m  Cell \u001b[0;32mIn[2], line 11\u001b[0;36m\u001b[0m\n\u001b[0;31m    MACD[] = ta.trend.MACD(close=C,window_fast=12,window_slow=26,window_sign=9)\u001b[0m\n\u001b[0m         ^\u001b[0m\n\u001b[0;31mSyntaxError\u001b[0m\u001b[0;31m:\u001b[0m invalid syntax\n"
     ]
    }
   ],
   "source": [
    "warnings.simplefilter(action='ignore', category=FutureWarning) # FutureWarning 제거\n",
    "code = '005930'\n",
    "stock_df = fdr.DataReader(code,'2022-01-01','2023-11-30').reset_index()\n",
    "MACD = []\n",
    "\n",
    "# 이동평균선 5,20,60,200\n",
    "ma = [5,20,60,120]\n",
    "for days in ma:\n",
    "    stock_df['ma_'+str(days)] = stock_df['Close'].rolling(window = days).mean().round(2)\n",
    "\n",
    "H, L, C, V = stock_df['High'], stock_df['Low'], stock_df['Close'], stock_df['Volume']\n",
    "MACD = ta.trend.MACD(close=C,window_fast=12,window_slow=26,window_sign=9)\n",
    "\n",
    "SR = ta.momentum.StochasticOscillator(close=C,high=H,low=L,window=14,smooth_window=3)"
   ]
  }
 ],
 "metadata": {
  "kernelspec": {
   "display_name": "Python 3",
   "language": "python",
   "name": "python3"
  },
  "language_info": {
   "codemirror_mode": {
    "name": "ipython",
    "version": 3
   },
   "file_extension": ".py",
   "mimetype": "text/x-python",
   "name": "python",
   "nbconvert_exporter": "python",
   "pygments_lexer": "ipython3",
   "version": "3.11.6"
  }
 },
 "nbformat": 4,
 "nbformat_minor": 2
}
