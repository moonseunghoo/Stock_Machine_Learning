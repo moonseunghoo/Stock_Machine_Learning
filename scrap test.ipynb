{
 "cells": [
  {
   "cell_type": "code",
   "execution_count": 1,
   "metadata": {},
   "outputs": [],
   "source": [
    "import FinanceDataReader as fdr\n",
    "import requests\n",
    "import pandas as pd\n",
    "import time\n",
    "import ta\n",
    "import openpyxl\n",
    "import warnings\n",
    "import cloudscraper\n",
    "import tensorflow as tf\n",
    "tf.config.experimental.set_visible_devices([], 'GPU')\n",
    "\n",
    "import datetime\n",
    "import smtplib\n",
    "from email.mime.text import MIMEText\n",
    "from email.mime.multipart import MIMEMultipart\n",
    "\n",
    "\n",
    "from datetime import datetime, timedelta\n",
    "from pykrx import stock\n",
    "from pykrx import bond\n",
    "from PublicDataReader import Fred\n",
    "from marcap import marcap_data\n",
    "from functools import reduce\n",
    "from collections import OrderedDict\n",
    "from defs_pred import Marcap, filter_df\n",
    "from io import BytesIO\n",
    "from openpyxl.utils.dataframe import dataframe_to_rows\n",
    "from ics import Calendar, Event"
   ]
  },
  {
   "cell_type": "code",
   "execution_count": 2,
   "metadata": {},
   "outputs": [],
   "source": [
    "def send_email(subject, body):\n",
    "    smtp_server = \"smtp.gmail.com\"\n",
    "    port = 587  # Gmail SMTP 포트\n",
    "\n",
    "    sender_email = \"hoo217606@gmail.com\"\n",
    "    receiver_email = \"tmdgn2002@gmail.com\"\n",
    "    app_password = \"yoch spra idlc stki\"  # 애플리케이션 비밀번호 사용\n",
    "\n",
    "    message = MIMEMultipart()\n",
    "    message[\"From\"] = sender_email\n",
    "    message[\"To\"] = receiver_email\n",
    "    message[\"Subject\"] = subject  # 수정된 부분\n",
    "\n",
    "    message.attach(MIMEText(body, \"plain\"))\n",
    "\n",
    "    server = smtplib.SMTP(smtp_server, port)\n",
    "    server.starttls()\n",
    "    server.login(sender_email, app_password)\n",
    "    server.sendmail(sender_email, receiver_email, message.as_string())\n",
    "    server.quit()\n",
    "\n",
    "# 이메일 보내기\n",
    "send_email(\"테스트 제목\", \"테스트 본문\")"
   ]
  }
 ],
 "metadata": {
  "kernelspec": {
   "display_name": "Python 3",
   "language": "python",
   "name": "python3"
  },
  "language_info": {
   "codemirror_mode": {
    "name": "ipython",
    "version": 3
   },
   "file_extension": ".py",
   "mimetype": "text/x-python",
   "name": "python",
   "nbconvert_exporter": "python",
   "pygments_lexer": "ipython3",
   "version": "3.8.18"
  }
 },
 "nbformat": 4,
 "nbformat_minor": 2
}
