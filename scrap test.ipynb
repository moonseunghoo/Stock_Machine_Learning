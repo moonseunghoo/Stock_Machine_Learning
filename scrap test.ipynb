{
 "cells": [
  {
   "cell_type": "code",
   "execution_count": 1,
   "metadata": {},
   "outputs": [],
   "source": [
    "import FinanceDataReader as fdr\n",
    "import pandas as pd\n",
    "import FinanceDataReader as fdr\n",
    "from datetime import datetime, timedelta\n",
    "\n",
    "from pykrx import stock\n",
    "from pykrx import bond\n",
    "from defs import filter_df\n",
    "from PublicDataReader import Fred\n",
    "from marcap import marcap_data\n",
    "from functools import reduce"
   ]
  },
  {
   "cell_type": "code",
   "execution_count": 2,
   "metadata": {},
   "outputs": [],
   "source": [
    "a = stock.get_market_ticker_list(\"20231031\", market=\"KOSPI\")\n",
    "b = stock.get_market_ticker_list(\"20231031\", market=\"KOSDAQ\")\n",
    "kospi = pd.Series(a)\n",
    "kosdaq = pd.Series(b)\n",
    "code = pd.concat([kospi,kosdaq],axis=0)"
   ]
  },
  {
   "cell_type": "code",
   "execution_count": 3,
   "metadata": {},
   "outputs": [],
   "source": [
    "kospi = fdr.StockListing('KOSPI')\n",
    "kospi = kospi['Code']\n",
    "kosdaq = fdr.StockListing('KOSDAQ')\n",
    "kosdaq = kosdaq['Code']\n",
    "code = pd.concat([kospi,kosdaq],axis=0)"
   ]
  },
  {
   "cell_type": "code",
   "execution_count": null,
   "metadata": {},
   "outputs": [],
   "source": [
    "# def add_52_week_high_info(series):\n",
    "#     df = pd.DataFrame(series, columns=['Code'])\n",
    "#     high_52_week_list = []\n",
    "#     change_percentage_list = []\n",
    "#     average_volume_5_days = []\n",
    "\n",
    "#     for stock_code in series:\n",
    "#         # 오늘 날짜\n",
    "#         end_date = datetime.today().strftime('%Y-%m-%d')\n",
    "#         # 10일 전 날짜 계산\n",
    "#         start_date = (datetime.today() - timedelta(days=10)).strftime('%Y-%m-%d')\n",
    "\n",
    "#         # FinanceDataReader를 사용하여 주식 데이터 가져오기\n",
    "#         stock_data = fdr.DataReader(stock_code, start=start_date, end=end_date)\n",
    "#         stock_data = stock_data.tail(5)\n",
    "        \n",
    "#         # 52주 최고가 계산\n",
    "#         fifty_two_week_high = stock_data['Close'].rolling(window=252, min_periods=1).max()\n",
    "#         recent_52_week_high = fifty_two_week_high.iloc[-1]\n",
    "    \n",
    "#         # 최근 종가 구하기\n",
    "#         recent_close = stock_data['Close'].iloc[-1]\n",
    "        \n",
    "#         # 최근 종가 대비 52주 최고가 대비 변동율 계산\n",
    "#         change_percentage = ((recent_close - recent_52_week_high) / recent_52_week_high) * 100\n",
    "\n",
    "#         # 거래량(거래대금)의 평균 계산\n",
    "#         average_volume = int(stock_data['Volume'].mean())\n",
    "        \n",
    "#         high_52_week_list.append(recent_52_week_high)\n",
    "#         change_percentage_list.append(change_percentage)\n",
    "#         average_volume_5_days.append(average_volume)\n",
    "\n",
    "#     df['52주 최고가'] = high_52_week_list\n",
    "#     df['52주 최고가 대비 변동율'] = change_percentage_list\n",
    "#     df['5일 평균 거래량'] = average_volume_5_days\n",
    "\n",
    "#     return df\n",
    "\n",
    "# kospi = fdr.StockListing('KOSPI')\n",
    "# kospi = kospi['Code']\n",
    "# kosdaq = fdr.StockListing('KOSDAQ')\n",
    "# kosdaq = kosdaq['Code']\n",
    "# code = pd.concat([kospi,kosdaq],axis=0)\n",
    "\n",
    "# # 데이터프레임 생성 \n",
    "# result_df = add_52_week_high_info(code)\n",
    "\n",
    "# result_df = result_df[result_df['5일 평균 거래량'] >= 500000]\n",
    "\n",
    "# # 변동율을 기준으로 내림차순 정렬\n",
    "# sorted_df = result_df.sort_values(by='52주 최고가 대비 변동율', ascending=False)\n",
    "\n",
    "# # 상위 100개만 선택하여 새로운 데이터프레임 생성\n",
    "# top_100_df = sorted_df.head(100)\n",
    "# top_100_df = top_100_df.drop(['52주 최고가','52주 최고가 대비 변동율','5일 평균 거래량'],axis=1)\n",
    "# top_100_list = top_100_df['Code'].tolist()"
   ]
  },
  {
   "cell_type": "code",
   "execution_count": null,
   "metadata": {},
   "outputs": [],
   "source": [
    "# 오늘 날짜\n",
    "# end_date = datetime.today().strftime('%Y-%m-%d')\n",
    "# end_date = datetime(year=2023,month=10,day=31).strftime(\"%Y-%m-%d\")\n",
    "# # 5일 전 날짜 계산\n",
    "# start_date = (datetime.end_date - timedelta(days=10)).strftime('%Y-%m-%d')\n",
    "\n",
    "# end_date = datetime(year=2023, month=10, day=31)\n",
    "# # 10일 전 날짜 계산\n",
    "# start_date = (end_date - timedelta(days=10)).strftime('%Y-%m-%d')\n",
    "\n",
    "# # FinanceDataReader를 사용하여 주식 데이터 가져오기\n",
    "# stock_data = fdr.DataReader('005930', start=start_date, end=end_date)  # 예시로 삼성전자 종목코드 '005930' 사용\n",
    "# stock_data = stock_data.tail(5)\n",
    "# # 거래량(거래대금)의 평균 계산\n",
    "# average_volume = int(stock_data['Volume'].mean())"
   ]
  }
 ],
 "metadata": {
  "kernelspec": {
   "display_name": "Python 3",
   "language": "python",
   "name": "python3"
  },
  "language_info": {
   "codemirror_mode": {
    "name": "ipython",
    "version": 3
   },
   "file_extension": ".py",
   "mimetype": "text/x-python",
   "name": "python",
   "nbconvert_exporter": "python",
   "pygments_lexer": "ipython3",
   "version": "3.8.18"
  }
 },
 "nbformat": 4,
 "nbformat_minor": 2
}
