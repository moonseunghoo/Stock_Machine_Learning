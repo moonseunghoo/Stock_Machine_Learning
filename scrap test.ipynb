{
 "cells": [
  {
   "cell_type": "code",
   "execution_count": 1,
   "metadata": {},
   "outputs": [],
   "source": [
    "import FinanceDataReader as fdr\n",
    "import pandas as pd\n",
    "import pandas_market_calendars as mcal\n",
    "import warnings\n",
    "import ta\n",
    "\n",
    "from pykrx import stock\n",
    "from defs import filter_df\n",
    "from PublicDataReader import Fred\n",
    "from marcap import marcap_data\n",
    "from functools import reduce"
   ]
  },
  {
   "cell_type": "code",
   "execution_count": 2,
   "metadata": {},
   "outputs": [],
   "source": [
    "warnings.simplefilter(action='ignore', category=FutureWarning) # FutureWarning 제거\n",
    "\n",
    "code = '005930'\n",
    "\n",
    "stock_df = fdr.DataReader(code,'2021-01-01','2023-07-31').reset_index()\n",
    "\n",
    "buy_df = stock.get_market_trading_volume_by_date(\"20210101\", \"20230731\", code, on='매수').iloc[:,2].reset_index()\n",
    "sell_df = stock.get_market_trading_volume_by_date(\"20210101\", \"20230731\", code, on='매도').iloc[:,2].reset_index()\n",
    "\n",
    "# 이동평균선 5,20,60,200 O\n",
    "ma = [5,20,60,120]\n",
    "for days in ma:\n",
    "    stock_df['ma_'+str(days)] = stock_df['Close'].rolling(window = days).mean().round(2)\n",
    "\n",
    "H, L, C, V = stock_df['High'], stock_df['Low'], stock_df['Close'], stock_df['Volume']\n",
    "#해당 종목 EMA\n",
    "stock_df['EMA'] = ta.trend.ema_indicator(close=C, fillna=True).round(2)\n",
    "#해당 종목 SMA\n",
    "stock_df['SMA'] = ta.trend.sma_indicator(close=C, fillna=True).round(2)\n",
    "#해당 종목 RSI\n",
    "stock_df['RSI'] = ta.momentum.rsi(close=C, fillna=True).round(2)\n",
    "#해당 종목 MFI\n",
    "stock_df['MFI'] = ta.volume.money_flow_index(high=H, low=L, close=C, volume=V, fillna=True).round(2)\n",
    "#해당 종목 상승률\n",
    "stock_df['Change'] = (stock_df['Change']*100).round(2)\n",
    "#해당 종목 VPT\n",
    "stock_df['VPT'] = ta.volume.volume_price_trend(close=C, volume=V).round(2)\n",
    "#해당 종목 일목균형표\n",
    "stock_df['VI'] = ta.trend.vortex_indicator_pos(high=H,low=L,close=C,fillna=True).round(2)\n",
    "#y 라벨 결과 데이터프레임 \n",
    "label_values = (stock_df['Change'] >= 5) & (stock_df['Change'] > 0)\n",
    "shifted_values = label_values.shift(2)\n",
    "stock_df['Label'] = shifted_values\n",
    "#해당 종목 체결강도\n",
    "stock_df['VP'] = (buy_df['개인']/sell_df['개인']*100).round(2)\n",
    "\n",
    "#해당 종목 시가총액, 거래대금, 주식수\n",
    "M_df = marcap_data('2021-01-01','2023-07-31',code=code)\n",
    "selected_colums = ['Amount','Marcap','Stocks']\n",
    "M_df = M_df[selected_colums].reset_index()\n",
    "\n",
    "#데이터 병합\n",
    "merge_df = [stock_df,M_df]\n",
    "dataset_df = reduce(lambda x,y : pd.merge(x,y,on='Date'),merge_df)\n",
    "\n",
    "#주식시장 개장일만 분류\n",
    "filtered_df = filter_df(dataset_df)"
   ]
  }
 ],
 "metadata": {
  "kernelspec": {
   "display_name": "Python 3",
   "language": "python",
   "name": "python3"
  },
  "language_info": {
   "codemirror_mode": {
    "name": "ipython",
    "version": 3
   },
   "file_extension": ".py",
   "mimetype": "text/x-python",
   "name": "python",
   "nbconvert_exporter": "python",
   "pygments_lexer": "ipython3",
   "version": "3.11.6"
  }
 },
 "nbformat": 4,
 "nbformat_minor": 2
}
