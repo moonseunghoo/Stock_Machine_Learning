{
 "cells": [
  {
   "cell_type": "code",
   "execution_count": 1,
   "metadata": {},
   "outputs": [],
   "source": [
    "import FinanceDataReader as fdr\n",
    "import requests\n",
    "import pandas as pd\n",
    "import time\n",
    "import ta\n",
    "import openpyxl\n",
    "import warnings\n",
    "import cloudscraper\n",
    "import tensorflow as tf\n",
    "tf.config.experimental.set_visible_devices([], 'GPU')\n",
    "\n",
    "import datetime\n",
    "import smtplib\n",
    "from email.mime.text import MIMEText\n",
    "from email.mime.multipart import MIMEMultipart\n",
    "\n",
    "from defs_pred_auto import Data_Scrap_Pred\n",
    "from datetime import datetime, timedelta\n",
    "from pykrx import stock\n",
    "from pykrx import bond\n",
    "from PublicDataReader import Fred\n",
    "from functools import reduce\n",
    "from collections import OrderedDict\n",
    "from defs_pred import Marcap, filter_df\n",
    "from io import BytesIO\n",
    "from openpyxl.utils.dataframe import dataframe_to_rows\n",
    "from ics import Calendar, Event"
   ]
  },
  {
   "cell_type": "code",
   "execution_count": 2,
   "metadata": {},
   "outputs": [],
   "source": [
    "today = datetime.now()\n",
    "# today = (datetime.now() - timedelta(days=3))\n",
    "\n",
    "if today.strftime('%a') == 'Fri':\n",
    "    targer_day = (today + timedelta(days=3))\n",
    "else :\n",
    "    targer_day = (today + timedelta(days=1))\n",
    "\n",
    "if targer_day.strftime('%a') == 'Mon':\n",
    "    end_info_day = (targer_day - timedelta(days=3))\n",
    "    delta = timedelta(days=375) \n",
    "    delta2 = timedelta(days=60)\n",
    "    day_21 = (end_info_day - delta2).strftime(\"%Y-%m-%d\")\n",
    "    day_120 = (end_info_day - delta).strftime(\"%Y-%m-%d\")\n",
    "else :\n",
    "    end_info_day = (targer_day - timedelta(days=1))\n",
    "    delta = timedelta(days=375)\n",
    "    delta2 = timedelta(days=60)\n",
    "    day_21 = (end_info_day - delta2).strftime(\"%Y-%m-%d\")\n",
    "    day_120 = (end_info_day - delta).strftime(\"%Y-%m-%d\")\n",
    "\n",
    "# 예시 데이터프레임 생성\n",
    "KSI_df = fdr.DataReader('KS11', day_21, end_info_day).reset_index().round(2)\n",
    "KSI_df.drop(KSI_df.columns[-2], axis=1, inplace=True)"
   ]
  }
 ],
 "metadata": {
  "kernelspec": {
   "display_name": "Python 3",
   "language": "python",
   "name": "python3"
  },
  "language_info": {
   "codemirror_mode": {
    "name": "ipython",
    "version": 3
   },
   "file_extension": ".py",
   "mimetype": "text/x-python",
   "name": "python",
   "nbconvert_exporter": "python",
   "pygments_lexer": "ipython3",
   "version": "3.8.18"
  }
 },
 "nbformat": 4,
 "nbformat_minor": 2
}
