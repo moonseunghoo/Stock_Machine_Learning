{
 "cells": [
  {
   "cell_type": "code",
   "execution_count": 1,
   "metadata": {},
   "outputs": [],
   "source": [
    "import FinanceDataReader as fdr\n",
    "import pandas as pd\n",
    "from datetime import datetime\n",
    "import pandas_market_calendars as mcal\n",
    "import warnings\n",
    "import ta\n",
    "\n",
    "from pykrx import stock\n",
    "from defs import filter_df\n",
    "from PublicDataReader import Fred\n",
    "from marcap import marcap_data\n",
    "from functools import reduce"
   ]
  },
  {
   "cell_type": "code",
   "execution_count": 2,
   "metadata": {},
   "outputs": [
    {
     "name": "stdout",
     "output_type": "stream",
     "text": [
      "     Code\n",
      "0  005930\n",
      "1  000660\n",
      "2  373220\n",
      "3  207940\n",
      "        Code\n",
      "97    005385\n",
      "88    267260\n",
      "486   090350\n",
      "483   109070\n",
      "1662  388800\n",
      "...      ...\n",
      "313   017940\n",
      "467   005720\n",
      "354   016800\n",
      "1687  450940\n",
      "1684  446150\n",
      "\n",
      "[200 rows x 1 columns]\n"
     ]
    }
   ],
   "source": [
    "def add_52_week_high_info(series):\n",
    "    df = pd.DataFrame(series, columns=['Code'])\n",
    "    print(df.head(4))\n",
    "    high_52_week_list = []\n",
    "    change_percentage_list = []\n",
    "\n",
    "    for stock_code in series:\n",
    "        # FinanceDataReader를 사용하여 주식 데이터 가져오기\n",
    "        stock_data = fdr.DataReader(stock_code)\n",
    "        \n",
    "        # 52주 최고가 계산\n",
    "        fifty_two_week_high = stock_data['Close'].rolling(window=252, min_periods=1).max()\n",
    "        recent_52_week_high = fifty_two_week_high.iloc[-1]\n",
    "        \n",
    "        # 최근 종가 구하기\n",
    "        recent_close = stock_data['Close'].iloc[-1]\n",
    "        \n",
    "        # 최근 종가 대비 52주 최고가 대비 변동율 계산\n",
    "        change_percentage = ((recent_close - recent_52_week_high) / recent_52_week_high) * 100\n",
    "        \n",
    "        high_52_week_list.append(recent_52_week_high)\n",
    "        change_percentage_list.append(change_percentage)\n",
    "\n",
    "    df['52주 최고가'] = high_52_week_list\n",
    "    df['52주 최고가 대비 변동율'] = change_percentage_list\n",
    "\n",
    "    return df\n",
    "\n",
    "kospi = fdr.StockListing('KOSPI')\n",
    "kospi = kospi['Code']\n",
    "kosdaq = fdr.StockListing('KOSDAQ')\n",
    "kosdaq = kosdaq['Code']\n",
    "code = pd.concat([kospi,kosdaq],axis=0)\n",
    "\n",
    "# 데이터프레임 생성\n",
    "result_df = add_52_week_high_info(code)\n",
    "\n",
    "# 변동율을 기준으로 내림차순 정렬\n",
    "sorted_df = result_df.sort_values(by='52주 최고가 대비 변동율', ascending=False)\n",
    "\n",
    "# 상위 100개만 선택하여 새로운 데이터프레임 생성\n",
    "top_200_df = sorted_df.head(200)\n",
    "top_200_df = top_200_df.drop(['52주 최고가','52주 최고가 대비 변동율'],axis=1)\n",
    "\n",
    "# 결과 출력\n",
    "print(top_200_df)"
   ]
  }
 ],
 "metadata": {
  "kernelspec": {
   "display_name": "Python 3",
   "language": "python",
   "name": "python3"
  },
  "language_info": {
   "codemirror_mode": {
    "name": "ipython",
    "version": 3
   },
   "file_extension": ".py",
   "mimetype": "text/x-python",
   "name": "python",
   "nbconvert_exporter": "python",
   "pygments_lexer": "ipython3",
   "version": "3.11.6"
  }
 },
 "nbformat": 4,
 "nbformat_minor": 2
}
