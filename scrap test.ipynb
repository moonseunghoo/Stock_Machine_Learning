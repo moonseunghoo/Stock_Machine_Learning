{
 "cells": [
  {
   "cell_type": "code",
   "execution_count": 1,
   "metadata": {},
   "outputs": [],
   "source": [
    "import FinanceDataReader as fdr\n",
    "import requests\n",
    "import pandas as pd\n",
    "import time\n",
    "import ta\n",
    "import openpyxl\n",
    "import warnings\n",
    "import cloudscraper\n",
    "import tensorflow as tf\n",
    "tf.config.experimental.set_visible_devices([], 'GPU')\n",
    "\n",
    "from datetime import datetime, timedelta\n",
    "from pykrx import stock\n",
    "from pykrx import bond\n",
    "from PublicDataReader import Fred\n",
    "from marcap import marcap_data\n",
    "from functools import reduce\n",
    "from collections import OrderedDict\n",
    "from defs_pred import Marcap, filter_df\n",
    "from io import BytesIO\n",
    "from openpyxl.utils.dataframe import dataframe_to_rows\n",
    "from ics import Calendar, Event"
   ]
  },
  {
   "cell_type": "code",
   "execution_count": 2,
   "metadata": {},
   "outputs": [],
   "source": [
    "targer_day = datetime(year=2024,month=3,day=7)\n",
    "end_info_day = (targer_day - timedelta(days=1))\n",
    "delta = timedelta(days=375)\n",
    "delta2 = timedelta(days=60)\n",
    "day_21 = (end_info_day - delta2).strftime(\"%Y-%m-%d\")\n",
    "day_120 = (end_info_day - delta).strftime(\"%Y-%m-%d\")\n",
    "\n",
    "\n",
    "a = stock.get_market_ticker_list(\"20240306\", market=\"KOSPI\")\n",
    "b = stock.get_market_ticker_list(\"20240306\", market=\"KOSDAQ\")\n",
    "kospi = pd.Series(a)\n",
    "kosdaq = pd.Series(b)\n",
    "code = pd.concat([kospi,kosdaq],axis=0)\n",
    "\n",
    "df = pd.DataFrame(code, columns=['Code'])\n",
    "high_52_week_list = []\n",
    "change_percentage_list = []\n",
    "average_volume_5_days = []\n",
    "\n",
    "for stock_code in code:\n",
    "# 10일 전 날짜 계산\n",
    "    high_52_date = (end_info_day - timedelta(days=375)).strftime('%Y-%m-%d')\n",
    "\n",
    "    # FinanceDataReader를 사용하여 주식 데이터 가져오기\n",
    "    stock_data = fdr.DataReader(stock_code, start=high_52_date, end=end_info_day).reset_index()\n",
    "    stock_data['Volume'] = stock_data['Volume'] * ((stock_data['High'] + stock_data['Low']) / 2)\n",
    "\n",
    "    # 52주 최고가 계산\n",
    "    rolling_result = stock_data['High'].rolling(window=250).max()\n",
    "    \n",
    "    # 최근 종가 대비 52주 최고가 대비 변동율 계산\n",
    "    change_percentage = round((stock_data['Close'].shift(1) - rolling_result) / rolling_result, 3)\n",
    "\n",
    "    # 거래대금 평균 계산\n",
    "    stock_data = stock_data.tail(5)\n",
    "    average_volume = int(stock_data['Volume'].mean())\n",
    "    \n",
    "    high_52_week_list.append(rolling_result.tail(1))\n",
    "    change_percentage_list.append(change_percentage.tail(1))\n",
    "    average_volume_5_days.append(average_volume)\n",
    "    \n",
    "df['52주 최고가'] = high_52_week_list\n",
    "df['52주 최고가 대비 변동율'] = change_percentage_list\n",
    "df['5일 평균 거래대금'] = average_volume_5_days"
   ]
  },
  {
   "cell_type": "code",
   "execution_count": 4,
   "metadata": {},
   "outputs": [
    {
     "name": "stderr",
     "output_type": "stream",
     "text": [
      "/var/folders/j9/2n544hl17x51jqvjb72jz9s40000gp/T/ipykernel_30853/139744197.py:2: FutureWarning: Calling float on a single element Series is deprecated and will raise a TypeError in the future. Use float(ser.iloc[0]) instead\n",
      "  result_df['52주 최고가 대비 변동율'] = result_df['52주 최고가 대비 변동율'].apply(lambda x: float(x))\n",
      "/var/folders/j9/2n544hl17x51jqvjb72jz9s40000gp/T/ipykernel_30853/139744197.py:2: SettingWithCopyWarning: \n",
      "A value is trying to be set on a copy of a slice from a DataFrame.\n",
      "Try using .loc[row_indexer,col_indexer] = value instead\n",
      "\n",
      "See the caveats in the documentation: https://pandas.pydata.org/pandas-docs/stable/user_guide/indexing.html#returning-a-view-versus-a-copy\n",
      "  result_df['52주 최고가 대비 변동율'] = result_df['52주 최고가 대비 변동율'].apply(lambda x: float(x))\n"
     ]
    }
   ],
   "source": [
    "result_df = df[df['5일 평균 거래대금'] >= 50000000000]\n",
    "result_df['52주 최고가 대비 변동율'] = result_df['52주 최고가 대비 변동율'].apply(lambda x: float(x))\n",
    "\n",
    "# 변동율을 기준으로 내림차순 정렬\n",
    "sorted_df = result_df.sort_values(by='52주 최고가 대비 변동율', ascending=True)\n",
    " \n",
    "# 상위 100개만 선택하여 새로운 데이터프레임 생성\n",
    "top_100_df = sorted_df.head(200)\n",
    "top_100_df = top_100_df.drop(['52주 최고가','52주 최고가 대비 변동율','5일 평균 거래대금'],axis=1)\n",
    "top_100_list = top_100_df['Code'].tolist()"
   ]
  }
 ],
 "metadata": {
  "kernelspec": {
   "display_name": "Python 3",
   "language": "python",
   "name": "python3"
  },
  "language_info": {
   "codemirror_mode": {
    "name": "ipython",
    "version": 3
   },
   "file_extension": ".py",
   "mimetype": "text/x-python",
   "name": "python",
   "nbconvert_exporter": "python",
   "pygments_lexer": "ipython3",
   "version": "3.8.18"
  }
 },
 "nbformat": 4,
 "nbformat_minor": 2
}
