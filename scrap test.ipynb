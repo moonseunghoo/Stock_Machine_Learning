{
 "cells": [
  {
   "cell_type": "code",
   "execution_count": 1,
   "metadata": {},
   "outputs": [],
   "source": [
    "import FinanceDataReader as fdr\n",
    "import requests\n",
    "import pandas as pd\n",
    "import time\n",
    "import ta\n",
    "import openpyxl\n",
    "import warnings\n",
    "import cloudscraper\n",
    "import tensorflow as tf\n",
    "tf.config.experimental.set_visible_devices([], 'GPU')\n",
    "\n",
    "import datetime\n",
    "import smtplib\n",
    "from email.mime.text import MIMEText\n",
    "from email.mime.multipart import MIMEMultipart\n",
    "\n",
    "from defs_pred_auto import Data_Scrap_Pred\n",
    "from datetime import datetime, timedelta\n",
    "from pykrx import stock\n",
    "from pykrx import bond\n",
    "from PublicDataReader import Fred\n",
    "from functools import reduce\n",
    "from collections import OrderedDict\n",
    "from defs_pred import Marcap, filter_df\n",
    "from io import BytesIO\n",
    "from openpyxl.utils.dataframe import dataframe_to_rows\n",
    "from ics import Calendar, Event"
   ]
  },
  {
   "cell_type": "code",
   "execution_count": 2,
   "metadata": {},
   "outputs": [
    {
     "name": "stdout",
     "output_type": "stream",
     "text": [
      "[main 73e0fce] Commit message here\n",
      " 2 files changed, 25 insertions(+), 31 deletions(-)\n",
      "Pushed to GitHub successfully.\n"
     ]
    },
    {
     "name": "stderr",
     "output_type": "stream",
     "text": [
      "error: src refspec master does not match any\n",
      "error: failed to push some refs to 'https://github.com/moonseunghoo/Stock_Machine_Learning.git'\n"
     ]
    }
   ],
   "source": [
    "import subprocess\n",
    "\n",
    "def git_push(commit_message):\n",
    "    try:\n",
    "        # Add all files to staging area\n",
    "        subprocess.run([\"git\", \"add\", \".\"])\n",
    "\n",
    "        # Commit changes\n",
    "        subprocess.run([\"git\", \"commit\", \"-m\", commit_message])\n",
    "\n",
    "        # Push changes to remote repository (origin)\n",
    "        subprocess.run([\"git\", \"push\"])\n",
    "        \n",
    "        print(\"Pushed to GitHub successfully.\")\n",
    "    except Exception as e:\n",
    "        print(\"An error occurred:\", e)\n",
    "\n",
    "# 호출 예시\n",
    "commit_message = \"Commit message here\"\n",
    "git_push(commit_message)"
   ]
  }
 ],
 "metadata": {
  "kernelspec": {
   "display_name": "Python 3",
   "language": "python",
   "name": "python3"
  },
  "language_info": {
   "codemirror_mode": {
    "name": "ipython",
    "version": 3
   },
   "file_extension": ".py",
   "mimetype": "text/x-python",
   "name": "python",
   "nbconvert_exporter": "python",
   "pygments_lexer": "ipython3",
   "version": "3.8.18"
  }
 },
 "nbformat": 4,
 "nbformat_minor": 2
}
