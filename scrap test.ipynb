{
 "cells": [
  {
   "cell_type": "code",
   "execution_count": 1,
   "metadata": {},
   "outputs": [],
   "source": [
    "import FinanceDataReader as fdr\n",
    "import requests\n",
    "import pandas as pd\n",
    "import time\n",
    "import ta\n",
    "import openpyxl\n",
    "import warnings\n",
    "import cloudscraper\n",
    "import tensorflow as tf\n",
    "tf.config.experimental.set_visible_devices([], 'GPU')\n",
    "\n",
    "import datetime\n",
    "import smtplib\n",
    "from email.mime.text import MIMEText\n",
    "from email.mime.multipart import MIMEMultipart\n",
    "\n",
    "from defs_pred_auto import Data_Scrap_Pred\n",
    "from datetime import datetime, timedelta\n",
    "from pykrx import stock\n",
    "from pykrx import bond\n",
    "from PublicDataReader import Fred\n",
    "from functools import reduce\n",
    "from collections import OrderedDict\n",
    "from defs_pred import Marcap, filter_df\n",
    "from io import BytesIO\n",
    "from openpyxl.utils.dataframe import dataframe_to_rows\n",
    "from ics import Calendar, Event"
   ]
  },
  {
   "cell_type": "code",
   "execution_count": 9,
   "metadata": {},
   "outputs": [
    {
     "name": "stdout",
     "output_type": "stream",
     "text": [
      "   A  B\n",
      "0  1  4\n",
      "1  2  5\n",
      "2  3  6\n"
     ]
    }
   ],
   "source": [
    "import pandas as pd\n",
    "\n",
    "# 데이터프레임 생성 예시\n",
    "data = {\n",
    "    'A': [1, 2, 3],\n",
    "    'B': [4, 5, 6]\n",
    "}\n",
    "df = pd.DataFrame(data)\n",
    "\n",
    "# 데이터프레임을 문자열로 변환\n",
    "df_str = df.to_string()\n",
    "\n",
    "print(df_str)"
   ]
  }
 ],
 "metadata": {
  "kernelspec": {
   "display_name": "Python 3",
   "language": "python",
   "name": "python3"
  },
  "language_info": {
   "codemirror_mode": {
    "name": "ipython",
    "version": 3
   },
   "file_extension": ".py",
   "mimetype": "text/x-python",
   "name": "python",
   "nbconvert_exporter": "python",
   "pygments_lexer": "ipython3",
   "version": "3.8.18"
  }
 },
 "nbformat": 4,
 "nbformat_minor": 2
}
