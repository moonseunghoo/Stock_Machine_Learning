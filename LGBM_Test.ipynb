{
 "cells": [
  {
   "cell_type": "markdown",
   "metadata": {},
   "source": [
    "라이브러리 import, 학습 데이터 입력 ∙ 데이터 수정"
   ]
  },
  {
   "cell_type": "code",
   "execution_count": 1,
   "metadata": {
    "tags": []
   },
   "outputs": [],
   "source": [
    "import lightgbm as lgb\n",
    "import pandas as pd\n",
    "import numpy as np\n",
    "from sklearn.model_selection import train_test_split\n",
    "from sklearn.model_selection import KFold, RandomizedSearchCV\n",
    "from sklearn.metrics import accuracy_score, recall_score, f1_score, precision_score, roc_auc_score\n",
    "from sklearn.metrics import confusion_matrix\n",
    "from imblearn.over_sampling import SMOTE\n",
    "\n",
    "# 데이터 로드 \n",
    "#종목코드가 포함된 열은 object형식으로 로드\n",
    "stock_df = pd.read_csv('/Users/moon/Desktop/Moon SeungHoo/Stock_Machine_Learning/StockData.csv',low_memory=False)\n",
    "stock_df_pred = pd.read_csv('/Users/moon/Desktop/Moon SeungHoo/Stock_Machine_Learning/StockData_Pred.csv',low_memory=False)\n",
    "\n",
    "#labal 데이터프레임\n",
    "label_df = stock_df['18']\n",
    "#train 데이터프레임에서 label 값 삭제\n",
    "stock_df = stock_df.drop({'18','7'},axis=1)\n",
    "#예측에 필요한 데이터프레임\n",
    "#학습에 필요한 데이터에서 Date제거\n",
    "stock_df = stock_df.drop(columns='1')\n",
    "stock_df_pred = stock_df_pred.drop('7',axis=1)\n",
    "stock_df_pred = stock_df_pred.drop(columns='1')\n",
    "# #종목코드 int형으로 변환\n",
    "stock_df.astype({'0':'int'})\n",
    "stock_df_pred.astype({'0':'int'})\n",
    "\n",
    "# 학습 데이터와 테스트 데이터 분할\n",
    "X_train, X_test, y_train, y_test = train_test_split(stock_df, label_df, test_size=0.2, random_state=42)\n",
    "\n",
    "# SMOTE를 사용해서 데이터 불균형 교정\n",
    "smote = SMOTE(sampling_strategy='auto',random_state=42)\n",
    "X_train_resampled, y_train_resampled = smote.fit_resample(X_train,y_train)\n",
    "X_test_resampled, y_test_resampled = smote.fit_resample(X_test,y_test)"
   ]
  },
  {
   "cell_type": "markdown",
   "metadata": {},
   "source": [
    "LGBM 하이퍼 파라미터 튜닝(BayesianOptimization)"
   ]
  },
  {
   "cell_type": "code",
   "execution_count": 2,
   "metadata": {},
   "outputs": [
    {
     "name": "stdout",
     "output_type": "stream",
     "text": [
      "|   iter    |  target   | colsam... | featur... | learni... |  max_bin  | max_depth | min_ch... | min_ch... | num_le... | reg_alpha | reg_la... | scale_... | subsample |\n",
      "-------------------------------------------------------------------------------------------------------------------------------------------------------------------------\n"
     ]
    },
    {
     "name": "stderr",
     "output_type": "stream",
     "text": [
      "/Users/moon/anaconda3/envs/mulcamp/lib/python3.10/site-packages/lightgbm/sklearn.py:726: UserWarning: 'early_stopping_rounds' argument is deprecated and will be removed in a future release of LightGBM. Pass 'early_stopping()' callback via 'callbacks' argument instead.\n",
      "  _log_warning(\"'early_stopping_rounds' argument is deprecated and will be removed in a future release of LightGBM. \"\n",
      "/Users/moon/anaconda3/envs/mulcamp/lib/python3.10/site-packages/lightgbm/sklearn.py:736: UserWarning: 'verbose' argument is deprecated and will be removed in a future release of LightGBM. Pass 'log_evaluation()' callback via 'callbacks' argument instead.\n",
      "  _log_warning(\"'verbose' argument is deprecated and will be removed in a future release of LightGBM. \"\n"
     ]
    },
    {
     "name": "stdout",
     "output_type": "stream",
     "text": [
      "[LightGBM] [Warning] feature_fraction is set=0.9556428757689246, colsample_bytree=0.3745401188473625 will be ignored. Current value: feature_fraction=0.9556428757689246\n",
      "[100]\ttraining's l2: 0.0177048\tvalid_1's l2: 0.019493\n",
      "[200]\ttraining's l2: 0.0150402\tvalid_1's l2: 0.017615\n",
      "[300]\ttraining's l2: 0.0137232\tvalid_1's l2: 0.0168809\n",
      "[400]\ttraining's l2: 0.0129022\tvalid_1's l2: 0.016499\n",
      "[500]\ttraining's l2: 0.0122258\tvalid_1's l2: 0.0162569\n",
      "| \u001b[0m1        \u001b[0m | \u001b[0m0.9989   \u001b[0m | \u001b[0m0.3745   \u001b[0m | \u001b[0m0.9556   \u001b[0m | \u001b[0m0.2199   \u001b[0m | \u001b[0m307.3    \u001b[0m | \u001b[0m16.45    \u001b[0m | \u001b[0m78.84    \u001b[0m | \u001b[0m2.104    \u001b[0m | \u001b[0m443.7    \u001b[0m | \u001b[0m12.02    \u001b[0m | \u001b[0m14.16    \u001b[0m | \u001b[0m0.5096   \u001b[0m | \u001b[0m0.9729   \u001b[0m |\n"
     ]
    },
    {
     "name": "stderr",
     "output_type": "stream",
     "text": [
      "/Users/moon/anaconda3/envs/mulcamp/lib/python3.10/site-packages/lightgbm/sklearn.py:726: UserWarning: 'early_stopping_rounds' argument is deprecated and will be removed in a future release of LightGBM. Pass 'early_stopping()' callback via 'callbacks' argument instead.\n",
      "  _log_warning(\"'early_stopping_rounds' argument is deprecated and will be removed in a future release of LightGBM. \"\n",
      "/Users/moon/anaconda3/envs/mulcamp/lib/python3.10/site-packages/lightgbm/sklearn.py:736: UserWarning: 'verbose' argument is deprecated and will be removed in a future release of LightGBM. Pass 'log_evaluation()' callback via 'callbacks' argument instead.\n",
      "  _log_warning(\"'verbose' argument is deprecated and will be removed in a future release of LightGBM. \"\n"
     ]
    },
    {
     "name": "stdout",
     "output_type": "stream",
     "text": [
      "[LightGBM] [Warning] feature_fraction is set=0.29110519961044856, colsample_bytree=0.8324426408004217 will be ignored. Current value: feature_fraction=0.29110519961044856\n",
      "[100]\ttraining's l2: 0.0321066\tvalid_1's l2: 0.0309642\n",
      "[200]\ttraining's l2: 0.0272649\tvalid_1's l2: 0.0265982\n",
      "[300]\ttraining's l2: 0.024937\tvalid_1's l2: 0.0245541\n",
      "[400]\ttraining's l2: 0.0234482\tvalid_1's l2: 0.0232785\n",
      "[500]\ttraining's l2: 0.0223714\tvalid_1's l2: 0.02239\n",
      "| \u001b[0m2        \u001b[0m | \u001b[0m0.9979   \u001b[0m | \u001b[0m0.8324   \u001b[0m | \u001b[0m0.2911   \u001b[0m | \u001b[0m0.05537  \u001b[0m | \u001b[0m95.54    \u001b[0m | \u001b[0m31.12    \u001b[0m | \u001b[0m262.9    \u001b[0m | \u001b[0m9.207    \u001b[0m | \u001b[0m150.5    \u001b[0m | \u001b[0m12.24    \u001b[0m | \u001b[0m2.79     \u001b[0m | \u001b[0m5.914    \u001b[0m | \u001b[0m0.4297   \u001b[0m |\n"
     ]
    },
    {
     "name": "stderr",
     "output_type": "stream",
     "text": [
      "/Users/moon/anaconda3/envs/mulcamp/lib/python3.10/site-packages/lightgbm/sklearn.py:726: UserWarning: 'early_stopping_rounds' argument is deprecated and will be removed in a future release of LightGBM. Pass 'early_stopping()' callback via 'callbacks' argument instead.\n",
      "  _log_warning(\"'early_stopping_rounds' argument is deprecated and will be removed in a future release of LightGBM. \"\n",
      "/Users/moon/anaconda3/envs/mulcamp/lib/python3.10/site-packages/lightgbm/sklearn.py:736: UserWarning: 'verbose' argument is deprecated and will be removed in a future release of LightGBM. Pass 'log_evaluation()' callback via 'callbacks' argument instead.\n",
      "  _log_warning(\"'verbose' argument is deprecated and will be removed in a future release of LightGBM. \"\n"
     ]
    },
    {
     "name": "stdout",
     "output_type": "stream",
     "text": [
      "[LightGBM] [Warning] feature_fraction is set=0.8066583652537123, colsample_bytree=0.45606998421703593 will be ignored. Current value: feature_fraction=0.8066583652537123\n",
      "[100]\ttraining's l2: 0.0316954\tvalid_1's l2: 0.0310978\n",
      "[200]\ttraining's l2: 0.0255495\tvalid_1's l2: 0.0253569\n",
      "[300]\ttraining's l2: 0.0224897\tvalid_1's l2: 0.0225286\n",
      "[400]\ttraining's l2: 0.0206664\tvalid_1's l2: 0.0208776\n",
      "[500]\ttraining's l2: 0.0195272\tvalid_1's l2: 0.0199067\n",
      "| \u001b[0m3        \u001b[0m | \u001b[0m0.9982   \u001b[0m | \u001b[0m0.4561   \u001b[0m | \u001b[0m0.8067   \u001b[0m | \u001b[0m0.0607   \u001b[0m | \u001b[0m264.3    \u001b[0m | \u001b[0m59.65    \u001b[0m | \u001b[0m24.18    \u001b[0m | \u001b[0m12.54    \u001b[0m | \u001b[0m88.97    \u001b[0m | \u001b[0m1.301    \u001b[0m | \u001b[0m18.98    \u001b[0m | \u001b[0m19.32    \u001b[0m | \u001b[0m0.8276   \u001b[0m |\n"
     ]
    },
    {
     "name": "stderr",
     "output_type": "stream",
     "text": [
      "/Users/moon/anaconda3/envs/mulcamp/lib/python3.10/site-packages/lightgbm/sklearn.py:726: UserWarning: 'early_stopping_rounds' argument is deprecated and will be removed in a future release of LightGBM. Pass 'early_stopping()' callback via 'callbacks' argument instead.\n",
      "  _log_warning(\"'early_stopping_rounds' argument is deprecated and will be removed in a future release of LightGBM. \"\n",
      "/Users/moon/anaconda3/envs/mulcamp/lib/python3.10/site-packages/lightgbm/sklearn.py:736: UserWarning: 'verbose' argument is deprecated and will be removed in a future release of LightGBM. Pass 'log_evaluation()' callback via 'callbacks' argument instead.\n",
      "  _log_warning(\"'verbose' argument is deprecated and will be removed in a future release of LightGBM. \"\n"
     ]
    },
    {
     "name": "stdout",
     "output_type": "stream",
     "text": [
      "[LightGBM] [Warning] feature_fraction is set=0.1879049026057455, colsample_bytree=0.3046137691733707 will be ignored. Current value: feature_fraction=0.1879049026057455\n",
      "[100]\ttraining's l2: 0.0238422\tvalid_1's l2: 0.0245912\n",
      "[200]\ttraining's l2: 0.0200148\tvalid_1's l2: 0.0216587\n",
      "[300]\ttraining's l2: 0.018085\tvalid_1's l2: 0.0203451\n",
      "[400]\ttraining's l2: 0.0168895\tvalid_1's l2: 0.0196526\n",
      "[500]\ttraining's l2: 0.0158981\tvalid_1's l2: 0.0190148\n",
      "| \u001b[0m4        \u001b[0m | \u001b[0m0.9984   \u001b[0m | \u001b[0m0.3046   \u001b[0m | \u001b[0m0.1879   \u001b[0m | \u001b[0m0.2056   \u001b[0m | \u001b[0m226.5    \u001b[0m | \u001b[0m13.08    \u001b[0m | \u001b[0m248.1    \u001b[0m | \u001b[0m1.653    \u001b[0m | \u001b[0m465.8    \u001b[0m | \u001b[0m5.176    \u001b[0m | \u001b[0m13.25    \u001b[0m | \u001b[0m6.303    \u001b[0m | \u001b[0m0.5681   \u001b[0m |\n"
     ]
    },
    {
     "name": "stderr",
     "output_type": "stream",
     "text": [
      "/Users/moon/anaconda3/envs/mulcamp/lib/python3.10/site-packages/lightgbm/sklearn.py:726: UserWarning: 'early_stopping_rounds' argument is deprecated and will be removed in a future release of LightGBM. Pass 'early_stopping()' callback via 'callbacks' argument instead.\n",
      "  _log_warning(\"'early_stopping_rounds' argument is deprecated and will be removed in a future release of LightGBM. \"\n",
      "/Users/moon/anaconda3/envs/mulcamp/lib/python3.10/site-packages/lightgbm/sklearn.py:736: UserWarning: 'verbose' argument is deprecated and will be removed in a future release of LightGBM. Pass 'log_evaluation()' callback via 'callbacks' argument instead.\n",
      "  _log_warning(\"'verbose' argument is deprecated and will be removed in a future release of LightGBM. \"\n"
     ]
    },
    {
     "name": "stdout",
     "output_type": "stream",
     "text": [
      "[LightGBM] [Warning] feature_fraction is set=0.26636900997297436, colsample_bytree=0.5467102793432796 will be ignored. Current value: feature_fraction=0.26636900997297436\n",
      "[100]\ttraining's l2: 0.0166154\tvalid_1's l2: 0.0182331\n",
      "[200]\ttraining's l2: 0.014002\tvalid_1's l2: 0.0166626\n",
      "[300]\ttraining's l2: 0.0124906\tvalid_1's l2: 0.0158568\n",
      "[400]\ttraining's l2: 0.011564\tvalid_1's l2: 0.0155399\n",
      "[500]\ttraining's l2: 0.0108167\tvalid_1's l2: 0.0153501\n",
      "| \u001b[95m5        \u001b[0m | \u001b[95m0.999    \u001b[0m | \u001b[95m0.5467   \u001b[0m | \u001b[95m0.2664   \u001b[0m | \u001b[95m0.2909   \u001b[0m | \u001b[95m397.3    \u001b[0m | \u001b[95m94.01    \u001b[0m | \u001b[95m447.5    \u001b[0m | \u001b[95m12.36    \u001b[0m | \u001b[95m472.2    \u001b[0m | \u001b[95m1.77     \u001b[0m | \u001b[95m3.92     \u001b[0m | \u001b[95m1.0      \u001b[0m | \u001b[95m0.3928   \u001b[0m |\n"
     ]
    },
    {
     "name": "stderr",
     "output_type": "stream",
     "text": [
      "/Users/moon/anaconda3/envs/mulcamp/lib/python3.10/site-packages/lightgbm/sklearn.py:726: UserWarning: 'early_stopping_rounds' argument is deprecated and will be removed in a future release of LightGBM. Pass 'early_stopping()' callback via 'callbacks' argument instead.\n",
      "  _log_warning(\"'early_stopping_rounds' argument is deprecated and will be removed in a future release of LightGBM. \"\n",
      "/Users/moon/anaconda3/envs/mulcamp/lib/python3.10/site-packages/lightgbm/sklearn.py:736: UserWarning: 'verbose' argument is deprecated and will be removed in a future release of LightGBM. Pass 'log_evaluation()' callback via 'callbacks' argument instead.\n",
      "  _log_warning(\"'verbose' argument is deprecated and will be removed in a future release of LightGBM. \"\n"
     ]
    },
    {
     "name": "stdout",
     "output_type": "stream",
     "text": [
      "[LightGBM] [Warning] feature_fraction is set=0.7372527331448581, colsample_bytree=0.4857055407785523 will be ignored. Current value: feature_fraction=0.7372527331448581\n",
      "[100]\ttraining's l2: 0.0211417\tvalid_1's l2: 0.0215873\n",
      "[200]\ttraining's l2: 0.0177294\tvalid_1's l2: 0.0187245\n",
      "[300]\ttraining's l2: 0.0162418\tvalid_1's l2: 0.0176487\n",
      "[400]\ttraining's l2: 0.0152707\tvalid_1's l2: 0.017033\n",
      "[500]\ttraining's l2: 0.0145679\tvalid_1's l2: 0.0166456\n",
      "| \u001b[0m6        \u001b[0m | \u001b[0m0.9988   \u001b[0m | \u001b[0m0.4857   \u001b[0m | \u001b[0m0.7373   \u001b[0m | \u001b[0m0.1228   \u001b[0m | \u001b[0m280.6    \u001b[0m | \u001b[0m83.45    \u001b[0m | \u001b[0m248.8    \u001b[0m | \u001b[0m11.7     \u001b[0m | \u001b[0m217.3    \u001b[0m | \u001b[0m3.813    \u001b[0m | \u001b[0m19.47    \u001b[0m | \u001b[0m0.5094   \u001b[0m | \u001b[0m0.2118   \u001b[0m |\n"
     ]
    },
    {
     "name": "stderr",
     "output_type": "stream",
     "text": [
      "/Users/moon/anaconda3/envs/mulcamp/lib/python3.10/site-packages/lightgbm/sklearn.py:726: UserWarning: 'early_stopping_rounds' argument is deprecated and will be removed in a future release of LightGBM. Pass 'early_stopping()' callback via 'callbacks' argument instead.\n",
      "  _log_warning(\"'early_stopping_rounds' argument is deprecated and will be removed in a future release of LightGBM. \"\n",
      "/Users/moon/anaconda3/envs/mulcamp/lib/python3.10/site-packages/lightgbm/sklearn.py:736: UserWarning: 'verbose' argument is deprecated and will be removed in a future release of LightGBM. Pass 'log_evaluation()' callback via 'callbacks' argument instead.\n",
      "  _log_warning(\"'verbose' argument is deprecated and will be removed in a future release of LightGBM. \"\n"
     ]
    },
    {
     "name": "stdout",
     "output_type": "stream",
     "text": [
      "[LightGBM] [Warning] feature_fraction is set=0.755718341883725, colsample_bytree=0.6862159552172918 will be ignored. Current value: feature_fraction=0.755718341883725\n",
      "[100]\ttraining's l2: 0.0165584\tvalid_1's l2: 0.0182682\n",
      "[200]\ttraining's l2: 0.0141909\tvalid_1's l2: 0.0169575\n",
      "[300]\ttraining's l2: 0.0128565\tvalid_1's l2: 0.0164514\n",
      "[400]\ttraining's l2: 0.0118873\tvalid_1's l2: 0.0161601\n",
      "[500]\ttraining's l2: 0.0111302\tvalid_1's l2: 0.0159903\n",
      "| \u001b[0m7        \u001b[0m | \u001b[0m0.999    \u001b[0m | \u001b[0m0.6862   \u001b[0m | \u001b[0m0.7557   \u001b[0m | \u001b[0m0.233    \u001b[0m | \u001b[0m457.7    \u001b[0m | \u001b[0m60.31    \u001b[0m | \u001b[0m495.7    \u001b[0m | \u001b[0m3.327    \u001b[0m | \u001b[0m398.5    \u001b[0m | \u001b[0m1.038    \u001b[0m | \u001b[0m2.727    \u001b[0m | \u001b[0m13.51    \u001b[0m | \u001b[0m0.5601   \u001b[0m |\n"
     ]
    },
    {
     "name": "stderr",
     "output_type": "stream",
     "text": [
      "/Users/moon/anaconda3/envs/mulcamp/lib/python3.10/site-packages/lightgbm/sklearn.py:726: UserWarning: 'early_stopping_rounds' argument is deprecated and will be removed in a future release of LightGBM. Pass 'early_stopping()' callback via 'callbacks' argument instead.\n",
      "  _log_warning(\"'early_stopping_rounds' argument is deprecated and will be removed in a future release of LightGBM. \"\n",
      "/Users/moon/anaconda3/envs/mulcamp/lib/python3.10/site-packages/lightgbm/sklearn.py:736: UserWarning: 'verbose' argument is deprecated and will be removed in a future release of LightGBM. Pass 'log_evaluation()' callback via 'callbacks' argument instead.\n",
      "  _log_warning(\"'verbose' argument is deprecated and will be removed in a future release of LightGBM. \"\n"
     ]
    },
    {
     "name": "stdout",
     "output_type": "stream",
     "text": [
      "[LightGBM] [Warning] feature_fraction is set=0.7158376535064556, colsample_bytree=0.8698428505318728 will be ignored. Current value: feature_fraction=0.7158376535064556\n",
      "[100]\ttraining's l2: 0.0372913\tvalid_1's l2: 0.0367162\n",
      "[200]\ttraining's l2: 0.0306197\tvalid_1's l2: 0.0305092\n",
      "[300]\ttraining's l2: 0.027779\tvalid_1's l2: 0.0280028\n",
      "[400]\ttraining's l2: 0.0260488\tvalid_1's l2: 0.0265481\n",
      "[500]\ttraining's l2: 0.0247388\tvalid_1's l2: 0.0254872\n",
      "| \u001b[0m8        \u001b[0m | \u001b[0m0.997    \u001b[0m | \u001b[0m0.8698   \u001b[0m | \u001b[0m0.7158   \u001b[0m | \u001b[0m0.07125  \u001b[0m | \u001b[0m41.34    \u001b[0m | \u001b[0m94.38    \u001b[0m | \u001b[0m310.1    \u001b[0m | \u001b[0m9.394    \u001b[0m | \u001b[0m119.5    \u001b[0m | \u001b[0m2.521    \u001b[0m | \u001b[0m4.887    \u001b[0m | \u001b[0m15.24    \u001b[0m | \u001b[0m0.1247   \u001b[0m |\n"
     ]
    },
    {
     "name": "stderr",
     "output_type": "stream",
     "text": [
      "/Users/moon/anaconda3/envs/mulcamp/lib/python3.10/site-packages/lightgbm/sklearn.py:726: UserWarning: 'early_stopping_rounds' argument is deprecated and will be removed in a future release of LightGBM. Pass 'early_stopping()' callback via 'callbacks' argument instead.\n",
      "  _log_warning(\"'early_stopping_rounds' argument is deprecated and will be removed in a future release of LightGBM. \"\n",
      "/Users/moon/anaconda3/envs/mulcamp/lib/python3.10/site-packages/lightgbm/sklearn.py:736: UserWarning: 'verbose' argument is deprecated and will be removed in a future release of LightGBM. Pass 'log_evaluation()' callback via 'callbacks' argument instead.\n",
      "  _log_warning(\"'verbose' argument is deprecated and will be removed in a future release of LightGBM. \"\n"
     ]
    },
    {
     "name": "stdout",
     "output_type": "stream",
     "text": [
      "[LightGBM] [Warning] feature_fraction is set=0.19552876919544807, colsample_bytree=0.8956816563888997 will be ignored. Current value: feature_fraction=0.19552876919544807\n",
      "[100]\ttraining's l2: 0.0249583\tvalid_1's l2: 0.024481\n",
      "[200]\ttraining's l2: 0.0217291\tvalid_1's l2: 0.0218189\n",
      "[300]\ttraining's l2: 0.0200081\tvalid_1's l2: 0.0205123\n",
      "[400]\ttraining's l2: 0.0187835\tvalid_1's l2: 0.0195828\n",
      "[500]\ttraining's l2: 0.0178809\tvalid_1's l2: 0.0189131\n",
      "| \u001b[0m9        \u001b[0m | \u001b[0m0.9984   \u001b[0m | \u001b[0m0.8957   \u001b[0m | \u001b[0m0.1955   \u001b[0m | \u001b[0m0.06594  \u001b[0m | \u001b[0m189.4    \u001b[0m | \u001b[0m28.49    \u001b[0m | \u001b[0m299.1    \u001b[0m | \u001b[0m2.88     \u001b[0m | \u001b[0m443.6    \u001b[0m | \u001b[0m10.23    \u001b[0m | \u001b[0m0.3762   \u001b[0m | \u001b[0m15.4     \u001b[0m | \u001b[0m0.596    \u001b[0m |\n"
     ]
    },
    {
     "name": "stderr",
     "output_type": "stream",
     "text": [
      "/Users/moon/anaconda3/envs/mulcamp/lib/python3.10/site-packages/lightgbm/sklearn.py:726: UserWarning: 'early_stopping_rounds' argument is deprecated and will be removed in a future release of LightGBM. Pass 'early_stopping()' callback via 'callbacks' argument instead.\n",
      "  _log_warning(\"'early_stopping_rounds' argument is deprecated and will be removed in a future release of LightGBM. \"\n",
      "/Users/moon/anaconda3/envs/mulcamp/lib/python3.10/site-packages/lightgbm/sklearn.py:736: UserWarning: 'verbose' argument is deprecated and will be removed in a future release of LightGBM. Pass 'log_evaluation()' callback via 'callbacks' argument instead.\n",
      "  _log_warning(\"'verbose' argument is deprecated and will be removed in a future release of LightGBM. \"\n"
     ]
    },
    {
     "name": "stdout",
     "output_type": "stream",
     "text": [
      "[LightGBM] [Warning] feature_fraction is set=0.5277914688977993, colsample_bytree=0.1546450876060621 will be ignored. Current value: feature_fraction=0.5277914688977993\n",
      "[100]\ttraining's l2: 0.0216698\tvalid_1's l2: 0.0219778\n",
      "[200]\ttraining's l2: 0.0182868\tvalid_1's l2: 0.0190288\n",
      "[300]\ttraining's l2: 0.01662\tvalid_1's l2: 0.0176465\n",
      "[400]\ttraining's l2: 0.0156548\tvalid_1's l2: 0.0168904\n",
      "[500]\ttraining's l2: 0.014923\tvalid_1's l2: 0.0163277\n",
      "| \u001b[0m10       \u001b[0m | \u001b[0m0.9989   \u001b[0m | \u001b[0m0.1546   \u001b[0m | \u001b[0m0.5278   \u001b[0m | \u001b[0m0.07302  \u001b[0m | \u001b[0m464.2    \u001b[0m | \u001b[0m95.54    \u001b[0m | \u001b[0m286.8    \u001b[0m | \u001b[0m1.942    \u001b[0m | \u001b[0m354.7    \u001b[0m | \u001b[0m18.99    \u001b[0m | \u001b[0m3.203    \u001b[0m | \u001b[0m16.52    \u001b[0m | \u001b[0m0.8192   \u001b[0m |\n"
     ]
    },
    {
     "name": "stderr",
     "output_type": "stream",
     "text": [
      "/Users/moon/anaconda3/envs/mulcamp/lib/python3.10/site-packages/lightgbm/sklearn.py:726: UserWarning: 'early_stopping_rounds' argument is deprecated and will be removed in a future release of LightGBM. Pass 'early_stopping()' callback via 'callbacks' argument instead.\n",
      "  _log_warning(\"'early_stopping_rounds' argument is deprecated and will be removed in a future release of LightGBM. \"\n",
      "/Users/moon/anaconda3/envs/mulcamp/lib/python3.10/site-packages/lightgbm/sklearn.py:736: UserWarning: 'verbose' argument is deprecated and will be removed in a future release of LightGBM. Pass 'log_evaluation()' callback via 'callbacks' argument instead.\n",
      "  _log_warning(\"'verbose' argument is deprecated and will be removed in a future release of LightGBM. \"\n"
     ]
    },
    {
     "name": "stdout",
     "output_type": "stream",
     "text": [
      "[LightGBM] [Warning] feature_fraction is set=0.9129844790801571, colsample_bytree=0.7137379160566533 will be ignored. Current value: feature_fraction=0.9129844790801571\n",
      "[100]\ttraining's l2: 0.0346314\tvalid_1's l2: 0.0343849\n",
      "[200]\ttraining's l2: 0.0279498\tvalid_1's l2: 0.0279955\n",
      "[300]\ttraining's l2: 0.0247395\tvalid_1's l2: 0.0249847\n",
      "[400]\ttraining's l2: 0.0223426\tvalid_1's l2: 0.0227334\n",
      "[500]\ttraining's l2: 0.0207167\tvalid_1's l2: 0.0212244\n",
      "| \u001b[0m11       \u001b[0m | \u001b[0m0.9979   \u001b[0m | \u001b[0m0.7137   \u001b[0m | \u001b[0m0.913    \u001b[0m | \u001b[0m0.04289  \u001b[0m | \u001b[0m452.7    \u001b[0m | \u001b[0m10.99    \u001b[0m | \u001b[0m412.7    \u001b[0m | \u001b[0m18.83    \u001b[0m | \u001b[0m169.4    \u001b[0m | \u001b[0m19.48    \u001b[0m | \u001b[0m14.03    \u001b[0m | \u001b[0m14.48    \u001b[0m | \u001b[0m0.1272   \u001b[0m |\n"
     ]
    },
    {
     "name": "stderr",
     "output_type": "stream",
     "text": [
      "/Users/moon/anaconda3/envs/mulcamp/lib/python3.10/site-packages/lightgbm/sklearn.py:726: UserWarning: 'early_stopping_rounds' argument is deprecated and will be removed in a future release of LightGBM. Pass 'early_stopping()' callback via 'callbacks' argument instead.\n",
      "  _log_warning(\"'early_stopping_rounds' argument is deprecated and will be removed in a future release of LightGBM. \"\n",
      "/Users/moon/anaconda3/envs/mulcamp/lib/python3.10/site-packages/lightgbm/sklearn.py:736: UserWarning: 'verbose' argument is deprecated and will be removed in a future release of LightGBM. Pass 'log_evaluation()' callback via 'callbacks' argument instead.\n",
      "  _log_warning(\"'verbose' argument is deprecated and will be removed in a future release of LightGBM. \"\n"
     ]
    },
    {
     "name": "stdout",
     "output_type": "stream",
     "text": [
      "[LightGBM] [Warning] feature_fraction is set=0.573764697398043, colsample_bytree=0.43268006070572296 will be ignored. Current value: feature_fraction=0.573764697398043\n",
      "[100]\ttraining's l2: 0.0215852\tvalid_1's l2: 0.0220114\n",
      "[200]\ttraining's l2: 0.0182951\tvalid_1's l2: 0.0194243\n",
      "[300]\ttraining's l2: 0.0168965\tvalid_1's l2: 0.0185696\n",
      "[400]\ttraining's l2: 0.0158885\tvalid_1's l2: 0.0180205\n",
      "[500]\ttraining's l2: 0.0151209\tvalid_1's l2: 0.017638\n",
      "| \u001b[0m12       \u001b[0m | \u001b[0m0.9987   \u001b[0m | \u001b[0m0.4327   \u001b[0m | \u001b[0m0.5738   \u001b[0m | \u001b[0m0.1839   \u001b[0m | \u001b[0m168.3    \u001b[0m | \u001b[0m97.26    \u001b[0m | \u001b[0m87.27    \u001b[0m | \u001b[0m15.02    \u001b[0m | \u001b[0m165.1    \u001b[0m | \u001b[0m2.788    \u001b[0m | \u001b[0m8.98     \u001b[0m | \u001b[0m15.1     \u001b[0m | \u001b[0m0.2366   \u001b[0m |\n"
     ]
    },
    {
     "name": "stderr",
     "output_type": "stream",
     "text": [
      "/Users/moon/anaconda3/envs/mulcamp/lib/python3.10/site-packages/lightgbm/sklearn.py:726: UserWarning: 'early_stopping_rounds' argument is deprecated and will be removed in a future release of LightGBM. Pass 'early_stopping()' callback via 'callbacks' argument instead.\n",
      "  _log_warning(\"'early_stopping_rounds' argument is deprecated and will be removed in a future release of LightGBM. \"\n",
      "/Users/moon/anaconda3/envs/mulcamp/lib/python3.10/site-packages/lightgbm/sklearn.py:736: UserWarning: 'verbose' argument is deprecated and will be removed in a future release of LightGBM. Pass 'log_evaluation()' callback via 'callbacks' argument instead.\n",
      "  _log_warning(\"'verbose' argument is deprecated and will be removed in a future release of LightGBM. \"\n"
     ]
    },
    {
     "name": "stdout",
     "output_type": "stream",
     "text": [
      "[LightGBM] [Warning] feature_fraction is set=0.1827877300261855, colsample_bytree=0.6671312196519337 will be ignored. Current value: feature_fraction=0.1827877300261855\n",
      "[100]\ttraining's l2: 0.0739712\tvalid_1's l2: 0.0726289\n",
      "[200]\ttraining's l2: 0.059099\tvalid_1's l2: 0.0578857\n",
      "[300]\ttraining's l2: 0.0519135\tvalid_1's l2: 0.0507314\n",
      "[400]\ttraining's l2: 0.0476937\tvalid_1's l2: 0.0465617\n",
      "[500]\ttraining's l2: 0.0441794\tvalid_1's l2: 0.0430888\n",
      "| \u001b[0m13       \u001b[0m | \u001b[0m0.9933   \u001b[0m | \u001b[0m0.6671   \u001b[0m | \u001b[0m0.1828   \u001b[0m | \u001b[0m0.1109   \u001b[0m | \u001b[0m489.5    \u001b[0m | \u001b[0m2.774    \u001b[0m | \u001b[0m332.0    \u001b[0m | \u001b[0m10.78    \u001b[0m | \u001b[0m494.2    \u001b[0m | \u001b[0m4.525    \u001b[0m | \u001b[0m8.157    \u001b[0m | \u001b[0m18.71    \u001b[0m | \u001b[0m0.1882   \u001b[0m |\n"
     ]
    },
    {
     "name": "stderr",
     "output_type": "stream",
     "text": [
      "/Users/moon/anaconda3/envs/mulcamp/lib/python3.10/site-packages/lightgbm/sklearn.py:726: UserWarning: 'early_stopping_rounds' argument is deprecated and will be removed in a future release of LightGBM. Pass 'early_stopping()' callback via 'callbacks' argument instead.\n",
      "  _log_warning(\"'early_stopping_rounds' argument is deprecated and will be removed in a future release of LightGBM. \"\n",
      "/Users/moon/anaconda3/envs/mulcamp/lib/python3.10/site-packages/lightgbm/sklearn.py:736: UserWarning: 'verbose' argument is deprecated and will be removed in a future release of LightGBM. Pass 'log_evaluation()' callback via 'callbacks' argument instead.\n",
      "  _log_warning(\"'verbose' argument is deprecated and will be removed in a future release of LightGBM. \"\n"
     ]
    },
    {
     "name": "stdout",
     "output_type": "stream",
     "text": [
      "[LightGBM] [Warning] feature_fraction is set=0.7005538170306752, colsample_bytree=0.3589361961479457 will be ignored. Current value: feature_fraction=0.7005538170306752\n",
      "[100]\ttraining's l2: 0.0232751\tvalid_1's l2: 0.02385\n",
      "[200]\ttraining's l2: 0.0187507\tvalid_1's l2: 0.0200244\n",
      "[300]\ttraining's l2: 0.0166553\tvalid_1's l2: 0.0184073\n",
      "[400]\ttraining's l2: 0.0153509\tvalid_1's l2: 0.017466\n",
      "[500]\ttraining's l2: 0.0143811\tvalid_1's l2: 0.0168111\n",
      "| \u001b[0m14       \u001b[0m | \u001b[0m0.9987   \u001b[0m | \u001b[0m0.3589   \u001b[0m | \u001b[0m0.7006   \u001b[0m | \u001b[0m0.06401  \u001b[0m | \u001b[0m311.4    \u001b[0m | \u001b[0m16.39    \u001b[0m | \u001b[0m75.26    \u001b[0m | \u001b[0m19.6     \u001b[0m | \u001b[0m442.7    \u001b[0m | \u001b[0m4.561    \u001b[0m | \u001b[0m4.965    \u001b[0m | \u001b[0m3.143    \u001b[0m | \u001b[0m0.126    \u001b[0m |\n"
     ]
    },
    {
     "name": "stderr",
     "output_type": "stream",
     "text": [
      "/Users/moon/anaconda3/envs/mulcamp/lib/python3.10/site-packages/lightgbm/sklearn.py:726: UserWarning: 'early_stopping_rounds' argument is deprecated and will be removed in a future release of LightGBM. Pass 'early_stopping()' callback via 'callbacks' argument instead.\n",
      "  _log_warning(\"'early_stopping_rounds' argument is deprecated and will be removed in a future release of LightGBM. \"\n",
      "/Users/moon/anaconda3/envs/mulcamp/lib/python3.10/site-packages/lightgbm/sklearn.py:736: UserWarning: 'verbose' argument is deprecated and will be removed in a future release of LightGBM. Pass 'log_evaluation()' callback via 'callbacks' argument instead.\n",
      "  _log_warning(\"'verbose' argument is deprecated and will be removed in a future release of LightGBM. \"\n"
     ]
    },
    {
     "name": "stdout",
     "output_type": "stream",
     "text": [
      "[LightGBM] [Warning] feature_fraction is set=0.834836612287936, colsample_bytree=0.08027184129926324 will be ignored. Current value: feature_fraction=0.834836612287936\n",
      "[100]\ttraining's l2: 0.207971\tvalid_1's l2: 0.207721\n",
      "[200]\ttraining's l2: 0.174845\tvalid_1's l2: 0.174436\n",
      "[300]\ttraining's l2: 0.148475\tvalid_1's l2: 0.147985\n",
      "[400]\ttraining's l2: 0.127316\tvalid_1's l2: 0.126754\n",
      "[500]\ttraining's l2: 0.110363\tvalid_1's l2: 0.109767\n",
      "| \u001b[0m15       \u001b[0m | \u001b[0m0.988    \u001b[0m | \u001b[0m0.08027  \u001b[0m | \u001b[0m0.8348   \u001b[0m | \u001b[0m0.001319 \u001b[0m | \u001b[0m348.2    \u001b[0m | \u001b[0m99.73    \u001b[0m | \u001b[0m452.9    \u001b[0m | \u001b[0m12.62    \u001b[0m | \u001b[0m370.9    \u001b[0m | \u001b[0m11.51    \u001b[0m | \u001b[0m18.86    \u001b[0m | \u001b[0m8.112    \u001b[0m | \u001b[0m0.9801   \u001b[0m |\n"
     ]
    },
    {
     "name": "stderr",
     "output_type": "stream",
     "text": [
      "/Users/moon/anaconda3/envs/mulcamp/lib/python3.10/site-packages/lightgbm/sklearn.py:726: UserWarning: 'early_stopping_rounds' argument is deprecated and will be removed in a future release of LightGBM. Pass 'early_stopping()' callback via 'callbacks' argument instead.\n",
      "  _log_warning(\"'early_stopping_rounds' argument is deprecated and will be removed in a future release of LightGBM. \"\n",
      "/Users/moon/anaconda3/envs/mulcamp/lib/python3.10/site-packages/lightgbm/sklearn.py:736: UserWarning: 'verbose' argument is deprecated and will be removed in a future release of LightGBM. Pass 'log_evaluation()' callback via 'callbacks' argument instead.\n",
      "  _log_warning(\"'verbose' argument is deprecated and will be removed in a future release of LightGBM. \"\n"
     ]
    },
    {
     "name": "stdout",
     "output_type": "stream",
     "text": [
      "[LightGBM] [Warning] feature_fraction is set=0.3370184240094937, colsample_bytree=0.28184026080627844 will be ignored. Current value: feature_fraction=0.3370184240094937\n",
      "[100]\ttraining's l2: 0.0186921\tvalid_1's l2: 0.0200672\n",
      "[200]\ttraining's l2: 0.0160497\tvalid_1's l2: 0.0182924\n",
      "[300]\ttraining's l2: 0.0146254\tvalid_1's l2: 0.0175018\n",
      "[400]\ttraining's l2: 0.0137679\tvalid_1's l2: 0.0171485\n",
      "[500]\ttraining's l2: 0.0131282\tvalid_1's l2: 0.0169334\n",
      "| \u001b[0m16       \u001b[0m | \u001b[0m0.9989   \u001b[0m | \u001b[0m0.2818   \u001b[0m | \u001b[0m0.337    \u001b[0m | \u001b[0m0.2792   \u001b[0m | \u001b[0m206.3    \u001b[0m | \u001b[0m44.05    \u001b[0m | \u001b[0m318.0    \u001b[0m | \u001b[0m14.54    \u001b[0m | \u001b[0m372.4    \u001b[0m | \u001b[0m8.407    \u001b[0m | \u001b[0m17.67    \u001b[0m | \u001b[0m3.61     \u001b[0m | \u001b[0m0.696    \u001b[0m |\n"
     ]
    },
    {
     "name": "stderr",
     "output_type": "stream",
     "text": [
      "/Users/moon/anaconda3/envs/mulcamp/lib/python3.10/site-packages/lightgbm/sklearn.py:726: UserWarning: 'early_stopping_rounds' argument is deprecated and will be removed in a future release of LightGBM. Pass 'early_stopping()' callback via 'callbacks' argument instead.\n",
      "  _log_warning(\"'early_stopping_rounds' argument is deprecated and will be removed in a future release of LightGBM. \"\n",
      "/Users/moon/anaconda3/envs/mulcamp/lib/python3.10/site-packages/lightgbm/sklearn.py:736: UserWarning: 'verbose' argument is deprecated and will be removed in a future release of LightGBM. Pass 'log_evaluation()' callback via 'callbacks' argument instead.\n",
      "  _log_warning(\"'verbose' argument is deprecated and will be removed in a future release of LightGBM. \"\n"
     ]
    },
    {
     "name": "stdout",
     "output_type": "stream",
     "text": [
      "[LightGBM] [Warning] feature_fraction is set=0.6681150462358394, colsample_bytree=0.00799934758495835 will be ignored. Current value: feature_fraction=0.6681150462358394\n",
      "[100]\ttraining's l2: 0.0349493\tvalid_1's l2: 0.0349928\n",
      "[200]\ttraining's l2: 0.0269583\tvalid_1's l2: 0.0274468\n",
      "[300]\ttraining's l2: 0.0233283\tvalid_1's l2: 0.0241705\n",
      "[400]\ttraining's l2: 0.0209127\tvalid_1's l2: 0.0220295\n",
      "[500]\ttraining's l2: 0.0193221\tvalid_1's l2: 0.0206543\n",
      "| \u001b[0m17       \u001b[0m | \u001b[0m0.998    \u001b[0m | \u001b[0m0.007999 \u001b[0m | \u001b[0m0.6681   \u001b[0m | \u001b[0m0.04735  \u001b[0m | \u001b[0m317.0    \u001b[0m | \u001b[0m8.857    \u001b[0m | \u001b[0m75.44    \u001b[0m | \u001b[0m15.0     \u001b[0m | \u001b[0m445.9    \u001b[0m | \u001b[0m1.023    \u001b[0m | \u001b[0m2.135    \u001b[0m | \u001b[0m12.11    \u001b[0m | \u001b[0m0.4751   \u001b[0m |\n"
     ]
    },
    {
     "name": "stderr",
     "output_type": "stream",
     "text": [
      "/Users/moon/anaconda3/envs/mulcamp/lib/python3.10/site-packages/lightgbm/sklearn.py:726: UserWarning: 'early_stopping_rounds' argument is deprecated and will be removed in a future release of LightGBM. Pass 'early_stopping()' callback via 'callbacks' argument instead.\n",
      "  _log_warning(\"'early_stopping_rounds' argument is deprecated and will be removed in a future release of LightGBM. \"\n",
      "/Users/moon/anaconda3/envs/mulcamp/lib/python3.10/site-packages/lightgbm/sklearn.py:736: UserWarning: 'verbose' argument is deprecated and will be removed in a future release of LightGBM. Pass 'log_evaluation()' callback via 'callbacks' argument instead.\n",
      "  _log_warning(\"'verbose' argument is deprecated and will be removed in a future release of LightGBM. \"\n"
     ]
    },
    {
     "name": "stdout",
     "output_type": "stream",
     "text": [
      "[LightGBM] [Warning] feature_fraction is set=0.14523040434701792, colsample_bytree=0.841374603439832 will be ignored. Current value: feature_fraction=0.14523040434701792\n",
      "[100]\ttraining's l2: 0.0705691\tvalid_1's l2: 0.0696341\n",
      "[200]\ttraining's l2: 0.0367431\tvalid_1's l2: 0.0358075\n",
      "[300]\ttraining's l2: 0.0285384\tvalid_1's l2: 0.027759\n",
      "[400]\ttraining's l2: 0.0259877\tvalid_1's l2: 0.0253607\n",
      "[500]\ttraining's l2: 0.0246281\tvalid_1's l2: 0.0241333\n",
      "| \u001b[0m18       \u001b[0m | \u001b[0m0.9971   \u001b[0m | \u001b[0m0.8414   \u001b[0m | \u001b[0m0.1452   \u001b[0m | \u001b[0m0.01219  \u001b[0m | \u001b[0m402.4    \u001b[0m | \u001b[0m54.86    \u001b[0m | \u001b[0m107.9    \u001b[0m | \u001b[0m12.33    \u001b[0m | \u001b[0m399.8    \u001b[0m | \u001b[0m12.67    \u001b[0m | \u001b[0m10.15    \u001b[0m | \u001b[0m4.395    \u001b[0m | \u001b[0m0.3166   \u001b[0m |\n"
     ]
    },
    {
     "name": "stderr",
     "output_type": "stream",
     "text": [
      "/Users/moon/anaconda3/envs/mulcamp/lib/python3.10/site-packages/lightgbm/sklearn.py:726: UserWarning: 'early_stopping_rounds' argument is deprecated and will be removed in a future release of LightGBM. Pass 'early_stopping()' callback via 'callbacks' argument instead.\n",
      "  _log_warning(\"'early_stopping_rounds' argument is deprecated and will be removed in a future release of LightGBM. \"\n",
      "/Users/moon/anaconda3/envs/mulcamp/lib/python3.10/site-packages/lightgbm/sklearn.py:736: UserWarning: 'verbose' argument is deprecated and will be removed in a future release of LightGBM. Pass 'log_evaluation()' callback via 'callbacks' argument instead.\n",
      "  _log_warning(\"'verbose' argument is deprecated and will be removed in a future release of LightGBM. \"\n"
     ]
    },
    {
     "name": "stdout",
     "output_type": "stream",
     "text": [
      "[LightGBM] [Warning] feature_fraction is set=0.1643057018172753, colsample_bytree=0.28974989945273366 will be ignored. Current value: feature_fraction=0.1643057018172753\n",
      "[100]\ttraining's l2: 0.0214647\tvalid_1's l2: 0.0223791\n",
      "[200]\ttraining's l2: 0.0177538\tvalid_1's l2: 0.0194329\n",
      "[300]\ttraining's l2: 0.0160234\tvalid_1's l2: 0.0181568\n",
      "[400]\ttraining's l2: 0.0151489\tvalid_1's l2: 0.0176567\n",
      "[500]\ttraining's l2: 0.0143363\tvalid_1's l2: 0.0171304\n",
      "| \u001b[0m19       \u001b[0m | \u001b[0m0.9989   \u001b[0m | \u001b[0m0.2897   \u001b[0m | \u001b[0m0.1643   \u001b[0m | \u001b[0m0.271    \u001b[0m | \u001b[0m467.3    \u001b[0m | \u001b[0m75.16    \u001b[0m | \u001b[0m31.86    \u001b[0m | \u001b[0m7.088    \u001b[0m | \u001b[0m380.4    \u001b[0m | \u001b[0m12.99    \u001b[0m | \u001b[0m18.15    \u001b[0m | \u001b[0m12.15    \u001b[0m | \u001b[0m0.9998   \u001b[0m |\n"
     ]
    },
    {
     "name": "stderr",
     "output_type": "stream",
     "text": [
      "/Users/moon/anaconda3/envs/mulcamp/lib/python3.10/site-packages/lightgbm/sklearn.py:726: UserWarning: 'early_stopping_rounds' argument is deprecated and will be removed in a future release of LightGBM. Pass 'early_stopping()' callback via 'callbacks' argument instead.\n",
      "  _log_warning(\"'early_stopping_rounds' argument is deprecated and will be removed in a future release of LightGBM. \"\n",
      "/Users/moon/anaconda3/envs/mulcamp/lib/python3.10/site-packages/lightgbm/sklearn.py:736: UserWarning: 'verbose' argument is deprecated and will be removed in a future release of LightGBM. Pass 'log_evaluation()' callback via 'callbacks' argument instead.\n",
      "  _log_warning(\"'verbose' argument is deprecated and will be removed in a future release of LightGBM. \"\n"
     ]
    },
    {
     "name": "stdout",
     "output_type": "stream",
     "text": [
      "[LightGBM] [Warning] feature_fraction is set=0.9219206197495257, colsample_bytree=0.830755759774826 will be ignored. Current value: feature_fraction=0.9219206197495257\n",
      "[100]\ttraining's l2: 0.0277539\tvalid_1's l2: 0.0274717\n",
      "[200]\ttraining's l2: 0.0222583\tvalid_1's l2: 0.0223275\n",
      "[300]\ttraining's l2: 0.0199568\tvalid_1's l2: 0.0202545\n",
      "[400]\ttraining's l2: 0.0186265\tvalid_1's l2: 0.0190943\n",
      "[500]\ttraining's l2: 0.0177066\tvalid_1's l2: 0.0183383\n",
      "| \u001b[0m20       \u001b[0m | \u001b[0m0.9985   \u001b[0m | \u001b[0m0.8308   \u001b[0m | \u001b[0m0.9219   \u001b[0m | \u001b[0m0.1324   \u001b[0m | \u001b[0m498.4    \u001b[0m | \u001b[0m51.76    \u001b[0m | \u001b[0m27.07    \u001b[0m | \u001b[0m10.29    \u001b[0m | \u001b[0m56.25    \u001b[0m | \u001b[0m4.043    \u001b[0m | \u001b[0m11.38    \u001b[0m | \u001b[0m1.798    \u001b[0m | \u001b[0m0.2873   \u001b[0m |\n"
     ]
    },
    {
     "name": "stderr",
     "output_type": "stream",
     "text": [
      "/Users/moon/anaconda3/envs/mulcamp/lib/python3.10/site-packages/lightgbm/sklearn.py:726: UserWarning: 'early_stopping_rounds' argument is deprecated and will be removed in a future release of LightGBM. Pass 'early_stopping()' callback via 'callbacks' argument instead.\n",
      "  _log_warning(\"'early_stopping_rounds' argument is deprecated and will be removed in a future release of LightGBM. \"\n",
      "/Users/moon/anaconda3/envs/mulcamp/lib/python3.10/site-packages/lightgbm/sklearn.py:736: UserWarning: 'verbose' argument is deprecated and will be removed in a future release of LightGBM. Pass 'log_evaluation()' callback via 'callbacks' argument instead.\n",
      "  _log_warning(\"'verbose' argument is deprecated and will be removed in a future release of LightGBM. \"\n"
     ]
    },
    {
     "name": "stdout",
     "output_type": "stream",
     "text": [
      "[LightGBM] [Warning] feature_fraction is set=0.980674575995681, colsample_bytree=0.5823417962578278 will be ignored. Current value: feature_fraction=0.980674575995681\n",
      "[100]\ttraining's l2: 0.0183359\tvalid_1's l2: 0.0194097\n",
      "[200]\ttraining's l2: 0.0156105\tvalid_1's l2: 0.0172461\n",
      "[300]\ttraining's l2: 0.0143031\tvalid_1's l2: 0.016346\n",
      "[400]\ttraining's l2: 0.013482\tvalid_1's l2: 0.0158815\n",
      "[500]\ttraining's l2: 0.0128655\tvalid_1's l2: 0.0155819\n",
      "| \u001b[95m21       \u001b[0m | \u001b[95m0.999    \u001b[0m | \u001b[95m0.5823   \u001b[0m | \u001b[95m0.9807   \u001b[0m | \u001b[95m0.1165   \u001b[0m | \u001b[95m467.4    \u001b[0m | \u001b[95m75.34    \u001b[0m | \u001b[95m488.5    \u001b[0m | \u001b[95m5.15     \u001b[0m | \u001b[95m482.7    \u001b[0m | \u001b[95m12.82    \u001b[0m | \u001b[95m13.68    \u001b[0m | \u001b[95m6.319    \u001b[0m | \u001b[95m0.6511   \u001b[0m |\n"
     ]
    },
    {
     "name": "stderr",
     "output_type": "stream",
     "text": [
      "/Users/moon/anaconda3/envs/mulcamp/lib/python3.10/site-packages/lightgbm/sklearn.py:726: UserWarning: 'early_stopping_rounds' argument is deprecated and will be removed in a future release of LightGBM. Pass 'early_stopping()' callback via 'callbacks' argument instead.\n",
      "  _log_warning(\"'early_stopping_rounds' argument is deprecated and will be removed in a future release of LightGBM. \"\n",
      "/Users/moon/anaconda3/envs/mulcamp/lib/python3.10/site-packages/lightgbm/sklearn.py:736: UserWarning: 'verbose' argument is deprecated and will be removed in a future release of LightGBM. Pass 'log_evaluation()' callback via 'callbacks' argument instead.\n",
      "  _log_warning(\"'verbose' argument is deprecated and will be removed in a future release of LightGBM. \"\n"
     ]
    },
    {
     "name": "stdout",
     "output_type": "stream",
     "text": [
      "[LightGBM] [Warning] feature_fraction is set=0.6468848723112275, colsample_bytree=0.5073844429016284 will be ignored. Current value: feature_fraction=0.6468848723112275\n",
      "[100]\ttraining's l2: 0.0257588\tvalid_1's l2: 0.0260104\n",
      "[200]\ttraining's l2: 0.0212303\tvalid_1's l2: 0.0220286\n",
      "[300]\ttraining's l2: 0.0188191\tvalid_1's l2: 0.019974\n",
      "[400]\ttraining's l2: 0.0173744\tvalid_1's l2: 0.0187729\n",
      "[500]\ttraining's l2: 0.0164395\tvalid_1's l2: 0.0180463\n",
      "| \u001b[0m22       \u001b[0m | \u001b[0m0.9984   \u001b[0m | \u001b[0m0.5074   \u001b[0m | \u001b[0m0.6469   \u001b[0m | \u001b[0m0.05216  \u001b[0m | \u001b[0m308.5    \u001b[0m | \u001b[0m13.54    \u001b[0m | \u001b[0m70.17    \u001b[0m | \u001b[0m13.03    \u001b[0m | \u001b[0m436.8    \u001b[0m | \u001b[0m13.52    \u001b[0m | \u001b[0m8.667    \u001b[0m | \u001b[0m6.297    \u001b[0m | \u001b[0m0.3355   \u001b[0m |\n"
     ]
    },
    {
     "name": "stderr",
     "output_type": "stream",
     "text": [
      "/Users/moon/anaconda3/envs/mulcamp/lib/python3.10/site-packages/lightgbm/sklearn.py:726: UserWarning: 'early_stopping_rounds' argument is deprecated and will be removed in a future release of LightGBM. Pass 'early_stopping()' callback via 'callbacks' argument instead.\n",
      "  _log_warning(\"'early_stopping_rounds' argument is deprecated and will be removed in a future release of LightGBM. \"\n",
      "/Users/moon/anaconda3/envs/mulcamp/lib/python3.10/site-packages/lightgbm/sklearn.py:736: UserWarning: 'verbose' argument is deprecated and will be removed in a future release of LightGBM. Pass 'log_evaluation()' callback via 'callbacks' argument instead.\n",
      "  _log_warning(\"'verbose' argument is deprecated and will be removed in a future release of LightGBM. \"\n"
     ]
    },
    {
     "name": "stdout",
     "output_type": "stream",
     "text": [
      "[LightGBM] [Warning] feature_fraction is set=0.7528103536470625, colsample_bytree=0.30371308544067077 will be ignored. Current value: feature_fraction=0.7528103536470625\n",
      "[100]\ttraining's l2: 0.0175267\tvalid_1's l2: 0.0193179\n",
      "[200]\ttraining's l2: 0.015158\tvalid_1's l2: 0.0177395\n",
      "[300]\ttraining's l2: 0.0139339\tvalid_1's l2: 0.0171027\n",
      "[400]\ttraining's l2: 0.013165\tvalid_1's l2: 0.0167946\n",
      "[500]\ttraining's l2: 0.012561\tvalid_1's l2: 0.016612\n",
      "| \u001b[0m23       \u001b[0m | \u001b[0m0.9989   \u001b[0m | \u001b[0m0.3037   \u001b[0m | \u001b[0m0.7528   \u001b[0m | \u001b[0m0.2942   \u001b[0m | \u001b[0m310.1    \u001b[0m | \u001b[0m18.39    \u001b[0m | \u001b[0m59.88    \u001b[0m | \u001b[0m9.703    \u001b[0m | \u001b[0m439.4    \u001b[0m | \u001b[0m16.99    \u001b[0m | \u001b[0m2.033    \u001b[0m | \u001b[0m8.001    \u001b[0m | \u001b[0m0.5623   \u001b[0m |\n"
     ]
    },
    {
     "name": "stderr",
     "output_type": "stream",
     "text": [
      "/Users/moon/anaconda3/envs/mulcamp/lib/python3.10/site-packages/lightgbm/sklearn.py:726: UserWarning: 'early_stopping_rounds' argument is deprecated and will be removed in a future release of LightGBM. Pass 'early_stopping()' callback via 'callbacks' argument instead.\n",
      "  _log_warning(\"'early_stopping_rounds' argument is deprecated and will be removed in a future release of LightGBM. \"\n",
      "/Users/moon/anaconda3/envs/mulcamp/lib/python3.10/site-packages/lightgbm/sklearn.py:736: UserWarning: 'verbose' argument is deprecated and will be removed in a future release of LightGBM. Pass 'log_evaluation()' callback via 'callbacks' argument instead.\n",
      "  _log_warning(\"'verbose' argument is deprecated and will be removed in a future release of LightGBM. \"\n"
     ]
    },
    {
     "name": "stdout",
     "output_type": "stream",
     "text": [
      "[LightGBM] [Warning] feature_fraction is set=0.954771571133034, colsample_bytree=0.1044630839701336 will be ignored. Current value: feature_fraction=0.954771571133034\n",
      "[100]\ttraining's l2: 0.0162727\tvalid_1's l2: 0.0183458\n",
      "[200]\ttraining's l2: 0.0140529\tvalid_1's l2: 0.0171281\n",
      "[300]\ttraining's l2: 0.0128999\tvalid_1's l2: 0.0167182\n",
      "[400]\ttraining's l2: 0.0120631\tvalid_1's l2: 0.016475\n",
      "[500]\ttraining's l2: 0.0113968\tvalid_1's l2: 0.0163136\n",
      "| \u001b[0m24       \u001b[0m | \u001b[0m0.9989   \u001b[0m | \u001b[0m0.1045   \u001b[0m | \u001b[0m0.9548   \u001b[0m | \u001b[0m0.2509   \u001b[0m | \u001b[0m285.7    \u001b[0m | \u001b[0m94.9     \u001b[0m | \u001b[0m56.32    \u001b[0m | \u001b[0m18.1     \u001b[0m | \u001b[0m475.7    \u001b[0m | \u001b[0m11.53    \u001b[0m | \u001b[0m12.55    \u001b[0m | \u001b[0m6.237    \u001b[0m | \u001b[0m0.1181   \u001b[0m |\n"
     ]
    },
    {
     "name": "stderr",
     "output_type": "stream",
     "text": [
      "/Users/moon/anaconda3/envs/mulcamp/lib/python3.10/site-packages/lightgbm/sklearn.py:726: UserWarning: 'early_stopping_rounds' argument is deprecated and will be removed in a future release of LightGBM. Pass 'early_stopping()' callback via 'callbacks' argument instead.\n",
      "  _log_warning(\"'early_stopping_rounds' argument is deprecated and will be removed in a future release of LightGBM. \"\n",
      "/Users/moon/anaconda3/envs/mulcamp/lib/python3.10/site-packages/lightgbm/sklearn.py:736: UserWarning: 'verbose' argument is deprecated and will be removed in a future release of LightGBM. Pass 'log_evaluation()' callback via 'callbacks' argument instead.\n",
      "  _log_warning(\"'verbose' argument is deprecated and will be removed in a future release of LightGBM. \"\n"
     ]
    },
    {
     "name": "stdout",
     "output_type": "stream",
     "text": [
      "[LightGBM] [Warning] feature_fraction is set=0.8585469107134702, colsample_bytree=0.7127646651329405 will be ignored. Current value: feature_fraction=0.8585469107134702\n",
      "[100]\ttraining's l2: 0.0167633\tvalid_1's l2: 0.0190814\n",
      "[200]\ttraining's l2: 0.0138435\tvalid_1's l2: 0.0174503\n",
      "[300]\ttraining's l2: 0.0123666\tvalid_1's l2: 0.0168988\n",
      "[400]\ttraining's l2: 0.0113438\tvalid_1's l2: 0.0166022\n",
      "[500]\ttraining's l2: 0.0105586\tvalid_1's l2: 0.0164199\n",
      "| \u001b[0m25       \u001b[0m | \u001b[0m0.9988   \u001b[0m | \u001b[0m0.7128   \u001b[0m | \u001b[0m0.8585   \u001b[0m | \u001b[0m0.2284   \u001b[0m | \u001b[0m239.5    \u001b[0m | \u001b[0m25.37    \u001b[0m | \u001b[0m21.35    \u001b[0m | \u001b[0m18.34    \u001b[0m | \u001b[0m480.4    \u001b[0m | \u001b[0m5.572    \u001b[0m | \u001b[0m3.126    \u001b[0m | \u001b[0m2.13     \u001b[0m | \u001b[0m0.1994   \u001b[0m |\n"
     ]
    },
    {
     "name": "stderr",
     "output_type": "stream",
     "text": [
      "/Users/moon/anaconda3/envs/mulcamp/lib/python3.10/site-packages/lightgbm/sklearn.py:726: UserWarning: 'early_stopping_rounds' argument is deprecated and will be removed in a future release of LightGBM. Pass 'early_stopping()' callback via 'callbacks' argument instead.\n",
      "  _log_warning(\"'early_stopping_rounds' argument is deprecated and will be removed in a future release of LightGBM. \"\n",
      "/Users/moon/anaconda3/envs/mulcamp/lib/python3.10/site-packages/lightgbm/sklearn.py:736: UserWarning: 'verbose' argument is deprecated and will be removed in a future release of LightGBM. Pass 'log_evaluation()' callback via 'callbacks' argument instead.\n",
      "  _log_warning(\"'verbose' argument is deprecated and will be removed in a future release of LightGBM. \"\n"
     ]
    },
    {
     "name": "stdout",
     "output_type": "stream",
     "text": [
      "[LightGBM] [Warning] feature_fraction is set=0.5479272502154484, colsample_bytree=0.4239876251005311 will be ignored. Current value: feature_fraction=0.5479272502154484\n",
      "[100]\ttraining's l2: 0.0172792\tvalid_1's l2: 0.0191992\n",
      "[200]\ttraining's l2: 0.0147434\tvalid_1's l2: 0.0177658\n",
      "[300]\ttraining's l2: 0.0133768\tvalid_1's l2: 0.0171965\n",
      "[400]\ttraining's l2: 0.0124412\tvalid_1's l2: 0.0168722\n",
      "[500]\ttraining's l2: 0.01174\tvalid_1's l2: 0.016694\n",
      "| \u001b[0m26       \u001b[0m | \u001b[0m0.9989   \u001b[0m | \u001b[0m0.424    \u001b[0m | \u001b[0m0.5479   \u001b[0m | \u001b[0m0.2964   \u001b[0m | \u001b[0m253.7    \u001b[0m | \u001b[0m33.13    \u001b[0m | \u001b[0m84.52    \u001b[0m | \u001b[0m8.893    \u001b[0m | \u001b[0m397.7    \u001b[0m | \u001b[0m7.472    \u001b[0m | \u001b[0m13.06    \u001b[0m | \u001b[0m0.107    \u001b[0m | \u001b[0m0.1298   \u001b[0m |\n"
     ]
    },
    {
     "name": "stderr",
     "output_type": "stream",
     "text": [
      "/Users/moon/anaconda3/envs/mulcamp/lib/python3.10/site-packages/lightgbm/sklearn.py:726: UserWarning: 'early_stopping_rounds' argument is deprecated and will be removed in a future release of LightGBM. Pass 'early_stopping()' callback via 'callbacks' argument instead.\n",
      "  _log_warning(\"'early_stopping_rounds' argument is deprecated and will be removed in a future release of LightGBM. \"\n",
      "/Users/moon/anaconda3/envs/mulcamp/lib/python3.10/site-packages/lightgbm/sklearn.py:736: UserWarning: 'verbose' argument is deprecated and will be removed in a future release of LightGBM. Pass 'log_evaluation()' callback via 'callbacks' argument instead.\n",
      "  _log_warning(\"'verbose' argument is deprecated and will be removed in a future release of LightGBM. \"\n"
     ]
    },
    {
     "name": "stdout",
     "output_type": "stream",
     "text": [
      "[LightGBM] [Warning] feature_fraction is set=0.8550044745398632, colsample_bytree=0.31168789450082646 will be ignored. Current value: feature_fraction=0.8550044745398632\n",
      "[100]\ttraining's l2: 0.020776\tvalid_1's l2: 0.0214885\n",
      "[200]\ttraining's l2: 0.0172395\tvalid_1's l2: 0.0184975\n",
      "[300]\ttraining's l2: 0.0157516\tvalid_1's l2: 0.0173889\n",
      "[400]\ttraining's l2: 0.0148201\tvalid_1's l2: 0.0167479\n",
      "[500]\ttraining's l2: 0.0141592\tvalid_1's l2: 0.0163292\n",
      "| \u001b[0m27       \u001b[0m | \u001b[0m0.9989   \u001b[0m | \u001b[0m0.3117   \u001b[0m | \u001b[0m0.855    \u001b[0m | \u001b[0m0.07204  \u001b[0m | \u001b[0m255.6    \u001b[0m | \u001b[0m80.46    \u001b[0m | \u001b[0m147.2    \u001b[0m | \u001b[0m2.311    \u001b[0m | \u001b[0m497.6    \u001b[0m | \u001b[0m14.75    \u001b[0m | \u001b[0m5.718    \u001b[0m | \u001b[0m1.029    \u001b[0m | \u001b[0m0.7095   \u001b[0m |\n"
     ]
    },
    {
     "name": "stderr",
     "output_type": "stream",
     "text": [
      "/Users/moon/anaconda3/envs/mulcamp/lib/python3.10/site-packages/lightgbm/sklearn.py:726: UserWarning: 'early_stopping_rounds' argument is deprecated and will be removed in a future release of LightGBM. Pass 'early_stopping()' callback via 'callbacks' argument instead.\n",
      "  _log_warning(\"'early_stopping_rounds' argument is deprecated and will be removed in a future release of LightGBM. \"\n",
      "/Users/moon/anaconda3/envs/mulcamp/lib/python3.10/site-packages/lightgbm/sklearn.py:736: UserWarning: 'verbose' argument is deprecated and will be removed in a future release of LightGBM. Pass 'log_evaluation()' callback via 'callbacks' argument instead.\n",
      "  _log_warning(\"'verbose' argument is deprecated and will be removed in a future release of LightGBM. \"\n"
     ]
    },
    {
     "name": "stdout",
     "output_type": "stream",
     "text": [
      "[LightGBM] [Warning] feature_fraction is set=0.5993578725235558, colsample_bytree=0.18024173412661249 will be ignored. Current value: feature_fraction=0.5993578725235558\n",
      "[100]\ttraining's l2: 0.0176497\tvalid_1's l2: 0.0193545\n",
      "[200]\ttraining's l2: 0.0150082\tvalid_1's l2: 0.0179412\n",
      "[300]\ttraining's l2: 0.0135647\tvalid_1's l2: 0.0173925\n",
      "[400]\ttraining's l2: 0.012538\tvalid_1's l2: 0.0170727\n",
      "[500]\ttraining's l2: 0.011748\tvalid_1's l2: 0.0168817\n",
      "| \u001b[0m28       \u001b[0m | \u001b[0m0.9988   \u001b[0m | \u001b[0m0.1802   \u001b[0m | \u001b[0m0.5994   \u001b[0m | \u001b[0m0.2626   \u001b[0m | \u001b[0m215.4    \u001b[0m | \u001b[0m64.55    \u001b[0m | \u001b[0m206.1    \u001b[0m | \u001b[0m6.775    \u001b[0m | \u001b[0m343.0    \u001b[0m | \u001b[0m1.979    \u001b[0m | \u001b[0m15.92    \u001b[0m | \u001b[0m14.31    \u001b[0m | \u001b[0m0.1448   \u001b[0m |\n"
     ]
    },
    {
     "name": "stderr",
     "output_type": "stream",
     "text": [
      "/Users/moon/anaconda3/envs/mulcamp/lib/python3.10/site-packages/lightgbm/sklearn.py:726: UserWarning: 'early_stopping_rounds' argument is deprecated and will be removed in a future release of LightGBM. Pass 'early_stopping()' callback via 'callbacks' argument instead.\n",
      "  _log_warning(\"'early_stopping_rounds' argument is deprecated and will be removed in a future release of LightGBM. \"\n",
      "/Users/moon/anaconda3/envs/mulcamp/lib/python3.10/site-packages/lightgbm/sklearn.py:736: UserWarning: 'verbose' argument is deprecated and will be removed in a future release of LightGBM. Pass 'log_evaluation()' callback via 'callbacks' argument instead.\n",
      "  _log_warning(\"'verbose' argument is deprecated and will be removed in a future release of LightGBM. \"\n"
     ]
    },
    {
     "name": "stdout",
     "output_type": "stream",
     "text": [
      "[LightGBM] [Warning] feature_fraction is set=0.268845598793141, colsample_bytree=0.6654654221065188 will be ignored. Current value: feature_fraction=0.268845598793141\n",
      "[100]\ttraining's l2: 0.0331996\tvalid_1's l2: 0.0321221\n",
      "[200]\ttraining's l2: 0.025248\tvalid_1's l2: 0.0246631\n",
      "[300]\ttraining's l2: 0.0229138\tvalid_1's l2: 0.0226124\n",
      "[400]\ttraining's l2: 0.0215161\tvalid_1's l2: 0.0214086\n",
      "[500]\ttraining's l2: 0.0205264\tvalid_1's l2: 0.0205824\n",
      "| \u001b[0m29       \u001b[0m | \u001b[0m0.998    \u001b[0m | \u001b[0m0.6655   \u001b[0m | \u001b[0m0.2688   \u001b[0m | \u001b[0m0.02853  \u001b[0m | \u001b[0m483.3    \u001b[0m | \u001b[0m74.98    \u001b[0m | \u001b[0m491.3    \u001b[0m | \u001b[0m13.39    \u001b[0m | \u001b[0m211.8    \u001b[0m | \u001b[0m3.385    \u001b[0m | \u001b[0m10.11    \u001b[0m | \u001b[0m14.63    \u001b[0m | \u001b[0m0.4359   \u001b[0m |\n"
     ]
    },
    {
     "name": "stderr",
     "output_type": "stream",
     "text": [
      "/Users/moon/anaconda3/envs/mulcamp/lib/python3.10/site-packages/lightgbm/sklearn.py:726: UserWarning: 'early_stopping_rounds' argument is deprecated and will be removed in a future release of LightGBM. Pass 'early_stopping()' callback via 'callbacks' argument instead.\n",
      "  _log_warning(\"'early_stopping_rounds' argument is deprecated and will be removed in a future release of LightGBM. \"\n",
      "/Users/moon/anaconda3/envs/mulcamp/lib/python3.10/site-packages/lightgbm/sklearn.py:736: UserWarning: 'verbose' argument is deprecated and will be removed in a future release of LightGBM. Pass 'log_evaluation()' callback via 'callbacks' argument instead.\n",
      "  _log_warning(\"'verbose' argument is deprecated and will be removed in a future release of LightGBM. \"\n"
     ]
    },
    {
     "name": "stdout",
     "output_type": "stream",
     "text": [
      "[LightGBM] [Warning] feature_fraction is set=0.5210711150479999, colsample_bytree=0.39252505150351147 will be ignored. Current value: feature_fraction=0.5210711150479999\n",
      "[100]\ttraining's l2: 0.0191628\tvalid_1's l2: 0.0203948\n",
      "[200]\ttraining's l2: 0.0164624\tvalid_1's l2: 0.0185706\n",
      "[300]\ttraining's l2: 0.0150594\tvalid_1's l2: 0.0178255\n",
      "[400]\ttraining's l2: 0.0141169\tvalid_1's l2: 0.0173926\n",
      "[500]\ttraining's l2: 0.0134272\tvalid_1's l2: 0.0171454\n",
      "| \u001b[0m30       \u001b[0m | \u001b[0m0.9988   \u001b[0m | \u001b[0m0.3925   \u001b[0m | \u001b[0m0.5211   \u001b[0m | \u001b[0m0.2893   \u001b[0m | \u001b[0m224.8    \u001b[0m | \u001b[0m49.52    \u001b[0m | \u001b[0m144.0    \u001b[0m | \u001b[0m6.52     \u001b[0m | \u001b[0m247.6    \u001b[0m | \u001b[0m7.099    \u001b[0m | \u001b[0m8.925    \u001b[0m | \u001b[0m17.97    \u001b[0m | \u001b[0m0.6969   \u001b[0m |\n",
      "=========================================================================================================================================================================\n",
      "[0.9988992860713903, 0.9978891772830202, 0.9982468340244961, 0.9983876435321389, 0.9990180970386014, 0.9988485782362696, 0.9989980880189153, 0.9969553586929063, 0.9983797860592493, 0.998912118902798, 0.997883538581525, 0.9987434987388284, 0.9933338210481824, 0.998660848151018, 0.9879629798167278, 0.9988900582139149, 0.9979516854657398, 0.9970691343731175, 0.9988759417051214, 0.9985346887793779, 0.9990381273325505, 0.9984480864797743, 0.9989013171296405, 0.9989285919976313, 0.9987894750108922, 0.9988554912163877, 0.9988544279365181, 0.9987757946218214, 0.9980308769129006, 0.998843677575718]\n",
      "maximum target index: 20\n",
      "{'target': 0.9990381273325505, 'params': {'colsample_bytree': 0.5823417962578278, 'feature_fraction': 0.980674575995681, 'learning_rate': 0.1164684190207278, 'max_bin': 467.38240666373184, 'max_depth': 75.33558203090146, 'min_child_samples': 488.47256537755175, 'min_child_weight': 5.1504653148508295, 'num_leaves': 482.6607783617061, 'reg_alpha': 12.820563679828563, 'reg_lambda': 13.678291646371353, 'scale_pos_weight': 6.318795763453827, 'subsample': 0.6511346744137277}}\n"
     ]
    }
   ],
   "source": [
    "from bayes_opt import BayesianOptimization\n",
    "from sklearn.metrics import roc_auc_score\n",
    "from lightgbm import LGBMRegressor\n",
    "\n",
    "bayesian_params = {\n",
    "    'max_depth': (1,100),\n",
    "    'min_child_samples': (1, 200), #하나의 잎에 최소 데이터 개수 (오버피팅 대응)\n",
    "    \"learning_rate\": (0.001, 0.3),\n",
    "    \"num_leaves\": (2,512),\n",
    "    'scale_pos_weight': (0.1,20),\n",
    "    'colsample_bytree': (0.0,1.0),\n",
    "    'max_bin': (2,512),\n",
    "    'min_child_samples': (1,500),\n",
    "    'min_child_weight': (1,20),\n",
    "    'reg_alpha': (0,20),\n",
    "    'reg_lambda': (0,20),\n",
    "    'subsample': (0.1,1),\n",
    "    'feature_fraction': (0.1,1.0)\n",
    "}\n",
    "\n",
    "def lgb_roc_eval(max_depth, min_child_samples, num_leaves, min_child_weight, subsample, colsample_bytree, max_bin, reg_lambda, reg_alpha, \n",
    "                 learning_rate, scale_pos_weight,feature_fraction):\n",
    "  params = {\n",
    "      \"n_estimators\": 500,\n",
    "      'max_depth': int(round(max_depth)),\n",
    "      'num_leaves': int(round(num_leaves)),\n",
    "      'min_child_samples': int(round(min_child_samples)),\n",
    "      'min_child_weight': int(round(min_child_weight)),\n",
    "      'subsample': max(min(subsample, 1), 0),\n",
    "      'colsample_bytree': max(min(colsample_bytree, 1), 0),\n",
    "      'max_bin': max(int(round(max_bin)), 10),\n",
    "      'reg_lambda': max(reg_lambda, 0),\n",
    "      'reg_alpha': max(reg_alpha, 0),\n",
    "      \"learning_rate\": learning_rate,\n",
    "      \"scale_pos_weight\": scale_pos_weight,\n",
    "      \"feature_fraction\": feature_fraction\n",
    "  }\n",
    "  lgb_model = LGBMRegressor(**params)\n",
    "  lgb_model.fit(X_train_resampled, y_train_resampled, eval_set=[(X_train_resampled, y_train_resampled), (X_test_resampled, y_test_resampled)], eval_metric= 'mse', verbose= 100, \n",
    "                early_stopping_rounds= 100)\n",
    "  valid_proba = lgb_model.predict(X_test_resampled)\n",
    "  roc_auc = roc_auc_score(y_test_resampled, valid_proba)\n",
    "\n",
    "  return roc_auc\n",
    "\n",
    "lgbBO = BayesianOptimization(f= lgb_roc_eval, pbounds=bayesian_params, random_state = 42)\n",
    "lgbBO.maximize(init_points = 5, n_iter = 25)\n",
    "\n",
    "# dictionary에 있는 target값을 모두 추출\n",
    "target_list = []\n",
    "for result in lgbBO.res:\n",
    "    target = result['target']\n",
    "    target_list.append(target)\n",
    "print(target_list)\n",
    "# 가장 큰 target 값을 가지는 순번(index)를 추출\n",
    "print('maximum target index:', np.argmax(np.array(target_list)))\n",
    "\n",
    "# 가장 큰 target값을 가지는 index값을 기준으로 res에서 해당 parameter 추출. \n",
    "max_dict = lgbBO.res[np.argmax(np.array(target_list))]\n",
    "print(max_dict)"
   ]
  },
  {
   "cell_type": "markdown",
   "metadata": {},
   "source": [
    "LGBM Regressor 모델 생성 ∙ 학습"
   ]
  },
  {
   "cell_type": "code",
   "execution_count": 3,
   "metadata": {},
   "outputs": [
    {
     "name": "stdout",
     "output_type": "stream",
     "text": [
      "[LightGBM] [Warning] feature_fraction is set=0.98, colsample_bytree=0.58 will be ignored. Current value: feature_fraction=0.98\n",
      "[LightGBM] [Warning] feature_fraction is set=0.98, colsample_bytree=0.58 will be ignored. Current value: feature_fraction=0.98\n",
      "[LightGBM] [Warning] Auto-choosing col-wise multi-threading, the overhead of testing was 0.173919 seconds.\n",
      "You can set `force_col_wise=true` to remove the overhead.\n",
      "[LightGBM] [Info] Total Bins 13543\n",
      "[LightGBM] [Info] Number of data points in the train set: 3459718, number of used features: 29\n",
      "[LightGBM] [Warning] feature_fraction is set=0.98, colsample_bytree=0.58 will be ignored. Current value: feature_fraction=0.98\n",
      "[LightGBM] [Info] Start training from score 0.500000\n",
      "[1]\tvalid_0's l2: 0.211392\n",
      "Training until validation scores don't improve for 20 rounds\n",
      "[2]\tvalid_0's l2: 0.180685\n",
      "[3]\tvalid_0's l2: 0.154777\n",
      "[4]\tvalid_0's l2: 0.134428\n",
      "[5]\tvalid_0's l2: 0.117782\n",
      "[6]\tvalid_0's l2: 0.104932\n",
      "[7]\tvalid_0's l2: 0.093862\n",
      "[8]\tvalid_0's l2: 0.08368\n",
      "[9]\tvalid_0's l2: 0.0753409\n",
      "[10]\tvalid_0's l2: 0.0684017\n",
      "[11]\tvalid_0's l2: 0.0630435\n",
      "[12]\tvalid_0's l2: 0.057554\n",
      "[13]\tvalid_0's l2: 0.0536392\n",
      "[14]\tvalid_0's l2: 0.0502375\n",
      "[15]\tvalid_0's l2: 0.047412\n",
      "[16]\tvalid_0's l2: 0.0452473\n"
     ]
    },
    {
     "ename": "KeyboardInterrupt",
     "evalue": "",
     "output_type": "error",
     "traceback": [
      "\u001b[0;31m---------------------------------------------------------------------------\u001b[0m",
      "\u001b[0;31mKeyboardInterrupt\u001b[0m                         Traceback (most recent call last)",
      "\u001b[1;32m/Users/moon/Python_Stock_Project/LGBM_Test.ipynb 셀 6\u001b[0m line \u001b[0;36m2\n\u001b[1;32m     <a href='vscode-notebook-cell:/Users/moon/Python_Stock_Project/LGBM_Test.ipynb#W1sZmlsZQ%3D%3D?line=23'>24</a>\u001b[0m test_data \u001b[39m=\u001b[39m lgb\u001b[39m.\u001b[39mDataset(X_test_resampled, label\u001b[39m=\u001b[39my_test_resampled)\n\u001b[1;32m     <a href='vscode-notebook-cell:/Users/moon/Python_Stock_Project/LGBM_Test.ipynb#W1sZmlsZQ%3D%3D?line=25'>26</a>\u001b[0m num_round \u001b[39m=\u001b[39m \u001b[39m10000\u001b[39m\n\u001b[0;32m---> <a href='vscode-notebook-cell:/Users/moon/Python_Stock_Project/LGBM_Test.ipynb#W1sZmlsZQ%3D%3D?line=26'>27</a>\u001b[0m bst \u001b[39m=\u001b[39m lgb\u001b[39m.\u001b[39;49mtrain(params, train_data, num_round, valid_sets\u001b[39m=\u001b[39;49m[test_data])\n\u001b[1;32m     <a href='vscode-notebook-cell:/Users/moon/Python_Stock_Project/LGBM_Test.ipynb#W1sZmlsZQ%3D%3D?line=27'>28</a>\u001b[0m asdf \u001b[39m=\u001b[39m lgb\u001b[39m.\u001b[39mLGBMRegressor()\n\u001b[1;32m     <a href='vscode-notebook-cell:/Users/moon/Python_Stock_Project/LGBM_Test.ipynb#W1sZmlsZQ%3D%3D?line=29'>30</a>\u001b[0m y_pred \u001b[39m=\u001b[39m bst\u001b[39m.\u001b[39mpredict(X_test)\n",
      "File \u001b[0;32m~/anaconda3/envs/mulcamp/lib/python3.10/site-packages/lightgbm/engine.py:292\u001b[0m, in \u001b[0;36mtrain\u001b[0;34m(params, train_set, num_boost_round, valid_sets, valid_names, fobj, feval, init_model, feature_name, categorical_feature, early_stopping_rounds, evals_result, verbose_eval, learning_rates, keep_training_booster, callbacks)\u001b[0m\n\u001b[1;32m    284\u001b[0m \u001b[39mfor\u001b[39;00m cb \u001b[39min\u001b[39;00m callbacks_before_iter:\n\u001b[1;32m    285\u001b[0m     cb(callback\u001b[39m.\u001b[39mCallbackEnv(model\u001b[39m=\u001b[39mbooster,\n\u001b[1;32m    286\u001b[0m                             params\u001b[39m=\u001b[39mparams,\n\u001b[1;32m    287\u001b[0m                             iteration\u001b[39m=\u001b[39mi,\n\u001b[1;32m    288\u001b[0m                             begin_iteration\u001b[39m=\u001b[39minit_iteration,\n\u001b[1;32m    289\u001b[0m                             end_iteration\u001b[39m=\u001b[39minit_iteration \u001b[39m+\u001b[39m num_boost_round,\n\u001b[1;32m    290\u001b[0m                             evaluation_result_list\u001b[39m=\u001b[39m\u001b[39mNone\u001b[39;00m))\n\u001b[0;32m--> 292\u001b[0m booster\u001b[39m.\u001b[39;49mupdate(fobj\u001b[39m=\u001b[39;49mfobj)\n\u001b[1;32m    294\u001b[0m evaluation_result_list \u001b[39m=\u001b[39m []\n\u001b[1;32m    295\u001b[0m \u001b[39m# check evaluation result.\u001b[39;00m\n",
      "File \u001b[0;32m~/anaconda3/envs/mulcamp/lib/python3.10/site-packages/lightgbm/basic.py:3021\u001b[0m, in \u001b[0;36mBooster.update\u001b[0;34m(self, train_set, fobj)\u001b[0m\n\u001b[1;32m   3019\u001b[0m \u001b[39mif\u001b[39;00m \u001b[39mself\u001b[39m\u001b[39m.\u001b[39m__set_objective_to_none:\n\u001b[1;32m   3020\u001b[0m     \u001b[39mraise\u001b[39;00m LightGBMError(\u001b[39m'\u001b[39m\u001b[39mCannot update due to null objective function.\u001b[39m\u001b[39m'\u001b[39m)\n\u001b[0;32m-> 3021\u001b[0m _safe_call(_LIB\u001b[39m.\u001b[39;49mLGBM_BoosterUpdateOneIter(\n\u001b[1;32m   3022\u001b[0m     \u001b[39mself\u001b[39;49m\u001b[39m.\u001b[39;49mhandle,\n\u001b[1;32m   3023\u001b[0m     ctypes\u001b[39m.\u001b[39;49mbyref(is_finished)))\n\u001b[1;32m   3024\u001b[0m \u001b[39mself\u001b[39m\u001b[39m.\u001b[39m__is_predicted_cur_iter \u001b[39m=\u001b[39m [\u001b[39mFalse\u001b[39;00m \u001b[39mfor\u001b[39;00m _ \u001b[39min\u001b[39;00m \u001b[39mrange\u001b[39m(\u001b[39mself\u001b[39m\u001b[39m.\u001b[39m__num_dataset)]\n\u001b[1;32m   3025\u001b[0m \u001b[39mreturn\u001b[39;00m is_finished\u001b[39m.\u001b[39mvalue \u001b[39m==\u001b[39m \u001b[39m1\u001b[39m\n",
      "\u001b[0;31mKeyboardInterrupt\u001b[0m: "
     ]
    }
   ],
   "source": [
    "# LightGBM 모델 파라미터 설정\n",
    "params = {\n",
    "    \"objective\": \"regression\",\n",
    "    \"boosting_type\": \"gbdt\",\n",
    "    \"metric\": \"mse\",\n",
    "    'max_depth': 75,\n",
    "    'feature_fraction': 0.98,\n",
    "    'early_stopping_round': 20,\n",
    "    \"learning_rate\": 0.11,\n",
    "    \"num_leaves\": 482,\n",
    "    'scale_pos_weight': 6.3,\n",
    "    'colsample_bytree': 0.58,\n",
    "    'max_bin': 467,ß\n",
    "    'min_child_samples': 488,\n",
    "    'min_child_weight': 5.15,\n",
    "    'reg_alpha': 12.8,\n",
    "    'reg_lambda': 13.6,\n",
    "    'subsample': 0.65,\n",
    "    'num_threads': 8\n",
    "}\n",
    "\n",
    "# LightGBM 데이터셋 생성\n",
    "train_data = lgb.Dataset(X_train_resampled, label=y_train_resampled)\n",
    "test_data = lgb.Dataset(X_test_resampled, label=y_test_resampled)\n",
    "\n",
    "num_round = 10000\n",
    "bst = lgb.train(params, train_data, num_round, valid_sets=[test_data])\n",
    "asdf = lgb.LGBMRegressor()\n",
    "\n",
    "y_pred = bst.predict(X_test)\n",
    "# 평가 지표 계산\n",
    "accuracy = accuracy_score(y_test, (y_pred > 0.5).astype(int))\n",
    "auc = roc_auc_score(y_test, y_pred)\n",
    "print(f'Accuracy: {accuracy}, AUC: {auc}')\n"
   ]
  },
  {
   "cell_type": "markdown",
   "metadata": {},
   "source": [
    "LGBM Regressor 모델 평가 지표"
   ]
  },
  {
   "cell_type": "code",
   "execution_count": null,
   "metadata": {},
   "outputs": [
    {
     "name": "stdout",
     "output_type": "stream",
     "text": [
      "오차행렬:\n",
      " [[428942   3423]\n",
      " [  7300  15562]]\n",
      "\n",
      "정확도: 0.9764\n",
      "정밀도: 0.8197\n",
      "재현율: 0.6807\n",
      "F1: 0.7438\n",
      "AUC: 0.8364\n"
     ]
    }
   ],
   "source": [
    "def get_clf_eval(y_test, y_pred):\n",
    "    confusion = confusion_matrix(y_test, y_pred)\n",
    "    accuracy = accuracy_score(y_test, y_pred)\n",
    "    precision = precision_score(y_test, y_pred)\n",
    "    recall = recall_score(y_test, y_pred)\n",
    "    F1 = f1_score(y_test, y_pred)\n",
    "    AUC = roc_auc_score(y_test, y_pred)\n",
    "    print('오차행렬:\\n',confusion)\n",
    "    print('\\n정확도: {:.4f}'.format(accuracy))\n",
    "    print('정밀도: {:.4f}'.format(precision))\n",
    "    print('재현율: {:.4f}'.format(recall))\n",
    "    print('F1: {:.4f}'.format(F1))\n",
    "    print('AUC: {:.4f}'.format(AUC))\n",
    "\n",
    "preds_id = np.where(y_pred > 0.5,True,False)\n",
    "\n",
    "get_clf_eval(y_test,preds_id)"
   ]
  },
  {
   "cell_type": "markdown",
   "metadata": {},
   "source": [
    "내일 5%이상 오를 종목 예측"
   ]
  },
  {
   "cell_type": "code",
   "execution_count": null,
   "metadata": {},
   "outputs": [],
   "source": [
    "def make_six_digit_list(input_list):\n",
    "    six_digit_list = []\n",
    "\n",
    "    for item in input_list:\n",
    "        # 현재 항목의 길이를 확인\n",
    "        item_str = str(item)\n",
    "        item_len = len(item_str)\n",
    "\n",
    "        if item_len < 6:\n",
    "            # 6자리가 안되는 항목은 앞에 0을 채워서 6자리로 만듭니다.\n",
    "            zero_padding = '0' * (6 - item_len)\n",
    "            six_digit_item = zero_padding + item_str\n",
    "            six_digit_list.append(six_digit_item)\n",
    "        else:\n",
    "            # 이미 6자리인 경우 그대로 유지\n",
    "            six_digit_list.append(item_str)\n",
    "\n",
    "    return six_digit_list"
   ]
  },
  {
   "cell_type": "code",
   "execution_count": null,
   "metadata": {},
   "outputs": [],
   "source": []
  },
  {
   "cell_type": "code",
   "execution_count": null,
   "metadata": {},
   "outputs": [
    {
     "name": "stdout",
     "output_type": "stream",
     "text": [
      "내일 5% 이상 상승할 종목: ['001527', '138490', '014530', '004560', '010060', '286940', '004830', '006880', '003160', '000490', '014915', '011210', '241590', '010600', '034020', '000890', '023960', '229640', '003090', '001940', '138040', '017370', '010820', '001530', '002140', '002880', '002360', '028670', '008930', '003780', '001080', '008600', '016710', '103590', '152550', '025540', '011760', '000040', '009810', '003610', '012170', '126720', '210980', '001780', '008355', '192650', '018470', '031820', '375500', '004090', '034730', '005870', '009415', '003850', '117580', '004100', '021050', '005110', '013520', '004840', '058430', '002710', '004270', '069620', '000155', '002070', '007460', '011810', '033250', '128940', '403550', '001380', '018670', '285130', '000400', '003220', '000325', '003010', '026940', '033240', '006370', '039490', '008350', '016880', '011155', '200880', '019180', '002630', '016740', '066570', '006650', '009420', '071090', '007210', '128820', '009830', '044380', '005420', '006110', '092200', '010100', '010660', '004105', '023590', '025560', '058850', '010640', '074610', '244920', '079550', '053690', '092780', '013360', '003720', '007660', '002900', '009835', '001790', '042700']\n",
      "119\n"
     ]
    }
   ],
   "source": [
    "# 내일 주가 예측\n",
    "pred_X = stock_df_pred\n",
    "predictions = bst.predict(pred_X,predict_disable_shape_check=True)\n",
    "# 5% 이상 오를 종목 식별\n",
    "threshold = 0.5\n",
    "rising_stocks = [ticker for i, ticker in enumerate(stock_df_pred['0']) if predictions[i] > threshold]\n",
    "rising_stocks = list(map(str, rising_stocks))\n",
    "result = list(set(rising_stocks))\n",
    "result = make_six_digit_list(result)\n",
    "print(\"내일 5% 이상 상승할 종목:\", result)\n",
    "print(len(result))"
   ]
  },
  {
   "cell_type": "markdown",
   "metadata": {},
   "source": [
    "예측한 종목 검증"
   ]
  },
  {
   "cell_type": "code",
   "execution_count": null,
   "metadata": {},
   "outputs": [
    {
     "data": {
      "image/png": "[encoded data removed]",
      "text/plain": [
       "<Figure size 600x600 with 1 Axes>"
      ]
     },
     "metadata": {},
     "output_type": "display_data"
    }
   ],
   "source": [
    "import FinanceDataReader as fdr\n",
    "import matplotlib.pyplot as plt\n",
    "\n",
    "def check_price_increase(stock_codes):\n",
    "    result = {}\n",
    "    \n",
    "    for code in stock_codes:\n",
    "        df = fdr.DataReader(code,'2023-10-12','2023-10-13')\n",
    "        \n",
    "        if len(df) < 2:\n",
    "            result[code] = False\n",
    "        else:\n",
    "            today_close = df['Close'].iloc[-1]\n",
    "            yesterday_close = df['Close'].iloc[-2]\n",
    "            \n",
    "            if today_close >= yesterday_close * 1.05 :\n",
    "                result[code] = True\n",
    "            else:\n",
    "                result[code] = False\n",
    "    return result\n",
    "\n",
    "result_TF = check_price_increase(result)\n",
    "result_TF = list(result_TF.values())\n",
    "\n",
    "# True와 False의 개수를 세어 비율을 계산\n",
    "true_count = sum(result_TF)\n",
    "false_count = len(result_TF) - true_count\n",
    "\n",
    "# 비율을 파이그래프로 표현\n",
    "labels = ['True', 'False']\n",
    "sizes = [true_count, false_count]\n",
    "colors = ['green', 'red']\n",
    "\n",
    "# 파이차트 그리기\n",
    "plt.figure(figsize=(6, 6))\n",
    "plt.pie(sizes, labels=labels, colors=colors, autopct='%1.1f%%', startangle=140)\n",
    "\n",
    "# 그래프 표시\n",
    "plt.show()"
   ]
  }
 ],
 "metadata": {
  "kernelspec": {
   "display_name": "mulcamp",
   "language": "python",
   "name": "python3"
  },
  "language_info": {
   "codemirror_mode": {
    "name": "ipython",
    "version": 3
   },
   "file_extension": ".py",
   "mimetype": "text/x-python",
   "name": "python",
   "nbconvert_exporter": "python",
   "pygments_lexer": "ipython3",
   "version": "3.10.3"
  }
 },
 "nbformat": 4,
 "nbformat_minor": 4
}
