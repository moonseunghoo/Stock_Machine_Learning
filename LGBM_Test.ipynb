{
 "cells": [
  {
   "cell_type": "markdown",
   "metadata": {},
   "source": [
    "라이브러리 import, 학습 데이터 입력 ∙ 데이터 수정"
   ]
  },
  {
   "cell_type": "code",
   "execution_count": 2,
   "metadata": {
    "tags": []
   },
   "outputs": [],
   "source": [
    "import lightgbm as lgb\n",
    "import pandas as pd\n",
    "import numpy as np\n",
    "from sklearn.model_selection import train_test_split\n",
    "from sklearn.model_selection import KFold, RandomizedSearchCV\n",
    "from sklearn.metrics import accuracy_score, recall_score, f1_score, precision_score, roc_auc_score\n",
    "from sklearn.metrics import confusion_matrix\n",
    "from imblearn.over_sampling import SMOTE\n",
    "\n",
    "# 데이터 로드 \n",
    "#종목코드가 포함된 열은 object형식으로 로드\n",
    "stock_df = pd.read_csv('/Users/moon/Desktop/Moon SeungHoo/Stock_Machine_Learning/StockData.csv',low_memory=False)\n",
    "stock_df_pred = pd.read_csv('/Users/moon/Desktop/Moon SeungHoo/Stock_Machine_Learning/StockData_Pred.csv',low_memory=False)\n",
    "\n",
    "#labal 데이터프레임\n",
    "label_df = stock_df['18']\n",
    "#train 데이터프레임에서 label 값 삭제\n",
    "stock_df = stock_df.drop({'18','7'},axis=1)\n",
    "#예측에 필요한 데이터프레임\n",
    "#학습에 필요한 데이터에서 Date제거\n",
    "stock_df = stock_df.drop(columns='1')\n",
    "stock_df_pred = stock_df_pred.drop('7',axis=1)\n",
    "stock_df_pred = stock_df_pred.drop(columns='1')\n",
    "# #종목코드 int형으로 변환\n",
    "stock_df.astype({'0':'int'})\n",
    "stock_df_pred.astype({'0':'int'})\n",
    "\n",
    "# 학습 데이터와 테스트 데이터 분할\n",
    "X_train, X_test, y_train, y_test = train_test_split(stock_df, label_df, test_size=0.2, random_state=42)\n",
    "\n",
    "# SMOTE를 사용해서 데이터 불균형 교정\n",
    "smote = SMOTE(sampling_strategy='auto',random_state=42)\n",
    "X_train_resampled, y_train_resampled = smote.fit_resample(X_train,y_train)\n",
    "X_test_resampled, y_test_resampled = smote.fit_resample(X_test,y_test)"
   ]
  },
  {
   "cell_type": "markdown",
   "metadata": {},
   "source": [
    "LGBM 하이퍼 파라미터 튜닝(BayesianOptimization)"
   ]
  },
  {
   "cell_type": "code",
   "execution_count": 2,
   "metadata": {},
   "outputs": [
    {
     "name": "stdout",
     "output_type": "stream",
     "text": [
      "|   iter    |  target   | colsam... | featur... | learni... |  max_bin  | max_depth | min_ch... | min_ch... | num_le... | reg_alpha | reg_la... | scale_... | subsample |\n",
      "-------------------------------------------------------------------------------------------------------------------------------------------------------------------------\n"
     ]
    },
    {
     "name": "stderr",
     "output_type": "stream",
     "text": [
      "/Users/moon/anaconda3/envs/mulcamp/lib/python3.10/site-packages/lightgbm/sklearn.py:726: UserWarning: 'early_stopping_rounds' argument is deprecated and will be removed in a future release of LightGBM. Pass 'early_stopping()' callback via 'callbacks' argument instead.\n",
      "  _log_warning(\"'early_stopping_rounds' argument is deprecated and will be removed in a future release of LightGBM. \"\n",
      "/Users/moon/anaconda3/envs/mulcamp/lib/python3.10/site-packages/lightgbm/sklearn.py:736: UserWarning: 'verbose' argument is deprecated and will be removed in a future release of LightGBM. Pass 'log_evaluation()' callback via 'callbacks' argument instead.\n",
      "  _log_warning(\"'verbose' argument is deprecated and will be removed in a future release of LightGBM. \"\n"
     ]
    },
    {
     "name": "stdout",
     "output_type": "stream",
     "text": [
      "[LightGBM] [Warning] feature_fraction is set=0.9556428757689246, colsample_bytree=0.3745401188473625 will be ignored. Current value: feature_fraction=0.9556428757689246\n"
     ]
    },
    {
     "ename": "KeyboardInterrupt",
     "evalue": "",
     "output_type": "error",
     "traceback": [
      "\u001b[0;31m---------------------------------------------------------------------------\u001b[0m",
      "\u001b[0;31mKeyboardInterrupt\u001b[0m                         Traceback (most recent call last)",
      "\u001b[1;32m/Users/moon/Python_Stock_Project/LGBM_Test.ipynb 셀 4\u001b[0m line \u001b[0;36m4\n\u001b[1;32m     <a href='vscode-notebook-cell:/Users/moon/Python_Stock_Project/LGBM_Test.ipynb#W3sZmlsZQ%3D%3D?line=43'>44</a>\u001b[0m   \u001b[39mreturn\u001b[39;00m roc_auc\n\u001b[1;32m     <a href='vscode-notebook-cell:/Users/moon/Python_Stock_Project/LGBM_Test.ipynb#W3sZmlsZQ%3D%3D?line=45'>46</a>\u001b[0m lgbBO \u001b[39m=\u001b[39m BayesianOptimization(f\u001b[39m=\u001b[39m lgb_roc_eval, pbounds\u001b[39m=\u001b[39mbayesian_params, random_state \u001b[39m=\u001b[39m \u001b[39m42\u001b[39m)\n\u001b[0;32m---> <a href='vscode-notebook-cell:/Users/moon/Python_Stock_Project/LGBM_Test.ipynb#W3sZmlsZQ%3D%3D?line=46'>47</a>\u001b[0m lgbBO\u001b[39m.\u001b[39;49mmaximize(init_points \u001b[39m=\u001b[39;49m \u001b[39m5\u001b[39;49m, n_iter \u001b[39m=\u001b[39;49m \u001b[39m25\u001b[39;49m)\n\u001b[1;32m     <a href='vscode-notebook-cell:/Users/moon/Python_Stock_Project/LGBM_Test.ipynb#W3sZmlsZQ%3D%3D?line=48'>49</a>\u001b[0m \u001b[39m# dictionary에 있는 target값을 모두 추출\u001b[39;00m\n\u001b[1;32m     <a href='vscode-notebook-cell:/Users/moon/Python_Stock_Project/LGBM_Test.ipynb#W3sZmlsZQ%3D%3D?line=49'>50</a>\u001b[0m target_list \u001b[39m=\u001b[39m []\n",
      "File \u001b[0;32m~/anaconda3/envs/mulcamp/lib/python3.10/site-packages/bayes_opt/bayesian_optimization.py:310\u001b[0m, in \u001b[0;36mBayesianOptimization.maximize\u001b[0;34m(self, init_points, n_iter, acquisition_function, acq, kappa, kappa_decay, kappa_decay_delay, xi, **gp_params)\u001b[0m\n\u001b[1;32m    308\u001b[0m     x_probe \u001b[39m=\u001b[39m \u001b[39mself\u001b[39m\u001b[39m.\u001b[39msuggest(util)\n\u001b[1;32m    309\u001b[0m     iteration \u001b[39m+\u001b[39m\u001b[39m=\u001b[39m \u001b[39m1\u001b[39m\n\u001b[0;32m--> 310\u001b[0m \u001b[39mself\u001b[39;49m\u001b[39m.\u001b[39;49mprobe(x_probe, lazy\u001b[39m=\u001b[39;49m\u001b[39mFalse\u001b[39;49;00m)\n\u001b[1;32m    312\u001b[0m \u001b[39mif\u001b[39;00m \u001b[39mself\u001b[39m\u001b[39m.\u001b[39m_bounds_transformer \u001b[39mand\u001b[39;00m iteration \u001b[39m>\u001b[39m \u001b[39m0\u001b[39m:\n\u001b[1;32m    313\u001b[0m     \u001b[39m# The bounds transformer should only modify the bounds after\u001b[39;00m\n\u001b[1;32m    314\u001b[0m     \u001b[39m# the init_points points (only for the true iterations)\u001b[39;00m\n\u001b[1;32m    315\u001b[0m     \u001b[39mself\u001b[39m\u001b[39m.\u001b[39mset_bounds(\n\u001b[1;32m    316\u001b[0m         \u001b[39mself\u001b[39m\u001b[39m.\u001b[39m_bounds_transformer\u001b[39m.\u001b[39mtransform(\u001b[39mself\u001b[39m\u001b[39m.\u001b[39m_space))\n",
      "File \u001b[0;32m~/anaconda3/envs/mulcamp/lib/python3.10/site-packages/bayes_opt/bayesian_optimization.py:208\u001b[0m, in \u001b[0;36mBayesianOptimization.probe\u001b[0;34m(self, params, lazy)\u001b[0m\n\u001b[1;32m    206\u001b[0m     \u001b[39mself\u001b[39m\u001b[39m.\u001b[39m_queue\u001b[39m.\u001b[39madd(params)\n\u001b[1;32m    207\u001b[0m \u001b[39melse\u001b[39;00m:\n\u001b[0;32m--> 208\u001b[0m     \u001b[39mself\u001b[39;49m\u001b[39m.\u001b[39;49m_space\u001b[39m.\u001b[39;49mprobe(params)\n\u001b[1;32m    209\u001b[0m     \u001b[39mself\u001b[39m\u001b[39m.\u001b[39mdispatch(Events\u001b[39m.\u001b[39mOPTIMIZATION_STEP)\n",
      "File \u001b[0;32m~/anaconda3/envs/mulcamp/lib/python3.10/site-packages/bayes_opt/target_space.py:236\u001b[0m, in \u001b[0;36mTargetSpace.probe\u001b[0;34m(self, params)\u001b[0m\n\u001b[1;32m    234\u001b[0m x \u001b[39m=\u001b[39m \u001b[39mself\u001b[39m\u001b[39m.\u001b[39m_as_array(params)\n\u001b[1;32m    235\u001b[0m params \u001b[39m=\u001b[39m \u001b[39mdict\u001b[39m(\u001b[39mzip\u001b[39m(\u001b[39mself\u001b[39m\u001b[39m.\u001b[39m_keys, x))\n\u001b[0;32m--> 236\u001b[0m target \u001b[39m=\u001b[39m \u001b[39mself\u001b[39;49m\u001b[39m.\u001b[39;49mtarget_func(\u001b[39m*\u001b[39;49m\u001b[39m*\u001b[39;49mparams)\n\u001b[1;32m    238\u001b[0m \u001b[39mif\u001b[39;00m \u001b[39mself\u001b[39m\u001b[39m.\u001b[39m_constraint \u001b[39mis\u001b[39;00m \u001b[39mNone\u001b[39;00m:\n\u001b[1;32m    239\u001b[0m     \u001b[39mself\u001b[39m\u001b[39m.\u001b[39mregister(x, target)\n",
      "\u001b[1;32m/Users/moon/Python_Stock_Project/LGBM_Test.ipynb 셀 4\u001b[0m line \u001b[0;36m3\n\u001b[1;32m     <a href='vscode-notebook-cell:/Users/moon/Python_Stock_Project/LGBM_Test.ipynb#W3sZmlsZQ%3D%3D?line=22'>23</a>\u001b[0m params \u001b[39m=\u001b[39m {\n\u001b[1;32m     <a href='vscode-notebook-cell:/Users/moon/Python_Stock_Project/LGBM_Test.ipynb#W3sZmlsZQ%3D%3D?line=23'>24</a>\u001b[0m     \u001b[39m\"\u001b[39m\u001b[39mn_estimators\u001b[39m\u001b[39m\"\u001b[39m: \u001b[39m500\u001b[39m,\n\u001b[1;32m     <a href='vscode-notebook-cell:/Users/moon/Python_Stock_Project/LGBM_Test.ipynb#W3sZmlsZQ%3D%3D?line=24'>25</a>\u001b[0m     \u001b[39m'\u001b[39m\u001b[39mmax_depth\u001b[39m\u001b[39m'\u001b[39m: \u001b[39mint\u001b[39m(\u001b[39mround\u001b[39m(max_depth)),\n\u001b[0;32m   (...)\u001b[0m\n\u001b[1;32m     <a href='vscode-notebook-cell:/Users/moon/Python_Stock_Project/LGBM_Test.ipynb#W3sZmlsZQ%3D%3D?line=35'>36</a>\u001b[0m     \u001b[39m\"\u001b[39m\u001b[39mfeature_fraction\u001b[39m\u001b[39m\"\u001b[39m: feature_fraction\n\u001b[1;32m     <a href='vscode-notebook-cell:/Users/moon/Python_Stock_Project/LGBM_Test.ipynb#W3sZmlsZQ%3D%3D?line=36'>37</a>\u001b[0m }\n\u001b[1;32m     <a href='vscode-notebook-cell:/Users/moon/Python_Stock_Project/LGBM_Test.ipynb#W3sZmlsZQ%3D%3D?line=37'>38</a>\u001b[0m lgb_model \u001b[39m=\u001b[39m LGBMRegressor(\u001b[39m*\u001b[39m\u001b[39m*\u001b[39mparams)\n\u001b[0;32m---> <a href='vscode-notebook-cell:/Users/moon/Python_Stock_Project/LGBM_Test.ipynb#W3sZmlsZQ%3D%3D?line=38'>39</a>\u001b[0m lgb_model\u001b[39m.\u001b[39;49mfit(X_train_resampled, y_train_resampled, eval_set\u001b[39m=\u001b[39;49m[(X_train_resampled, y_train_resampled), (X_test_resampled, y_test_resampled)], eval_metric\u001b[39m=\u001b[39;49m \u001b[39m'\u001b[39;49m\u001b[39mmse\u001b[39;49m\u001b[39m'\u001b[39;49m, verbose\u001b[39m=\u001b[39;49m \u001b[39m100\u001b[39;49m, \n\u001b[1;32m     <a href='vscode-notebook-cell:/Users/moon/Python_Stock_Project/LGBM_Test.ipynb#W3sZmlsZQ%3D%3D?line=39'>40</a>\u001b[0m               early_stopping_rounds\u001b[39m=\u001b[39;49m \u001b[39m100\u001b[39;49m)\n\u001b[1;32m     <a href='vscode-notebook-cell:/Users/moon/Python_Stock_Project/LGBM_Test.ipynb#W3sZmlsZQ%3D%3D?line=40'>41</a>\u001b[0m valid_proba \u001b[39m=\u001b[39m lgb_model\u001b[39m.\u001b[39mpredict(X_test_resampled)\n\u001b[1;32m     <a href='vscode-notebook-cell:/Users/moon/Python_Stock_Project/LGBM_Test.ipynb#W3sZmlsZQ%3D%3D?line=41'>42</a>\u001b[0m roc_auc \u001b[39m=\u001b[39m roc_auc_score(y_test_resampled, valid_proba)\n",
      "File \u001b[0;32m~/anaconda3/envs/mulcamp/lib/python3.10/site-packages/lightgbm/sklearn.py:895\u001b[0m, in \u001b[0;36mLGBMRegressor.fit\u001b[0;34m(self, X, y, sample_weight, init_score, eval_set, eval_names, eval_sample_weight, eval_init_score, eval_metric, early_stopping_rounds, verbose, feature_name, categorical_feature, callbacks, init_model)\u001b[0m\n\u001b[1;32m    888\u001b[0m \u001b[39mdef\u001b[39;00m \u001b[39mfit\u001b[39m(\u001b[39mself\u001b[39m, X, y,\n\u001b[1;32m    889\u001b[0m         sample_weight\u001b[39m=\u001b[39m\u001b[39mNone\u001b[39;00m, init_score\u001b[39m=\u001b[39m\u001b[39mNone\u001b[39;00m,\n\u001b[1;32m    890\u001b[0m         eval_set\u001b[39m=\u001b[39m\u001b[39mNone\u001b[39;00m, eval_names\u001b[39m=\u001b[39m\u001b[39mNone\u001b[39;00m, eval_sample_weight\u001b[39m=\u001b[39m\u001b[39mNone\u001b[39;00m,\n\u001b[1;32m    891\u001b[0m         eval_init_score\u001b[39m=\u001b[39m\u001b[39mNone\u001b[39;00m, eval_metric\u001b[39m=\u001b[39m\u001b[39mNone\u001b[39;00m, early_stopping_rounds\u001b[39m=\u001b[39m\u001b[39mNone\u001b[39;00m,\n\u001b[1;32m    892\u001b[0m         verbose\u001b[39m=\u001b[39m\u001b[39m'\u001b[39m\u001b[39mwarn\u001b[39m\u001b[39m'\u001b[39m, feature_name\u001b[39m=\u001b[39m\u001b[39m'\u001b[39m\u001b[39mauto\u001b[39m\u001b[39m'\u001b[39m, categorical_feature\u001b[39m=\u001b[39m\u001b[39m'\u001b[39m\u001b[39mauto\u001b[39m\u001b[39m'\u001b[39m,\n\u001b[1;32m    893\u001b[0m         callbacks\u001b[39m=\u001b[39m\u001b[39mNone\u001b[39;00m, init_model\u001b[39m=\u001b[39m\u001b[39mNone\u001b[39;00m):\n\u001b[1;32m    894\u001b[0m \u001b[39m    \u001b[39m\u001b[39m\"\"\"Docstring is inherited from the LGBMModel.\"\"\"\u001b[39;00m\n\u001b[0;32m--> 895\u001b[0m     \u001b[39msuper\u001b[39;49m()\u001b[39m.\u001b[39;49mfit(X, y, sample_weight\u001b[39m=\u001b[39;49msample_weight, init_score\u001b[39m=\u001b[39;49minit_score,\n\u001b[1;32m    896\u001b[0m                 eval_set\u001b[39m=\u001b[39;49meval_set, eval_names\u001b[39m=\u001b[39;49meval_names, eval_sample_weight\u001b[39m=\u001b[39;49meval_sample_weight,\n\u001b[1;32m    897\u001b[0m                 eval_init_score\u001b[39m=\u001b[39;49meval_init_score, eval_metric\u001b[39m=\u001b[39;49meval_metric,\n\u001b[1;32m    898\u001b[0m                 early_stopping_rounds\u001b[39m=\u001b[39;49mearly_stopping_rounds, verbose\u001b[39m=\u001b[39;49mverbose, feature_name\u001b[39m=\u001b[39;49mfeature_name,\n\u001b[1;32m    899\u001b[0m                 categorical_feature\u001b[39m=\u001b[39;49mcategorical_feature, callbacks\u001b[39m=\u001b[39;49mcallbacks, init_model\u001b[39m=\u001b[39;49minit_model)\n\u001b[1;32m    900\u001b[0m     \u001b[39mreturn\u001b[39;00m \u001b[39mself\u001b[39m\n",
      "File \u001b[0;32m~/anaconda3/envs/mulcamp/lib/python3.10/site-packages/lightgbm/sklearn.py:748\u001b[0m, in \u001b[0;36mLGBMModel.fit\u001b[0;34m(self, X, y, sample_weight, init_score, group, eval_set, eval_names, eval_sample_weight, eval_class_weight, eval_init_score, eval_group, eval_metric, early_stopping_rounds, verbose, feature_name, categorical_feature, callbacks, init_model)\u001b[0m\n\u001b[1;32m    745\u001b[0m evals_result \u001b[39m=\u001b[39m {}\n\u001b[1;32m    746\u001b[0m callbacks\u001b[39m.\u001b[39mappend(record_evaluation(evals_result))\n\u001b[0;32m--> 748\u001b[0m \u001b[39mself\u001b[39m\u001b[39m.\u001b[39m_Booster \u001b[39m=\u001b[39m train(\n\u001b[1;32m    749\u001b[0m     params\u001b[39m=\u001b[39;49mparams,\n\u001b[1;32m    750\u001b[0m     train_set\u001b[39m=\u001b[39;49mtrain_set,\n\u001b[1;32m    751\u001b[0m     num_boost_round\u001b[39m=\u001b[39;49m\u001b[39mself\u001b[39;49m\u001b[39m.\u001b[39;49mn_estimators,\n\u001b[1;32m    752\u001b[0m     valid_sets\u001b[39m=\u001b[39;49mvalid_sets,\n\u001b[1;32m    753\u001b[0m     valid_names\u001b[39m=\u001b[39;49meval_names,\n\u001b[1;32m    754\u001b[0m     fobj\u001b[39m=\u001b[39;49m\u001b[39mself\u001b[39;49m\u001b[39m.\u001b[39;49m_fobj,\n\u001b[1;32m    755\u001b[0m     feval\u001b[39m=\u001b[39;49meval_metrics_callable,\n\u001b[1;32m    756\u001b[0m     init_model\u001b[39m=\u001b[39;49minit_model,\n\u001b[1;32m    757\u001b[0m     feature_name\u001b[39m=\u001b[39;49mfeature_name,\n\u001b[1;32m    758\u001b[0m     callbacks\u001b[39m=\u001b[39;49mcallbacks\n\u001b[1;32m    759\u001b[0m )\n\u001b[1;32m    761\u001b[0m \u001b[39mif\u001b[39;00m evals_result:\n\u001b[1;32m    762\u001b[0m     \u001b[39mself\u001b[39m\u001b[39m.\u001b[39m_evals_result \u001b[39m=\u001b[39m evals_result\n",
      "File \u001b[0;32m~/anaconda3/envs/mulcamp/lib/python3.10/site-packages/lightgbm/engine.py:292\u001b[0m, in \u001b[0;36mtrain\u001b[0;34m(params, train_set, num_boost_round, valid_sets, valid_names, fobj, feval, init_model, feature_name, categorical_feature, early_stopping_rounds, evals_result, verbose_eval, learning_rates, keep_training_booster, callbacks)\u001b[0m\n\u001b[1;32m    284\u001b[0m \u001b[39mfor\u001b[39;00m cb \u001b[39min\u001b[39;00m callbacks_before_iter:\n\u001b[1;32m    285\u001b[0m     cb(callback\u001b[39m.\u001b[39mCallbackEnv(model\u001b[39m=\u001b[39mbooster,\n\u001b[1;32m    286\u001b[0m                             params\u001b[39m=\u001b[39mparams,\n\u001b[1;32m    287\u001b[0m                             iteration\u001b[39m=\u001b[39mi,\n\u001b[1;32m    288\u001b[0m                             begin_iteration\u001b[39m=\u001b[39minit_iteration,\n\u001b[1;32m    289\u001b[0m                             end_iteration\u001b[39m=\u001b[39minit_iteration \u001b[39m+\u001b[39m num_boost_round,\n\u001b[1;32m    290\u001b[0m                             evaluation_result_list\u001b[39m=\u001b[39m\u001b[39mNone\u001b[39;00m))\n\u001b[0;32m--> 292\u001b[0m booster\u001b[39m.\u001b[39;49mupdate(fobj\u001b[39m=\u001b[39;49mfobj)\n\u001b[1;32m    294\u001b[0m evaluation_result_list \u001b[39m=\u001b[39m []\n\u001b[1;32m    295\u001b[0m \u001b[39m# check evaluation result.\u001b[39;00m\n",
      "File \u001b[0;32m~/anaconda3/envs/mulcamp/lib/python3.10/site-packages/lightgbm/basic.py:3021\u001b[0m, in \u001b[0;36mBooster.update\u001b[0;34m(self, train_set, fobj)\u001b[0m\n\u001b[1;32m   3019\u001b[0m \u001b[39mif\u001b[39;00m \u001b[39mself\u001b[39m\u001b[39m.\u001b[39m__set_objective_to_none:\n\u001b[1;32m   3020\u001b[0m     \u001b[39mraise\u001b[39;00m LightGBMError(\u001b[39m'\u001b[39m\u001b[39mCannot update due to null objective function.\u001b[39m\u001b[39m'\u001b[39m)\n\u001b[0;32m-> 3021\u001b[0m _safe_call(_LIB\u001b[39m.\u001b[39;49mLGBM_BoosterUpdateOneIter(\n\u001b[1;32m   3022\u001b[0m     \u001b[39mself\u001b[39;49m\u001b[39m.\u001b[39;49mhandle,\n\u001b[1;32m   3023\u001b[0m     ctypes\u001b[39m.\u001b[39;49mbyref(is_finished)))\n\u001b[1;32m   3024\u001b[0m \u001b[39mself\u001b[39m\u001b[39m.\u001b[39m__is_predicted_cur_iter \u001b[39m=\u001b[39m [\u001b[39mFalse\u001b[39;00m \u001b[39mfor\u001b[39;00m _ \u001b[39min\u001b[39;00m \u001b[39mrange\u001b[39m(\u001b[39mself\u001b[39m\u001b[39m.\u001b[39m__num_dataset)]\n\u001b[1;32m   3025\u001b[0m \u001b[39mreturn\u001b[39;00m is_finished\u001b[39m.\u001b[39mvalue \u001b[39m==\u001b[39m \u001b[39m1\u001b[39m\n",
      "\u001b[0;31mKeyboardInterrupt\u001b[0m: "
     ]
    }
   ],
   "source": [
    "from bayes_opt import BayesianOptimization\n",
    "from sklearn.metrics import roc_auc_score\n",
    "from lightgbm import LGBMRegressor\n",
    "\n",
    "bayesian_params = {\n",
    "    'max_depth': (1,100),\n",
    "    'min_child_samples': (1, 200), #하나의 잎에 최소 데이터 개수 (오버피팅 대응)\n",
    "    \"learning_rate\": (0.001, 0.3),\n",
    "    \"num_leaves\": (2,512),\n",
    "    'scale_pos_weight': (0.1,20),\n",
    "    'colsample_bytree': (0.0,1.0),\n",
    "    'max_bin': (2,512),\n",
    "    'min_child_samples': (1,500),\n",
    "    'min_child_weight': (1,20),\n",
    "    'reg_alpha': (0,20),\n",
    "    'reg_lambda': (0,20),\n",
    "    'subsample': (0.1,1),\n",
    "    'feature_fraction': (0.1,1.0)\n",
    "}\n",
    "\n",
    "def lgb_roc_eval(max_depth, min_child_samples, num_leaves, min_child_weight, subsample, colsample_bytree, max_bin, reg_lambda, reg_alpha, \n",
    "                 learning_rate, scale_pos_weight,feature_fraction):\n",
    "  params = {\n",
    "      \"n_estimators\": 500,\n",
    "      'max_depth': int(round(max_depth)),\n",
    "      'num_leaves': int(round(num_leaves)),\n",
    "      'min_child_samples': int(round(min_child_samples)),\n",
    "      'min_child_weight': int(round(min_child_weight)),\n",
    "      'subsample': max(min(subsample, 1), 0),\n",
    "      'colsample_bytree': max(min(colsample_bytree, 1), 0),\n",
    "      'max_bin': max(int(round(max_bin)), 10),\n",
    "      'reg_lambda': max(reg_lambda, 0),\n",
    "      'reg_alpha': max(reg_alpha, 0),\n",
    "      \"learning_rate\": learning_rate,\n",
    "      \"scale_pos_weight\": scale_pos_weight,\n",
    "      \"feature_fraction\": feature_fraction\n",
    "  }\n",
    "  lgb_model = LGBMRegressor(**params)\n",
    "  lgb_model.fit(X_train_resampled, y_train_resampled, eval_set=[(X_train_resampled, y_train_resampled), (X_test_resampled, y_test_resampled)], eval_metric= 'mse', verbose= 100, \n",
    "                early_stopping_rounds= 100)\n",
    "  valid_proba = lgb_model.predict(X_test_resampled)\n",
    "  roc_auc = roc_auc_score(y_test_resampled, valid_proba)\n",
    "\n",
    "  return roc_auc\n",
    "\n",
    "lgbBO = BayesianOptimization(f= lgb_roc_eval, pbounds=bayesian_params, random_state = 42)\n",
    "lgbBO.maximize(init_points = 5, n_iter = 25)\n",
    "\n",
    "# dictionary에 있는 target값을 모두 추출\n",
    "target_list = []\n",
    "for result in lgbBO.res:\n",
    "    target = result['target']\n",
    "    target_list.append(target)\n",
    "print(target_list)\n",
    "# 가장 큰 target 값을 가지는 순번(index)를 추출\n",
    "print('maximum target index:', np.argmax(np.array(target_list)))\n",
    "\n",
    "# 가장 큰 target값을 가지는 index값을 기준으로 res에서 해당 parameter 추출. \n",
    "max_dict = lgbBO.res[np.argmax(np.array(target_list))]\n",
    "print(max_dict)"
   ]
  },
  {
   "cell_type": "markdown",
   "metadata": {},
   "source": [
    "LGBM Regressor 모델 생성 ∙ 학습"
   ]
  },
  {
   "cell_type": "code",
   "execution_count": 3,
   "metadata": {},
   "outputs": [
    {
     "name": "stdout",
     "output_type": "stream",
     "text": [
      "[LightGBM] [Warning] feature_fraction is set=0.98, colsample_bytree=0.58 will be ignored. Current value: feature_fraction=0.98\n",
      "[LightGBM] [Warning] feature_fraction is set=0.98, colsample_bytree=0.58 will be ignored. Current value: feature_fraction=0.98\n",
      "[LightGBM] [Warning] Auto-choosing col-wise multi-threading, the overhead of testing was 0.173919 seconds.\n",
      "You can set `force_col_wise=true` to remove the overhead.\n",
      "[LightGBM] [Info] Total Bins 13543\n",
      "[LightGBM] [Info] Number of data points in the train set: 3459718, number of used features: 29\n",
      "[LightGBM] [Warning] feature_fraction is set=0.98, colsample_bytree=0.58 will be ignored. Current value: feature_fraction=0.98\n",
      "[LightGBM] [Info] Start training from score 0.500000\n",
      "[1]\tvalid_0's l2: 0.211392\n",
      "Training until validation scores don't improve for 20 rounds\n",
      "[2]\tvalid_0's l2: 0.180685\n",
      "[3]\tvalid_0's l2: 0.154777\n",
      "[4]\tvalid_0's l2: 0.134428\n",
      "[5]\tvalid_0's l2: 0.117782\n",
      "[6]\tvalid_0's l2: 0.104932\n",
      "[7]\tvalid_0's l2: 0.093862\n",
      "[8]\tvalid_0's l2: 0.08368\n",
      "[9]\tvalid_0's l2: 0.0753409\n",
      "[10]\tvalid_0's l2: 0.0684017\n",
      "[11]\tvalid_0's l2: 0.0630435\n",
      "[12]\tvalid_0's l2: 0.057554\n",
      "[13]\tvalid_0's l2: 0.0536392\n",
      "[14]\tvalid_0's l2: 0.0502375\n",
      "[15]\tvalid_0's l2: 0.047412\n",
      "[16]\tvalid_0's l2: 0.0452473\n"
     ]
    },
    {
     "ename": "KeyboardInterrupt",
     "evalue": "",
     "output_type": "error",
     "traceback": [
      "\u001b[0;31m---------------------------------------------------------------------------\u001b[0m",
      "\u001b[0;31mKeyboardInterrupt\u001b[0m                         Traceback (most recent call last)",
      "\u001b[1;32m/Users/moon/Python_Stock_Project/LGBM_Test.ipynb 셀 6\u001b[0m line \u001b[0;36m2\n\u001b[1;32m     <a href='vscode-notebook-cell:/Users/moon/Python_Stock_Project/LGBM_Test.ipynb#W1sZmlsZQ%3D%3D?line=23'>24</a>\u001b[0m test_data \u001b[39m=\u001b[39m lgb\u001b[39m.\u001b[39mDataset(X_test_resampled, label\u001b[39m=\u001b[39my_test_resampled)\n\u001b[1;32m     <a href='vscode-notebook-cell:/Users/moon/Python_Stock_Project/LGBM_Test.ipynb#W1sZmlsZQ%3D%3D?line=25'>26</a>\u001b[0m num_round \u001b[39m=\u001b[39m \u001b[39m10000\u001b[39m\n\u001b[0;32m---> <a href='vscode-notebook-cell:/Users/moon/Python_Stock_Project/LGBM_Test.ipynb#W1sZmlsZQ%3D%3D?line=26'>27</a>\u001b[0m bst \u001b[39m=\u001b[39m lgb\u001b[39m.\u001b[39;49mtrain(params, train_data, num_round, valid_sets\u001b[39m=\u001b[39;49m[test_data])\n\u001b[1;32m     <a href='vscode-notebook-cell:/Users/moon/Python_Stock_Project/LGBM_Test.ipynb#W1sZmlsZQ%3D%3D?line=27'>28</a>\u001b[0m asdf \u001b[39m=\u001b[39m lgb\u001b[39m.\u001b[39mLGBMRegressor()\n\u001b[1;32m     <a href='vscode-notebook-cell:/Users/moon/Python_Stock_Project/LGBM_Test.ipynb#W1sZmlsZQ%3D%3D?line=29'>30</a>\u001b[0m y_pred \u001b[39m=\u001b[39m bst\u001b[39m.\u001b[39mpredict(X_test)\n",
      "File \u001b[0;32m~/anaconda3/envs/mulcamp/lib/python3.10/site-packages/lightgbm/engine.py:292\u001b[0m, in \u001b[0;36mtrain\u001b[0;34m(params, train_set, num_boost_round, valid_sets, valid_names, fobj, feval, init_model, feature_name, categorical_feature, early_stopping_rounds, evals_result, verbose_eval, learning_rates, keep_training_booster, callbacks)\u001b[0m\n\u001b[1;32m    284\u001b[0m \u001b[39mfor\u001b[39;00m cb \u001b[39min\u001b[39;00m callbacks_before_iter:\n\u001b[1;32m    285\u001b[0m     cb(callback\u001b[39m.\u001b[39mCallbackEnv(model\u001b[39m=\u001b[39mbooster,\n\u001b[1;32m    286\u001b[0m                             params\u001b[39m=\u001b[39mparams,\n\u001b[1;32m    287\u001b[0m                             iteration\u001b[39m=\u001b[39mi,\n\u001b[1;32m    288\u001b[0m                             begin_iteration\u001b[39m=\u001b[39minit_iteration,\n\u001b[1;32m    289\u001b[0m                             end_iteration\u001b[39m=\u001b[39minit_iteration \u001b[39m+\u001b[39m num_boost_round,\n\u001b[1;32m    290\u001b[0m                             evaluation_result_list\u001b[39m=\u001b[39m\u001b[39mNone\u001b[39;00m))\n\u001b[0;32m--> 292\u001b[0m booster\u001b[39m.\u001b[39;49mupdate(fobj\u001b[39m=\u001b[39;49mfobj)\n\u001b[1;32m    294\u001b[0m evaluation_result_list \u001b[39m=\u001b[39m []\n\u001b[1;32m    295\u001b[0m \u001b[39m# check evaluation result.\u001b[39;00m\n",
      "File \u001b[0;32m~/anaconda3/envs/mulcamp/lib/python3.10/site-packages/lightgbm/basic.py:3021\u001b[0m, in \u001b[0;36mBooster.update\u001b[0;34m(self, train_set, fobj)\u001b[0m\n\u001b[1;32m   3019\u001b[0m \u001b[39mif\u001b[39;00m \u001b[39mself\u001b[39m\u001b[39m.\u001b[39m__set_objective_to_none:\n\u001b[1;32m   3020\u001b[0m     \u001b[39mraise\u001b[39;00m LightGBMError(\u001b[39m'\u001b[39m\u001b[39mCannot update due to null objective function.\u001b[39m\u001b[39m'\u001b[39m)\n\u001b[0;32m-> 3021\u001b[0m _safe_call(_LIB\u001b[39m.\u001b[39;49mLGBM_BoosterUpdateOneIter(\n\u001b[1;32m   3022\u001b[0m     \u001b[39mself\u001b[39;49m\u001b[39m.\u001b[39;49mhandle,\n\u001b[1;32m   3023\u001b[0m     ctypes\u001b[39m.\u001b[39;49mbyref(is_finished)))\n\u001b[1;32m   3024\u001b[0m \u001b[39mself\u001b[39m\u001b[39m.\u001b[39m__is_predicted_cur_iter \u001b[39m=\u001b[39m [\u001b[39mFalse\u001b[39;00m \u001b[39mfor\u001b[39;00m _ \u001b[39min\u001b[39;00m \u001b[39mrange\u001b[39m(\u001b[39mself\u001b[39m\u001b[39m.\u001b[39m__num_dataset)]\n\u001b[1;32m   3025\u001b[0m \u001b[39mreturn\u001b[39;00m is_finished\u001b[39m.\u001b[39mvalue \u001b[39m==\u001b[39m \u001b[39m1\u001b[39m\n",
      "\u001b[0;31mKeyboardInterrupt\u001b[0m: "
     ]
    }
   ],
   "source": [
    "# LightGBM 모델 파라미터 설정\n",
    "params = {\n",
    "    \"objective\": \"regression\",\n",
    "    \"boosting_type\": \"gbdt\",\n",
    "    \"metric\": \"mse\",\n",
    "    'max_depth': 75,\n",
    "    'feature_fraction': 0.98,\n",
    "    'early_stopping_round': 20,\n",
    "    \"learning_rate\": 0.11,\n",
    "    \"num_leaves\": 482,\n",
    "    'scale_pos_weight': 6.3,\n",
    "    'colsample_bytree': 0.58,\n",
    "    'max_bin': 467,\n",
    "    'min_child_samples': 488,\n",
    "    'min_child_weight': 5.15,\n",
    "    'reg_alpha': 12.8,\n",
    "    'reg_lambda': 13.6,\n",
    "    'subsample': 0.65,\n",
    "    'num_threads': 8\n",
    "}\n",
    "\n",
    "# LightGBM 데이터셋 생성\n",
    "train_data = lgb.Dataset(X_train_resampled, label=y_train_resampled)\n",
    "test_data = lgb.Dataset(X_test_resampled, label=y_test_resampled)\n",
    "\n",
    "num_round = 10000\n",
    "bst = lgb.train(params, train_data, num_round, valid_sets=[test_data])\n",
    "asdf = lgb.LGBMRegressor()\n",
    "\n",
    "y_pred = bst.predict(X_test)\n",
    "# 평가 지표 계산\n",
    "accuracy = accuracy_score(y_test, (y_pred > 0.5).astype(int))\n",
    "auc = roc_auc_score(y_test, y_pred)\n",
    "print(f'Accuracy: {accuracy}, AUC: {auc}')\n"
   ]
  },
  {
   "cell_type": "markdown",
   "metadata": {},
   "source": [
    "LGBM Regressor 모델 평가 지표"
   ]
  },
  {
   "cell_type": "code",
   "execution_count": null,
   "metadata": {},
   "outputs": [
    {
     "name": "stdout",
     "output_type": "stream",
     "text": [
      "오차행렬:\n",
      " [[428942   3423]\n",
      " [  7300  15562]]\n",
      "\n",
      "정확도: 0.9764\n",
      "정밀도: 0.8197\n",
      "재현율: 0.6807\n",
      "F1: 0.7438\n",
      "AUC: 0.8364\n"
     ]
    }
   ],
   "source": [
    "def get_clf_eval(y_test, y_pred):\n",
    "    confusion = confusion_matrix(y_test, y_pred)\n",
    "    accuracy = accuracy_score(y_test, y_pred)\n",
    "    precision = precision_score(y_test, y_pred)\n",
    "    recall = recall_score(y_test, y_pred)\n",
    "    F1 = f1_score(y_test, y_pred)\n",
    "    AUC = roc_auc_score(y_test, y_pred)\n",
    "    print('오차행렬:\\n',confusion)\n",
    "    print('\\n정확도: {:.4f}'.format(accuracy))\n",
    "    print('정밀도: {:.4f}'.format(precision))\n",
    "    print('재현율: {:.4f}'.format(recall))\n",
    "    print('F1: {:.4f}'.format(F1))\n",
    "    print('AUC: {:.4f}'.format(AUC))\n",
    "\n",
    "preds_id = np.where(y_pred > 0.5,True,False)\n",
    "\n",
    "get_clf_eval(y_test,preds_id)"
   ]
  },
  {
   "cell_type": "markdown",
   "metadata": {},
   "source": [
    "내일 5%이상 오를 종목 예측"
   ]
  },
  {
   "cell_type": "code",
   "execution_count": null,
   "metadata": {},
   "outputs": [],
   "source": [
    "def make_six_digit_list(input_list):\n",
    "    six_digit_list = []\n",
    "\n",
    "    for item in input_list:\n",
    "        # 현재 항목의 길이를 확인\n",
    "        item_str = str(item)\n",
    "        item_len = len(item_str)\n",
    "\n",
    "        if item_len < 6:\n",
    "            # 6자리가 안되는 항목은 앞에 0을 채워서 6자리로 만듭니다.\n",
    "            zero_padding = '0' * (6 - item_len)\n",
    "            six_digit_item = zero_padding + item_str\n",
    "            six_digit_list.append(six_digit_item)\n",
    "        else:\n",
    "            # 이미 6자리인 경우 그대로 유지\n",
    "            six_digit_list.append(item_str)\n",
    "\n",
    "    return six_digit_list"
   ]
  },
  {
   "cell_type": "code",
   "execution_count": null,
   "metadata": {},
   "outputs": [],
   "source": []
  },
  {
   "cell_type": "code",
   "execution_count": null,
   "metadata": {},
   "outputs": [
    {
     "name": "stdout",
     "output_type": "stream",
     "text": [
      "내일 5% 이상 상승할 종목: ['001527', '138490', '014530', '004560', '010060', '286940', '004830', '006880', '003160', '000490', '014915', '011210', '241590', '010600', '034020', '000890', '023960', '229640', '003090', '001940', '138040', '017370', '010820', '001530', '002140', '002880', '002360', '028670', '008930', '003780', '001080', '008600', '016710', '103590', '152550', '025540', '011760', '000040', '009810', '003610', '012170', '126720', '210980', '001780', '008355', '192650', '018470', '031820', '375500', '004090', '034730', '005870', '009415', '003850', '117580', '004100', '021050', '005110', '013520', '004840', '058430', '002710', '004270', '069620', '000155', '002070', '007460', '011810', '033250', '128940', '403550', '001380', '018670', '285130', '000400', '003220', '000325', '003010', '026940', '033240', '006370', '039490', '008350', '016880', '011155', '200880', '019180', '002630', '016740', '066570', '006650', '009420', '071090', '007210', '128820', '009830', '044380', '005420', '006110', '092200', '010100', '010660', '004105', '023590', '025560', '058850', '010640', '074610', '244920', '079550', '053690', '092780', '013360', '003720', '007660', '002900', '009835', '001790', '042700']\n",
      "119\n"
     ]
    }
   ],
   "source": [
    "# 내일 주가 예측\n",
    "pred_X = stock_df_pred\n",
    "predictions = bst.predict(pred_X,predict_disable_shape_check=True)\n",
    "# 5% 이상 오를 종목 식별\n",
    "threshold = 0.5\n",
    "rising_stocks = [ticker for i, ticker in enumerate(stock_df_pred['0']) if predictions[i] > threshold]\n",
    "rising_stocks = list(map(str, rising_stocks))\n",
    "result = list(set(rising_stocks))\n",
    "result = make_six_digit_list(result)\n",
    "print(\"내일 5% 이상 상승할 종목:\", result)\n",
    "print(len(result))"
   ]
  },
  {
   "cell_type": "markdown",
   "metadata": {},
   "source": [
    "예측한 종목 검증"
   ]
  },
  {
   "cell_type": "code",
   "execution_count": null,
   "metadata": {},
   "outputs": [
    {
     "data": {
      "image/png": "[encoded data removed]",
      "text/plain": [
       "<Figure size 600x600 with 1 Axes>"
      ]
     },
     "metadata": {},
     "output_type": "display_data"
    }
   ],
   "source": [
    "import FinanceDataReader as fdr\n",
    "import matplotlib.pyplot as plt\n",
    "\n",
    "def check_price_increase(stock_codes):\n",
    "    result = {}\n",
    "    \n",
    "    for code in stock_codes:\n",
    "        df = fdr.DataReader(code,'2023-10-12','2023-10-13')\n",
    "        \n",
    "        if len(df) < 2:\n",
    "            result[code] = False\n",
    "        else:\n",
    "            today_close = df['Close'].iloc[-1]\n",
    "            yesterday_close = df['Close'].iloc[-2]\n",
    "            \n",
    "            if today_close >= yesterday_close * 1.05 :\n",
    "                result[code] = True\n",
    "            else:\n",
    "                result[code] = False\n",
    "    return result\n",
    "\n",
    "result_TF = check_price_increase(result)\n",
    "result_TF = list(result_TF.values())\n",
    "\n",
    "# True와 False의 개수를 세어 비율을 계산\n",
    "true_count = sum(result_TF)\n",
    "false_count = len(result_TF) - true_count\n",
    "\n",
    "# 비율을 파이그래프로 표현\n",
    "labels = ['True', 'False']\n",
    "sizes = [true_count, false_count]\n",
    "colors = ['green', 'red']\n",
    "\n",
    "# 파이차트 그리기\n",
    "plt.figure(figsize=(6, 6))\n",
    "plt.pie(sizes, labels=labels, colors=colors, autopct='%1.1f%%', startangle=140)\n",
    "\n",
    "# 그래프 표시\n",
    "plt.show()"
   ]
  }
 ],
 "metadata": {
  "kernelspec": {
   "display_name": "mulcamp",
   "language": "python",
   "name": "python3"
  },
  "language_info": {
   "codemirror_mode": {
    "name": "ipython",
    "version": 3
   },
   "file_extension": ".py",
   "mimetype": "text/x-python",
   "name": "python",
   "nbconvert_exporter": "python",
   "pygments_lexer": "ipython3",
   "version": "3.10.3"
  }
 },
 "nbformat": 4,
 "nbformat_minor": 4
}
