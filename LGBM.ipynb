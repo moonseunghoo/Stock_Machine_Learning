{
 "cells": [
  {
   "cell_type": "markdown",
   "metadata": {},
   "source": [
    "라이브러리 import, 학습 데이터 입력 ∙ 데이터 수정"
   ]
  },
  {
   "cell_type": "code",
   "execution_count": 7,
   "metadata": {},
   "outputs": [],
   "source": [
    "import lightgbm as lgb\n",
    "import pandas as pd\n",
    "import numpy as np\n",
    "import joblib\n",
    "from sklearn.model_selection import train_test_split\n",
    "from sklearn.model_selection import KFold\n",
    "from sklearn.metrics import accuracy_score, recall_score, f1_score, precision_score, roc_auc_score\n",
    "from sklearn.metrics import confusion_matrix\n",
    "from imblearn.over_sampling import SMOTE\n",
    "from bayes_opt import BayesianOptimization\n",
    "from lightgbm import LGBMRegressor\n"
   ]
  },
  {
   "cell_type": "code",
   "execution_count": null,
   "metadata": {
    "tags": []
   },
   "outputs": [],
   "source": [
    "# 데이터 로드 \n",
    "#종목코드가 포함된 열은 object형식으로 로드\n",
    "stock_df = pd.read_csv('/Users/moon/Desktop/Moon SeungHoo/Stock_Machine_Learning/StockData_Setting.csv',low_memory=False)\n",
    "stock_df_pred = pd.read_csv('/Users/moon/Desktop/Moon SeungHoo/Stock_Machine_Learning/StockData_Pred.csv',low_memory=False)\n",
    "\n",
    "#labal 데이터프레임\n",
    "label_df = stock_df['18']\n",
    "#train 데이터프레임에서 label 값 삭제\n",
    "stock_df = stock_df.drop({'18','7','0','1'},axis=1)\n",
    "#학습에 필요한 데이터에서 Date제거\n",
    "pred_tiker = stock_df_pred['0']\n",
    "stock_df_pred = stock_df_pred.drop({'0','1','7'},axis=1)\n",
    "# # #종목코드 int형으로 변환\n",
    "# stock_df.astype({'0':'int'})\n",
    "# stock_df_pred.astype({'0':'int'})\n",
    "\n",
    "# 학습 데이터와 테스트 데이터 분할\n",
    "X_train, X_test, y_train, y_test = train_test_split(stock_df, label_df, test_size=0.2, random_state=42)\n",
    "\n",
    "# SMOTE를 사용해서 데이터 불균형 교정\n",
    "smote = SMOTE(sampling_strategy='auto',random_state=42)\n",
    "X_train_resampled, y_train_resampled = smote.fit_resample(X_train,y_train)\n",
    "X_test_resampled, y_test_resampled = smote.fit_resample(X_test,y_test)"
   ]
  },
  {
   "cell_type": "markdown",
   "metadata": {},
   "source": [
    "LGBM 하이퍼 파라미터 튜닝(BayesianOptimization)"
   ]
  },
  {
   "cell_type": "code",
   "execution_count": null,
   "metadata": {},
   "outputs": [],
   "source": [
    "# from bayes_opt import BayesianOptimization\n",
    "# from sklearn.metrics import roc_auc_score\n",
    "# from lightgbm import LGBMRegressor\n",
    "\n",
    "# bayesian_params = {\n",
    "#     'colsample_bytree': (0.0,1.0),\n",
    "#     \"learning_rate\": (0.001, 0.3),\n",
    "#     'max_depth': (1,100),\n",
    "#     'min_child_samples': (1, 200), #하나의 잎에 최소 데이터 개수 (오버피팅 대응)\n",
    "#     'min_child_weight': (1,20),\n",
    "#     \"num_leaves\": (2,512),\n",
    "#     'reg_alpha': (0,20),\n",
    "#     'reg_lambda': (0,20),\n",
    "#     'scale_pos_weight': (0.1,20),\n",
    "#     'subsample': (0.1,1),\n",
    "#     'feature_fraction': (0.1,1.0),\n",
    "#     'bagging_fraction': (0.1,1.0),\n",
    "#     'bagging_freq':(1,10)\n",
    "# }\n",
    "\n",
    "# def lgb_roc_eval(colsample_bytree,learning_rate,max_depth, min_child_samples,min_child_weight, \n",
    "#                  num_leaves, reg_lambda, reg_alpha, scale_pos_weight,subsample,feature_fraction,bagging_fraction,bagging_freq):\n",
    "#   params = {\n",
    "#       \"n_estimators\": 500,\n",
    "#       'colsample_bytree': max(min(colsample_bytree, 1), 0),\n",
    "#       \"learning_rate\": learning_rate,\n",
    "#       'max_depth': int(round(max_depth)),\n",
    "#       'min_child_samples': int(round(min_child_samples)),\n",
    "#       'min_child_weight': int(round(min_child_weight)),\n",
    "#       'num_leaves': int(round(num_leaves)),\n",
    "#       'reg_lambda': max(reg_lambda, 0),\n",
    "#       'reg_alpha': max(reg_alpha, 0),\n",
    "#       \"scale_pos_weight\": scale_pos_weight,\n",
    "#       'subsample': max(min(subsample, 1), 0),\n",
    "#       \"feature_fraction\": feature_fraction,\n",
    "#       'bagging_fraction': bagging_fraction,\n",
    "#       'bagging_freq': round(bagging_freq)\n",
    "#   }\n",
    "#   lgb_model = LGBMRegressor(**params)\n",
    "#   lgb_model.fit(X_train, y_train, eval_set=[(X_train, y_train), (X_test, y_test)], eval_metric= 'mse', \n",
    "#                 early_stopping_rounds= 20)\n",
    "#   valid_proba = lgb_model.predict(X_test)\n",
    "#   roc_auc = roc_auc_score(y_test, valid_proba)\n",
    "\n",
    "#   return roc_auc\n",
    "\n",
    "# lgbBO = BayesianOptimization(f= lgb_roc_eval, pbounds=bayesian_params, random_state = 42)\n",
    "# lgbBO.maximize(init_points = 5, n_iter = 25)\n",
    "\n",
    "# # dictionary에 있는 target값을 모두 추출\n",
    "# target_list = []\n",
    "# for result in lgbBO.res:\n",
    "#     target = result['target']\n",
    "#     target_list.append(target)\n",
    "# print(target_list)\n",
    "# # 가장 큰 target 값을 가지는 순번(index)를 추출\n",
    "# print('maximum target index:', np.argmax(np.array(target_list)))\n",
    "\n",
    "# # 가장 큰 target값을 가지는 index값을 기준으로 res에서 해당 parameter 추출. \n",
    "# max_dict = lgbBO.res[np.argmax(np.array(target_list))]\n",
    "# print(max_dict)"
   ]
  },
  {
   "cell_type": "markdown",
   "metadata": {},
   "source": [
    "LGBM Regressor 모델 생성 ∙ 학습"
   ]
  },
  {
   "cell_type": "code",
   "execution_count": null,
   "metadata": {},
   "outputs": [],
   "source": [
    "# 교차검증 (StratifiedKFold)\n",
    "n_split = 5\n",
    "fk  = KFold(n_splits= n_split)\n",
    "\n",
    "y_pred = np.zeros(len(X_test_resampled))\n",
    "\n",
    "for tr_idx,val_idx in fk.split(stock_df,stock_df.index):\n",
    "    X_train_resampled = stock_df.iloc[tr_idx,:]\n",
    "    y_train_resampled = label_df[tr_idx]\n",
    "\n",
    "    X_val = stock_df.iloc[val_idx,:]\n",
    "    y_val = label_df[val_idx]\n",
    "    \n",
    "    #LGBMRegressor 모델 생성\n",
    "    LGB_R = lgb.LGBMRegressor(boosting_type='gbdt',metric='mse',colsample_bytree=0.48,learning_rate=0.05,max_depth=81,min_child_samples=175,min_child_weight=19,num_leaves=268,\n",
    "                            reg_alpha=10.15,reg_lambda=7.24,scale_pos_weight=0.61,subsample=0.62,bagging_fraction=0.72,bagging_freq=8,feature_fraction=0.35,num_iterations=5000,n_jobs=8,verbose=100)\n",
    "                            \n",
    "    LGB_R.fit(X_train_resampled,y_train_resampled,eval_set=[(X_val,y_val)],eval_metric='mse',early_stopping_rounds=50)\n",
    "    y_pred += LGB_R.predict(X_test_resampled)/n_split\n",
    "\n",
    "joblib.dump(LGB_R,'LGBM_Model.pkl')"
   ]
  },
  {
   "cell_type": "markdown",
   "metadata": {},
   "source": [
    "LGBM Regressor 모델 평가 지표"
   ]
  },
  {
   "cell_type": "code",
   "execution_count": null,
   "metadata": {},
   "outputs": [],
   "source": [
    "def get_clf_eval(y_test, y_pred):\n",
    "    confusion = confusion_matrix(y_test, y_pred)\n",
    "    accuracy = accuracy_score(y_test, y_pred)\n",
    "    precision = precision_score(y_test, y_pred)\n",
    "    recall = recall_score(y_test, y_pred)\n",
    "    F1 = f1_score(y_test, y_pred)\n",
    "    AUC = roc_auc_score(y_test, y_pred)\n",
    "    print('오차행렬:\\n',confusion)\n",
    "    print('\\n정확도: {:.4f}'.format(accuracy))\n",
    "    print('정밀도: {:.4f}'.format(precision))\n",
    "    print('재현율: {:.4f}'.format(recall))\n",
    "    print('F1: {:.4f}'.format(F1))\n",
    "    print('AUC: {:.4f}'.format(AUC))\n",
    "\n",
    "# 평가 지표 계산\n",
    "preds_id = np.where(y_pred > 0.5,True,False)\n",
    "\n",
    "get_clf_eval(y_test_resampled,preds_id)"
   ]
  },
  {
   "cell_type": "markdown",
   "metadata": {},
   "source": [
    "내일 5%이상 오를 종목 예측"
   ]
  },
  {
   "cell_type": "code",
   "execution_count": null,
   "metadata": {},
   "outputs": [],
   "source": [
    "def make_six_digit_list(input_list):\n",
    "    six_digit_list = []\n",
    "\n",
    "    for item in input_list:\n",
    "        # 현재 항목의 길이를 확인\n",
    "        item_str = str(item)\n",
    "        item_len = len(item_str)\n",
    "\n",
    "        if item_len < 6:\n",
    "            # 6자리가 안되는 항목은 앞에 0을 채워서 6자리로 만듭니다.\n",
    "            zero_padding = '0' * (6 - item_len)\n",
    "            six_digit_item = zero_padding + item_str\n",
    "            six_digit_list.append(six_digit_item)\n",
    "        else:\n",
    "            # 이미 6자리인 경우 그대로 유지\n",
    "            six_digit_list.append(item_str)\n",
    "\n",
    "    return six_digit_list"
   ]
  },
  {
   "cell_type": "code",
   "execution_count": null,
   "metadata": {},
   "outputs": [],
   "source": [
    "# 내일 주가 예측\n",
    "LGBM_M = joblib.load('LGBM_Model.pkl')\n",
    "pred_X = stock_df_pred\n",
    "predictions = LGBM_M.predict(pred_X,predict_disable_shape_check=True)\n",
    "# 5% 이상 오를 종목 식별\n",
    "threshold = 0.5\n",
    "rising_stocks = [ticker for i, ticker in enumerate(pred_tiker) if predictions[i] > threshold]\n",
    "rising_stocks = list(map(str, rising_stocks))\n",
    "result = list(set(rising_stocks))\n",
    "result = make_six_digit_list(result)\n",
    "print(\"내일 5% 이상 상승할 종목:\", result)\n",
    "print(len(result))"
   ]
  },
  {
   "cell_type": "markdown",
   "metadata": {},
   "source": [
    "예측한 종목 검증"
   ]
  },
  {
   "cell_type": "code",
   "execution_count": null,
   "metadata": {},
   "outputs": [],
   "source": [
    "import FinanceDataReader as fdr\n",
    "import matplotlib.pyplot as plt\n",
    "\n",
    "def check_price_increase(stock_codes):\n",
    "    result = {}\n",
    "    \n",
    "    for code in stock_codes:\n",
    "        df = fdr.DataReader(code,'2023-10-12','2023-10-13')\n",
    "        \n",
    "        if len(df) < 2:\n",
    "            result[code] = False\n",
    "        else:\n",
    "            today_close = df['Close'].iloc[-1]\n",
    "            yesterday_close = df['Close'].iloc[-2]\n",
    "            \n",
    "            if today_close >= yesterday_close * 1.05 :\n",
    "                result[code] = True\n",
    "            else:\n",
    "                result[code] = False\n",
    "    return result\n",
    "\n",
    "result_TF = check_price_increase(result)\n",
    "result_TF = list(result_TF.values())\n",
    "\n",
    "# True와 False의 개수를 세어 비율을 계산\n",
    "true_count = sum(result_TF)\n",
    "false_count = len(result_TF) - true_count\n",
    "\n",
    "# 비율을 파이그래프로 표현\n",
    "labels = ['True', 'False']\n",
    "sizes = [true_count, false_count]\n",
    "colors = ['green', 'red']\n",
    "\n",
    "# 파이차트 그리기\n",
    "plt.figure(figsize=(6, 6))\n",
    "plt.pie(sizes, labels=labels, colors=colors, autopct='%1.1f%%', startangle=140)\n",
    "\n",
    "# 그래프 표시\n",
    "plt.show()"
   ]
  }
 ],
 "metadata": {
  "kernelspec": {
   "display_name": "mulcamp",
   "language": "python",
   "name": "python3"
  },
  "language_info": {
   "codemirror_mode": {
    "name": "ipython",
    "version": 3
   },
   "file_extension": ".py",
   "mimetype": "text/x-python",
   "name": "python",
   "nbconvert_exporter": "python",
   "pygments_lexer": "ipython3",
   "version": "3.8.18"
  }
 },
 "nbformat": 4,
 "nbformat_minor": 4
}
