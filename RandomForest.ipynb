{
 "cells": [
  {
   "cell_type": "code",
   "execution_count": 1,
   "metadata": {},
   "outputs": [],
   "source": [
    "import pandas as pd\n",
    "import FinanceDataReader as fdr\n",
    "import matplotlib.pyplot as plt\n",
    "\n",
    "from sklearn.ensemble import RandomForestClassifier\n",
    "from sklearn.model_selection import train_test_split\n",
    "from sklearn.metrics import accuracy_score\n",
    "\n",
    "import numpy as np\n",
    "from sklearn.ensemble import RandomForestClassifier\n",
    "from sklearn.model_selection import cross_val_score, KFold\n",
    "from hyperopt import fmin, tpe, hp, STATUS_OK, Trials\n",
    "from sklearn.datasets import load_iris"
   ]
  },
  {
   "cell_type": "markdown",
   "metadata": {},
   "source": [
    "주가 데이터 불러오기"
   ]
  },
  {
   "cell_type": "code",
   "execution_count": 2,
   "metadata": {},
   "outputs": [],
   "source": [
    "def filter_df(df): #데이터프레임 필터링\n",
    "    # 첫 번째 열에서 같은 값을 가진 행의 수를 계산합니다.\n",
    "    row_counts = df['0'].value_counts()\n",
    "\n",
    "    # 가장 많은 행의 수를 찾습니다.\n",
    "    max_row_count = row_counts.max()\n",
    "\n",
    "    # 가장 많은 행의 수에 해당하는 행만 분류합니다.\n",
    "    filtered = pd.DataFrame(df[df['0'].isin(row_counts[row_counts == max_row_count].index)])\n",
    "\n",
    "    return filtered\n",
    "\n",
    "def rename_columns(df):\n",
    "    new_columns = {column: i for i, column in enumerate(df.columns)}\n",
    "    df.rename(columns=new_columns, inplace=True)\n",
    "    \n",
    "    return df\n",
    "\n",
    "# 데이터 로드   \n",
    "stock_df = pd.read_csv('/Users/moon/Desktop/Moon SeungHoo/Stock_Machine_Learning/StockData.csv',low_memory=False)\n",
    "pred_df = pd.read_csv('/Users/moon/Desktop/Moon SeungHoo/Stock_Machine_Learning/StockData_Pred_1108.csv',low_memory=False)\n",
    "\n",
    "#데이터 필터링\n",
    "filter_stock = filter_df(stock_df)\n",
    "filter_label = filter_stock['18']\n",
    "\n",
    "filter_pred= filter_df(pred_df)\n",
    "\n",
    "# 예측에 필요한 데이터 \n",
    "pred_ticker = filter_pred['0'].tolist() #종목코드 저장\n",
    "\n",
    "# 불필요한 데이터 삭제\n",
    "filter_stock = filter_stock.drop({'0','1','7','18'},axis=1) #날자, 상승율, 5%이상 상승여부 삭제 \n",
    "filter_pred = filter_pred.drop({'0','1','7'},axis=1)#날자, 상승율 삭제\n",
    "\n",
    "#열 이름 초기화\n",
    "filter_stock = rename_columns(filter_stock)\n",
    "filter_pred = rename_columns(filter_pred)"
   ]
  },
  {
   "cell_type": "markdown",
   "metadata": {},
   "source": [
    "데이터 분할"
   ]
  },
  {
   "cell_type": "code",
   "execution_count": 3,
   "metadata": {},
   "outputs": [],
   "source": [
    "# 데이터를 학습용과 테스트용으로 분할\n",
    "X_train, X_test, y_train, y_test = train_test_split(filter_stock, filter_label, test_size=0.2, random_state=42)"
   ]
  },
  {
   "cell_type": "markdown",
   "metadata": {},
   "source": [
    "Random Forest 모델 파라미터 튜닝"
   ]
  },
  {
   "cell_type": "code",
   "execution_count": 4,
   "metadata": {},
   "outputs": [],
   "source": [
    "# def objective(params):\n",
    "#     # 하이퍼파라미터\n",
    "#     n_estimators = int(params['n_estimators'])\n",
    "#     max_depth = int(params['max_depth'])\n",
    "#     min_samples_split = int(params['min_samples_split'])\n",
    "#     min_samples_leaf = int(params['min_samples_leaf'])\n",
    "\n",
    "#     # 랜덤 포레스트 모델 생성\n",
    "#     model = RandomForestClassifier(\n",
    "#         n_estimators=n_estimators,\n",
    "#         max_depth=max_depth,\n",
    "#         min_samples_split=min_samples_split,\n",
    "#         min_samples_leaf=min_samples_leaf,\n",
    "#         random_state=42\n",
    "#     )\n",
    "\n",
    "# # K-Fold 교차 검증\n",
    "#     kfold = KFold(n_splits=5, shuffle=True, random_state=42)\n",
    "#     scores = cross_val_score(model, X_train, y_train, cv=kfold, scoring='accuracy')\n",
    "#     mean_accuracy = np.mean(scores)\n",
    "\n",
    "#     return {'loss': 1 - mean_accuracy, 'status': STATUS_OK}"
   ]
  },
  {
   "cell_type": "code",
   "execution_count": 5,
   "metadata": {},
   "outputs": [],
   "source": [
    "# # Bayesian Optimization을 위한 탐색 공간 정의\n",
    "# space = {\n",
    "#     'n_estimators': hp.quniform('n_estimators', 10, 200, 1),\n",
    "#     'max_depth': hp.quniform('max_depth', 2, 20, 1),\n",
    "#     'min_samples_split': hp.quniform('min_samples_split', 2, 20, 1),\n",
    "#     'min_samples_leaf': hp.quniform('min_samples_leaf', 1, 20, 1)\n",
    "# }\n",
    "\n",
    "# # Bayesian Optimization 실행\n",
    "# trials = Trials()\n",
    "# best = fmin(fn=objective, space=space, algo=tpe.suggest, max_evals=100, trials=trials)\n",
    "\n",
    "# print(\"최적 하이퍼파라미터:\")\n",
    "# print(best)"
   ]
  },
  {
   "cell_type": "markdown",
   "metadata": {},
   "source": [
    "모델 정의 ∙ 학습"
   ]
  },
  {
   "cell_type": "code",
   "execution_count": 6,
   "metadata": {},
   "outputs": [
    {
     "name": "stderr",
     "output_type": "stream",
     "text": [
      "[Parallel(n_jobs=8)]: Using backend ThreadingBackend with 8 concurrent workers.\n"
     ]
    },
    {
     "name": "stdout",
     "output_type": "stream",
     "text": [
      "building tree 1 of 153building tree 2 of 153\n",
      "building tree 3 of 153\n",
      "\n",
      "building tree 4 of 153\n",
      "building tree 5 of 153\n",
      "building tree 6 of 153\n",
      "building tree 7 of 153\n",
      "building tree 8 of 153\n",
      "building tree 9 of 153\n",
      "building tree 10 of 153\n",
      "building tree 11 of 153\n",
      "building tree 12 of 153\n",
      "building tree 13 of 153\n",
      "building tree 14 of 153\n",
      "building tree 15 of 153\n",
      "building tree 16 of 153\n",
      "building tree 17 of 153\n",
      "building tree 18 of 153\n",
      "building tree 19 of 153\n",
      "building tree 20 of 153\n",
      "building tree 21 of 153\n",
      "building tree 22 of 153\n",
      "building tree 23 of 153\n",
      "building tree 24 of 153\n",
      "building tree 25 of 153\n",
      "building tree 26 of 153\n",
      "building tree 27 of 153\n",
      "building tree 28 of 153\n",
      "building tree 29 of 153\n",
      "building tree 30 of 153\n",
      "building tree 31 of 153\n",
      "building tree 32 of 153\n",
      "building tree 33 of 153\n"
     ]
    },
    {
     "name": "stderr",
     "output_type": "stream",
     "text": [
      "[Parallel(n_jobs=8)]: Done  25 tasks      | elapsed:   14.9s\n"
     ]
    },
    {
     "name": "stdout",
     "output_type": "stream",
     "text": [
      "building tree 34 of 153\n",
      "building tree 35 of 153\n",
      "building tree 36 of 153\n",
      "building tree 37 of 153\n",
      "building tree 38 of 153\n",
      "building tree 39 of 153\n",
      "building tree 40 of 153\n",
      "building tree 41 of 153\n",
      "building tree 42 of 153\n",
      "building tree 43 of 153\n",
      "building tree 44 of 153\n",
      "building tree 45 of 153\n",
      "building tree 46 of 153\n",
      "building tree 47 of 153\n",
      "building tree 48 of 153\n",
      "building tree 49 of 153\n",
      "building tree 50 of 153\n",
      "building tree 51 of 153\n",
      "building tree 52 of 153\n",
      "building tree 53 of 153\n",
      "building tree 54 of 153\n",
      "building tree 55 of 153\n",
      "building tree 56 of 153\n",
      "building tree 57 of 153\n",
      "building tree 58 of 153\n",
      "building tree 59 of 153\n",
      "building tree 60 of 153\n",
      "building tree 61 of 153\n",
      "building tree 62 of 153\n",
      "building tree 63 of 153\n",
      "building tree 64 of 153\n",
      "building tree 65 of 153\n",
      "building tree 66 of 153\n",
      "building tree 67 of 153\n",
      "building tree 68 of 153\n",
      "building tree 69 of 153\n",
      "building tree 70 of 153\n",
      "building tree 71 of 153\n",
      "building tree 72 of 153\n",
      "building tree 73 of 153\n",
      "building tree 74 of 153\n",
      "building tree 75 of 153\n",
      "building tree 76 of 153\n",
      "building tree 77 of 153\n",
      "building tree 78 of 153\n",
      "building tree 79 of 153\n",
      "building tree 80 of 153\n",
      "building tree 81 of 153\n",
      "building tree 82 of 153\n",
      "building tree 83 of 153\n",
      "building tree 84 of 153\n",
      "building tree 85 of 153\n",
      "building tree 86 of 153\n",
      "building tree 87 of 153\n",
      "building tree 88 of 153\n",
      "building tree 89 of 153\n",
      "building tree 90 of 153\n",
      "building tree 91 of 153\n",
      "building tree 92 of 153\n",
      "building tree 93 of 153\n",
      "building tree 94 of 153\n",
      "building tree 95 of 153\n",
      "building tree 96 of 153\n",
      "building tree 97 of 153\n",
      "building tree 98 of 153\n",
      "building tree 99 of 153\n",
      "building tree 100 of 153\n",
      "building tree 101 of 153\n",
      "building tree 102 of 153\n",
      "building tree 103 of 153\n",
      "building tree 104 of 153\n",
      "building tree 105 of 153\n",
      "building tree 106 of 153\n",
      "building tree 107 of 153\n",
      "building tree 108 of 153\n",
      "building tree 109 of 153\n",
      "building tree 110 of 153\n",
      "building tree 111 of 153\n",
      "building tree 112 of 153\n",
      "building tree 113 of 153\n",
      "building tree 114 of 153\n",
      "building tree 115 of 153\n",
      "building tree 116 of 153\n",
      "building tree 117 of 153\n",
      "building tree 118 of 153\n",
      "building tree 119 of 153\n",
      "building tree 120 of 153\n",
      "building tree 121 of 153\n",
      "building tree 122 of 153\n",
      "building tree 123 of 153\n",
      "building tree 124 of 153\n",
      "building tree 125 of 153\n",
      "building tree 126 of 153\n",
      "building tree 127 of 153\n",
      "building tree 128 of 153\n",
      "building tree 129 of 153\n",
      "building tree 130 of 153\n",
      "building tree 131 of 153\n",
      "building tree 132 of 153\n",
      "building tree 133 of 153\n",
      "building tree 134 of 153\n",
      "building tree 135 of 153\n",
      "building tree 136 of 153\n",
      "building tree 137 of 153\n",
      "building tree 138 of 153\n",
      "building tree 139 of 153\n",
      "building tree 140 of 153\n",
      "building tree 141 of 153\n",
      "building tree 142 of 153\n",
      "building tree 143 of 153\n",
      "building tree 144 of 153\n",
      "building tree 145 of 153\n",
      "building tree 146 of 153\n",
      "building tree 147 of 153\n",
      "building tree 148 of 153\n",
      "building tree 149 of 153\n",
      "building tree 150 of 153\n",
      "building tree 151 of 153\n",
      "building tree 152 of 153\n",
      "building tree 153 of 153\n"
     ]
    },
    {
     "name": "stderr",
     "output_type": "stream",
     "text": [
      "[Parallel(n_jobs=8)]: Done 153 out of 153 | elapsed:  1.2min finished\n"
     ]
    },
    {
     "data": {
      "text/html": [
       "<style>#sk-container-id-1 {color: black;}#sk-container-id-1 pre{padding: 0;}#sk-container-id-1 div.sk-toggleable {background-color: white;}#sk-container-id-1 label.sk-toggleable__label {cursor: pointer;display: block;width: 100%;margin-bottom: 0;padding: 0.3em;box-sizing: border-box;text-align: center;}#sk-container-id-1 label.sk-toggleable__label-arrow:before {content: \"▸\";float: left;margin-right: 0.25em;color: #696969;}#sk-container-id-1 label.sk-toggleable__label-arrow:hover:before {color: black;}#sk-container-id-1 div.sk-estimator:hover label.sk-toggleable__label-arrow:before {color: black;}#sk-container-id-1 div.sk-toggleable__content {max-height: 0;max-width: 0;overflow: hidden;text-align: left;background-color: #f0f8ff;}#sk-container-id-1 div.sk-toggleable__content pre {margin: 0.2em;color: black;border-radius: 0.25em;background-color: #f0f8ff;}#sk-container-id-1 input.sk-toggleable__control:checked~div.sk-toggleable__content {max-height: 200px;max-width: 100%;overflow: auto;}#sk-container-id-1 input.sk-toggleable__control:checked~label.sk-toggleable__label-arrow:before {content: \"▾\";}#sk-container-id-1 div.sk-estimator input.sk-toggleable__control:checked~label.sk-toggleable__label {background-color: #d4ebff;}#sk-container-id-1 div.sk-label input.sk-toggleable__control:checked~label.sk-toggleable__label {background-color: #d4ebff;}#sk-container-id-1 input.sk-hidden--visually {border: 0;clip: rect(1px 1px 1px 1px);clip: rect(1px, 1px, 1px, 1px);height: 1px;margin: -1px;overflow: hidden;padding: 0;position: absolute;width: 1px;}#sk-container-id-1 div.sk-estimator {font-family: monospace;background-color: #f0f8ff;border: 1px dotted black;border-radius: 0.25em;box-sizing: border-box;margin-bottom: 0.5em;}#sk-container-id-1 div.sk-estimator:hover {background-color: #d4ebff;}#sk-container-id-1 div.sk-parallel-item::after {content: \"\";width: 100%;border-bottom: 1px solid gray;flex-grow: 1;}#sk-container-id-1 div.sk-label:hover label.sk-toggleable__label {background-color: #d4ebff;}#sk-container-id-1 div.sk-serial::before {content: \"\";position: absolute;border-left: 1px solid gray;box-sizing: border-box;top: 0;bottom: 0;left: 50%;z-index: 0;}#sk-container-id-1 div.sk-serial {display: flex;flex-direction: column;align-items: center;background-color: white;padding-right: 0.2em;padding-left: 0.2em;position: relative;}#sk-container-id-1 div.sk-item {position: relative;z-index: 1;}#sk-container-id-1 div.sk-parallel {display: flex;align-items: stretch;justify-content: center;background-color: white;position: relative;}#sk-container-id-1 div.sk-item::before, #sk-container-id-1 div.sk-parallel-item::before {content: \"\";position: absolute;border-left: 1px solid gray;box-sizing: border-box;top: 0;bottom: 0;left: 50%;z-index: -1;}#sk-container-id-1 div.sk-parallel-item {display: flex;flex-direction: column;z-index: 1;position: relative;background-color: white;}#sk-container-id-1 div.sk-parallel-item:first-child::after {align-self: flex-end;width: 50%;}#sk-container-id-1 div.sk-parallel-item:last-child::after {align-self: flex-start;width: 50%;}#sk-container-id-1 div.sk-parallel-item:only-child::after {width: 0;}#sk-container-id-1 div.sk-dashed-wrapped {border: 1px dashed gray;margin: 0 0.4em 0.5em 0.4em;box-sizing: border-box;padding-bottom: 0.4em;background-color: white;}#sk-container-id-1 div.sk-label label {font-family: monospace;font-weight: bold;display: inline-block;line-height: 1.2em;}#sk-container-id-1 div.sk-label-container {text-align: center;}#sk-container-id-1 div.sk-container {/* jupyter's `normalize.less` sets `[hidden] { display: none; }` but bootstrap.min.css set `[hidden] { display: none !important; }` so we also need the `!important` here to be able to override the default hidden behavior on the sphinx rendered scikit-learn.org. See: https://github.com/scikit-learn/scikit-learn/issues/21755 */display: inline-block !important;position: relative;}#sk-container-id-1 div.sk-text-repr-fallback {display: none;}</style><div id=\"sk-container-id-1\" class=\"sk-top-container\"><div class=\"sk-text-repr-fallback\"><pre>RandomForestClassifier(max_depth=20, min_samples_leaf=5, min_samples_split=3,\n",
       "                       n_estimators=153, n_jobs=8, random_state=42, verbose=2)</pre><b>In a Jupyter environment, please rerun this cell to show the HTML representation or trust the notebook. <br />On GitHub, the HTML representation is unable to render, please try loading this page with nbviewer.org.</b></div><div class=\"sk-container\" hidden><div class=\"sk-item\"><div class=\"sk-estimator sk-toggleable\"><input class=\"sk-toggleable__control sk-hidden--visually\" id=\"sk-estimator-id-1\" type=\"checkbox\" checked><label for=\"sk-estimator-id-1\" class=\"sk-toggleable__label sk-toggleable__label-arrow\">RandomForestClassifier</label><div class=\"sk-toggleable__content\"><pre>RandomForestClassifier(max_depth=20, min_samples_leaf=5, min_samples_split=3,\n",
       "                       n_estimators=153, n_jobs=8, random_state=42, verbose=2)</pre></div></div></div></div></div>"
      ],
      "text/plain": [
       "RandomForestClassifier(max_depth=20, min_samples_leaf=5, min_samples_split=3,\n",
       "                       n_estimators=153, n_jobs=8, random_state=42, verbose=2)"
      ]
     },
     "execution_count": 6,
     "metadata": {},
     "output_type": "execute_result"
    }
   ],
   "source": [
    "# 랜덤 포레스트 모델 생성\n",
    "model = RandomForestClassifier(n_estimators=153, max_depth=20 ,min_samples_leaf=5,min_samples_split=3, random_state=42,verbose=2, n_jobs=8)\n",
    "\n",
    "# 모델 학습\n",
    "model.fit(X_train, y_train)"
   ]
  },
  {
   "cell_type": "markdown",
   "metadata": {},
   "source": [
    "모델 평가"
   ]
  },
  {
   "cell_type": "code",
   "execution_count": 7,
   "metadata": {},
   "outputs": [
    {
     "name": "stderr",
     "output_type": "stream",
     "text": [
      "[Parallel(n_jobs=8)]: Using backend ThreadingBackend with 8 concurrent workers.\n",
      "[Parallel(n_jobs=8)]: Done  25 tasks      | elapsed:    0.1s\n"
     ]
    },
    {
     "name": "stdout",
     "output_type": "stream",
     "text": [
      "모델 정확도: 0.9710691025630855\n"
     ]
    },
    {
     "name": "stderr",
     "output_type": "stream",
     "text": [
      "[Parallel(n_jobs=8)]: Done 153 out of 153 | elapsed:    0.4s finished\n"
     ]
    }
   ],
   "source": [
    "# 모델 평가\n",
    "y_pred = model.predict(X_test)\n",
    "accuracy = accuracy_score(y_test, y_pred)\n",
    "print(f\"모델 정확도: {accuracy}\")"
   ]
  },
  {
   "cell_type": "markdown",
   "metadata": {},
   "source": [
    "예측"
   ]
  },
  {
   "cell_type": "code",
   "execution_count": 8,
   "metadata": {},
   "outputs": [],
   "source": [
    "def make_six_digit_list(input_list):\n",
    "    six_digit_list = []\n",
    "\n",
    "    for item in input_list:\n",
    "        # 현재 항목의 길이를 확인\n",
    "        item_str = str(item)\n",
    "        item_len = len(item_str)\n",
    "\n",
    "        if item_len < 6:\n",
    "            # 6자리가 안되는 항목은 앞에 0을 채워서 6자리로 만듭니다.\n",
    "            zero_padding = '0' * (6 - item_len)\n",
    "            six_digit_item = zero_padding + item_str\n",
    "            six_digit_list.append(six_digit_item)\n",
    "        else:\n",
    "            # 이미 6자리인 경우 그대로 유지\n",
    "            six_digit_list.append(item_str)\n",
    "\n",
    "    return six_digit_list"
   ]
  },
  {
   "cell_type": "code",
   "execution_count": 9,
   "metadata": {},
   "outputs": [
    {
     "name": "stdout",
     "output_type": "stream",
     "text": [
      "내일 5% 이상 상승할 종목: ['122870', '277810', '058400', '361570', '064260', '000210', '328130', '033320', '066970', '377480', '200710', '094480', '005070', '060250', '046970', '229640', '071460', '185750', '010170', '272290', '322510', '123860', '166480', '131970', '039440', '427950', '290120', '009190', '221800', '240810', '211270', '009420', '066790', '074610', '247540', '383310', '094170', '009520', '051915', '010600', '056080', '054920', '073640', '079810', '388790', '189690', '042600', '006740', '002710', '254490', '178920', '002880', '133750', '196170', '131400', '036480', '001570', '101670', '039030', '055490', '156100', '084370', '380540', '238090', '046940', '067310', '011810', '020150', '073570', '036090', '007660', '095340', '304100', '320000', '115180', '402030', '005490', '018290', '035720', '352770', '009620', '001840', '011790', '017890', '204270', '089010', '058610', '028300', '071950', '214390', '299900', '119650', '403870', '137940', '087010', '110990', '011500', '069540', '036810', '069140', '338220', '426550', '048430', '317330', '005950', '033790', '026150', '006380', '036930', '306620', '082850', '069460', '022100', '110020', '315640', '005420', '060560', '205470', '041020', '141080', '389470', '404950', '003570', '348370', '036540', '003670', '032580', '140670', '281740', '246250', '079370', '063160', '080220', '053050', '095500', '230980', '117730', '058430']\n",
      "138\n"
     ]
    },
    {
     "name": "stderr",
     "output_type": "stream",
     "text": [
      "[Parallel(n_jobs=8)]: Using backend ThreadingBackend with 8 concurrent workers.\n",
      "[Parallel(n_jobs=8)]: Done  25 tasks      | elapsed:    0.0s\n",
      "[Parallel(n_jobs=8)]: Done 153 out of 153 | elapsed:    0.0s finished\n"
     ]
    }
   ],
   "source": [
    "T_pred = model.predict(filter_pred)\n",
    "\n",
    "# 5% 이상 오를 종목 식별\n",
    "rising_stocks = [ticker for i, ticker in enumerate(pred_ticker) if T_pred[i] > 0.9]\n",
    "\n",
    "# T_pred를 기준으로 내림차순 정렬\n",
    "rising_stocks_sorted = sorted(rising_stocks, key=lambda i: T_pred[pred_ticker.index(i)], reverse=True)\n",
    "rising_stocks_sorted = list(map(str, rising_stocks_sorted))\n",
    "result = list(set(rising_stocks_sorted))\n",
    "result = make_six_digit_list(result)\n",
    "print(\"내일 5% 이상 상승할 종목:\", result)\n",
    "print(len(result))"
   ]
  },
  {
   "cell_type": "markdown",
   "metadata": {},
   "source": [
    "예측한 결과 검증"
   ]
  },
  {
   "cell_type": "code",
   "execution_count": 11,
   "metadata": {},
   "outputs": [
    {
     "data": {
      "image/png": "[encoded data removed]",
      "text/plain": [
       "<Figure size 600x600 with 1 Axes>"
      ]
     },
     "metadata": {},
     "output_type": "display_data"
    }
   ],
   "source": [
    "def check_price_increase(stock_codes):\n",
    "    result = {}\n",
    "    \n",
    "    for code in stock_codes:\n",
    "        df = fdr.DataReader(code,'2023-11-07','2023-11-08')\n",
    "                \n",
    "        if len(df) < 2:\n",
    "            result[code] = False\n",
    "        else:\n",
    "            today_close = df['Change'].iloc[-1]\n",
    "\n",
    "            if today_close >=  0:\n",
    "                result[code] = True\n",
    "            else:\n",
    "                result[code] = False\n",
    "    return result\n",
    "\n",
    "result_TF = check_price_increase(result)\n",
    "result_TF = list(result_TF.values())\n",
    "\n",
    "# True와 False의 개수를 세어 비율을 계산\n",
    "true_count = sum(result_TF)\n",
    "false_count = len(result_TF) - true_count\n",
    "\n",
    "# 비율을 파이그래프로 표현\n",
    "labels = ['True', 'False']\n",
    "sizes = [true_count, false_count]\n",
    "colors = ['green', 'red']\n",
    "\n",
    "# 파이차트 그리기\n",
    "plt.figure(figsize=(6, 6))\n",
    "plt.pie(sizes, labels=labels, colors=colors, autopct='%1.1f%%', startangle=140)\n",
    "\n",
    "# 그래프 표시\n",
    "plt.show() "
   ]
  }
 ],
 "metadata": {
  "kernelspec": {
   "display_name": "ML",
   "language": "python",
   "name": "python3"
  },
  "language_info": {
   "codemirror_mode": {
    "name": "ipython",
    "version": 3
   },
   "file_extension": ".py",
   "mimetype": "text/x-python",
   "name": "python",
   "nbconvert_exporter": "python",
   "pygments_lexer": "ipython3",
   "version": "3.8.18"
  }
 },
 "nbformat": 4,
 "nbformat_minor": 2
}
